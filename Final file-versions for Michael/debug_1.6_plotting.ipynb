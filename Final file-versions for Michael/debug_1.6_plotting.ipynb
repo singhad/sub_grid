{
 "cells": [
  {
   "cell_type": "markdown",
   "metadata": {},
   "source": [
    "# USING non-LTE TO CALCULATE X_H2_BAR, X_CO_BAR, l_CO_BAR\n",
    "# l_CO_BAR IS CALCULATED FOR 2 REGIMES: \n",
    "#     (1) USING VELOCITY DISPERSION $\\Delta v$ FROM THE SIMULATION\n",
    "#     (2) USING THE $CO$ ISOTHERMAL SOUND SPEED $c_{s, CO}$"
   ]
  },
  {
   "cell_type": "code",
   "execution_count": null,
   "metadata": {},
   "outputs": [],
   "source": [
    "%matplotlib inline\n",
    "\n",
    "#import sys\n",
    "import numpy as np\n",
    "#np.set_printoptions(threshold=sys.maxsize)\n",
    "import matplotlib.pyplot as plt\n",
    "import matplotlib.colors as cm\n",
    "import pynbody\n",
    "from michaels_functions import (center_and_r_vir, remove_bulk_velocity,\n",
    "                                read_unit_from_info)\n",
    "from matplotlib.colors import LogNorm\n",
    "from matplotlib.pyplot import figure"
   ]
  },
  {
   "cell_type": "code",
   "execution_count": null,
   "metadata": {},
   "outputs": [],
   "source": [
    "plt.rc('figure', titlesize=18)\n",
    "plt.rc('axes', titlesize=18)     # fontsize of the axes title\n",
    "plt.rc('axes', labelsize=18)    # fontsize of the x and y labels\n",
    "plt.rc('xtick', labelsize=16)    # fontsize of the tick labels\n",
    "plt.rc('ytick', labelsize=16)    # fontsize of the tick labels\n",
    "plt.rc('legend', fontsize=16)    # legend fontsize"
   ]
  },
  {
   "cell_type": "code",
   "execution_count": null,
   "metadata": {},
   "outputs": [],
   "source": [
    "run = \"hydro_59\"\n",
    "out = \"output_00050\"\n",
    "path = \"bulk1/data_2/\" + run + \"/output/\"\n",
    "data = pynbody.load(path + out)\n",
    "aexp = data.properties['a']\n",
    "data.physical_units()\n",
    "\n",
    "r_vir = center_and_r_vir(data, aexp, path)\n",
    "remove_bulk_velocity(data)\n",
    "r_e = 0.1 * r_vir\n",
    "\n",
    "sph_5 = pynbody.filt.Sphere(radius='%f kpc' % r_e)\n",
    "region = data[sph_5]\n",
    "\n",
    "omega_b, unit_l, unit_d, unit_t = read_unit_from_info(data)"
   ]
  },
  {
   "cell_type": "code",
   "execution_count": null,
   "metadata": {},
   "outputs": [],
   "source": [
    "# declaring constants\n",
    "m_p = pynbody.array.SimArray(1.672621e-24, \"g\")\n",
    "G = pynbody.array.SimArray(6.6732e-8, \"cm**3 g**-1 s**-2\")\n",
    "T_mean = pynbody.array.SimArray(10., \"K\")\n",
    "K_b = pynbody.array.SimArray(1.380622e-16, \"g cm**2 s**-2 K**-1\")\n",
    "K_b_ev = pynbody.array.SimArray(8.617e-5, \"eV K**-1\")\n",
    "K_b_erg = pynbody.array.SimArray(1.380622e-16, \"erg K**-1\")\n",
    "c_cgs = pynbody.array.SimArray(2.9979245e10, \"cm s**-1\")\n",
    "h_ev = pynbody.array.SimArray(4.135667e-15, \"eV s\")\n",
    "mH_cgs = pynbody.array.SimArray(1.6735575e-24, 'g')  # hydrogen mass\n",
    "eV_to_ergs = pynbody.array.SimArray(1.60218e-12, \"erg eV**-1\")\n",
    "L_sun = pynbody.array.SimArray(3.839e33, \"erg s**-1\")\n",
    "M_sun = pynbody.array.SimArray(2e33, \"g\")"
   ]
  },
  {
   "cell_type": "code",
   "execution_count": null,
   "metadata": {},
   "outputs": [],
   "source": [
    "X_H2_bar = np.load('outputs/debug_1.6/X_H2_bar_' + run + '_' + out + '.npy')\n",
    "X_CO_bar = np.load('outputs/debug_1.6/X_CO_bar_' + run + '_' + out + '.npy')\n",
    "mach_no_arr = np.load('outputs/debug_1.6/mach_no_arr_' + run + '_' + out + '.npy')\n",
    "n_H_mean_arr = pynbody.array.SimArray(np.load('outputs/debug_1.6/n_H_mean_arr_' + run + '_' + out + '.npy'),\\\n",
    "                                      \"cm**-3\")\n",
    "metal_arr = np.load('outputs/debug_1.6/metal_arr_' + run + '_' + out + '.npy')\n",
    "temperature = np.load('outputs/debug_1.6/T_' + run + '_' + out + '.npy')\n",
    "l_CO_bar_1 = np.load('outputs/debug_1.6/l_CO_bar_1' + run + '_' + out + '.npy')\n",
    "l_CO_SI_bar_1 = np.load('outputs/debug_1.6/l_CO_SI_bar_1' + run + '_' + out + '.npy')\n",
    "l_CO_bar_2 = np.load('outputs/debug_1.6/l_CO_bar_2' + run + '_' + out + '.npy')\n",
    "l_CO_SI_bar_2 = np.load('outputs/debug_1.6/l_CO_SI_bar_2' + run + '_' + out + '.npy')\n",
    "m_H2_bar = np.load('outputs/debug_1.6/m_H2_bar_' + run + '_' + out + '.npy')\n",
    "mass = np.load('outputs/debug_1.6/mass_' + run + '_' + out + '.npy')\n",
    "cell_width_arr = region.gas[\"smooth\"].in_units('cm')\n",
    "n_H2_mean = pynbody.array.SimArray(X_H2_bar * n_H_mean_arr, \"cm**-3\")"
   ]
  },
  {
   "cell_type": "code",
   "execution_count": null,
   "metadata": {},
   "outputs": [],
   "source": [
    "min_H = np.min(X_H2_bar)\n",
    "max_H = np.max(X_H2_bar)\n",
    "min_C = np.min(X_CO_bar)\n",
    "max_C = np.max(X_CO_bar)\n",
    "min_n = np.log10(np.min(n_H_mean_arr))\n",
    "max_n = np.log10(np.max(n_H_mean_arr))\n",
    "min_M = np.min(mach_no_arr)\n",
    "max_M = np.max(mach_no_arr)\n",
    "min_Z = np.min(metal_arr)\n",
    "max_Z = np.max(metal_arr)\n",
    "region.gas[\"X_H2_bar\"] = X_H2_bar\n",
    "region.gas[\"X_CO_bar\"] = X_CO_bar\n",
    "region.gas[\"n_H_mean_arr\"] = n_H_mean_arr\n",
    "region.gas[\"mach_no_arr\"] = mach_no_arr\n",
    "region.gas[\"metal_arr\"] = metal_arr"
   ]
  },
  {
   "cell_type": "code",
   "execution_count": null,
   "metadata": {},
   "outputs": [],
   "source": [
    "M_H2 = np.sum(m_H2_bar)/M_sun\n",
    "M_H2/1e9"
   ]
  },
  {
   "cell_type": "code",
   "execution_count": null,
   "metadata": {},
   "outputs": [],
   "source": [
    "#using velocity dispersion from sim\n",
    "L_CO_SI_1 = np.sum(l_CO_SI_bar_1*(cell_width_arr**3))\n",
    "print L_CO_SI_1/1e8"
   ]
  },
  {
   "cell_type": "code",
   "execution_count": null,
   "metadata": {},
   "outputs": [],
   "source": [
    "#using isothermal sound speed\n",
    "L_CO_SI_2 = np.sum(l_CO_SI_bar_2*(cell_width_arr**3))\n",
    "print L_CO_SI_2/1e8"
   ]
  },
  {
   "cell_type": "code",
   "execution_count": null,
   "metadata": {},
   "outputs": [],
   "source": [
    "#using velocity dispersion from sim\n",
    "alpha_CO_1 = L_CO_SI_1/M_H2\n",
    "print alpha_CO_1**-1"
   ]
  },
  {
   "cell_type": "code",
   "execution_count": null,
   "metadata": {},
   "outputs": [],
   "source": [
    "#using isothermal sound speed\n",
    "alpha_CO_2 = L_CO_SI_2/M_H2\n",
    "print alpha_CO_2**-1"
   ]
  },
  {
   "cell_type": "code",
   "execution_count": null,
   "metadata": {},
   "outputs": [],
   "source": [
    "convert_factor = M_sun * ((c_cgs/1.15e11)**3)*1e-5*((3.24078e-19)**2)/(2*K_b_erg)\n",
    "\n",
    "alpha_1 = l_CO_bar_1/(n_H_mean_arr*m_p)\n",
    "alpha_2 = l_CO_bar_2/(n_H_mean_arr*m_p)\n",
    "\n",
    "alpha_1_SI = alpha_1 * convert_factor\n",
    "alpha_2_SI = alpha_2 * convert_factor"
   ]
  },
  {
   "cell_type": "code",
   "execution_count": null,
   "metadata": {},
   "outputs": [],
   "source": [
    "fig, (ax1, ax2) = plt.subplots(1, 2, figsize=(16,6))\n",
    "plt.tight_layout()\n",
    "ax1.scatter(np.log10(n_H_mean_arr), np.log10(alpha_1_SI), \n",
    "                      c=\"r\", s=2, label = \"$\\Delta v$ from sim.\")\n",
    "ax1.scatter(np.log10(n_H_mean_arr), np.log10(alpha_2_SI), \n",
    "                      c=\"b\", s=2, label = \"$c_{s, CO}$\")\n",
    "ax2.scatter(np.log10(n_H_mean_arr), np.log10(alpha_1_SI), \n",
    "                      c=\"r\", s=2, label = \"$\\Delta v$ from sim.\")\n",
    "ax2.scatter(np.log10(n_H_mean_arr), np.log10(alpha_2_SI), \n",
    "                      c=\"b\", s=2, label = \"$c_{s, CO}$\")\n",
    "ax1.set_xlabel('$log(\\overline{n_{H}}) \\ [cm^{-3}]$')\n",
    "ax1.set_ylabel('$log(alpha_{CO}^{-1}) \\ [K km s^{-1} pc^{2} M_{\\odot}^{-1}]$')\n",
    "ax2.set_xlabel('$log(\\overline{n_{H}}) \\ [cm^{-3}]$')\n",
    "# ax2.set_ylabel('$log(\\overline{l_{CO}}) \\ [K km s^{-1} pc^{2} cm^{-3}]$')\n",
    "ax1.grid(b=True, which='both', axis='both') \n",
    "ax2.grid(b=True, which='both', axis='both')\n",
    "# ax2.set_xlim([1.20,2.75])\n",
    "ax2.set_ylim([-5, +2])\n",
    "# plt.setp(ax2.get_yticklabels(), visible=True)\n",
    "legend = ax1.legend(loc=\"upper left\")\n",
    "legend.legendHandles[0]._sizes = [30]\n",
    "legend.legendHandles[1]._sizes = [30]\n",
    "plt.subplots_adjust(wspace=0.18)\n",
    "fig.suptitle(\"non-LTE + Log-normal PDF\", fontsize=20)\n",
    "fig.subplots_adjust(top=0.88)\n",
    "# plt.savefig('outputs/debug_1.5/log(n_H_mean)vslog(l_CO)-sim.png', \n",
    "#             dpi=300, bbox_inches='tight')"
   ]
  },
  {
   "cell_type": "code",
   "execution_count": null,
   "metadata": {},
   "outputs": [],
   "source": []
  },
  {
   "cell_type": "code",
   "execution_count": null,
   "metadata": {},
   "outputs": [],
   "source": []
  },
  {
   "cell_type": "code",
   "execution_count": null,
   "metadata": {},
   "outputs": [],
   "source": []
  },
  {
   "cell_type": "code",
   "execution_count": null,
   "metadata": {},
   "outputs": [],
   "source": [
    "fig, (ax1, ax2) = plt.subplots(1, 2, figsize=(16,6))\n",
    "plt.tight_layout()\n",
    "ax1.scatter(np.log10(n_H_mean_arr), np.log10(l_CO_SI_bar_1), \n",
    "                      c=\"r\", s=2, label = \"$\\Delta v$ from sim.\")\n",
    "ax1.scatter(np.log10(n_H_mean_arr), np.log10(l_CO_SI_bar_2), \n",
    "                      c=\"b\", s=2, label = \"$c_{s, CO}$\")\n",
    "ax2.scatter(np.log10(n_H_mean_arr), np.log10(l_CO_SI_bar_1), \n",
    "                      c=\"r\", s=2, label = \"$\\Delta v$ from sim.\")\n",
    "ax2.scatter(np.log10(n_H_mean_arr), np.log10(l_CO_SI_bar_2), \n",
    "                      c=\"b\", s=2, label = \"$c_{s, CO}$\")\n",
    "ax1.set_xlabel('$log(\\overline{n_{H}}) \\ [cm^{-3}]$')\n",
    "ax1.set_ylabel('$log(\\overline{l_{CO}}) \\ [K km s^{-1} pc^{2} cm^{-3}]$')\n",
    "ax2.set_xlabel('$log(\\overline{n_{H}}) \\ [cm^{-3}]$')\n",
    "# ax2.set_ylabel('$log(\\overline{l_{CO}}) \\ [K km s^{-1} pc^{2} cm^{-3}]$')\n",
    "ax1.grid(b=True, which='both', axis='both') \n",
    "ax2.grid(b=True, which='both', axis='both')\n",
    "ax2.set_xlim([1.20,2.75])\n",
    "ax2.set_ylim([-60, -52])\n",
    "# plt.setp(ax2.get_yticklabels(), visible=True)\n",
    "legend = ax1.legend(loc=\"upper left\")\n",
    "legend.legendHandles[0]._sizes = [30]\n",
    "legend.legendHandles[1]._sizes = [30]\n",
    "plt.subplots_adjust(wspace=0.18)\n",
    "fig.suptitle(\"non-LTE + Log-normal PDF\", fontsize=20)\n",
    "fig.subplots_adjust(top=0.88)\n",
    "plt.savefig('outputs/debug_1.6/log(n_H_mean)vslog(l_CO)-sim.png', \n",
    "            dpi=300, bbox_inches='tight')"
   ]
  },
  {
   "cell_type": "code",
   "execution_count": null,
   "metadata": {},
   "outputs": [],
   "source": [
    "fig, (ax1, ax2) = plt.subplots(1, 2, figsize=(16,6))\n",
    "plt.tight_layout()\n",
    "plt.rc('figure', titlesize=18)\n",
    "plt.rc('axes', titlesize=18)     # fontsize of the axes title\n",
    "plt.rc('axes', labelsize=18)    # fontsize of the x and y labels\n",
    "plt.rc('xtick', labelsize=16)    # fontsize of the tick labels\n",
    "plt.rc('ytick', labelsize=16)    # fontsize of the tick labels\n",
    "plt.rc('legend', fontsize=16)    # legend fontsize\n",
    "\n",
    "histX_H2_M_mass, yedges, xedges = np.histogram2d(X_H2_bar, np.log10(n_H_mean_arr),\n",
    "                               weights=mach_no_arr * region.gas[\"mass\"], bins=50 , \n",
    "                                                 range=[[min_H,max_H],[min_n,max_n]])\n",
    "histX_H2_mass, yedges, xedges = np.histogram2d(X_H2_bar, np.log10(n_H_mean_arr),\n",
    "                               weights=region.gas[\"mass\"], bins=50 , \n",
    "                                               range=[[min_H,max_H],[min_n,max_n]])\n",
    "yX_H2_M, xX_H2_M = yedges, xedges\n",
    "im1 = ax1.pcolormesh(xedges, yedges, histX_H2_M_mass/histX_H2_mass, \n",
    "               norm=LogNorm(), vmin=min_M, vmax=max_M, cmap='viridis')\n",
    "ax1.set_ylim([-0.009,1.0])\n",
    "ax1.set_xlim([-2.2, 3.2])\n",
    "fig.colorbar(im1, ax=ax1, orientation='vertical', label='$\\mathcal{M}$')\n",
    "ax1.set_xlabel('$log(\\overline{n_{H}})\\ [cm^{-3}]$')\n",
    "ax1.set_ylabel('$\\overline{X_{H2}}$')\n",
    "ax1.grid(b=True, which='both', axis='both')\n",
    "\n",
    "\n",
    "histX_H2_M_mass, yedges, xedges = np.histogram2d(X_H2_bar, np.log10(n_H_mean_arr),\n",
    "                               weights=metal_arr * region.gas[\"mass\"], bins=50 , \n",
    "                                                 range=[[min_H,max_H],[min_n,max_n]])\n",
    "histX_H2_mass, yedges, xedges = np.histogram2d(X_H2_bar, np.log10(n_H_mean_arr),\n",
    "                               weights=region.gas[\"mass\"], bins=50 , \n",
    "                                               range=[[min_H,max_H],[min_n,max_n]])\n",
    "\n",
    "yX_H2_Z, xX_H2_Z = yedges, xedges\n",
    "im2 = ax2.pcolormesh(xedges, yedges, histX_H2_M_mass/histX_H2_mass, \n",
    "               norm=LogNorm(), vmin=min_Z, vmax=max_Z, cmap=\"viridis\")\n",
    "fig.colorbar(im2, ax=ax2, orientation='vertical', label='$Z$')\n",
    "ax2.set_ylim([-0.009,1.0])\n",
    "ax2.set_xlim([-2.2, 3.2])\n",
    "ax2.set_xlabel('$log(\\overline{n_{H}})\\ [cm^{-3}]$')\n",
    "ax2.set_ylabel('$\\overline{X_{H2}}$')\n",
    "ax2.grid(b=True, which='both', axis='both')\n",
    "\n",
    "plt.subplots_adjust(wspace=0.18)\n",
    "fig.suptitle(\"non-LTE + Log-normal PDF\", fontsize=20)\n",
    "fig.subplots_adjust(top=0.88)\n",
    "plt.savefig('outputs/debug_1.6/Hist-X_H2_bar-n_H_mean-MZ.png', \n",
    "            dpi=300, bbox_inches='tight')\n",
    "plt.show()\n"
   ]
  },
  {
   "cell_type": "code",
   "execution_count": null,
   "metadata": {},
   "outputs": [],
   "source": [
    "fig, (ax1, ax2) = plt.subplots(1, 2, figsize=(16,6))\n",
    "plt.tight_layout()\n",
    "plt.rc('figure', titlesize=18)\n",
    "plt.rc('axes', titlesize=18)     # fontsize of the axes title\n",
    "plt.rc('axes', labelsize=18)    # fontsize of the x and y labels\n",
    "plt.rc('xtick', labelsize=16)    # fontsize of the tick labels\n",
    "plt.rc('ytick', labelsize=16)    # fontsize of the tick labels\n",
    "plt.rc('legend', fontsize=16)    # legend fontsize\n",
    "\n",
    "histX_CO_M_mass, yedges, xedges = np.histogram2d(X_CO_bar, np.log10(n_H_mean_arr),\n",
    "                               weights=mach_no_arr * region.gas[\"mass\"], bins=50 , \n",
    "                                                 range=[[min_C,max_C],[min_n,max_n]])\n",
    "histX_CO_mass, yedges, xedges = np.histogram2d(X_CO_bar, np.log10(n_H_mean_arr),\n",
    "                               weights=region.gas[\"mass\"], bins=50 , \n",
    "                                               range=[[min_C,max_C],[min_n,max_n]])\n",
    "yX_CO_M, xX_CO_M = yedges, xedges\n",
    "im1 = ax1.pcolormesh(xedges, yedges, histX_CO_M_mass/histX_CO_mass, \n",
    "               norm=LogNorm(), vmin=min_M, vmax=max_M, cmap=\"magma\")\n",
    "ax1.set_ylim([-0.009,1.0])\n",
    "ax1.set_xlim([-2.2, 3.2])\n",
    "fig.colorbar(im1, ax=ax1, orientation='vertical', label='$\\mathcal{M}$')\n",
    "ax1.set_xlabel('$log(\\overline{n_{H}})\\ [cm^{-3}]$')\n",
    "ax1.set_ylabel('$\\overline{X_{CO}}$')\n",
    "ax1.grid(b=True, which='both', axis='both')\n",
    "\n",
    "\n",
    "histX_CO_M_mass, yedges, xedges = np.histogram2d(X_CO_bar, np.log10(n_H_mean_arr),\n",
    "                               weights=metal_arr * region.gas[\"mass\"], bins=50 , \n",
    "                                                 range=[[min_C,max_C],[min_n,max_n]])\n",
    "histX_CO_mass, yedges, xedges = np.histogram2d(X_CO_bar, np.log10(n_H_mean_arr),\n",
    "                               weights=region.gas[\"mass\"], bins=50 , \n",
    "                                               range=[[min_C,max_C],[min_n,max_n]])\n",
    "\n",
    "yX_CO_Z, xX_CO_Z = yedges, xedges\n",
    "im2 = ax2.pcolormesh(xedges, yedges, histX_CO_M_mass/histX_CO_mass, \n",
    "               norm=LogNorm(), vmin=min_Z, vmax=max_Z, cmap=\"magma\")\n",
    "fig.colorbar(im2, ax=ax2, orientation='vertical', label='$Z$')\n",
    "ax2.set_ylim([-0.009,1.0])\n",
    "ax2.set_xlim([-2.2, 3.2])\n",
    "ax2.set_xlabel('$log(\\overline{n_{H}})\\ [cm^{-3}]$')\n",
    "ax2.set_ylabel('$\\overline{X_{CO}}$')\n",
    "ax2.grid(b=True, which='both', axis='both')\n",
    "\n",
    "plt.subplots_adjust(wspace=0.18)\n",
    "fig.suptitle(\"non-LTE + Log-normal PDF\", fontsize=20)\n",
    "fig.subplots_adjust(top=0.88)\n",
    "plt.savefig('outputs/debug_1.6/Hist-X_CO_bar-n_H_mean-MZ.png', \n",
    "            dpi=300, bbox_inches='tight')\n",
    "plt.show()\n"
   ]
  },
  {
   "cell_type": "code",
   "execution_count": null,
   "metadata": {},
   "outputs": [],
   "source": []
  },
  {
   "cell_type": "code",
   "execution_count": null,
   "metadata": {},
   "outputs": [],
   "source": []
  },
  {
   "cell_type": "code",
   "execution_count": null,
   "metadata": {},
   "outputs": [],
   "source": []
  },
  {
   "cell_type": "code",
   "execution_count": null,
   "metadata": {},
   "outputs": [],
   "source": []
  },
  {
   "cell_type": "code",
   "execution_count": null,
   "metadata": {},
   "outputs": [],
   "source": []
  },
  {
   "cell_type": "code",
   "execution_count": null,
   "metadata": {},
   "outputs": [],
   "source": []
  },
  {
   "cell_type": "code",
   "execution_count": null,
   "metadata": {},
   "outputs": [],
   "source": []
  },
  {
   "cell_type": "code",
   "execution_count": null,
   "metadata": {},
   "outputs": [],
   "source": []
  },
  {
   "cell_type": "code",
   "execution_count": null,
   "metadata": {},
   "outputs": [],
   "source": []
  },
  {
   "cell_type": "code",
   "execution_count": null,
   "metadata": {},
   "outputs": [],
   "source": []
  },
  {
   "cell_type": "code",
   "execution_count": null,
   "metadata": {},
   "outputs": [],
   "source": []
  },
  {
   "cell_type": "code",
   "execution_count": null,
   "metadata": {},
   "outputs": [],
   "source": []
  }
 ],
 "metadata": {
  "kernelspec": {
   "display_name": "Python 2",
   "language": "python",
   "name": "python2"
  },
  "language_info": {
   "codemirror_mode": {
    "name": "ipython",
    "version": 2
   },
   "file_extension": ".py",
   "mimetype": "text/x-python",
   "name": "python",
   "nbconvert_exporter": "python",
   "pygments_lexer": "ipython2",
   "version": "2.7.16"
  }
 },
 "nbformat": 4,
 "nbformat_minor": 2
}
