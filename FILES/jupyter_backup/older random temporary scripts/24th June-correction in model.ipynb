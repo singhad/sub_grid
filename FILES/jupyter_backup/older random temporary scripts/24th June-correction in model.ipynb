{
 "cells": [
  {
   "cell_type": "code",
   "execution_count": 1,
   "metadata": {},
   "outputs": [],
   "source": [
    "%matplotlib inline\n",
    "\n",
    "#import sys\n",
    "import numpy as np\n",
    "#np.set_printoptions(threshold=sys.maxsize)\n",
    "import matplotlib.pyplot as plt\n",
    "import matplotlib.colors as cm\n",
    "import pynbody\n",
    "from michaels_functions import center_and_r_vir, remove_bulk_velocity\n",
    "from matplotlib.colors import LogNorm\n",
    "from matplotlib.pyplot import figure"
   ]
  },
  {
   "cell_type": "code",
   "execution_count": 3,
   "metadata": {},
   "outputs": [
    {
     "name": "stdout",
     "output_type": "stream",
     "text": [
      "('shifting on Stars:', SimArray([ 0.00308878, -0.03302971, -0.04676732], 'kpc'))\n",
      "('virial radius:', SimArray(152.40432611, 'kpc'))\n",
      "omega_b     =  0.450000017881393E-01\n",
      "unit_l      =  0.682025380323961E+26\n",
      "unit_d      =  0.123367583719985E-28\n",
      "unit_t      =  0.163687521954501E+18\n"
     ]
    }
   ],
   "source": [
    "path = \"bulk1/data_2/hydro_59/output/\"\n",
    "data = pynbody.load(path + \"output_00050\")\n",
    "aexp = data.properties['a']\n",
    "data.physical_units()\n",
    "r_vir = center_and_r_vir(data, aexp, path)\n",
    "remove_bulk_velocity(data)\n",
    "r_e = 0.1 * r_vir\n",
    "sph_5 = pynbody.filt.Sphere(radius = '5.0 kpc') # %(r_e*1.4))\n",
    "region = data[sph_5]\n",
    "rho = region.gas[\"rho\"].in_units(\"m_p cm**-3\")\n",
    "f = open(data.filename + \"/info_\"+data.filename[-5:]+\".txt\",\"r\")\n",
    "lines = f.readlines()\n",
    "f.close()\n",
    "for line in lines:\n",
    "    if line[0:13]==\"unit_l      =\":\n",
    "        print line[:-1]\n",
    "        unit_l = float(line[14:-1])\n",
    "    if line[0:13]==\"unit_d      =\":\n",
    "        print line[:-1]\n",
    "        unit_d = float(line[14:-1])\n",
    "    if line[0:13]==\"unit_t      =\":\n",
    "        print line[:-1]\n",
    "        unit_t = float(line[14:-1])\n",
    "    if line[0:13]==\"omega_b     =\":\n",
    "        print line[:-1]\n",
    "        omega_b = float(line[14:-1])"
   ]
  },
  {
   "cell_type": "code",
   "execution_count": 125,
   "metadata": {},
   "outputs": [],
   "source": [
    "m_p = pynbody.array.SimArray(1.672621777e-24, \"g\")\n",
    "K_b = pynbody.array.SimArray(1.38064852e-16, \"cm**2 g s**-2 K**-1\")\n",
    "G = pynbody.array.SimArray(6.67259e-8, \"cm**3 g**-1 s**-2\")\n",
    "T_mean = pynbody.array.SimArray(10., \"K\")\n",
    "K_b_ev = pynbody.array.SimArray(8.617e-5, \"eV K**-1\")\n",
    "K_b_erg = pynbody.array.SimArray(1.38064852e-16, \"erg K**-1\")\n",
    "c_si = pynbody.array.SimArray(2.99792458e5, \"km s**-1\")\n",
    "c_cgs = pynbody.array.SimArray(2.99792458e10, \"cm s**-1\")\n",
    "h_ev = pynbody.array.SimArray(4.13566770e-15, \"eV s\")\n",
    "h_erg = pynbody.array.SimArray(6.626196e-27, \"erg s\")\n",
    "mH_cgs = pynbody.array.SimArray(1.6737236e-24, 'g')  # hydrogen mass\n",
    "T_bg = pynbody.array.SimArray(2.73, \"K\")\n",
    "eV = pynbody.array.SimArray(6.241509e18, \"J\")\n",
    "L_sun = pynbody.array.SimArray(2.43418864387146974e+45, \"eV s**-1\")\n",
    "cell_width = pynbody.array.SimArray(region.gas[\"smooth\"]*3.086e+21, \"cm\")\n",
    "M_sun = pynbody.array.SimArray(2e33, \"g\")"
   ]
  },
  {
   "cell_type": "code",
   "execution_count": 126,
   "metadata": {},
   "outputs": [],
   "source": [
    "n_H_arr = pynbody.array.SimArray(np.load('outputs/sub_grid/n_H.npy'), \"cm**-3\")\n",
    "# n_H_arr = pynbody.array.SimArray(np.load('outputs/sub_grid_test/n_H_prime.npy'), \"cm**-3\")\n",
    "n_H2_arr = pynbody.array.SimArray(np.load('outputs/sub_grid/n_H2.npy'), \"cm**-3\")\n",
    "X_H2_arr = pynbody.array.SimArray(np.load('outputs/sub_grid/X_H2.npy'), \"1\")\n",
    "n_LW_arr = np.load('outputs/sub_grid/n_LW.npy')\n",
    "n_LW_ss_arr = np.load('outputs/sub_grid/n_LW_ss.npy')\n",
    "X_H2_ss_arr = pynbody.array.SimArray(np.load('outputs/sub_grid/X_H2_ss.npy'), \"1\")\n",
    "n_H2_ss_arr = pynbody.array.SimArray(np.load('outputs/sub_grid/n_H2_ss.npy'), \"cm**-3\")\n",
    "X_CO_arr = pynbody.array.SimArray(np.load('outputs/sub_grid/X_CO.npy'), \"1\")\n",
    "n_CO_arr = pynbody.array.SimArray(np.load('outputs/sub_grid/n_CO.npy'), \"cm**-3\")\n",
    "pdf_arr = np.load('outputs/sub_grid/pdf.npy')\n",
    "# pdf_arr = np.load('outputs/sub_grid_test/pdf_prime.npy')\n",
    "lambda_jeans_arr = pynbody.array.SimArray(np.load('outputs/sub_grid/lambda_jeans.npy'), \"cm\")"
   ]
  },
  {
   "cell_type": "code",
   "execution_count": 127,
   "metadata": {},
   "outputs": [],
   "source": [
    "def get_filename(species):\n",
    "    # filename is already given\n",
    "    if (species[-4:] == '.dat') or (species[-4:] == '.txt'):\n",
    "        return species\n",
    "    # molecule is chosen\n",
    "    THIS_FOLDER = os.path.dirname(os.path.abspath(__file__))\n",
    "    database = os.path.join(THIS_FOLDER, 'LAMDA')\n",
    "    if species == 'HCO+':\n",
    "        filename = os.path.join(database, 'HCO+.dat')\n",
    "    elif species == 'H13CO+':\n",
    "        filename = os.path.join(database, 'H13CO+.dat')\n",
    "    elif species == 'N2H+':\n",
    "        filename = os.path.join(database, 'N2H+.dat')\n",
    "    elif species == 'SiO':\n",
    "        filename = os.path.join(database, 'SiO.dat')\n",
    "    elif species == 'HNC':\n",
    "        filename = os.path.join(database, 'HNC.dat')\n",
    "    elif species == 'HCN':\n",
    "        filename = os.path.join(database, 'HCN.dat')\n",
    "    elif species == 'CO':\n",
    "        filename = os.path.join(database, 'CO.dat')\n",
    "    else:\n",
    "        print('Unknow species. Chose from HCO+, H13CO+, N2H+, SiO, HNC, HCN, CO')\n",
    "        print('or provide a LAMDA datafile.')\n",
    "        exit()\n",
    "\n",
    "    return filename\n",
    "\n",
    "def read_file(species, c_cgs, h_ev, K_b_ev):\n",
    "    filename = get_filename(species)\n",
    "    f = open(filename, 'r')\n",
    "\n",
    "    f.readline()\n",
    "    species = f.readline()\n",
    "\n",
    "    f.readline()\n",
    "    mu = float(f.readline())  # molecular weight\n",
    "\n",
    "    f.readline()\n",
    "    num_lvls = int(f.readline())  # number of energy levels\n",
    "\n",
    "    # read energy levels: energy E, statistical weight g\n",
    "    f.readline()\n",
    "    E = []\n",
    "    g = []\n",
    "    for l in range(num_lvls):\n",
    "        words = f.readline().split()\n",
    "        E.append(float(words[1]) *c_cgs*h_erg) # cm^-1 -> erg\n",
    "        g.append(float(words[2]))\n",
    "\n",
    "    f.readline()\n",
    "    num_trans = int(f.readline())  # number of radiative transistions\n",
    "\n",
    "    # read transistions: upper lvl, lower lvl, A-coefficient, frequency\n",
    "    f.readline()\n",
    "    A = np.zeros((num_lvls, num_lvls))\n",
    "    freq = np.zeros((num_lvls, num_lvls))\n",
    "    for t in range(num_trans):\n",
    "        words = f.readline().split()\n",
    "        up = int(words[1]) - 1\n",
    "        low = int(words[2]) - 1\n",
    "        if up-low==1:\n",
    "            A[up][low] = float(words[3])  # s^-1\n",
    "            freq[up][low] = float(words[4]) * 1e9  # GHz -> Hz\n",
    "            #freq[low][up] = freq[up][low] #un-comment this only if low->up transitions are also allowed\n",
    "\n",
    "    # compute B-coefficient via Einstein relations\n",
    "    # Bij = coeff for stimulated emission, Bji = coeff for extinction (j<i)\n",
    "    B = np.zeros((num_lvls, num_lvls))\n",
    "    for i in range(0, num_lvls):\n",
    "        for j in range(0, i):\n",
    "            if A[i][j] != 0:\n",
    "                B[i][j] = A[i][j] * (c_cgs**2) / (2*h_erg * (freq[i][j])**3) # cm2/(erg*s)\n",
    "                B[j][i] = B[i][j] * g[i]/g[j]\n",
    "\n",
    "    # number of collision partners in the data file\n",
    "    f.readline()\n",
    "    num_partners = int(f.readline())\n",
    "\n",
    "    C_all = []\n",
    "    temps_all = []\n",
    "    for partner in range(num_partners):\n",
    "        # reference\n",
    "        f.readline()\n",
    "        line = f.readline()\n",
    "\n",
    "        # number of collisional transitions\n",
    "        f.readline()\n",
    "        num_coll = int(f.readline())\n",
    "\n",
    "        # number of temperatures in the table\n",
    "        f.readline()\n",
    "        num_temps = int(f.readline())\n",
    "\n",
    "        # read the temperature values\n",
    "        f.readline()\n",
    "        words = f.readline().split()\n",
    "        temps = np.zeros(num_temps)\n",
    "        for t in range(num_temps):\n",
    "            temps[t] = float(words[t])\n",
    "            temps_all.append(temps)  # K\n",
    "\n",
    "        # read collision coeff data: upper lvl, lower lvl, C-coefficient for each temp\n",
    "        C = np.zeros((num_temps, num_lvls, num_lvls))\n",
    "        f.readline()\n",
    "        for col in range(num_coll):\n",
    "            words = f.readline().split()\n",
    "            i = int(words[1]) - 1\n",
    "            j = int(words[2]) - 1\n",
    "            for t in range(num_temps):\n",
    "                C[t][i][j] = float(words[3+t]) #* 1.e-6 # cm3/s -> m3/s\n",
    "\n",
    "        # calculate the inverse coefficient via LTE relation\n",
    "        for i in range(num_lvls):\n",
    "            for j in range(i):\n",
    "                for t in range(num_temps):\n",
    "                    if C[t][i][j] != 0:\n",
    "                        C[t][j][i] = C[t][i][j] * np.exp(-(E[i]-E[j])/(K_b_erg*temps[t]))*g[i]/g[j]\n",
    "\n",
    "        # add collision partner data to global array\n",
    "        C_all.append(C)\n",
    "\n",
    "    f.close()\n",
    "    C_all = np.array(C_all) #cm3/s\n",
    "    temps_all = np.array(temps_all) #K\n",
    "    E = np.array(E) #erg\n",
    "    g = np.array(g) \n",
    "    freq = np.array(freq) #Hz\n",
    "    A = np.array(A) #s-1\n",
    "    B = np.array(B) #cm2/(erg*s)\n",
    "    return mu, num_lvls, E, g, freq, A, B, C_all, num_partners, temps_all, num_temps, num_coll\n",
    "\n",
    "def partion_function(T, num_lvls, g, E):\n",
    "    Z=0.0\n",
    "    for i in range(0,num_lvls):\n",
    "        Z = Z + g[i]*np.exp(-E[i]/(K_b_erg*T))\n",
    "    return np.array(Z)\n",
    "\n",
    "def calc_lvlpops_partion(T, num_lvls, g, E):\n",
    "    ni = np.zeros(num_lvls)\n",
    "    Z = partion_function(T, num_lvls, g, E)\n",
    "    for i in range(0, num_lvls):\n",
    "        ni[i] = g[i]*np.exp(-E[i]/(K_b_erg*T)) / Z\n",
    "    return np.array(ni), Z"
   ]
  },
  {
   "cell_type": "code",
   "execution_count": 128,
   "metadata": {},
   "outputs": [],
   "source": [
    "mu, num_lvls, E, g, freq, A, B, C_all, num_partners, temps_all, num_temps, n_coll = read_file('CO.txt',c_cgs, h_erg, K_b_erg)\n",
    "\n",
    "\n",
    "\n"
   ]
  },
  {
   "cell_type": "code",
   "execution_count": 129,
   "metadata": {},
   "outputs": [],
   "source": [
    "# pynbody.array.SimArray(, \"\")\n",
    "u = 1 #upper level\n",
    "l = 0 #lower level\n",
    "nu = pynbody.array.SimArray(freq[u][l], \"Hz\")\n",
    "A_10 = pynbody.array.SimArray(A[u][l], \"s**-1\")\n",
    "B_10 = pynbody.array.SimArray(B[u][l], \"cm**2 erg**-1 s**-1\")\n",
    "B_01 = pynbody.array.SimArray(B[l][u], \"cm**2 erg**-1 s**-1\")\n",
    "temps_all = pynbody.array.SimArray(temps_all, \"K\")"
   ]
  },
  {
   "cell_type": "code",
   "execution_count": 130,
   "metadata": {},
   "outputs": [],
   "source": [
    "ni, Z = calc_lvlpops_partion(T_mean, num_lvls, g, E)\n",
    "c_s_CO = np.sqrt(K_b * T_mean/(mH_cgs*mu))\n",
    "x_1 = ni[u]\n",
    "x_0 = ni[l]"
   ]
  },
  {
   "cell_type": "code",
   "execution_count": 131,
   "metadata": {},
   "outputs": [],
   "source": [
    "def tau_LVG(N, nu, lambda_jeans, x_1, x_0, B_10, B_01, c_s_CO):\n",
    "    # units: eV*s * Hz * cm * 1/cm3 * cm2/(eV*s) * 1/(Hz) = none\n",
    "    delta_nu = c_s_CO*nu/c_cgs #\"Hz\"\n",
    "    tau_lvg = h_erg*nu*lambda_jeans*N*((x_0*B_01)-(x_1*B_10)) / (4*np.pi*delta_nu)\n",
    "    return tau_lvg\n",
    "\n",
    "def calc_line_profile(nu):\n",
    "    delta_nu = c_s_CO*nu/c_cgs #\"Hz\"\n",
    "    line_profile = 1/delta_nu #Hz-1\n",
    "    return line_profile\n",
    "    \n",
    "def beta_LVG(tau):\n",
    "    beta_lvg = np.zeros(len(tau))\n",
    "    for i in range(0, len(tau)):\n",
    "        if tau[i] < 0.01:\n",
    "            beta_lvg[i] = 1. - tau[i]/2.\n",
    "        elif tau[i] > 100.:\n",
    "            beta_lvg[i] = 1./tau[i]\n",
    "        else:\n",
    "            beta_lvg[i] = (1.0 - np.exp(-tau[i])) / tau[i]\n",
    "    return beta_lvg\n",
    "\n",
    "def B_nu_ev(nu, T):\n",
    "    if nu==0.:\n",
    "        return 0.\n",
    "    if nu>0:\n",
    "        x = h_erg*nu/(K_b_erg*T) #units: none\n",
    "        #units: erg*s * Hz3 / (cm2/s2) = erg * s3 * Hz3 * cm-2 = erg/s/Hz/cm2\n",
    "        B_nu_ev = 2.0*h_erg*(nu**3) / ((c_cgs**2) * (np.exp(x)-1.0))\n",
    "        return B_nu_ev\n",
    "\n",
    "def calc_emissivity(N, nu, x_1, A_10, phi_nu):\n",
    "    #units: erg*s * Hz * cm-3 * s-1 * Hz-1 = erg/cm3/s/Hz\n",
    "    j_nu = h_erg * nu * N * x_1 * A_10 * phi_nu / (4*np.pi)\n",
    "    return j_nu\n",
    "\n",
    "def calc_integrated_emissivity(N, nu, x_1, A_10):\n",
    "    #units: erg*s * Hz * cm-3 * s-1 = erg/cm3/s\n",
    "    j_10 = h_erg * nu * N * x_1 * A_10\n",
    "    return j_10\n",
    "\n",
    "def calc_j_10_beta(j_10, beta):\n",
    "    return j_10*beta"
   ]
  },
  {
   "cell_type": "code",
   "execution_count": 132,
   "metadata": {},
   "outputs": [],
   "source": [
    "mach_no = 10\n",
    "sigma_s = np.sqrt(np.log(1 + ((0.3 * mach_no)**2)))\n",
    "s_bar = -0.5*(sigma_s**2)\n",
    "smin = -7*sigma_s + s_bar\n",
    "smax = 7*sigma_s + s_bar\n",
    "ds = (smax - smin)/100"
   ]
  },
  {
   "cell_type": "code",
   "execution_count": 133,
   "metadata": {},
   "outputs": [],
   "source": [
    "tau_nu = pynbody.array.SimArray(tau_LVG(n_CO_arr, nu, lambda_jeans_arr, x_1, x_0, B_10, B_01, c_s_CO), \"1\")"
   ]
  },
  {
   "cell_type": "code",
   "execution_count": 134,
   "metadata": {},
   "outputs": [],
   "source": [
    "beta_nu = pynbody.array.SimArray(beta_LVG(tau_nu), \"1\")"
   ]
  },
  {
   "cell_type": "code",
   "execution_count": 135,
   "metadata": {},
   "outputs": [],
   "source": [
    "j_10 = pynbody.array.SimArray(calc_integrated_emissivity(n_CO_arr, nu, x_1, A_10), \"erg cm**-3 s**-1\")"
   ]
  },
  {
   "cell_type": "code",
   "execution_count": 136,
   "metadata": {},
   "outputs": [
    {
     "data": {
      "text/plain": [
       "SimArray(1.15271202e+11, 'Hz')"
      ]
     },
     "execution_count": 136,
     "metadata": {},
     "output_type": "execute_result"
    }
   ],
   "source": [
    "nu"
   ]
  },
  {
   "cell_type": "code",
   "execution_count": 137,
   "metadata": {},
   "outputs": [
    {
     "data": {
      "text/plain": [
       "SimArray(7.203e-08, 's**-1')"
      ]
     },
     "execution_count": 137,
     "metadata": {},
     "output_type": "execute_result"
    }
   ],
   "source": [
    "A_10"
   ]
  },
  {
   "cell_type": "code",
   "execution_count": 138,
   "metadata": {},
   "outputs": [],
   "source": [
    "ratio = n_CO_arr/n_H_arr"
   ]
  },
  {
   "cell_type": "code",
   "execution_count": 149,
   "metadata": {},
   "outputs": [
    {
     "data": {
      "text/plain": [
       "SimArray(0.00143015, 'erg Hz g**-1')"
      ]
     },
     "execution_count": 149,
     "metadata": {},
     "output_type": "execute_result"
    }
   ],
   "source": [
    "alpha_CO = h_erg * nu * A_10 * x_1* 1e-4/m_p\n",
    "alpha_CO"
   ]
  },
  {
   "cell_type": "code",
   "execution_count": 150,
   "metadata": {},
   "outputs": [],
   "source": [
    "l_CO = pynbody.array.SimArray(alpha_CO * n_H_arr, \"erg g**-1 cm**-3 s**-1\")"
   ]
  },
  {
   "cell_type": "code",
   "execution_count": 151,
   "metadata": {},
   "outputs": [
    {
     "data": {
      "text/plain": [
       "SimArray(9.11106093e+10, 'cm**3 K g**-1 Hz**-2 s**-3')"
      ]
     },
     "execution_count": 151,
     "metadata": {},
     "output_type": "execute_result"
    }
   ],
   "source": [
    "alpha_CO_cgs = alpha_CO * 0.5* ((c_cgs/nu)**3) / K_b_erg\n",
    "alpha_CO_cgs"
   ]
  },
  {
   "cell_type": "code",
   "execution_count": 152,
   "metadata": {},
   "outputs": [
    {
     "data": {
      "text/plain": [
       "SimArray(191.38065937, 'K km s**-1 pc**2')"
      ]
     },
     "execution_count": 152,
     "metadata": {},
     "output_type": "execute_result"
    }
   ],
   "source": [
    "alpha_CO_SI = pynbody.array.SimArray(alpha_CO_cgs*1e-5*((3.24078e-19)**2)*M_sun, \"K km s**-1 pc**2\")\n",
    "alpha_CO_SI"
   ]
  },
  {
   "cell_type": "code",
   "execution_count": 153,
   "metadata": {},
   "outputs": [],
   "source": [
    "l_CO_SI = alpha_CO_SI * n_H_arr"
   ]
  },
  {
   "cell_type": "code",
   "execution_count": 154,
   "metadata": {},
   "outputs": [
    {
     "data": {
      "image/png": "[encoded data removed]",
      "text/plain": [
       "<Figure size 648x360 with 1 Axes>"
      ]
     },
     "metadata": {
      "needs_background": "light"
     },
     "output_type": "display_data"
    }
   ],
   "source": [
    "plt.figure(figsize=(9,5))\n",
    "ax = plt.gca()\n",
    "plt.plot(np.log10(n_H_arr), l_CO/n_H_arr, c=\"b\", lw=4)\n",
    "# ax.set_ylim([-6,1])\n",
    "# ax.set_xlim([-1, 3])\n",
    "plt.rc('figure', titlesize=18)\n",
    "plt.rc('axes', titlesize=18)     # fontsize of the axes title\n",
    "plt.rc('axes', labelsize=18)    # fontsize of the x and y labels\n",
    "plt.xlabel('$log(n_{H}) \\ (cm^{-3})$')\n",
    "plt.ylabel('$l_{CO} \\ (erg g^{-1} cm^{-3} s^{-1})$')\n",
    "plt.grid(b=True, which='both', axis='both')\n",
    "plt.title(\"$log(n_{H}) \\ (cm^{-3})$ vs $l_{CO} \\ (erg g^{-1} cm^{-3} s^{-1})$\")\n",
    "plt.show()"
   ]
  },
  {
   "cell_type": "code",
   "execution_count": 147,
   "metadata": {},
   "outputs": [
    {
     "data": {
      "text/plain": [
       "SimArray([7.70776379e-04, 9.53212720e-04, 1.17883022e-03, 1.45784950e-03,\n",
       "          1.80291032e-03, 2.22964416e-03, 2.75738234e-03, 3.41003174e-03,\n",
       "          4.21715782e-03, 5.21532390e-03, 6.44974757e-03, 7.97634903e-03,\n",
       "          9.86428433e-03, 1.21990782e-02, 1.50864982e-02, 1.86573465e-02,\n",
       "          2.30733849e-02, 2.85346626e-02, 3.52885793e-02, 4.36410917e-02,\n",
       "          5.39705742e-02, 6.67449590e-02, 8.25429341e-02, 1.02080158e-01,\n",
       "          1.26241680e-01, 1.56122033e-01, 1.93074816e-01, 2.38774015e-01,\n",
       "          2.95289833e-01, 3.65182474e-01, 4.51618120e-01, 5.58512363e-01,\n",
       "          6.90707581e-01, 8.54192306e-01, 1.05637250e+00, 1.30640706e+00,\n",
       "          1.61562272e+00, 1.99802714e+00, 2.47094350e+00, 3.05579522e+00,\n",
       "          3.77907647e+00, 4.67355235e+00, 5.77974321e+00, 7.14776023e+00,\n",
       "          8.83957546e+00, 1.09318293e+01, 1.35193021e+01, 1.67192081e+01,\n",
       "          2.06765052e+01, 2.55704616e+01, 3.16227766e+01, 3.91076241e+01,\n",
       "          4.83640726e+01, 5.98114452e+01, 7.39683155e+01, 9.14759988e+01,\n",
       "          1.13127605e+02, 1.39903965e+02, 1.73018067e+02, 2.13970001e+02,\n",
       "          2.64614916e+02, 3.27247059e+02, 4.04703709e+02, 5.00493702e+02,\n",
       "          6.18956387e+02, 7.65458202e+02, 9.46635774e+02, 1.17069657e+03,\n",
       "          1.44779068e+03, 1.79047066e+03, 2.21426013e+03, 2.73835704e+03,\n",
       "          3.38650332e+03, 4.18806041e+03, 5.17933938e+03, 6.40524582e+03,\n",
       "          7.92131408e+03, 9.79622306e+03, 1.21149074e+04, 1.49824049e+04,\n",
       "          1.85286152e+04, 2.29141839e+04, 2.83377801e+04, 3.50450963e+04,\n",
       "          4.33399783e+04, 5.35981898e+04, 6.62844343e+04, 8.19734071e+04,\n",
       "          1.01375829e+05, 1.25370642e+05, 1.55044828e+05, 1.91742645e+05,\n",
       "          2.37126530e+05, 2.93252402e+05, 3.62662800e+05, 4.48502060e+05,\n",
       "          5.54658758e+05, 6.85941860e+05, 8.48298578e+05, 1.04908378e+06], 'cm**-3')"
      ]
     },
     "execution_count": 147,
     "metadata": {},
     "output_type": "execute_result"
    }
   ],
   "source": [
    "n_H_arr"
   ]
  },
  {
   "cell_type": "code",
   "execution_count": null,
   "metadata": {},
   "outputs": [],
   "source": []
  },
  {
   "cell_type": "code",
   "execution_count": null,
   "metadata": {},
   "outputs": [],
   "source": []
  },
  {
   "cell_type": "code",
   "execution_count": null,
   "metadata": {},
   "outputs": [],
   "source": []
  },
  {
   "cell_type": "code",
   "execution_count": null,
   "metadata": {},
   "outputs": [],
   "source": []
  },
  {
   "cell_type": "code",
   "execution_count": null,
   "metadata": {},
   "outputs": [],
   "source": []
  },
  {
   "cell_type": "code",
   "execution_count": null,
   "metadata": {},
   "outputs": [],
   "source": []
  },
  {
   "cell_type": "code",
   "execution_count": null,
   "metadata": {},
   "outputs": [],
   "source": []
  },
  {
   "cell_type": "code",
   "execution_count": 103,
   "metadata": {},
   "outputs": [
    {
     "data": {
      "image/png": "[encoded data removed]",
      "text/plain": [
       "<Figure size 648x360 with 1 Axes>"
      ]
     },
     "metadata": {
      "needs_background": "light"
     },
     "output_type": "display_data"
    }
   ],
   "source": [
    "plt.figure(figsize=(9,5))\n",
    "ax = plt.gca()\n",
    "plt.plot(np.log10(n_H_arr), l_CO_SI, c=\"b\", lw=4)\n",
    "# ax.set_ylim([-6,1])\n",
    "# ax.set_xlim([-1, 3])\n",
    "plt.rc('figure', titlesize=18)\n",
    "plt.rc('axes', titlesize=18)     # fontsize of the axes title\n",
    "plt.rc('axes', labelsize=18)    # fontsize of the x and y labels\n",
    "plt.xlabel('$log(n_{H}) \\ (cm^{-3})$')\n",
    "plt.ylabel('$l_{CO, SI} \\ (pc^{2} K km s^{-1} cm^{-3})$')\n",
    "plt.grid(b=True, which='both', axis='both')\n",
    "plt.title(\"$log(n_{H}) \\ (cm^{-3})$ vs $l_{CO, SI} \\ (pc^{2} K km s^{-1} cm^{-3})$\")\n",
    "plt.show()"
   ]
  },
  {
   "cell_type": "code",
   "execution_count": null,
   "metadata": {},
   "outputs": [],
   "source": []
  },
  {
   "cell_type": "code",
   "execution_count": null,
   "metadata": {},
   "outputs": [],
   "source": []
  },
  {
   "cell_type": "code",
   "execution_count": 155,
   "metadata": {},
   "outputs": [
    {
     "data": {
      "image/png": "[encoded data removed]",
      "text/plain": [
       "<Figure size 648x360 with 1 Axes>"
      ]
     },
     "metadata": {
      "needs_background": "light"
     },
     "output_type": "display_data"
    }
   ],
   "source": [
    "plt.figure(figsize=(9,5))\n",
    "ax = plt.gca()\n",
    "plt.plot(np.log10(n_H_arr), np.log10(l_CO_SI/n_H_arr), c=\"b\", lw=4)\n",
    "# ax.set_ylim([-6,1])\n",
    "# ax.set_xlim([-1, 3])\n",
    "plt.rc('figure', titlesize=18)\n",
    "plt.rc('axes', titlesize=18)     # fontsize of the axes title\n",
    "plt.rc('axes', labelsize=18)    # fontsize of the x and y labels\n",
    "plt.xlabel('$log(n_{H}) \\ (cm^{-3})$')\n",
    "plt.ylabel('$log(l_{CO, SI}/n_{H}) \\ (pc^{2} K km s^{-1})$')\n",
    "plt.grid(b=True, which='both', axis='both')\n",
    "plt.title(\"$log(n_{H}) \\ (cm^{-3})$ vs $log(l_{CO, SI}/n_{H}) \\ (pc^{2} K km s^{-1})$\")\n",
    "plt.show()"
   ]
  },
  {
   "cell_type": "code",
   "execution_count": 105,
   "metadata": {},
   "outputs": [
    {
     "data": {
      "image/png": "[encoded data removed]",
      "text/plain": [
       "<Figure size 648x360 with 1 Axes>"
      ]
     },
     "metadata": {
      "needs_background": "light"
     },
     "output_type": "display_data"
    }
   ],
   "source": [
    "plt.figure(figsize=(9,5))\n",
    "ax = plt.gca()\n",
    "plt.plot(n_H_arr, l_CO_SI, c=\"b\", lw=4)\n",
    "# ax.set_ylim([-6,1])\n",
    "# ax.set_xlim([-1, 3])\n",
    "plt.rc('figure', titlesize=18)\n",
    "plt.rc('axes', titlesize=18)     # fontsize of the axes title\n",
    "plt.rc('axes', labelsize=18)    # fontsize of the x and y labels\n",
    "plt.xlabel('$n_{H} \\ (cm^{-3})$')\n",
    "plt.ylabel('$l_{CO, SI}\\ (pc^{2} K km s^{-1} cm^{-3})$')\n",
    "plt.grid(b=True, which='both', axis='both')\n",
    "plt.title(\"$n_{H}\\ (cm^{-3})$ vs $l_{CO, SI} \\ (pc^{2} K km s^{-1} cm^{-3})$\")\n",
    "plt.show()"
   ]
  },
  {
   "cell_type": "code",
   "execution_count": 106,
   "metadata": {},
   "outputs": [
    {
     "data": {
      "image/png": "[encoded data removed]",
      "text/plain": [
       "<Figure size 648x360 with 1 Axes>"
      ]
     },
     "metadata": {
      "needs_background": "light"
     },
     "output_type": "display_data"
    }
   ],
   "source": [
    "plt.figure(figsize=(9,5))\n",
    "ax = plt.gca()\n",
    "plt.plot(n_H_arr, l_CO_SI/n_H_arr, c=\"b\", lw=4)\n",
    "# ax.set_ylim([-6,1])\n",
    "# ax.set_xlim([-1, 3])\n",
    "plt.rc('figure', titlesize=18)\n",
    "plt.rc('axes', titlesize=18)     # fontsize of the axes title\n",
    "plt.rc('axes', labelsize=18)    # fontsize of the x and y labels\n",
    "plt.xlabel('$n_{H}\\ (cm^{-3})$')\n",
    "plt.ylabel('$l_{CO, SI}/n_{H}\\ (pc^{2} K km s^{-1})$')\n",
    "plt.grid(b=True, which='both', axis='both')\n",
    "plt.title(\"$n_{H}\\ (cm^{-3})$ vs $(l_{CO, SI}/n_{H})\\ (pc^{2} K km s^{-1})$\")\n",
    "plt.show()"
   ]
  },
  {
   "cell_type": "code",
   "execution_count": null,
   "metadata": {},
   "outputs": [],
   "source": []
  }
 ],
 "metadata": {
  "kernelspec": {
   "display_name": "Python 2",
   "language": "python",
   "name": "python2"
  },
  "language_info": {
   "codemirror_mode": {
    "name": "ipython",
    "version": 2
   },
   "file_extension": ".py",
   "mimetype": "text/x-python",
   "name": "python",
   "nbconvert_exporter": "python",
   "pygments_lexer": "ipython2",
   "version": "2.7.16"
  }
 },
 "nbformat": 4,
 "nbformat_minor": 2
}
