{
 "cells": [
  {
   "cell_type": "markdown",
   "metadata": {},
   "source": [
    "## Reference Plots - Model - delta_v = 1e6cm/s; delta_x = 1pc"
   ]
  },
  {
   "cell_type": "code",
   "execution_count": 5,
   "metadata": {},
   "outputs": [],
   "source": [
    "#import sys\n",
    "import numpy as np\n",
    "#np.set_printoptions(threshold=sys.maxsize)\n",
    "import matplotlib.pyplot as plt\n",
    "import matplotlib.colors as cm\n",
    "import pynbody\n",
    "from michaels_functions import (center_and_r_vir, remove_bulk_velocity,\n",
    "                                read_unit_from_info)\n",
    "from matplotlib.colors import LogNorm\n",
    "from matplotlib.pyplot import figure\n",
    "\n",
    "%matplotlib inline"
   ]
  },
  {
   "cell_type": "code",
   "execution_count": 6,
   "metadata": {},
   "outputs": [
    {
     "name": "stdout",
     "output_type": "stream",
     "text": [
      "('shifting on Stars:', SimArray([ 0.00308878, -0.03302971, -0.04676732], 'kpc'))\n",
      "('virial radius:', SimArray(152.40432611, 'kpc'))\n"
     ]
    }
   ],
   "source": [
    "run = \"hydro_59\"\n",
    "out = \"output_00050\"\n",
    "path = \"bulk1/data_2/\" + run + \"/output/\"\n",
    "data = pynbody.load(path + out)\n",
    "aexp = data.properties['a']\n",
    "data.physical_units()\n",
    "\n",
    "r_vir = center_and_r_vir(data, aexp, path)\n",
    "remove_bulk_velocity(data)\n",
    "r_e = 0.1 * r_vir\n",
    "\n",
    "sph_5 = pynbody.filt.Sphere(radius='%f kpc' % r_e)\n",
    "region = data[sph_5]\n",
    "\n",
    "omega_b, unit_l, unit_d, unit_t = read_unit_from_info(data)"
   ]
  },
  {
   "cell_type": "code",
   "execution_count": 7,
   "metadata": {},
   "outputs": [],
   "source": [
    "m_p = pynbody.array.SimArray(1.672621e-24, \"g\")\n",
    "G = pynbody.array.SimArray(6.6732e-8, \"cm**3 g**-1 s**-2\")\n",
    "T_mean = pynbody.array.SimArray(10., \"K\")\n",
    "K_b = pynbody.array.SimArray(1.380622e-16, \"g cm**2 s**-2 K**-1\")\n",
    "K_b_ev = pynbody.array.SimArray(8.617e-5, \"eV K**-1\")\n",
    "K_b_erg = pynbody.array.SimArray(1.380622e-16, \"erg K**-1\")\n",
    "c_cgs = pynbody.array.SimArray(2.9979245e10, \"cm s**-1\")\n",
    "h_ev = pynbody.array.SimArray(4.135667e-15, \"eV s\")\n",
    "mH_cgs = pynbody.array.SimArray(1.6735575e-24, 'g')  # hydrogen mass\n",
    "eV_to_ergs = pynbody.array.SimArray(1.60218e-12, \"erg eV**-1\")\n",
    "L_sun = pynbody.array.SimArray(3.839e33, \"erg s**-1\")\n",
    "M_sun = pynbody.array.SimArray(2e33, \"g\")"
   ]
  },
  {
   "cell_type": "code",
   "execution_count": 8,
   "metadata": {},
   "outputs": [],
   "source": [
    "def get_filename(species):\n",
    "    # filename is already given\n",
    "    if (species[-4:] == '.dat') or (species[-4:] == '.txt'):\n",
    "        return species\n",
    "    # molecule is chosen\n",
    "    THIS_FOLDER = os.path.dirname(os.path.abspath(__file__))\n",
    "    database = os.path.join(THIS_FOLDER, 'LAMDA')\n",
    "    if species == 'HCO+':\n",
    "        filename = os.path.join(database, 'HCO+.dat')\n",
    "    elif species == 'H13CO+':\n",
    "        filename = os.path.join(database, 'H13CO+.dat')\n",
    "    elif species == 'N2H+':\n",
    "        filename = os.path.join(database, 'N2H+.dat')\n",
    "    elif species == 'SiO':\n",
    "        filename = os.path.join(database, 'SiO.dat')\n",
    "    elif species == 'HNC':\n",
    "        filename = os.path.join(database, 'HNC.dat')\n",
    "    elif species == 'HCN':\n",
    "        filename = os.path.join(database, 'HCN.dat')\n",
    "    elif species == 'CO':\n",
    "        filename = os.path.join(database, 'CO.dat')\n",
    "    else:\n",
    "        print('Unknow species. Chose from HCO+, H13CO+, N2H+, SiO, HNC, HCN, CO')\n",
    "        print('or provide a LAMDA datafile.')\n",
    "        exit()\n",
    "\n",
    "    return filename\n",
    "\n",
    "\n",
    "def read_file(species, c_cgs, h_ev, K_b_ev):\n",
    "    filename = get_filename(species)\n",
    "    f = open(filename, 'r')\n",
    "\n",
    "    f.readline()\n",
    "    species = f.readline()\n",
    "\n",
    "    f.readline()\n",
    "    mu = float(f.readline())  # molecular weight\n",
    "\n",
    "    f.readline()\n",
    "    num_lvls = int(f.readline())  # number of energy levels\n",
    "\n",
    "    # read energy levels: energy E, statistical weight g\n",
    "    f.readline()\n",
    "    E = []\n",
    "    g = []\n",
    "    for l in range(num_lvls):\n",
    "        words = f.readline().split()\n",
    "        E.append(float(words[1]) *c_cgs*h_ev) # cm^-1 -> eV\n",
    "        g.append(float(words[2]))\n",
    "\n",
    "    f.readline()\n",
    "    num_trans = int(f.readline())  # number of radiative transistions\n",
    "\n",
    "    # read transistions: upper lvl, lower lvl, A-coefficient, frequency\n",
    "    f.readline()\n",
    "    A = np.zeros((num_lvls, num_lvls))\n",
    "    freq = np.zeros((num_lvls, num_lvls))\n",
    "    for t in range(num_trans):\n",
    "        words = f.readline().split()\n",
    "        up = int(words[1]) - 1\n",
    "        low = int(words[2]) - 1\n",
    "        if up-low==1:\n",
    "            A[up][low] = float(words[3])  # s^-1\n",
    "            freq[up][low] = float(words[4]) * 1e9  # GHz -> Hz\n",
    "            #freq[low][up] = freq[up][low] #un-comment this only \n",
    "            #if low to up transitions are also allowed\n",
    "\n",
    "    # compute B-coefficient via Einstein relations\n",
    "    # Bij = coeff for stimulated emission, Bji = coeff for extinction (j<i)\n",
    "    B = np.zeros((num_lvls, num_lvls))\n",
    "    for i in range(0, num_lvls):\n",
    "        for j in range(0, i):\n",
    "            if A[i][j] != 0:\n",
    "                B[i][j] = ((A[i][j] * (c_cgs**2)) /\n",
    "                (2*h_ev * (freq[i][j])**3)) # cm2/(eV*s)\n",
    "                B[j][i] = B[i][j] * g[i]/g[j]\n",
    "\n",
    "    f.close()\n",
    "    E = np.array(E) #eV\n",
    "    g = np.array(g) \n",
    "    freq = np.array(freq) #Hz\n",
    "    A = np.array(A) #s-1\n",
    "    B = np.array(B) #cm2/(eV*s)\n",
    "    return mu, num_lvls, E, g, freq, A, B\n",
    "\n",
    "\n",
    "def partion_function(T, num_lvls, g, E, K_b_ev):\n",
    "    Z=0.0\n",
    "    for i in range(0,num_lvls):\n",
    "        Z = Z + g[i]*np.exp(-E[i]/(K_b_ev*T))\n",
    "    return np.asarray(Z)\n",
    "\n",
    "\n",
    "def calc_lvlpops_partion(T, num_lvls, g, E, K_b_ev):\n",
    "    ni = np.zeros(num_lvls)\n",
    "    Z = partion_function(T, num_lvls, g, E, K_b_ev)\n",
    "    for i in range(0, num_lvls):\n",
    "        ni[i] = g[i]*np.exp(-E[i]/(K_b_ev*T)) / Z\n",
    "    return np.asarray(ni), Z"
   ]
  },
  {
   "cell_type": "code",
   "execution_count": 9,
   "metadata": {},
   "outputs": [
    {
     "name": "stdout",
     "output_type": "stream",
     "text": [
      "0.43479505590767203\n",
      "0.2520174421256517\n",
      "3.9679793254207247\n"
     ]
    }
   ],
   "source": [
    "mu, num_lvls, E, g, freq, A, B = read_file('CO.txt',c_cgs, h_ev, K_b_ev)\n",
    "ni, Z = calc_lvlpops_partion(T_mean, num_lvls, g, E, K_b_ev)\n",
    "c_s_CO = np.sqrt(K_b * T_mean/(mH_cgs*mu))\n",
    "u = 1 #upper level\n",
    "l = 0 #lower level\n",
    "nu = freq[u][l]\n",
    "x_1 = ni[u]\n",
    "x_0 = ni[l]\n",
    "A_10 = A[u][l]\n",
    "B_10 = B[u][l]\n",
    "B_01 = B[l][u]    \n",
    "\n",
    "print (x_1)\n",
    "print (x_0)\n",
    "print Z"
   ]
  },
  {
   "cell_type": "code",
   "execution_count": 29,
   "metadata": {},
   "outputs": [],
   "source": [
    "ni_3, Z_3 = calc_lvlpops_partion(2.7, num_lvls, g, E, K_b_ev)"
   ]
  },
  {
   "cell_type": "code",
   "execution_count": 32,
   "metadata": {},
   "outputs": [
    {
     "data": {
      "text/plain": [
       "0.2766612322931716"
      ]
     },
     "execution_count": 32,
     "metadata": {},
     "output_type": "execute_result"
    }
   ],
   "source": [
    "x_1_3 = ni_3[1]\n",
    "x_1_3"
   ]
  },
  {
   "cell_type": "code",
   "execution_count": 33,
   "metadata": {},
   "outputs": [
    {
     "data": {
      "text/plain": [
       "1.5715792643001376"
      ]
     },
     "execution_count": 33,
     "metadata": {},
     "output_type": "execute_result"
    }
   ],
   "source": [
    "x_1/x_1_3"
   ]
  },
  {
   "cell_type": "code",
   "execution_count": null,
   "metadata": {},
   "outputs": [],
   "source": []
  },
  {
   "cell_type": "code",
   "execution_count": 10,
   "metadata": {},
   "outputs": [],
   "source": [
    "# x_1 = 0.4347950859536656\n",
    "# x_0 = 0.25201748686058306\n",
    "# A_10 = pynbody.array.SimArray(7.203e-08, \"s**-1\")\n",
    "# B_10 = pynbody.array.SimArray(5.10995088e-06, \"cm**2 eV**-1 s**-1\")\n",
    "# B_01 = pynbody.array.SimArray(1.53298527e-05, \"cm**2 eV**-1 s**-1\")\n",
    "# nu = pynbody.array.SimArray(1.15271202e+11, \"Hz\")\n",
    "# mu = 28.0\n",
    "c_s_CO = np.sqrt(K_b * T_mean/(mH_cgs*mu))"
   ]
  },
  {
   "cell_type": "code",
   "execution_count": 11,
   "metadata": {},
   "outputs": [],
   "source": [
    "def make_pdf(s, s_bar, sigma_s):\n",
    "    return ((1./np.sqrt(2*np.pi*(sigma_s**2))) *\n",
    "            (np.exp(-0.5*(((s - s_bar)/sigma_s)**2))))\n",
    "\n",
    "\n",
    "def calc_lambda_jeans(n_H, T_mean, m_p, K_b):\n",
    "    return np.asarray(np.sqrt(K_b * T_mean/m_p) /\n",
    "                      np.sqrt(4.*np.pi * G * n_H * m_p))\n",
    "\n",
    "\n",
    "def calc_n_LW(n_H, G_o, lambda_jeans, metal, m_p):\n",
    "    kappa = 1000 * m_p * metal\n",
    "    exp_tau = np.exp(-kappa * n_H * lambda_jeans)\n",
    "    return np.asarray(G_o * exp_tau)\n",
    "\n",
    "\n",
    "def calc_X_H2(n_H, metal, n_LW):\n",
    "    DC = 1.7e-11\n",
    "    CC = 2.5e-17            # cm3 s-1\n",
    "    numerator = DC * n_LW\n",
    "    denominator = CC * metal * n_H\n",
    "    X_H2 = 1. / (2. + (numerator/denominator))\n",
    "    return np.asarray(2*X_H2)\n",
    "\n",
    "\n",
    "def calc_n_LW_ss(n_H, n_H2, metal, G_o, lambda_jeans, m_p):\n",
    "    kappa = 1000 * m_p * metal\n",
    "    rad_field_outside = G_o  # in solar units\n",
    "    exp_tau = np.exp(-kappa * n_H * lambda_jeans)\n",
    "    N_H2 = n_H2 * lambda_jeans\n",
    "    term1 = 0.965/((1+(N_H2/5e14))**2)\n",
    "    term2 = ((0.035/np.sqrt(1+(N_H2/5e14))) *\n",
    "             np.exp(-1*np.sqrt(1+(N_H2/5e14))/1180))\n",
    "    S_H2 = term1 + term2\n",
    "    n_LW_ss = rad_field_outside * exp_tau * S_H2\n",
    "    return np.asarray(n_LW_ss)\n",
    "\n",
    "\n",
    "def self_shielding_iterations(n_H, G_o, lambda_jeans, metal, m_p):\n",
    "    ctr = 16\n",
    "    n_LW = calc_n_LW(n_H, G_o, lambda_jeans, metal, m_p)\n",
    "    X_H2 = calc_X_H2(n_H, metal, n_LW)\n",
    "    n_H2 = n_H * X_H2\n",
    "    n_H2_ss = n_H2\n",
    "    for _ in range(ctr):\n",
    "        n_LW_ss = calc_n_LW_ss(n_H, n_H2_ss, metal, G_o, lambda_jeans, m_p)\n",
    "        X_H2_ss = calc_X_H2(n_H, metal, n_LW_ss)\n",
    "        \"\"\"\n",
    "        if (np.sum(np.square(n_H2_ss - n_H * X_H2_ss)) < 1e-5):\n",
    "            n_H2_ss = n_H * X_H2_ss\n",
    "            break\n",
    "        \"\"\"\n",
    "        n_H2_ss = n_H * X_H2_ss\n",
    "    return n_LW, n_H2, n_LW_ss, X_H2_ss, n_H2_ss\n",
    "\n",
    "\n",
    "def calc_integral(s, pdf, X, ds):\n",
    "    return np.sum(np.exp(s) * pdf * X * ds)\n",
    "\n",
    "\n",
    "def calc_X_CO(n_H, n_H2, n_LW):\n",
    "    rate_CHX = 5.0e-10 * n_LW\n",
    "    rate_CO = 1.0e-10 * n_LW\n",
    "    x0 = 2.0e-4\n",
    "    k0 = 5.0e-16  # cm3 s-1\n",
    "    k1 = 5.0e-10  # cm3 s-1\n",
    "    factor_beta = rate_CHX/(n_H*k1*x0)\n",
    "    beta = 1./(1.+factor_beta)\n",
    "    factor_CO = rate_CO/(n_H2*k0*beta)\n",
    "    X_CO = 1./(1.+factor_CO)\n",
    "    return np.asarray(X_CO)\n",
    "\n",
    "\n",
    "def calc_n_CO(n_H, X_CO, metal):\n",
    "    abundance_Ctot = 1e-4 # n_C/n_H as defined by nucleosynthesis\n",
    "    return n_H * abundance_Ctot * metal * X_CO # CO/cc\n",
    "\n",
    "\n",
    "def tau_LVG(n_CO, nu, lambda_jeans, x_1, x_0, B_10, B_01, c_s_CO, c_cgs, h_ev):\n",
    "    # units: eV*s * Hz * cm * 1/cm3 * cm2/(eV*s) * 1/(Hz) = none\n",
    "    delta_v = 1e5*(lambda_jeans/(1*3.08e18))**0.5\n",
    "    delta_nu_1 = c_s_CO*nu/c_cgs #\"Hz\"\n",
    "    delta_nu_2 = delta_v*nu/c_cgs\n",
    "    delta_nu_3 = (1e6*(lambda_jeans/(1*3.08e18))**0.5)*nu/c_cgs\n",
    "    tau_1 = h_ev*nu*lambda_jeans*n_CO*((x_0*B_01)-(x_1*B_10))/(4*np.pi*delta_nu_1)\n",
    "    tau_2 = h_ev*nu*lambda_jeans*n_CO*((x_0*B_01)-(x_1*B_10))/(4*np.pi*delta_nu_2)\n",
    "    tau_3 = h_ev*nu*lambda_jeans*n_CO*((x_0*B_01)-(x_1*B_10))/(4*np.pi*delta_nu_3)\n",
    "    return np.asarray(tau_1), np.asarray(tau_2), np.asarray(tau_3)  \n",
    "    \n",
    "def beta_LVG(tau):\n",
    "    beta_lvg = np.zeros(len(tau))\n",
    "    for i in range(0, len(tau)):\n",
    "        if tau[i] < 0.01:\n",
    "            beta_lvg[i] = 1. - tau[i]/2.\n",
    "        elif tau[i] > 100.:\n",
    "            beta_lvg[i] = 1./tau[i]\n",
    "        else:\n",
    "            beta_lvg[i] = (1.0 - np.exp(-tau[i])) / tau[i]\n",
    "    return beta_lvg\n",
    "\n",
    "\n",
    "def calc_integrated_emissivity(n_CO, nu, x_1, A_10, h_ev):\n",
    "    #units: eV*s * Hz * cm-3 * s-1 = eV/cm3/s\n",
    "    j_10 = h_ev * nu * n_CO * x_1 * A_10\n",
    "    return j_10\n",
    "\n",
    "def inside_loop(n_H_mean):\n",
    "    j_10_3 = np.zeros(100)\n",
    "    n_H = n_H_mean * np.exp(s)\n",
    "    lambda_jeans = calc_lambda_jeans(n_H, T_mean, m_p, K_b)\n",
    "\n",
    "    n_LW, n_H2, n_LW_ss, X_H2_ss, n_H2_ss = self_shielding_iterations(\n",
    "        n_H, G_o, lambda_jeans, metal, m_p)\n",
    "\n",
    "    X_H2_bar = calc_integral(s, pdf, X_H2_ss, ds)\n",
    "    X_CO = calc_X_CO(n_H, n_H2, n_LW)\n",
    "    n_CO = calc_n_CO(n_H, X_CO, metal)\n",
    "    X_CO_bar = calc_integral(s, pdf, X_CO, ds)\n",
    "\n",
    "    tau_nu_1, tau_nu_2, tau_nu_3 = tau_LVG(n_CO, nu, lambda_jeans, x_1, x_0, \n",
    "                     B_10, B_01, c_s_CO, c_cgs, h_ev)\n",
    "    beta_nu_1 = beta_LVG(tau_nu_1)\n",
    "    beta_nu_2 = beta_LVG(tau_nu_2)\n",
    "    beta_nu_3 = beta_LVG(tau_nu_3)\n",
    "#     T_exc = 3.+0.0*beta_nu_3 #(10.*(1.0-beta_nu_3))+(3.*beta_nu_3)\n",
    "#     for i in range(0, len(T_exc)):\n",
    "#         ni_3, Z_3 = calc_lvlpops_partion(T_exc[i], num_lvls, g, E, K_b_ev)\n",
    "#         x_1_3 = ni_3[1]\n",
    "# #         print x_1_3, T_exc[i], Z_3,E[]\n",
    "#         j_10_3[i] = calc_integrated_emissivity(n_CO[i], nu, x_1_3, A_10, h_ev)  # eV/cm3/s\n",
    "    \n",
    "    j_10 = calc_integrated_emissivity(n_CO, nu, x_1, A_10, h_ev)  # eV/cm3/s\n",
    "    \n",
    "\n",
    "    # m_H2 = m_p * (dx**3) * X_H2_ss  #g cm3\n",
    "    l_CO_1 = j_10 * beta_nu_1 * eV_to_ergs  #ergs/cm3/s\n",
    "    l_CO_2 = j_10 * beta_nu_2 * eV_to_ergs  #ergs/cm3/s\n",
    "    l_CO_3 = j_10 * beta_nu_3 * eV_to_ergs  #ergs/cm3/s\n",
    "\n",
    "    alpha_CO = M_sun*((c_cgs/nu)**3)*1e-5*((3.24078e-19)**2)/(2*K_b_erg)\n",
    "    #conversion factor: erg/cm3/s to K km s-1 pc2 M_sol-1 cm-3\n",
    "    l_CO_SI_1 = l_CO_1 * alpha_CO # K km s-1 pc2 M_sol-1 cm-3\n",
    "    l_CO_SI_2 = l_CO_2 * alpha_CO # K km s-1 pc2 M_sol-1 cm-3\n",
    "    l_CO_SI_3 = l_CO_3 * alpha_CO # K km s-1 pc2 M_sol-1 cm-3\n",
    "    \n",
    "    l_CO_bar_1 = np.sum(l_CO_1*pdf*ds)\n",
    "    l_CO_bar_2 = np.sum(l_CO_2*pdf*ds)\n",
    "    l_CO_bar_3 = np.sum(l_CO_3*pdf*ds)\n",
    "    \n",
    "    l_CO_SI_bar_1 = np.sum(l_CO_SI_1*pdf*ds)\n",
    "    l_CO_SI_bar_2 = np.sum(l_CO_SI_2*pdf*ds)\n",
    "    l_CO_SI_bar_3 = np.sum(l_CO_SI_3*pdf*ds)\n",
    "    \n",
    "    return X_H2_bar, X_CO_bar, l_CO_bar_1, l_CO_SI_bar_1, l_CO_bar_2, l_CO_SI_bar_2, l_CO_bar_3, l_CO_SI_bar_3"
   ]
  },
  {
   "cell_type": "code",
   "execution_count": 12,
   "metadata": {},
   "outputs": [],
   "source": [
    "mach_no = 10\n",
    "metal = 1\n",
    "G_o = 2.0\n",
    "dx = pynbody.array.SimArray(5.74179996e+20, \"cm\")\n",
    "\n",
    "sigma_s = np.sqrt(np.log(1 + ((0.3 * mach_no)**2)))\n",
    "s_bar = -0.5*(sigma_s**2)\n",
    "smin = -7*sigma_s + s_bar\n",
    "smax = 7*sigma_s + s_bar\n",
    "\n",
    "s = np.linspace(smin, smax, num=100, endpoint=False)\n",
    "ds = np.diff(s)[0]\n",
    "pdf = make_pdf(s, s_bar, sigma_s)"
   ]
  },
  {
   "cell_type": "code",
   "execution_count": null,
   "metadata": {},
   "outputs": [],
   "source": []
  },
  {
   "cell_type": "code",
   "execution_count": null,
   "metadata": {},
   "outputs": [],
   "source": []
  },
  {
   "cell_type": "code",
   "execution_count": null,
   "metadata": {},
   "outputs": [],
   "source": []
  },
  {
   "cell_type": "code",
   "execution_count": 28,
   "metadata": {},
   "outputs": [
    {
     "data": {
      "image/png": "[encoded data removed]",
      "text/plain": [
       "<Figure size 648x432 with 1 Axes>"
      ]
     },
     "metadata": {
      "needs_background": "light"
     },
     "output_type": "display_data"
    }
   ],
   "source": [
    "plt.rc('figure', titlesize=18)\n",
    "plt.rc('axes', titlesize=18)     # fontsize of the axes title\n",
    "plt.rc('axes', labelsize=18)    # fontsize of the x and y labels\n",
    "plt.rc('xtick', labelsize=16)    # fontsize of the tick labels\n",
    "plt.rc('ytick', labelsize=16)    # fontsize of the tick labels\n",
    "plt.rc('legend', fontsize=16)    # legend fontsize\n",
    "\n",
    "fig, ax = plt.subplots(figsize=(9,6))\n",
    "n_H_mean_arr = pynbody.array.SimArray(np.logspace(-4, 7, 100), \"cm**-3\")\n",
    "for i in range(0, len(n_H_mean_arr)):\n",
    "    n_H_mean = n_H_mean_arr[i]\n",
    "    X_H2_bar, X_CO_bar, l_CO_bar_1, l_CO_SI_bar_1, l_CO_bar_2, l_CO_SI_bar_2, l_CO_bar_3, l_CO_SI_bar_3  = inside_loop(n_H_mean)\n",
    "    n_H2_mean = X_H2_bar * n_H_mean\n",
    "\n",
    "    alpha_1 = l_CO_bar_1/(n_H_mean*m_p) #[erg s-1 M_sol-1]\n",
    "    alpha_2 = l_CO_bar_2/(n_H_mean*m_p) #[erg s-1 M_sol-1]\n",
    "    alpha_3 = l_CO_bar_3/(n_H_mean*m_p) #[erg s-1 M_sol-1]\n",
    "\n",
    "    alpha_1_SI = l_CO_SI_bar_1/(n_H_mean*m_p) #[K km s**-1 pc**2 Msol**-1]\n",
    "    alpha_2_SI = l_CO_SI_bar_2/(n_H_mean*m_p) #[K km s**-1 pc**2 Msol**-1]\n",
    "    alpha_3_SI = l_CO_SI_bar_3/(n_H_mean*m_p) #[K km s**-1 pc**2 Msol**-1]\n",
    "    plt.scatter(np.log10(n_H_mean), np.log10(alpha_1_SI), \n",
    "                c=\"b\")\n",
    "    plt.scatter(np.log10(n_H_mean), np.log10(alpha_2_SI), \n",
    "                c=\"r\")\n",
    "    plt.scatter(np.log10(n_H_mean), np.log10(alpha_3_SI), \n",
    "                c=\"y\")\n",
    "#     plt.scatter(np.log10(n_H_mean), n_H2_mean/n_H_mean, \n",
    "#                 c=\"k\")\n",
    "ax.set_xlabel(r'$log(\\overline{n_H}) \\ [\\rm{cm^{-3}}]$')\n",
    "ax.set_ylabel(r'$\\log\\left(\\frac{\\overline{\\ell_{CO}}}{m_p \\overline{n_H}}\\right) \\ [\\rm{K\\ km\\ s^{-1} pc^{2} M_{\\odot}^{-1}}] $')\n",
    "plt.scatter(np.log10(1e12), 1, \n",
    "                c=\"b\", label=r\"using $c_{s, CO}$\")\n",
    "plt.scatter(np.log10(1e12), 1, \n",
    "            c=\"r\", label=r\"$\\Delta v=10^5\\ \\rm{cm/s}$\")\n",
    "plt.scatter(np.log10(1e12), 1, \n",
    "            c=\"y\", label=r\"$\\Delta v=10^6\\ \\rm{cm/s}$\")\n",
    "# plt.scatter(np.log10(1000000), 1, \n",
    "#             c=\"k\", label=\"$n_{H2, mean}/n_{H, mean}$\")\n",
    "legend = plt.legend(bbox_to_anchor=(1.04,1), loc=\"upper left\")\n",
    "legend.legendHandles[0]._sizes = [30]\n",
    "legend.legendHandles[1]._sizes = [30]\n",
    "legend.legendHandles[2]._sizes = [30]\n",
    "ax.set_ylim([-4.5,2])\n",
    "ax.set_xlim([-4.5, 4.5])\n",
    "plt.grid(b=True, which='both', axis='both')\n",
    "plt.title(r\"$\\log(\\overline{n_H})\\ vs\\ \\log\\left(\\frac{\\overline{\\ell_{CO}}}{m_p \\overline{n_H}}\\right)-\\mathcal{M}=10, Z=1 Z_{\\odot}, G=2 G_0$\")\n",
    "# fig.subplots_adjust(top=0.88)\n",
    "ttl = ax.title\n",
    "ttl.set_position([.5, 1.05])\n",
    "ax.xaxis.set_major_locator(plt.MaxNLocator(5))\n",
    "plt.savefig('outputs/for_thesis/log(n_H_mean)vsl_CO-PREDICTIONS.png', \n",
    "            dpi=300, bbox_inches='tight')\n",
    "plt.show()"
   ]
  },
  {
   "cell_type": "code",
   "execution_count": null,
   "metadata": {},
   "outputs": [],
   "source": []
  },
  {
   "cell_type": "code",
   "execution_count": null,
   "metadata": {},
   "outputs": [],
   "source": []
  },
  {
   "cell_type": "code",
   "execution_count": 40,
   "metadata": {},
   "outputs": [
    {
     "data": {
      "text/plain": [
       "SimArray([   0.        ,    5.53235804,   16.59681471,   33.19315859,\n",
       "            55.32045894,   82.97792885,  116.16478158,  154.87936713,\n",
       "           199.12046622,  248.88643051,  304.17503286,  364.98447982,\n",
       "           431.31240245,  503.15614355,  580.51290302,  663.38002241,\n",
       "           751.75412672,  845.63169645,  945.0094983 , 1049.88343683,\n",
       "          1160.24956192, 1276.10377917, 1397.44155933, 1524.25837775,\n",
       "          1656.54913187, 1794.30900781, 1937.53261652, 2086.21456863,\n",
       "          2240.34918662, 2399.93036292, 2564.95213363, 2735.40824568,\n",
       "          2911.29215931, 3092.59704761, 3279.31608613, 3471.44201538,\n",
       "          3668.96743219, 3871.88507823, 4080.18683626, 4293.86486565,\n",
       "          4512.91105294], 'K eV**-1')"
      ]
     },
     "execution_count": 40,
     "metadata": {},
     "output_type": "execute_result"
    }
   ],
   "source": [
    "E/K_b_ev"
   ]
  },
  {
   "cell_type": "code",
   "execution_count": 47,
   "metadata": {},
   "outputs": [
    {
     "name": "stdout",
     "output_type": "stream",
     "text": [
      "[6.69170120e-001 3.17516968e-001 1.32394983e-002 7.33555047e-005\n",
      " 5.90639332e-008 7.15556095e-012 1.32710520e-016 3.80665014e-022\n",
      " 1.69959544e-028 1.18655811e-035 1.29989937e-043 2.24052187e-052\n",
      " 6.08991310e-062 2.61570087e-072 1.77862497e-083 1.91780239e-095\n",
      " 3.28468821e-108 8.95113460e-122 3.88688279e-136 2.69405668e-151\n",
      " 2.98533409e-167 5.29738803e-184 1.50786706e-201 6.89657685e-220\n",
      " 5.07789398e-239 6.02938583e-259 1.15674542e-279 3.59258861e-301\n",
      " 0.00000000e+000 0.00000000e+000 0.00000000e+000 0.00000000e+000\n",
      " 0.00000000e+000 0.00000000e+000 0.00000000e+000 0.00000000e+000\n",
      " 0.00000000e+000 0.00000000e+000 0.00000000e+000 0.00000000e+000\n",
      " 0.00000000e+000]\n",
      "1.4943883039503862\n"
     ]
    }
   ],
   "source": [
    "ni_3, Z_3 = calc_lvlpops_partion(3., num_lvls, g, E, K_b_ev)\n",
    "print ni_3\n",
    "print Z_3\n"
   ]
  },
  {
   "cell_type": "code",
   "execution_count": null,
   "metadata": {},
   "outputs": [],
   "source": []
  },
  {
   "cell_type": "code",
   "execution_count": null,
   "metadata": {},
   "outputs": [],
   "source": []
  },
  {
   "cell_type": "code",
   "execution_count": null,
   "metadata": {},
   "outputs": [],
   "source": []
  }
 ],
 "metadata": {
  "kernelspec": {
   "display_name": "Python [conda env:py27]",
   "language": "python",
   "name": "conda-env-py27-py"
  },
  "language_info": {
   "codemirror_mode": {
    "name": "ipython",
    "version": 2
   },
   "file_extension": ".py",
   "mimetype": "text/x-python",
   "name": "python",
   "nbconvert_exporter": "python",
   "pygments_lexer": "ipython2",
   "version": "2.7.16"
  }
 },
 "nbformat": 4,
 "nbformat_minor": 2
}
