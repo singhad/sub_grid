{
 "cells": [
  {
   "cell_type": "code",
   "execution_count": 11,
   "metadata": {},
   "outputs": [
    {
     "ename": "ImportError",
     "evalue": "No module named pynbody",
     "output_type": "error",
     "traceback": [
      "\u001b[0;31m\u001b[0m",
      "\u001b[0;31mImportError\u001b[0mTraceback (most recent call last)",
      "\u001b[0;32m<ipython-input-11-80fd14ee424d>\u001b[0m in \u001b[0;36m<module>\u001b[0;34m()\u001b[0m\n\u001b[1;32m      2\u001b[0m \u001b[0;32mimport\u001b[0m \u001b[0mmatplotlib\u001b[0m\u001b[0;34m.\u001b[0m\u001b[0mpyplot\u001b[0m \u001b[0;32mas\u001b[0m \u001b[0mplt\u001b[0m\u001b[0;34m\u001b[0m\u001b[0m\n\u001b[1;32m      3\u001b[0m \u001b[0;32mimport\u001b[0m \u001b[0mmatplotlib\u001b[0m\u001b[0;34m.\u001b[0m\u001b[0mcolors\u001b[0m \u001b[0;32mas\u001b[0m \u001b[0mcm\u001b[0m\u001b[0;34m\u001b[0m\u001b[0m\n\u001b[0;32m----> 4\u001b[0;31m \u001b[0;32mimport\u001b[0m \u001b[0mpynbody\u001b[0m\u001b[0;34m\u001b[0m\u001b[0m\n\u001b[0m\u001b[1;32m      5\u001b[0m \u001b[0;31m# from michaels_functions import center_and_r_vir, remove_bulk_velocity\u001b[0m\u001b[0;34m\u001b[0m\u001b[0;34m\u001b[0m\u001b[0m\n\u001b[1;32m      6\u001b[0m \u001b[0;32mfrom\u001b[0m \u001b[0mmatplotlib\u001b[0m\u001b[0;34m.\u001b[0m\u001b[0mcolors\u001b[0m \u001b[0;32mimport\u001b[0m \u001b[0mLogNorm\u001b[0m\u001b[0;34m\u001b[0m\u001b[0m\n",
      "\u001b[0;31mImportError\u001b[0m: No module named pynbody"
     ]
    }
   ],
   "source": [
    "import numpy as np\n",
    "import matplotlib.pyplot as plt\n",
    "import matplotlib.colors as cm\n",
    "import pynbody\n",
    "# from michaels_functions import center_and_r_vir, remove_bulk_velocity\n",
    "from matplotlib.colors import LogNorm\n",
    "from matplotlib.pyplot import figure"
   ]
  },
  {
   "cell_type": "code",
   "execution_count": 4,
   "metadata": {},
   "outputs": [
    {
     "data": {
      "text/plain": [
       "6"
      ]
     },
     "execution_count": 4,
     "metadata": {},
     "output_type": "execute_result"
    }
   ],
   "source": [
    "a = [1, 2, 3]\n",
    "b = np.sum(a)\n",
    "b"
   ]
  },
  {
   "cell_type": "code",
   "execution_count": 2,
   "metadata": {},
   "outputs": [],
   "source": [
    "n_H_arr = pynbody.array.SimArray(np.load('outputs/sub_grid/n_H.npy'), \"cm**-3\")\n",
    "n_H2_arr = pynbody.array.SimArray(np.load('outputs/sub_grid/n_H2.npy'), \"cm**-3\")\n",
    "X_H2_arr = pynbody.array.SimArray(np.load('outputs/sub_grid/X_H2.npy'), \"1\")\n",
    "n_LW_arr = np.load('outputs/sub_grid/n_LW.npy')\n",
    "n_LW_ss_arr = np.load('outputs/sub_grid/n_LW_ss.npy')\n",
    "X_H2_ss_arr = pynbody.array.SimArray(np.load('outputs/sub_grid/X_H2_ss.npy'), \"1\")\n",
    "n_H2_ss_arr = pynbody.array.SimArray(np.load('outputs/sub_grid/n_H2_ss.npy'), \"cm**-3\")\n",
    "X_CO_arr = pynbody.array.SimArray(np.load('outputs/sub_grid/X_CO.npy'), \"1\")\n",
    "n_CO_arr = pynbody.array.SimArray(np.load('outputs/sub_grid/n_CO.npy'), \"cm**-3\")\n",
    "pdf_arr = np.load('outputs/sub_grid/pdf.npy')\n",
    "lambda_jeans_arr = pynbody.array.SimArray(np.load('outputs/sub_grid/lambda_jeans.npy'), \"cm\")"
   ]
  },
  {
   "cell_type": "code",
   "execution_count": 482,
   "metadata": {},
   "outputs": [
    {
     "name": "stdout",
     "output_type": "stream",
     "text": [
      "CPU times: user 650 µs, sys: 0 ns, total: 650 µs\n",
      "Wall time: 658 µs\n"
     ]
    }
   ],
   "source": [
    "%%time\n",
    "\n",
    "#Defining all the constants used in this whole program\n",
    "\n",
    "m_p = pynbody.array.SimArray(1.672621777e-24, \"g\")\n",
    "K_b = pynbody.array.SimArray(1.38064852e-16, \"cm**2 g s**-2 K**-1\")\n",
    "K_b_ev = pynbody.array.SimArray(8.617e-5, \"eV K**-1\")\n",
    "G = pynbody.array.SimArray(6.67259e-8, \"cm**3 g**-1 s**-2\")\n",
    "T_mean = pynbody.array.SimArray(10., \"K\")\n",
    "mach_no = pynbody.array.SimArray(10., \"1\")\n",
    "metallicity = 0.02/0.02\n",
    "G_o = 1\n",
    "n_H_mean = pynbody.array.SimArray(100., \"cm**-3\")\n",
    "# c_si = pynbody.array.SimArray(299792458, \"m s**-1\")\n",
    "c_cgs = pynbody.array.SimArray(2.99792458e10, \"cm s**-1\")\n",
    "h_ev = pynbody.array.SimArray(4.13566770e-15, \"eV s\")\n",
    "# h_si = pynbody.array.SimArray(6.626e-34, \"J s\")\n",
    "mH_cgs = pynbody.array.SimArray(1.6737236e-24, 'g')  # hydrogen mass\n",
    "T_bg = pynbody.array.SimArray(2.73, \"K\")\n",
    "eV = pynbody.array.SimArray(6.241509e18, \"J\")\n",
    "\n",
    "#pynbody.array.SimArray(, \"\")\n"
   ]
  },
  {
   "cell_type": "code",
   "execution_count": 390,
   "metadata": {},
   "outputs": [],
   "source": [
    "def get_filename(species):\n",
    "    # filename is already given\n",
    "    if (species[-4:] == '.dat') or (species[-4:] == '.txt'):\n",
    "        return species\n",
    "    # molecule is chosen\n",
    "    THIS_FOLDER = os.path.dirname(os.path.abspath(__file__))\n",
    "    database = os.path.join(THIS_FOLDER, 'LAMDA')\n",
    "    if species == 'HCO+':\n",
    "        filename = os.path.join(database, 'HCO+.dat')\n",
    "    elif species == 'H13CO+':\n",
    "        filename = os.path.join(database, 'H13CO+.dat')\n",
    "    elif species == 'N2H+':\n",
    "        filename = os.path.join(database, 'N2H+.dat')\n",
    "    elif species == 'SiO':\n",
    "        filename = os.path.join(database, 'SiO.dat')\n",
    "    elif species == 'HNC':\n",
    "        filename = os.path.join(database, 'HNC.dat')\n",
    "    elif species == 'HCN':\n",
    "        filename = os.path.join(database, 'HCN.dat')\n",
    "    elif species == 'CO':\n",
    "        filename = os.path.join(database, 'CO.dat')\n",
    "    else:\n",
    "        print('Unknow species. Chose from HCO+, H13CO+, N2H+, SiO, HNC, HCN, CO')\n",
    "        print('or provide a LAMDA datafile.')\n",
    "        exit()\n",
    "\n",
    "    return filename\n",
    "\n",
    "def read_file(species):\n",
    "    filename = get_filename(species)\n",
    "    f = open(filename, 'r')\n",
    "\n",
    "    f.readline()\n",
    "    species = f.readline()\n",
    "\n",
    "    f.readline()\n",
    "    mu = float(f.readline())  # molecular weight\n",
    "\n",
    "    f.readline()\n",
    "    num_lvls = int(f.readline())  # number of energy levels\n",
    "\n",
    "    # read energy levels: energy E, statistical weight g\n",
    "    f.readline()\n",
    "    E = []\n",
    "    g = []\n",
    "    for l in range(num_lvls):\n",
    "        words = f.readline().split()\n",
    "        E.append(float(words[1]) *c_cgs*h_ev) # cm^-1 -> eV\n",
    "        g.append(float(words[2]))\n",
    "\n",
    "    f.readline()\n",
    "    num_trans = int(f.readline())  # number of radiative transistions\n",
    "\n",
    "    # read transistions: upper lvl, lower lvl, A-coefficient, frequency\n",
    "    f.readline()\n",
    "    A = np.zeros((num_lvls, num_lvls))\n",
    "    freq = np.zeros((num_lvls, num_lvls))\n",
    "    for t in range(num_trans):\n",
    "        words = f.readline().split()\n",
    "        up = int(words[1]) - 1\n",
    "        low = int(words[2]) - 1\n",
    "        if up-low==1:\n",
    "            A[up][low] = float(words[3])  # s^-1\n",
    "            freq[up][low] = float(words[4]) * 1e9  # GHz -> Hz\n",
    "            #freq[low][up] = freq[up][low] #un-comment this only if low->up transitions are also allowed\n",
    "\n",
    "    # compute B-coefficient via Einstein relations\n",
    "    # Bij = coeff for stimulated emission, Bji = coeff for extinction (j<i)\n",
    "    B = np.zeros((num_lvls, num_lvls))\n",
    "    for i in range(0, num_lvls):\n",
    "        for j in range(0, i):\n",
    "            if A[i][j] != 0:\n",
    "                B[i][j] = A[i][j] * (c_cgs**2) / (2*h_ev * (freq[i][j])**3) # cm2/(eV*s)\n",
    "                B[j][i] = B[i][j] * g[i]/g[j]\n",
    "\n",
    "    # number of collision partners in the data file\n",
    "    f.readline()\n",
    "    num_partners = int(f.readline())\n",
    "\n",
    "    C_all = []\n",
    "    temps_all = []\n",
    "    for partner in range(num_partners):\n",
    "        # reference\n",
    "        f.readline()\n",
    "        line = f.readline()\n",
    "\n",
    "        # number of collisional transitions\n",
    "        f.readline()\n",
    "        num_coll = int(f.readline())\n",
    "\n",
    "        # number of temperatures in the table\n",
    "        f.readline()\n",
    "        num_temps = int(f.readline())\n",
    "\n",
    "        # read the temperature values\n",
    "        f.readline()\n",
    "        words = f.readline().split()\n",
    "        temps = np.zeros(num_temps)\n",
    "        for t in range(num_temps):\n",
    "            temps[t] = float(words[t])\n",
    "            temps_all.append(temps)  # K\n",
    "\n",
    "        # read collision coeff data: upper lvl, lower lvl, C-coefficient for each temp\n",
    "        C = np.zeros((num_temps, num_lvls, num_lvls))\n",
    "        f.readline()\n",
    "        for col in range(num_coll):\n",
    "            words = f.readline().split()\n",
    "            i = int(words[1]) - 1\n",
    "            j = int(words[2]) - 1\n",
    "            for t in range(num_temps):\n",
    "                C[t][i][j] = float(words[3+t]) #* 1.e-6 # cm3/s -> m3/s\n",
    "\n",
    "        # calculate the inverse coefficient via LTE relation\n",
    "        for i in range(num_lvls):\n",
    "            for j in range(i):\n",
    "                for t in range(num_temps):\n",
    "                    if C[t][i][j] != 0:\n",
    "                        C[t][j][i] = C[t][i][j] * np.exp(-(E[i]-E[j])/(K_b_ev*temps[t]))*g[i]/g[j]\n",
    "\n",
    "        # add collision partner data to global array\n",
    "        C_all.append(C)\n",
    "\n",
    "    f.close()\n",
    "    C_all = np.array(C_all) #cm3/s\n",
    "    temps_all = np.array(temps_all) #K\n",
    "    E = np.array(E) #eV\n",
    "    g = np.array(g) \n",
    "    freq = np.array(freq) #Hz\n",
    "    A = np.array(A) #s-1\n",
    "    B = np.array(B) #cm2/(eV*s)\n",
    "    return mu, num_lvls, E, g, freq, A, B, C_all, num_partners, temps_all, num_temps, num_coll\n",
    "\n",
    "''' Load preset abundances and fraction for collision coefficients\n",
    "    PARAMS:\n",
    "      species = string with the particle name\n",
    "    RETURNS:\n",
    "      comp_fracs = list with the fraction of total collision partner density for each partner\n",
    "      abundance = overall abundance of the molecule (assume n_mol = abundance*rho everywhere)'''\n",
    "def load_species_info(species):\n",
    "\n",
    "    if species == 'HCO+':\n",
    "        comp_fracs = [1.0] # only 1 collision partner in HCO data\n",
    "        abundance = 1.e-09 # = N_species/N_h2\n",
    "    elif species == 'H13CO+':\n",
    "        comp_fracs = [1.0] # only 1 collision partner in HCO data\n",
    "        abundance = 2.e-11\n",
    "    elif species == 'N2H+':\n",
    "        comp_fracs = [1.0] # only 1 collision partner in HCO data\n",
    "        abundance = 1.e-10\n",
    "    elif species == 'SiO': # is seems to be unusually slow\n",
    "        comp_fracs = [1.0] # only 1 collision partner in HCO data\n",
    "        abundance = 7.7e-12\n",
    "    elif species == 'HNC':\n",
    "        comp_fracs = [1.0] # only 1 collision partner in HCO data\n",
    "        abundance = 3.1e-10\n",
    "    elif species == 'HCN':\n",
    "        comp_fracs = [1.0, 0.0] # H2 and e\n",
    "        abundance = 3.1e-11\n",
    "    elif species == 'CO':\n",
    "        comp_fracs = [0.66, 0.33] # para H2 and orhto H2\n",
    "        #abundance = 1.e-4\n",
    "        abundance = 1.0 # dummy for filenames\n",
    "    else:\n",
    "        print 'ERROR: Unsupported species'\n",
    "        exit()\n",
    "\n",
    "    return comp_fracs, abundance\n",
    "\n",
    "''' Calculate net collision coeff for a gas consisting of different components at temp T\n",
    "    Interpolates table betweem T values\n",
    "    PARAMS:\n",
    "      T = temperature (K)\n",
    "      comp_fractions = fraction of the total density in each component\n",
    "    RETRUN:\n",
    "      C = netto collision coeff C[i][j] (m3/s) '''\n",
    "def calc_total_C(T, comp_fractions):\n",
    "    C = np.zeros((num_lvls,num_lvls))\n",
    "    for p in range(num_partners):\n",
    "        max_index = len(temps_all[p])\n",
    "        if T <= temps_all[p][0]: # T is lower than lowest value in table\n",
    "            for i in range(num_lvls):\n",
    "                for j in range(num_lvls):\n",
    "                    C[i][j] = C[i][j] + comp_fractions[p] * C_all[p][0][i][j]\n",
    "        elif T >= temps_all[p][max_index-1]: # T is higher than highest value in table\n",
    "            for i in range(num_lvls):\n",
    "                for j in range(num_lvls):\n",
    "                    C[i][j] = C[i][j] + comp_fractions[p] * C_all[p][max_index-1][i][j]\n",
    "        else: # determine temperature entries needed to interpolate\n",
    "            t = 1 # T index of upper limit\n",
    "            while temps_all[p][t] < T:\n",
    "                t = t+1\n",
    "            t_frac = (temps_all[p][t] - T)/(temps_all[p][t] - temps_all[p][t-1])\n",
    "            for i in range(num_lvls):\n",
    "                for j in range(num_lvls):\n",
    "                    interpol = (1-t_frac) * C_all[p][t][i][j] + t_frac * C_all[p][t-1][i][j]\n",
    "                    C[i][j] = C[i][j] + comp_fractions[p] * interpol\n",
    "\n",
    "    return C"
   ]
  },
  {
   "cell_type": "code",
   "execution_count": 391,
   "metadata": {},
   "outputs": [],
   "source": [
    "mu, num_lvls, E, g, freq, A, B, C_all, num_partners, temps_all, num_temps, n_coll = read_file('CO.txt')"
   ]
  },
  {
   "cell_type": "code",
   "execution_count": 392,
   "metadata": {},
   "outputs": [],
   "source": [
    "comp_fractions, abundance = load_species_info('CO')"
   ]
  },
  {
   "cell_type": "code",
   "execution_count": 393,
   "metadata": {},
   "outputs": [],
   "source": [
    "# calc netto collision coeffs\n",
    "C = calc_total_C(T_mean, comp_fractions)"
   ]
  },
  {
   "cell_type": "code",
   "execution_count": 394,
   "metadata": {},
   "outputs": [],
   "source": [
    "''' calculate the partition function\n",
    "    PARAMS:\n",
    "      T = temperature (K)\n",
    "      num_lvls = number of energy levels\n",
    "      g = statistical weight of each level\n",
    "      E = energy of each level (eV)'''\n",
    "def partion_function(T, num_lvls, g, E):\n",
    "    Z=0.0\n",
    "    for i in range(0,num_lvls):\n",
    "        Z = Z + g[i]*np.exp(-E[i]/(K_b_ev*T))\n",
    "    return np.array(Z)\n",
    "\n",
    "''' calculate LTE occupation numbers with partition function method\n",
    "    PARAMS:\n",
    "      T = temperature (K)\n",
    "      num_lvls = number of energy levels\n",
    "      g = statistical weight of each level\n",
    "      E = energy of each level (eV)\n",
    "    RETURN:\n",
    "      ni = level populations '''\n",
    "def calc_lvlpops_partion(T, num_lvls, g, E):\n",
    "    ni = np.zeros(num_lvls)\n",
    "    Z = partion_function(T, num_lvls, g, E)\n",
    "    for i in range(0, num_lvls):\n",
    "        ni[i] = g[i]*np.exp(-E[i]/(K_b_ev*T)) / Z\n",
    "    return np.array(ni), Z"
   ]
  },
  {
   "cell_type": "code",
   "execution_count": 395,
   "metadata": {},
   "outputs": [],
   "source": [
    "''' Optical depth in LVG approximation for line ij '''\n",
    "def tau_LVG(N, nu_ij, lambda_jeans, n_i, n_j, B_ij, B_ji, c_s):\n",
    "    # units: eV*s * 1/s * cm * 1/cm3 * cm2/(eV*s) * 1/(1/s) = none\n",
    "    delta_nu = c_s*nu_ij/c_cgs #units: 1/s\n",
    "    return h_ev*nu_ij*lambda_jeans*N*((n_j*B_ji)-(n_i*B_ij)) / (4*np.pi*delta_nu)\n",
    "\n",
    "''' Escape probability in LVG approximation for line ij\n",
    "    PARAMS:\n",
    "      tau = optical depth'''\n",
    "def beta_LVG(tau):\n",
    "    if tau < 0.01:\n",
    "        return 1. - tau/2.\n",
    "    elif tau > 100.:\n",
    "        return 1./tau\n",
    "    else:\n",
    "        return (1.0 - np.exp(-tau)) / tau"
   ]
  },
  {
   "cell_type": "code",
   "execution_count": 396,
   "metadata": {},
   "outputs": [],
   "source": [
    "''' total emissivity of transition i-j in W/m3/sr\n",
    "    J = integral j dv = integral cst phi(v) dv = cst integral phi dv = cst * 1\n",
    "    Remark that v_ij is constant! '''\n",
    "def integrated_emissivity(nu_ij, N, n_i, A_ij, beta):\n",
    "    # units: eV*s * Hz * sr-1 * cm-3 * s-1 = eV/s/cm3/sr\n",
    "    return h_ev*nu_ij * N * n_i * A_ij * beta /(4*np.pi)\n",
    "\n",
    "\n",
    "''' total extinction of transition i-j in 1/m/sr/s\n",
    "    B in m2/(eV*s) '''\n",
    "def integrated_extinction(nu_ij, n_i, n_j, N, B_ij, B_ji):\n",
    "    # units: eV*s * Hz * sr-1 * cm2/(eV*s) * cm-3 = 1/cm/sr/s\n",
    "    return h_ev*nu_ij * (n_j*B_ji - n_i*B_ij) * N /(4*np.pi)\n",
    "\n",
    "\n",
    "''' Source function of transision i-j for optically thick media S=j/a in eV/s/Hz/m2 '''\n",
    "def source_function_thick(nu_ij, n_i, n_j, N, A_ij, B_ij, B_ji, beta):\n",
    "    j = integrated_emissivity(nu_ij, n_i, N, A_ij, beta)\n",
    "    a = integrated_extinction(nu_ij, n_i, n_j, N, B_ij, B_ji)\n",
    "    # units: (eV/s/cm3/sr) / (1/cm/sr/s) = eV/cm2 = eV/s/Hz/cm2\n",
    "    return j/a"
   ]
  },
  {
   "cell_type": "code",
   "execution_count": 397,
   "metadata": {},
   "outputs": [],
   "source": [
    "ni, Z = calc_lvlpops_partion(T_mean, num_lvls, g, E)\n",
    "ni = pynbody.array.SimArray(ni, \"1\")"
   ]
  },
  {
   "cell_type": "code",
   "execution_count": 398,
   "metadata": {},
   "outputs": [
    {
     "data": {
      "text/plain": [
       "SimArray([2.52017487e-001, 4.34795086e-001, 2.39667991e-001,\n",
       "          6.38216272e-002, 8.97709269e-003, 6.90457567e-004,\n",
       "          2.95393325e-005, 7.09896716e-007, 9.64241750e-009,\n",
       "          7.43330273e-011, 3.26207207e-013, 8.16734404e-016,\n",
       "          1.16871166e-018, 9.57186337e-022, 4.49229935e-025,\n",
       "          1.20936783e-028, 1.86926692e-032, 1.66025033e-036,\n",
       "          8.47975516e-041, 2.49245900e-045, 4.21896986e-050,\n",
       "          4.11533610e-055, 2.31481079e-060, 7.51303337e-066,\n",
       "          1.40798479e-071, 1.52452830e-077, 9.54371962e-084,\n",
       "          3.45643258e-090, 7.24698794e-097, 8.80259880e-104,\n",
       "          6.19844692e-111, 2.53207907e-118, 6.00492045e-126,\n",
       "          8.27362646e-134, 6.62771460e-142, 3.08921640e-150,\n",
       "          8.38477294e-159, 1.32625363e-167, 1.22355605e-176,\n",
       "          6.58930346e-186, 2.07319680e-195], '1.00e+00')"
      ]
     },
     "execution_count": 398,
     "metadata": {},
     "output_type": "execute_result"
    }
   ],
   "source": [
    "ni"
   ]
  },
  {
   "cell_type": "code",
   "execution_count": 473,
   "metadata": {},
   "outputs": [
    {
     "data": {
      "text/plain": [
       "SimArray([2.13242641e-005, 3.67898489e-005, 2.02793211e-005,\n",
       "          5.40021747e-006, 7.59589734e-007, 5.84225314e-008,\n",
       "          2.49944770e-009, 6.00673599e-011, 8.15885677e-013,\n",
       "          6.28963144e-015, 2.76017698e-017, 6.91073480e-020,\n",
       "          9.88896309e-023, 8.09915793e-026, 3.80112425e-029,\n",
       "          1.02329721e-032, 1.58166570e-036, 1.40480794e-040,\n",
       "          7.17507905e-045, 2.10897485e-049, 3.56984862e-054,\n",
       "          3.48215971e-059, 1.95865919e-064, 6.35709490e-070,\n",
       "          1.19135540e-075, 1.28996780e-081, 8.07534432e-088,\n",
       "          2.92463362e-094, 6.13198263e-101, 7.44825069e-108,\n",
       "          5.24476777e-115, 2.14249906e-122, 5.08101686e-130,\n",
       "          7.00066484e-138, 5.60798929e-146, 2.61391649e-154,\n",
       "          7.09471058e-163, 1.12219922e-171, 1.03530246e-180,\n",
       "          5.57548801e-190, 1.75421939e-199], 'cm**-3')"
      ]
     },
     "execution_count": 473,
     "metadata": {},
     "output_type": "execute_result"
    }
   ],
   "source": [
    "N = n_CO_arr[69]\n",
    "Ni = pynbody.array.SimArray(ni*N, \"cm**-3\")\n",
    "Ni"
   ]
  },
  {
   "cell_type": "code",
   "execution_count": 472,
   "metadata": {},
   "outputs": [
    {
     "data": {
      "text/plain": [
       "8.461422423209986e-05"
      ]
     },
     "execution_count": 472,
     "metadata": {},
     "output_type": "execute_result"
    }
   ],
   "source": [
    "n_CO_arr[69]"
   ]
  },
  {
   "cell_type": "code",
   "execution_count": 467,
   "metadata": {},
   "outputs": [
    {
     "data": {
      "text/plain": [
       "array([0.        , 0.00047672, 0.00143015, 0.00286026, 0.00476696,\n",
       "       0.00715021, 0.01000992, 0.01334596, 0.01715821, 0.02144655,\n",
       "       0.02621077, 0.03145072, 0.0371662 , 0.04335697, 0.05002281,\n",
       "       0.05716347, 0.06477867, 0.0728681 , 0.08143148, 0.09046847,\n",
       "       0.09997872, 0.10996188, 0.12041756, 0.13134537, 0.14274487,\n",
       "       0.15461564, 0.16695722, 0.17976914, 0.19305093, 0.20680204,\n",
       "       0.22102197, 0.23571017, 0.25086609, 0.26648914, 0.28257872,\n",
       "       0.29913422, 0.31615499, 0.3336404 , 0.35158977, 0.37000241,\n",
       "       0.38887762])"
      ]
     },
     "execution_count": 467,
     "metadata": {},
     "output_type": "execute_result"
    }
   ],
   "source": [
    "E"
   ]
  },
  {
   "cell_type": "code",
   "execution_count": 474,
   "metadata": {},
   "outputs": [
    {
     "data": {
      "text/plain": [
       "5.733344820014142e+17"
      ]
     },
     "execution_count": 474,
     "metadata": {},
     "output_type": "execute_result"
    }
   ],
   "source": [
    "lambda_jeans = lambda_jeans_arr[69]\n",
    "lambda_jeans"
   ]
  },
  {
   "cell_type": "code",
   "execution_count": 469,
   "metadata": {},
   "outputs": [],
   "source": [
    "def B_nu_ev(nu, T):\n",
    "    if nu==0.:\n",
    "        return 0.\n",
    "    if nu>1:\n",
    "        x = h_ev*nu/(K_b_ev*T) #units: none\n",
    "        #units: eV*s * Hz3 / (cm2/s2) = eV * s3 * Hz3 * cm-2 = eV/s/Hz/cm2 = eV/cm2\n",
    "        B_nu_ev = 2.0*h_ev*(nu**3) / ((c_cgs**2) * (np.exp(x)-1.0))\n",
    "        return B_nu_ev"
   ]
  },
  {
   "cell_type": "code",
   "execution_count": 483,
   "metadata": {},
   "outputs": [],
   "source": [
    "def LTE_solver(I_nu_bg, B_nu, beta):\n",
    "    return (((1-beta)*B_nu) + beta*I_nu_bg)\n",
    "\n",
    "c_s = np.sqrt(K_b * T_mean/(mH_cgs*mu))\n",
    "tau_RT = np.zeros((num_lvls, num_lvls))\n",
    "beta_RT = np.zeros((num_lvls, num_lvls))\n",
    "B_nu = np.zeros((num_lvls, num_lvls))\n",
    "I_nu = np.zeros((num_lvls, num_lvls))\n",
    "I_nu_bg = np.zeros((num_lvls, num_lvls))\n",
    "S_nu = np.zeros((num_lvls, num_lvls))\n",
    "for i in range(1, num_lvls):\n",
    "    for j in range(0, num_lvls):\n",
    "        if (i-j==1) & (freq[i][j] != 0.0) :\n",
    "            tau_RT[i][j] = tau_LVG(N, freq[i][j], lambda_jeans, ni[i], ni[j], B[i][j], B[j][i], c_s)\n",
    "            beta_RT[i][j] = beta_LVG(tau_RT[i][j])\n",
    "            B_nu[i][j] = B_nu_ev(freq[i][j], T_mean)\n",
    "            I_nu_bg[i][j] = B_nu_ev(freq[i][j], T_bg)\n",
    "            I_nu[i][j] = LTE_solver(I_nu_bg[i][j], B_nu[i][j], beta_RT[i][j])\n",
    "            S_nu[i][j] = source_function_thick(freq[i][j], ni[i], ni[j], N, A[i][j], B[i][j], B[j][i], beta_RT[i][j])\n",
    "                \n",
    "                "
   ]
  },
  {
   "cell_type": "code",
   "execution_count": 484,
   "metadata": {},
   "outputs": [
    {
     "name": "stdout",
     "output_type": "stream",
     "text": [
      "up low freq              B_nu                 I_nu                  tau                  beta\n",
      "1  0  115271201800.0  0.019077796423410526  0.0033087233706474975    0.14476283034529422    0.9309884671278428\n",
      "2  1  230538000000.0  0.05572312778847268  0.008457425800168086    0.26208170838217787    0.8796945450629535\n",
      "3  2  345795989900.0  0.08938338996383356  0.007480669717655365    0.15722550753683748    0.9253502433406339\n",
      "4  3  461040768200.0  0.1107880065798199  0.0026562975509263286    0.043772998810195834    0.9784293821897991\n",
      "5  4  576267930500.0  0.11827198818639421  0.00044163578145118236    0.006285700466042902    0.9968571497669786\n",
      "6  5  691473076300.0  0.11428544130052828  4.38192094331791e-05    0.00048708653230744657    0.9997564567338463\n",
      "7  6  806651806000.0  0.10274870601234323  4.422070738662732e-06    2.084885807765604e-05    0.9999895755709611\n",
      "8  7  921799700000.0  0.08744055653825984  6.823199448160692e-07    4.992471706925498e-07    0.9999997503764146\n",
      "9  8  1036912393000.0001  0.07126266569253996  1.2448979023681925e-07    6.7424149608225855e-09    0.9999999966287925\n",
      "10  9  1151985452000.0  0.056084697397179105  2.253462344782367e-08    5.1597625670050314e-11    0.9999999999742012\n",
      "11  10  1267014486000.0  0.04288957635127596  3.968036413178107e-09    2.248521261843e-13    0.9999999999998875\n",
      "12  11  1381995105000.0  0.032021604369117204  6.821321151834858e-10    5.584108893973087e-16    0.9999999999999997\n",
      "13  12  1496922909000.0  0.023427593982887903  1.1493945159961033e-10    7.926455935674853e-19    1.0\n",
      "14  13  1611793518000.0  0.016845566264558406  1.9043972990681606e-11    6.441065878996831e-22    1.0\n",
      "15  14  1726602505700.0  0.011933015364087593  3.1105375608181483e-12    2.997519131530903e-25    1.0\n",
      "16  15  1841345506000.0  0.008343846284655775  5.018766975840755e-13    8.001101264517855e-29    1.0\n",
      "17  16  1956018139000.0  0.005768099033208152  8.012718530098914e-14    1.2256899764587905e-32    1.0\n",
      "18  17  2070615993000.0  0.0039476039852863855  1.2676546880538795e-14    1.0787835527897807e-36    1.0\n",
      "19  18  2185134680000.0  0.002677699606466973  1.989676029755647e-15    5.458509989795598e-41    1.0\n",
      "20  19  2299569842000.0  0.0018019271505661945  3.1014924809564787e-16    1.588773910778389e-45    1.0\n",
      "21  20  2413917113000.0  0.0012039820953271164  4.8056508239310695e-17    2.6624481579149503e-50    1.0\n",
      "22  21  2528172060000.0  0.0007993225906115533  7.407372119784762e-18    2.569083029561156e-55    1.0\n",
      "23  22  2642330345900.0  0.0005276123795061511  1.1365871924786993e-18    1.4302596536214628e-60    1.0\n",
      "24  23  2756387584000.0  0.000346447128010229  1.7371243962378232e-19    4.5908599296090055e-66    1.0\n",
      "25  24  2870339407000.0  0.00022641140799194273  2.6459602614036255e-20    8.502915679971682e-72    1.0\n",
      "26  25  2984181455000.0  0.00014732810775153335  4.018563793918441e-21    9.09413325157811e-78    1.0\n",
      "27  26  3097909361000.0  9.549165681770256e-05  6.088136957815214e-22    5.620961146508391e-84    1.0\n",
      "28  27  3211518750600.0  6.167187461919929e-05  9.204446191308782e-23    2.0103122588900653e-90    1.0\n",
      "29  28  3325005282700.0  3.969952818803862e-05  1.389214482588834e-23    4.156941313921704e-97    1.0\n",
      "30  29  3438364611000.0  2.5478967725261398e-05  2.0938486193758976e-24    4.9792171401319844e-104    1.0\n",
      "31  30  3551592361000.0  1.6307499252691758e-05  3.152540337102162e-25    3.455943252701498e-111    1.0\n",
      "32  31  3664684180000.0  1.041125315305567e-05  4.7428635272695615e-26    1.3910756191892966e-118    1.0\n",
      "33  32  3777635728000.0  6.631645092682885e-06  7.131843915730403e-27    3.2477143841530484e-126    1.0\n",
      "34  33  3890442717000.0  4.215286843900496e-06  1.0721437472938165e-27    4.402200880931277e-134    1.0\n",
      "35  34  4003100787600.0  2.674231784583599e-06  1.611746949292337e-28    3.467576414819409e-142    1.0\n",
      "36  35  4115605585000.0005  1.6935951790762304e-06  2.423427961899311e-29    1.5882808545483004e-150    1.0\n",
      "37  36  4227952774399.9995  1.0708438670354898e-06  3.645391568887073e-30    4.2354556530295217e-159    1.0\n",
      "38  37  4340138111999.9995  6.761003869728586e-07  5.4868757668003e-31    6.574997968313355e-168    1.0\n",
      "39  38  4452157122100.0  4.2630795293526556e-07  8.265259968804223e-32    5.949576347202176e-177    1.0\n",
      "40  39  4564005639900.0  2.684833287032339e-07  1.246280772478271e-32    3.1411985042656346e-186    1.0\n"
     ]
    }
   ],
   "source": [
    "print \"up low freq              B_nu                 I_nu                  tau                  beta\"\n",
    "for i in range(1, num_lvls):\n",
    "    for j in range(0, num_lvls):\n",
    "        if (i-j==1) & (freq[i][j] != 0.0) :\n",
    "                print i,\"\", j,\"\",freq[i][j],\"\",B_nu[i][j],\"\",I_nu[i][j],\"  \",tau_RT[i][j],\"  \",beta_RT[i][j]\n",
    "                \n",
    "                "
   ]
  },
  {
   "cell_type": "code",
   "execution_count": 485,
   "metadata": {},
   "outputs": [
    {
     "data": {
      "text/plain": [
       "SimArray(5427.76055106, 'cm s**-1')"
      ]
     },
     "execution_count": 485,
     "metadata": {},
     "output_type": "execute_result"
    }
   ],
   "source": [
    "c_s"
   ]
  },
  {
   "cell_type": "code",
   "execution_count": null,
   "metadata": {},
   "outputs": [],
   "source": []
  },
  {
   "cell_type": "code",
   "execution_count": null,
   "metadata": {},
   "outputs": [],
   "source": []
  },
  {
   "cell_type": "code",
   "execution_count": 481,
   "metadata": {},
   "outputs": [
    {
     "data": {
      "image/png": "[encoded data removed]",
      "text/plain": [
       "<Figure size 648x360 with 1 Axes>"
      ]
     },
     "metadata": {
      "needs_background": "light"
     },
     "output_type": "display_data"
    }
   ],
   "source": [
    "plt.figure(figsize=(9,5))\n",
    "# for i in range(0, num_lvls):\n",
    "#         for j in range(0, num_lvls):\n",
    "#             if freq[i][j] != 0.0:\n",
    "plt.scatter(freq, tau_RT, c='b',\n",
    "            s=50, label='tau_RT')\n",
    "plt.xlabel('freq (Hz)')\n",
    "plt.ylabel('$tau_RT$')\n",
    "plt.grid(b=True, which='both', axis='both')\n",
    "plt.title('LTE : freq (Hz) vs $tau_RT$')\n",
    "plt.legend()\n",
    "plt.savefig('radiative_transfer/outputs_RT/1.0/LTE_freq_vs_tau_RT.png', \n",
    "            dpi=300, bbox_inches='tight')\n",
    "plt.show()"
   ]
  },
  {
   "cell_type": "code",
   "execution_count": 428,
   "metadata": {},
   "outputs": [
    {
     "data": {
      "image/png": "[encoded data removed]",
      "text/plain": [
       "<Figure size 648x360 with 1 Axes>"
      ]
     },
     "metadata": {
      "needs_background": "light"
     },
     "output_type": "display_data"
    }
   ],
   "source": [
    "plt.figure(figsize=(9,5))\n",
    "# for i in range(0, num_lvls):\n",
    "#         for j in range(0, num_lvls):\n",
    "#             if freq[i][j] != 0.0:\n",
    "plt.scatter(freq, beta_RT, c='r',\n",
    "            s=50, label='beta_RT')\n",
    "plt.xlabel('freq (Hz)')\n",
    "plt.ylabel('$beta_RT$')\n",
    "plt.grid(b=True, which='both', axis='both')\n",
    "plt.title('LTE : freq (Hz) vs $beta_RT$')\n",
    "plt.legend()\n",
    "plt.savefig('radiative_transfer/outputs_RT/1.0/LTE_freq_vs_beta_RT.png', \n",
    "            dpi=300, bbox_inches='tight')\n",
    "plt.show()"
   ]
  },
  {
   "cell_type": "code",
   "execution_count": 438,
   "metadata": {},
   "outputs": [
    {
     "data": {
      "image/png": "[encoded data removed]",
      "text/plain": [
       "<Figure size 648x360 with 1 Axes>"
      ]
     },
     "metadata": {
      "needs_background": "light"
     },
     "output_type": "display_data"
    }
   ],
   "source": [
    "plt.figure(figsize=(9,5))\n",
    "# for i in range(0, num_lvls):\n",
    "#         for j in range(0, num_lvls):\n",
    "#             if freq[i][j] != 0.0:\n",
    "plt.scatter(freq, B_nu, c='r', marker='s',\n",
    "            s=50, label='B_nu (black-body)')\n",
    "plt.scatter(freq, I_nu, c='y', marker='*', edgecolors = 'k',\n",
    "            s=200, label='I_nu')\n",
    "plt.scatter(freq, I_nu_bg, c='g', marker='s',\n",
    "            s=25, label='Background')\n",
    "\n",
    "# plt.scatter(freq, S_nu, c='b',\n",
    "#             label='S_nu')\n",
    "plt.xlabel('freq (Hz)')\n",
    "plt.ylabel('$Intensity{LTE}$ (eV/s/Hz/cm2)')\n",
    "plt.grid(b=True, which='both', axis='both')\n",
    "plt.title('LTE : freq (Hz) vs $Intensity{LTE}$ (eV/s/Hz/cm2)')\n",
    "plt.legend()\n",
    "plt.savefig('radiative_transfer/outputs_RT/1.0/LTE_freq_vs_Intensity.png', \n",
    "            dpi=300, bbox_inches='tight')\n",
    "plt.show()"
   ]
  },
  {
   "cell_type": "code",
   "execution_count": 439,
   "metadata": {},
   "outputs": [
    {
     "name": "stderr",
     "output_type": "stream",
     "text": [
      "/net/cephfs/home/mkrets/anaconda2/lib/python2.7/site-packages/ipykernel_launcher.py:5: RuntimeWarning: divide by zero encountered in log10\n",
      "  \"\"\"\n",
      "/net/cephfs/home/mkrets/anaconda2/lib/python2.7/site-packages/ipykernel_launcher.py:7: RuntimeWarning: divide by zero encountered in log10\n",
      "  import sys\n",
      "/net/cephfs/home/mkrets/anaconda2/lib/python2.7/site-packages/ipykernel_launcher.py:9: RuntimeWarning: divide by zero encountered in log10\n",
      "  if __name__ == '__main__':\n"
     ]
    },
    {
     "data": {
      "image/png": "[encoded data removed]",
      "text/plain": [
       "<Figure size 648x360 with 1 Axes>"
      ]
     },
     "metadata": {
      "needs_background": "light"
     },
     "output_type": "display_data"
    }
   ],
   "source": [
    "plt.figure(figsize=(9,5))\n",
    "# for i in range(0, num_lvls):\n",
    "#         for j in range(0, num_lvls):\n",
    "#             if freq[i][j] != 0.0:\n",
    "plt.scatter(np.log10(freq), np.log10(B_nu), c='r', marker='s',\n",
    "            s=50, label='B_nu (black-body)')\n",
    "plt.scatter(np.log10(freq), np.log10(I_nu), c='y', marker='*', edgecolors = 'k',\n",
    "            s=200, label='I_nu')\n",
    "plt.scatter(np.log10(freq), np.log10(I_nu_bg), c='g', marker='s',\n",
    "            s=25, label='Background')\n",
    "\n",
    "# plt.scatter(np.log10(freq), np.log10(S_nu), c='b',\n",
    "#             label='S_nu')\n",
    "plt.xlabel('log(freq) (Hz)')\n",
    "plt.ylabel('$log(Intensity{LTE})$ (eV/s/Hz/cm2)')\n",
    "plt.grid(b=True, which='both', axis='both')\n",
    "plt.title('LTE : log(freq) (Hz) vs $log(Intensity{LTE})$ (eV/s/Hz/cm2)')\n",
    "plt.legend()\n",
    "plt.savefig('radiative_transfer/outputs_RT/1.0/LTE_log(freq)_vs_log(Intensity).png', \n",
    "            dpi=300, bbox_inches='tight')\n",
    "plt.show()"
   ]
  },
  {
   "cell_type": "code",
   "execution_count": null,
   "metadata": {},
   "outputs": [],
   "source": []
  },
  {
   "cell_type": "code",
   "execution_count": null,
   "metadata": {},
   "outputs": [],
   "source": []
  },
  {
   "cell_type": "code",
   "execution_count": null,
   "metadata": {},
   "outputs": [],
   "source": []
  },
  {
   "cell_type": "code",
   "execution_count": null,
   "metadata": {},
   "outputs": [],
   "source": []
  },
  {
   "cell_type": "code",
   "execution_count": null,
   "metadata": {},
   "outputs": [],
   "source": []
  },
  {
   "cell_type": "code",
   "execution_count": null,
   "metadata": {},
   "outputs": [],
   "source": []
  },
  {
   "cell_type": "code",
   "execution_count": null,
   "metadata": {},
   "outputs": [],
   "source": []
  },
  {
   "cell_type": "code",
   "execution_count": 385,
   "metadata": {},
   "outputs": [
    {
     "name": "stdout",
     "output_type": "stream",
     "text": [
      "2.61769644354102e-05\n",
      "4.2232815275574764e-05\n",
      "0.00011292127596552483\n",
      "0.000502730777384833\n",
      "0.0037374953987624536\n",
      "0.04259176259806585\n",
      "0.09754099033824644\n",
      "0.08733077001412255\n",
      "0.07126071582152091\n",
      "0.05608529302703629\n",
      "0.04288956703402626\n",
      "0.03202139244079228\n",
      "0.023427576026969443\n",
      "0.016845744666386706\n",
      "0.011932920303414467\n",
      "0.008343798565541672\n",
      "0.005768161089224785\n",
      "0.003947571081518414\n",
      "0.002677705393879109\n",
      "0.0018019393991469317\n",
      "0.0012039809466303658\n",
      "0.0007993234839979725\n",
      "0.0005276080197721099\n",
      "0.00034644977516194345\n",
      "0.00022641118147729452\n",
      "0.00014732846221358081\n",
      "9.549136407811139e-05\n",
      "6.167128276127608e-05\n",
      "3.9699725977291826e-05\n",
      "2.5479106538455285e-05\n",
      "1.6307494660747505e-05\n",
      "1.041120707582439e-05\n",
      "6.6316510743168925e-06\n",
      "4.215265227746809e-06\n",
      "2.674231970154111e-06\n",
      "1.6936120467614498e-06\n",
      "1.0708323599441778e-06\n",
      "6.761027385566279e-07\n",
      "4.26309439559761e-07\n",
      "2.6848240973935085e-07\n"
     ]
    }
   ],
   "source": [
    "for i in range(0, num_lvls):\n",
    "    for j in range(0, num_lvls):\n",
    "        if (i-j==1) & (freq[i][j] != 0.0) :\n",
    "            print S_nu[i][j]"
   ]
  },
  {
   "cell_type": "code",
   "execution_count": null,
   "metadata": {},
   "outputs": [],
   "source": []
  },
  {
   "cell_type": "code",
   "execution_count": null,
   "metadata": {},
   "outputs": [],
   "source": []
  },
  {
   "cell_type": "code",
   "execution_count": 453,
   "metadata": {},
   "outputs": [
    {
     "name": "stdout",
     "output_type": "stream",
     "text": [
      "99\n"
     ]
    }
   ],
   "source": [
    "for m in range(0, 100):\n",
    "    if n_CO_arr[m]==2.60688791e-04:\n",
    "        break\n",
    "\n",
    "print m"
   ]
  },
  {
   "cell_type": "code",
   "execution_count": 457,
   "metadata": {},
   "outputs": [
    {
     "data": {
      "text/plain": [
       "0.00026068879149019003"
      ]
     },
     "execution_count": 457,
     "metadata": {},
     "output_type": "execute_result"
    }
   ],
   "source": [
    "n_CO_arr[70]"
   ]
  },
  {
   "cell_type": "code",
   "execution_count": null,
   "metadata": {},
   "outputs": [],
   "source": []
  },
  {
   "cell_type": "code",
   "execution_count": null,
   "metadata": {},
   "outputs": [],
   "source": []
  },
  {
   "cell_type": "code",
   "execution_count": null,
   "metadata": {},
   "outputs": [],
   "source": []
  },
  {
   "cell_type": "code",
   "execution_count": null,
   "metadata": {},
   "outputs": [],
   "source": []
  },
  {
   "cell_type": "code",
   "execution_count": 157,
   "metadata": {},
   "outputs": [],
   "source": [
    "import pandas as pd"
   ]
  },
  {
   "cell_type": "code",
   "execution_count": 250,
   "metadata": {},
   "outputs": [],
   "source": [
    "for i in range(0, num_lvls):\n",
    "    for j in range(0, num_lvls):\n",
    "            if freq[i][j] != 0.0:\n",
    "                data = [\n",
    "                   [freq[i][j]],\n",
    "                   [B_nu[i][j]],\n",
    "                   [I_nu[i][j]],\n",
    "                   [tau_RT[i][j]],\n",
    "                   [beta_RT[i][j]],\n",
    "                   [S_nu[i][j]]\n",
    "                ]\n",
    "df = pd.DataFrame.from_dict(data)"
   ]
  },
  {
   "cell_type": "code",
   "execution_count": 251,
   "metadata": {},
   "outputs": [
    {
     "data": {
      "text/html": [
       "<div>\n",
       "<style scoped>\n",
       "    .dataframe tbody tr th:only-of-type {\n",
       "        vertical-align: middle;\n",
       "    }\n",
       "\n",
       "    .dataframe tbody tr th {\n",
       "        vertical-align: top;\n",
       "    }\n",
       "\n",
       "    .dataframe thead th {\n",
       "        text-align: right;\n",
       "    }\n",
       "</style>\n",
       "<table border=\"1\" class=\"dataframe\">\n",
       "  <thead>\n",
       "    <tr style=\"text-align: right;\">\n",
       "      <th></th>\n",
       "      <th>0</th>\n",
       "    </tr>\n",
       "  </thead>\n",
       "  <tbody>\n",
       "    <tr>\n",
       "      <th>0</th>\n",
       "      <td>4.564006e+12</td>\n",
       "    </tr>\n",
       "    <tr>\n",
       "      <th>1</th>\n",
       "      <td>4.698882e-05</td>\n",
       "    </tr>\n",
       "    <tr>\n",
       "      <th>2</th>\n",
       "      <td>2.181188e-30</td>\n",
       "    </tr>\n",
       "    <tr>\n",
       "      <th>3</th>\n",
       "      <td>0.000000e+00</td>\n",
       "    </tr>\n",
       "    <tr>\n",
       "      <th>4</th>\n",
       "      <td>1.000000e+00</td>\n",
       "    </tr>\n",
       "    <tr>\n",
       "      <th>5</th>\n",
       "      <td>NaN</td>\n",
       "    </tr>\n",
       "  </tbody>\n",
       "</table>\n",
       "</div>"
      ],
      "text/plain": [
       "              0\n",
       "0  4.564006e+12\n",
       "1  4.698882e-05\n",
       "2  2.181188e-30\n",
       "3  0.000000e+00\n",
       "4  1.000000e+00\n",
       "5           NaN"
      ]
     },
     "execution_count": 251,
     "metadata": {},
     "output_type": "execute_result"
    }
   ],
   "source": [
    "df"
   ]
  },
  {
   "cell_type": "code",
   "execution_count": 249,
   "metadata": {},
   "outputs": [
    {
     "ename": "SyntaxError",
     "evalue": "invalid syntax (<ipython-input-249-84cc55901e8b>, line 2)",
     "output_type": "error",
     "traceback": [
      "\u001b[0;36m  File \u001b[0;32m\"<ipython-input-249-84cc55901e8b>\"\u001b[0;36m, line \u001b[0;32m2\u001b[0m\n\u001b[0;31m    'freq':freq[i][j],\u001b[0m\n\u001b[0m          ^\u001b[0m\n\u001b[0;31mSyntaxError\u001b[0m\u001b[0;31m:\u001b[0m invalid syntax\n"
     ]
    }
   ],
   "source": [
    "data = [\n",
    "                   'freq':freq[i][j],\n",
    "                   'B_nu':B_nu[i][j],\n",
    "                   'I_nu':I_nu[i][j],\n",
    "                   'tau_RT':tau_RT[i][j],\n",
    "                   'beta_RT':beta_RT[i][j],\n",
    "                   'S_nu':S_nu[i][j]\n",
    "                ]"
   ]
  },
  {
   "cell_type": "code",
   "execution_count": null,
   "metadata": {},
   "outputs": [],
   "source": []
  }
 ],
 "metadata": {
  "kernelspec": {
   "display_name": "Python 2",
   "language": "python",
   "name": "python2"
  },
  "language_info": {
   "codemirror_mode": {
    "name": "ipython",
    "version": 2
   },
   "file_extension": ".py",
   "mimetype": "text/x-python",
   "name": "python",
   "nbconvert_exporter": "python",
   "pygments_lexer": "ipython2",
   "version": "2.7.16"
  }
 },
 "nbformat": 4,
 "nbformat_minor": 2
}
