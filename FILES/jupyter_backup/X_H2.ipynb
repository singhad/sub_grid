{
 "cells": [
  {
   "cell_type": "code",
   "execution_count": null,
   "metadata": {
    "scrolled": true
   },
   "outputs": [],
   "source": [
    "import numpy as np\n",
    "import matplotlib.pyplot as plt\n",
    "import pynbody\n",
    "\n",
    "from michaels_functions import center_and_r_vir, remove_bulk_velocity\n",
    "from matplotlib.colors import LogNorm"
   ]
  },
  {
   "cell_type": "code",
   "execution_count": null,
   "metadata": {
    "scrolled": true
   },
   "outputs": [],
   "source": [
    "path = \"bulk1/data_2/hydro_59/output/\"\n",
    "data = pynbody.load(path + \"output_00050\")\n",
    "\n",
    "aexp = data.properties['a']\n",
    "data.physical_units()\n",
    "\n",
    "print path\n",
    "print \"a =\", aexp\n",
    "print \"z =\", 1./aexp -1"
   ]
  },
  {
   "cell_type": "code",
   "execution_count": null,
   "metadata": {
    "scrolled": true
   },
   "outputs": [],
   "source": [
    "r_vir = center_and_r_vir(data, aexp, path)"
   ]
  },
  {
   "cell_type": "code",
   "execution_count": null,
   "metadata": {
    "scrolled": true
   },
   "outputs": [],
   "source": [
    "r_e = 0.1 * r_vir\n",
    "print r_e"
   ]
  },
  {
   "cell_type": "code",
   "execution_count": null,
   "metadata": {
    "scrolled": true
   },
   "outputs": [],
   "source": [
    "sph_5 = pynbody.filt.Sphere(radius = '%f kpc' %(r_e*1.0))\n",
    "region = data[sph_5]"
   ]
  },
  {
   "cell_type": "code",
   "execution_count": null,
   "metadata": {
    "scrolled": true
   },
   "outputs": [],
   "source": [
    "rho = region.gas[\"rho\"].in_units(\"m_p cm^-3\")"
   ]
  },
  {
   "cell_type": "code",
   "execution_count": null,
   "metadata": {
    "scrolled": true
   },
   "outputs": [],
   "source": [
    "Z = region.gas[\"metal\"]"
   ]
  },
  {
   "cell_type": "code",
   "execution_count": null,
   "metadata": {
    "scrolled": true
   },
   "outputs": [],
   "source": [
    "f = open(data.filename + \"/info_\"+data.filename[-5:]+\".txt\",\"r\")\n",
    "lines = f.readlines()\n",
    "f.close()\n",
    "\n",
    "for line in lines:\n",
    "    if line[0:13]==\"unit_l      =\":\n",
    "        print line[:-1]\n",
    "        unit_l = float(line[14:-1])\n",
    "    if line[0:13]==\"unit_d      =\":\n",
    "        print line[:-1]\n",
    "        unit_d = float(line[14:-1])\n",
    "    if line[0:13]==\"unit_t      =\":\n",
    "        print line[:-1]\n",
    "        unit_t = float(line[14:-1])\n",
    "    if line[0:13]==\"omega_b     =\":\n",
    "        print line[:-1]\n",
    "        omega_b = float(line[14:-1])"
   ]
  },
  {
   "cell_type": "code",
   "execution_count": null,
   "metadata": {
    "scrolled": true
   },
   "outputs": [],
   "source": [
    "turb = np.sqrt( region.g[\"turb\"] * 2./3. ) * unit_l / unit_t / 1e5\n",
    "turb = pynbody.array.SimArray(turb, units = \"cm s**-1\")\n",
    "c_s = np.sqrt(region.gas[\"p\"] / region.gas[\"rho\"])\n",
    "c_s = c_s.in_units('cm s**-1')\n",
    "M = turb / c_s\n",
    "region.g[\"mach\"] = M.in_units(\"1\")"
   ]
  },
  {
   "cell_type": "code",
   "execution_count": null,
   "metadata": {
    "scrolled": true
   },
   "outputs": [],
   "source": [
    "turb"
   ]
  },
  {
   "cell_type": "code",
   "execution_count": null,
   "metadata": {
    "scrolled": true
   },
   "outputs": [],
   "source": [
    "c_s"
   ]
  },
  {
   "cell_type": "code",
   "execution_count": null,
   "metadata": {
    "scrolled": true
   },
   "outputs": [],
   "source": [
    "M"
   ]
  },
  {
   "cell_type": "code",
   "execution_count": null,
   "metadata": {
    "scrolled": true
   },
   "outputs": [],
   "source": [
    "m_p_1 = pynbody.array.SimArray(1.0, pynbody.units.m_p)\n",
    "n_H = rho / m_p_1"
   ]
  },
  {
   "cell_type": "code",
   "execution_count": null,
   "metadata": {
    "scrolled": true
   },
   "outputs": [],
   "source": [
    "n_H"
   ]
  },
  {
   "cell_type": "code",
   "execution_count": null,
   "metadata": {
    "scrolled": true
   },
   "outputs": [],
   "source": [
    "m_p = pynbody.array.SimArray(1.672621777e-24, \"g\")\n",
    "K_b = pynbody.array.SimArray(1.38064852e-16, \"cm**2 g s**-2 K**-1\")\n",
    "G = pynbody.array.SimArray(6.67259e-8, \"cm**3 g**-1 s**-2\")\n",
    "T_mean = pynbody.array.SimArray(10., \"K\")\n",
    "G_o = pynbody.array.SimArray(1.0, \"1\")\n",
    "n_H_mean = pynbody.array.SimArray(1e2, \"cm**-3\")"
   ]
  },
  {
   "cell_type": "code",
   "execution_count": null,
   "metadata": {
    "scrolled": true
   },
   "outputs": [],
   "source": [
    "lambda_jeans = (c_s) / np.sqrt(4* np.pi * G * n_H * m_p)\n",
    "lambda_jeans"
   ]
  },
  {
   "cell_type": "code",
   "execution_count": null,
   "metadata": {},
   "outputs": [],
   "source": [
    "'''vel = region.g[\"vel\"] * unit_l / unit_t / 1e5\n",
    "vel = pynbody.array.SimArray(vel, units = \"cm s**-1\")'''"
   ]
  },
  {
   "cell_type": "code",
   "execution_count": null,
   "metadata": {
    "scrolled": true
   },
   "outputs": [],
   "source": [
    "'''sigma_s = pynbody.array.SimArray(vel, \"1\")\n",
    "sigma_s'''"
   ]
  },
  {
   "cell_type": "code",
   "execution_count": null,
   "metadata": {
    "scrolled": true
   },
   "outputs": [],
   "source": [
    "'''s_bar = -0.5*(sigma_s**2)\n",
    "s_bar'''"
   ]
  },
  {
   "cell_type": "code",
   "execution_count": null,
   "metadata": {},
   "outputs": [],
   "source": [
    "'''smin = -7*sigma_s + s_bar\n",
    "smax = 7*sigma_s + s_bar\n",
    "ds = (smax - smin)/1040042'''"
   ]
  },
  {
   "cell_type": "code",
   "execution_count": null,
   "metadata": {},
   "outputs": [],
   "source": [
    "'''smax[-1]'''"
   ]
  },
  {
   "cell_type": "code",
   "execution_count": null,
   "metadata": {},
   "outputs": [],
   "source": [
    "'''ds[-1]'''"
   ]
  },
  {
   "cell_type": "code",
   "execution_count": null,
   "metadata": {},
   "outputs": [],
   "source": [
    "'''smin[-1]'''"
   ]
  },
  {
   "cell_type": "code",
   "execution_count": null,
   "metadata": {},
   "outputs": [],
   "source": []
  },
  {
   "cell_type": "code",
   "execution_count": null,
   "metadata": {},
   "outputs": [],
   "source": []
  },
  {
   "cell_type": "code",
   "execution_count": null,
   "metadata": {},
   "outputs": [],
   "source": []
  },
  {
   "cell_type": "code",
   "execution_count": null,
   "metadata": {},
   "outputs": [],
   "source": [
    "'''s = np.zeros(1040042)\n",
    "for i in range(0, 1040042):\n",
    "    s = smin + i*ds'''"
   ]
  },
  {
   "cell_type": "code",
   "execution_count": null,
   "metadata": {},
   "outputs": [],
   "source": [
    "'''n_H_2 = n_H * np.exp(s)'''"
   ]
  },
  {
   "cell_type": "code",
   "execution_count": null,
   "metadata": {},
   "outputs": [],
   "source": []
  },
  {
   "cell_type": "code",
   "execution_count": null,
   "metadata": {
    "scrolled": true
   },
   "outputs": [],
   "source": [
    "'''pdf = (1/np.sqrt(2*np.pi*(sigma_s**2))) * (np.exp(-0.5*(((s - s_bar)/sigma_s)**2)))\n",
    "pdf'''"
   ]
  },
  {
   "cell_type": "code",
   "execution_count": null,
   "metadata": {
    "scrolled": true
   },
   "outputs": [],
   "source": [
    "'''integral1 = 0.0\n",
    "for i in range(0, 1000):\n",
    "    integral1 += np.exp(s[i]) * pdf[i] * ds[i]   #this should be = 1\n",
    "    #plotting(n_H, pdf, lambda_jeans, X_H2)\n",
    "integral1'''"
   ]
  },
  {
   "cell_type": "code",
   "execution_count": null,
   "metadata": {},
   "outputs": [],
   "source": []
  },
  {
   "cell_type": "code",
   "execution_count": null,
   "metadata": {},
   "outputs": [],
   "source": []
  },
  {
   "cell_type": "code",
   "execution_count": null,
   "metadata": {},
   "outputs": [],
   "source": []
  },
  {
   "cell_type": "code",
   "execution_count": null,
   "metadata": {},
   "outputs": [],
   "source": []
  },
  {
   "cell_type": "code",
   "execution_count": null,
   "metadata": {},
   "outputs": [],
   "source": []
  },
  {
   "cell_type": "code",
   "execution_count": null,
   "metadata": {
    "scrolled": true
   },
   "outputs": [],
   "source": [
    "'''plt.scatter(np.log10(n_H), pdf)\n",
    "plt.xlabel('log(n_H)')\n",
    "plt.ylabel('log(pdf)')\n",
    "plt.grid(b=True, which='both', axis='both')\n",
    "plt.title('log(n_H) vs log(pdf)')\n",
    "plt.show()'''"
   ]
  },
  {
   "cell_type": "code",
   "execution_count": null,
   "metadata": {
    "scrolled": true
   },
   "outputs": [],
   "source": []
  },
  {
   "cell_type": "code",
   "execution_count": null,
   "metadata": {
    "scrolled": true
   },
   "outputs": [],
   "source": []
  },
  {
   "cell_type": "code",
   "execution_count": null,
   "metadata": {
    "scrolled": true
   },
   "outputs": [],
   "source": []
  },
  {
   "cell_type": "code",
   "execution_count": null,
   "metadata": {
    "scrolled": true
   },
   "outputs": [],
   "source": [
    "def calc_n_LW(n_H, G_o, lambda_jeans):\n",
    "    kappa = 1000 * m_p\n",
    "    rad_field_outside = G_o #in solar units\n",
    "    exp_tau = np.exp(-kappa * n_H * lambda_jeans)\n",
    "    n_LW = rad_field_outside * exp_tau\n",
    "    return n_LW"
   ]
  },
  {
   "cell_type": "code",
   "execution_count": null,
   "metadata": {
    "scrolled": true
   },
   "outputs": [],
   "source": [
    "def calc_n_LW_ss(n_H, n_H2, G_o, lambda_jeans):\n",
    "    kappa = 1000 * m_p\n",
    "    rad_field_outside = G_o #in solar units\n",
    "    exp_tau = np.exp(-kappa * n_H * lambda_jeans)\n",
    "    N_H2 = n_H2*lambda_jeans\n",
    "    term1 = (0.965/((1+(N_H2/5e14))**2))\n",
    "    term2 = ( (0.035/np.sqrt(1+(N_H2/5e14))) * np.exp(-1*np.sqrt(1+(N_H2/5e14))/1180) )\n",
    "    S_H2 = term1 + term2\n",
    "    n_LW_ss = rad_field_outside * exp_tau * S_H2\n",
    "    return n_LW_ss, S_H2, N_H2"
   ]
  },
  {
   "cell_type": "code",
   "execution_count": null,
   "metadata": {
    "scrolled": true
   },
   "outputs": [],
   "source": [
    "def calc_X_H2(n_H, Z, n_LW):\n",
    "    DC = 1.7e-11\n",
    "    CC = 2.5e-17            #cm3 s-1\n",
    "    numerator = DC * n_LW\n",
    "    denominator = CC * Z * n_H\n",
    "    X_H2 = 1 / (2 + (numerator/denominator) )\n",
    "    return X_H2"
   ]
  },
  {
   "cell_type": "code",
   "execution_count": null,
   "metadata": {
    "scrolled": true
   },
   "outputs": [],
   "source": [
    "def calc_X_CO(n_H, n_H2, n_LW):\n",
    "    rate_CHX = 5.e-10 * n_LW\n",
    "    rate_CO = 1.e-10 * n_LW\n",
    "    x0 = 2.e-4\n",
    "    k0 = 5.e-16 #cm3 s-1\n",
    "    k1 = 5.e-10 #cm3 s-1\n",
    "    factor_beta = rate_CHX/(n_H*k1*x0)\n",
    "    beta = 1./(1.+factor_beta)\n",
    "    factor_CO = rate_CO/(n_H2*k0*beta)\n",
    "    X_CO = 1./(1.+factor_CO)\n",
    "    return X_CO"
   ]
  },
  {
   "cell_type": "code",
   "execution_count": null,
   "metadata": {
    "scrolled": true
   },
   "outputs": [],
   "source": [
    "def calc_n_CO(n_H, X_CO):\n",
    "    abundance_Ctot = 1e-4 # n_C/n_H as defined by nucleosynthesis\n",
    "    return n_H * abundance_Ctot * X_CO # CO/cc"
   ]
  },
  {
   "cell_type": "code",
   "execution_count": null,
   "metadata": {
    "scrolled": true
   },
   "outputs": [],
   "source": []
  },
  {
   "cell_type": "code",
   "execution_count": null,
   "metadata": {
    "scrolled": true
   },
   "outputs": [],
   "source": []
  },
  {
   "cell_type": "code",
   "execution_count": null,
   "metadata": {
    "scrolled": true
   },
   "outputs": [],
   "source": [
    "n_LW = calc_n_LW(n_H, G_o, lambda_jeans)\n",
    "X_H2_a = calc_X_H2(n_H, Z, n_LW)\n",
    "n_H2_a = n_H * X_H2_a"
   ]
  },
  {
   "cell_type": "code",
   "execution_count": null,
   "metadata": {
    "scrolled": true
   },
   "outputs": [],
   "source": [
    "n_LW_1, S_H2_1, N_H2_1 = calc_n_LW_ss(n_H, n_H2_a, G_o, lambda_jeans)\n",
    "X_H2_1 = calc_X_H2(n_H, Z, n_LW_1)\n",
    "n_H2_1 = n_H * X_H2_1"
   ]
  },
  {
   "cell_type": "code",
   "execution_count": null,
   "metadata": {
    "scrolled": true
   },
   "outputs": [],
   "source": [
    "n_LW_2, S_H2_2, N_H2_2 = calc_n_LW_ss(n_H, n_H2_1, G_o, lambda_jeans)\n",
    "X_H2_2 = calc_X_H2(n_H, Z, n_LW_2)\n",
    "n_H2_2 = n_H * X_H2_2"
   ]
  },
  {
   "cell_type": "code",
   "execution_count": null,
   "metadata": {
    "scrolled": true
   },
   "outputs": [],
   "source": [
    "n_LW_3, S_H2_3, N_H2_3 = calc_n_LW_ss(n_H, n_H2_2, G_o, lambda_jeans)\n",
    "X_H2_3 = calc_X_H2(n_H, Z, n_LW_3)\n",
    "n_H2_3 = n_H * X_H2_3"
   ]
  },
  {
   "cell_type": "code",
   "execution_count": null,
   "metadata": {
    "scrolled": true
   },
   "outputs": [],
   "source": [
    "n_LW_4, S_H2_4, N_H2_4 = calc_n_LW_ss(n_H, n_H2_3, G_o, lambda_jeans)\n",
    "X_H2_4 = calc_X_H2(n_H, Z, n_LW_4)\n",
    "n_H2_4 = n_H * X_H2_4"
   ]
  },
  {
   "cell_type": "code",
   "execution_count": null,
   "metadata": {
    "scrolled": true
   },
   "outputs": [],
   "source": [
    "n_LW_5, S_H2_5, N_H2_5 = calc_n_LW_ss(n_H, n_H2_4, G_o, lambda_jeans)\n",
    "X_H2_5 = calc_X_H2(n_H, Z, n_LW_5)\n",
    "n_H2_5 = n_H * X_H2_5"
   ]
  },
  {
   "cell_type": "code",
   "execution_count": null,
   "metadata": {
    "scrolled": true
   },
   "outputs": [],
   "source": [
    "n_LW_6, S_H2_6, N_H2_6 = calc_n_LW_ss(n_H, n_H2_5, G_o, lambda_jeans)\n",
    "X_H2_6 = calc_X_H2(n_H, Z, n_LW_6)\n",
    "n_H2_6 = n_H * X_H2_6"
   ]
  },
  {
   "cell_type": "code",
   "execution_count": null,
   "metadata": {
    "scrolled": true
   },
   "outputs": [],
   "source": [
    "n_LW_7, S_H2_7, N_H2_7 = calc_n_LW_ss(n_H, n_H2_6, G_o, lambda_jeans)\n",
    "X_H2_7 = calc_X_H2(n_H, Z, n_LW_7)\n",
    "n_H2_7 = n_H * X_H2_7"
   ]
  },
  {
   "cell_type": "code",
   "execution_count": null,
   "metadata": {
    "scrolled": true
   },
   "outputs": [],
   "source": [
    "n_LW_8, S_H2_8, N_H2_8 = calc_n_LW_ss(n_H, n_H2_7, G_o, lambda_jeans)\n",
    "X_H2_8 = calc_X_H2(n_H, Z, n_LW_8)\n",
    "n_H2_8 = n_H * X_H2_8"
   ]
  },
  {
   "cell_type": "code",
   "execution_count": null,
   "metadata": {
    "scrolled": true
   },
   "outputs": [],
   "source": [
    "n_LW_9, S_H2_9, N_H2_9 = calc_n_LW_ss(n_H, n_H2_8, G_o, lambda_jeans)\n",
    "X_H2_9 = calc_X_H2(n_H, Z, n_LW_9)\n",
    "n_H2_9 = n_H * X_H2_9"
   ]
  },
  {
   "cell_type": "code",
   "execution_count": null,
   "metadata": {
    "scrolled": true
   },
   "outputs": [],
   "source": [
    "n_LW_10, S_H2_10, N_H2_10 = calc_n_LW_ss(n_H, n_H2_9, G_o, lambda_jeans)\n",
    "X_H2_10 = calc_X_H2(n_H, Z, n_LW_10)\n",
    "n_H2_10 = n_H * X_H2_10"
   ]
  },
  {
   "cell_type": "code",
   "execution_count": null,
   "metadata": {
    "scrolled": true
   },
   "outputs": [],
   "source": [
    "n_LW_ss, S_H2, N_H2 = calc_n_LW_ss(n_H, n_H2_10, G_o, lambda_jeans)\n",
    "X_H2 = calc_X_H2(n_H, Z, n_LW_ss)\n",
    "n_H2 = n_H * X_H2"
   ]
  },
  {
   "cell_type": "code",
   "execution_count": null,
   "metadata": {
    "scrolled": true
   },
   "outputs": [],
   "source": [
    "X_CO = calc_X_CO(n_H, n_H2_a, n_LW)"
   ]
  },
  {
   "cell_type": "code",
   "execution_count": null,
   "metadata": {
    "scrolled": true
   },
   "outputs": [],
   "source": [
    "n_CO = calc_n_CO(n_H, X_CO)"
   ]
  },
  {
   "cell_type": "code",
   "execution_count": null,
   "metadata": {
    "scrolled": true
   },
   "outputs": [],
   "source": [
    "X_H2"
   ]
  },
  {
   "cell_type": "code",
   "execution_count": null,
   "metadata": {
    "scrolled": true
   },
   "outputs": [],
   "source": []
  },
  {
   "cell_type": "code",
   "execution_count": null,
   "metadata": {},
   "outputs": [],
   "source": []
  },
  {
   "cell_type": "code",
   "execution_count": null,
   "metadata": {},
   "outputs": [],
   "source": []
  },
  {
   "cell_type": "code",
   "execution_count": null,
   "metadata": {},
   "outputs": [],
   "source": []
  },
  {
   "cell_type": "code",
   "execution_count": null,
   "metadata": {},
   "outputs": [],
   "source": []
  },
  {
   "cell_type": "code",
   "execution_count": null,
   "metadata": {},
   "outputs": [],
   "source": []
  },
  {
   "cell_type": "code",
   "execution_count": null,
   "metadata": {},
   "outputs": [],
   "source": []
  },
  {
   "cell_type": "code",
   "execution_count": null,
   "metadata": {},
   "outputs": [],
   "source": []
  },
  {
   "cell_type": "code",
   "execution_count": null,
   "metadata": {},
   "outputs": [],
   "source": []
  },
  {
   "cell_type": "code",
   "execution_count": null,
   "metadata": {},
   "outputs": [],
   "source": []
  },
  {
   "cell_type": "code",
   "execution_count": null,
   "metadata": {},
   "outputs": [],
   "source": []
  },
  {
   "cell_type": "code",
   "execution_count": null,
   "metadata": {
    "scrolled": true
   },
   "outputs": [],
   "source": [
    "plt.scatter(np.log10(n_H), X_H2)\n",
    "plt.xlabel('log(n_H)')\n",
    "plt.ylabel('X_H2')\n",
    "plt.grid(b=True, which='both', axis='both')\n",
    "plt.title('log(n_H) vs X_H2')\n",
    "#plt.savefig('log(n_H)vsX_H2.png'.format())\n",
    "plt.show()"
   ]
  },
  {
   "cell_type": "code",
   "execution_count": null,
   "metadata": {
    "scrolled": true
   },
   "outputs": [],
   "source": [
    "plt.scatter(np.log10(n_H), X_CO)\n",
    "plt.xlabel('log(n_H)')\n",
    "plt.ylabel('X_CO')\n",
    "plt.grid(b=True, which='both', axis='both')\n",
    "plt.title('log(n_H) vs X_CO')\n",
    "#plt.savefig('log(n_H)vsX_CO.png'.format())\n",
    "plt.show()"
   ]
  },
  {
   "cell_type": "code",
   "execution_count": null,
   "metadata": {
    "scrolled": true
   },
   "outputs": [],
   "source": [
    "plt.scatter(np.log10(lambda_jeans), np.log10(n_H))\n",
    "plt.xlabel('log(lambda_jeans)')\n",
    "plt.ylabel('log(n_H)')\n",
    "plt.grid(b=True, which='both', axis='both')\n",
    "plt.title('log(lambda_jeans) vs log(n_H)')\n",
    "#plt.savefig('log(lambda_jeans)vslog(n_H).png'.format())\n",
    "plt.show()"
   ]
  },
  {
   "cell_type": "code",
   "execution_count": null,
   "metadata": {
    "scrolled": true
   },
   "outputs": [],
   "source": [
    "plt.scatter(np.log10(N_H2), S_H2)\n",
    "plt.xlabel('log(N_H2)')\n",
    "plt.ylabel('S_H2')\n",
    "plt.grid(b=True, which='both', axis='both')\n",
    "plt.title(\"log(N_H2) vs S_H2\")\n",
    "#plt.savefig('log(N_H2)vsS_H2.png'.format())\n",
    "plt.show()"
   ]
  },
  {
   "cell_type": "code",
   "execution_count": null,
   "metadata": {
    "scrolled": true
   },
   "outputs": [],
   "source": []
  },
  {
   "cell_type": "code",
   "execution_count": null,
   "metadata": {
    "scrolled": true
   },
   "outputs": [],
   "source": []
  },
  {
   "cell_type": "code",
   "execution_count": null,
   "metadata": {
    "scrolled": true
   },
   "outputs": [],
   "source": []
  },
  {
   "cell_type": "code",
   "execution_count": null,
   "metadata": {
    "scrolled": true
   },
   "outputs": [],
   "source": [
    "region.gas[\"lambda_jeans\"] = lambda_jeans"
   ]
  },
  {
   "cell_type": "code",
   "execution_count": null,
   "metadata": {
    "scrolled": true
   },
   "outputs": [],
   "source": [
    "region.gas[\"n_H\"] = n_H"
   ]
  },
  {
   "cell_type": "code",
   "execution_count": null,
   "metadata": {
    "scrolled": true
   },
   "outputs": [],
   "source": [
    "region.gas[\"X_H2\"] = X_H2"
   ]
  },
  {
   "cell_type": "code",
   "execution_count": null,
   "metadata": {
    "scrolled": true
   },
   "outputs": [],
   "source": [
    "region.gas[\"X_CO\"] = X_CO"
   ]
  },
  {
   "cell_type": "code",
   "execution_count": null,
   "metadata": {
    "scrolled": true
   },
   "outputs": [],
   "source": [
    "pynbody.plot.image(region.g, qty=\"lambda_jeans\", width=\"%f kpc\"%(2.*r_e),\n",
    "                   log=True, resolution=500, cmap=\"viridis\", av_z=\"n_H\",\n",
    "                   vmin=4.9e+18, vmax=2.3e+25)\n",
    "plt.title(\"lambda_jeans(cm)-n_H(cm^-3)\")\n",
    "#plt.savefig('lambda_jeans-n_H.png', dpi=300, bbox_inches='tight')\n",
    "plt.show()"
   ]
  },
  {
   "cell_type": "code",
   "execution_count": null,
   "metadata": {
    "scrolled": true
   },
   "outputs": [],
   "source": [
    "pynbody.plot.image(region.g, qty=\"X_H2\", width=\"%f kpc\"%(2.*r_e),\n",
    "                   log=True, resolution=500, cmap=\"viridis\", av_z=\"n_H\",\n",
    "                   vmin=-1e-3, vmax=5e-1)\n",
    "plt.title(\"X_H2-n_H(cm^-3)\")\n",
    "#plt.savefig('X_H2-n_H.png', dpi=300, bbox_inches='tight')\n",
    "plt.show()"
   ]
  },
  {
   "cell_type": "code",
   "execution_count": null,
   "metadata": {
    "scrolled": true
   },
   "outputs": [],
   "source": [
    "pynbody.plot.image(region.g, qty=\"X_CO\", width=\"%f kpc\"%(2.*r_e),\n",
    "                   log=True, resolution=1000, cmap=\"magma\", av_z=\"n_H\",\n",
    "                   vmin=1e-5, vmax=1)\n",
    "plt.title(\"X_CO-n_H(cm^-3)\")\n",
    "#plt.savefig('X_CO-n_H.png', dpi=300, bbox_inches='tight')\n",
    "plt.show()"
   ]
  },
  {
   "cell_type": "code",
   "execution_count": null,
   "metadata": {
    "scrolled": true
   },
   "outputs": [],
   "source": [
    "pynbody.plot.image(region.g, qty=\"temp\", width=\"%f kpc\"%(2.*r_e),\n",
    "                   log=True, resolution=500, cmap=\"viridis\", av_z=\"n_H\",\n",
    "                   vmin=0.5e3, vmax=0.3e8)\n",
    "plt.title(\"T(K)-n_H(cm^-3)\")\n",
    "#plt.savefig('T-n_H.png', dpi=300, bbox_inches='tight')\n",
    "plt.show()"
   ]
  },
  {
   "cell_type": "code",
   "execution_count": null,
   "metadata": {
    "scrolled": true
   },
   "outputs": [],
   "source": [
    "pynbody.plot.image(region.g, qty=\"mach\", width=\"%f kpc\"%(2.*r_e),\n",
    "                   log=True, resolution=500, cmap=\"viridis\", av_z=\"n_H\",\n",
    "                   vmin=3.6e-07, vmax=3.1e-3)\n",
    "plt.title(\"Mach no.-n_H(cm^-3)\")\n",
    "#plt.savefig('Machno-n_H.png', dpi=300, bbox_inches='tight')\n",
    "plt.show()"
   ]
  },
  {
   "cell_type": "code",
   "execution_count": null,
   "metadata": {
    "scrolled": true
   },
   "outputs": [],
   "source": [
    "pynbody.plot.image(region.g, qty=\"metal\", width=\"%f kpc\"%(2.*r_e),\n",
    "                   log=True, resolution=500, cmap=\"viridis\", av_z=\"n_H\",\n",
    "                   vmin=3.03e-4, vmax=1.2e-1)\n",
    "plt.title(\"Z-n_H(cm^-3)\")\n",
    "#plt.savefig('Z-n_H.png', dpi=300, bbox_inches='tight')\n",
    "plt.show()"
   ]
  },
  {
   "cell_type": "code",
   "execution_count": null,
   "metadata": {
    "scrolled": true
   },
   "outputs": [],
   "source": [
    "pynbody.plot.image(region.g, qty=\"X_H2\", width=\"%f kpc\"%(2.*r_e),\n",
    "                   log=True, resolution=500, cmap=\"viridis\", av_z=\"mach\",\n",
    "                   vmin=-0.1, vmax=5e-1)\n",
    "plt.title(\"X_H2-Mach no.\")\n",
    "#plt.savefig('X_H2-Machno.png', dpi=300, bbox_inches='tight')\n",
    "plt.show()"
   ]
  },
  {
   "cell_type": "code",
   "execution_count": null,
   "metadata": {
    "scrolled": true
   },
   "outputs": [],
   "source": [
    "pynbody.plot.image(region.g, qty=\"X_H2\", width=\"%f kpc\"%(2.*r_e),\n",
    "                   log=True, resolution=500, cmap=\"viridis\", av_z=\"metal\",\n",
    "                   vmin=-0.9, vmax=5e-1)\n",
    "plt.title(\"X_H2-Z\")\n",
    "#plt.savefig('X_H2-Z.png', dpi=300, bbox_inches='tight')\n",
    "plt.show()"
   ]
  },
  {
   "cell_type": "code",
   "execution_count": null,
   "metadata": {
    "scrolled": true
   },
   "outputs": [],
   "source": [
    "pynbody.plot.image(region.g, qty=\"lambda_jeans\", width=\"%f kpc\"%(2.*r_e),\n",
    "                   log=True, resolution=500, cmap=\"viridis\", av_z=\"mach\",\n",
    "                   vmin=4.9e+21, vmax=2.3e+25)\n",
    "plt.title(\"lambda_jeans(cm)-Mach no.\")\n",
    "#plt.savefig('lambda_jeans-Machno.png', dpi=300, bbox_inches='tight')\n",
    "plt.show()"
   ]
  },
  {
   "cell_type": "code",
   "execution_count": null,
   "metadata": {
    "scrolled": true
   },
   "outputs": [],
   "source": [
    "pynbody.plot.image(region.g, qty=\"lambda_jeans\", width=\"%f kpc\"%(2.*r_e),\n",
    "                   log=True, resolution=500, cmap=\"viridis\", av_z=\"metal\",\n",
    "                   vmin=4.9e+20, vmax=2.3e+26)\n",
    "\n",
    "plt.title(\"lambda_jeans(cm)-Z\")\n",
    "#plt.savefig('lambda_jeans-Z.png', dpi=300, bbox_inches='tight')\n",
    "plt.show()"
   ]
  },
  {
   "cell_type": "code",
   "execution_count": null,
   "metadata": {
    "scrolled": true
   },
   "outputs": [],
   "source": [
    "with pynbody.analysis.angmom.sideon(region):\n",
    "    pynbody.plot.image(region.g, qty=\"lambda_jeans\", width=\"%f kpc\"%(2.*r_e),\n",
    "                   log=True, resolution=500, cmap=\"viridis\", av_z=\"n_H\",\n",
    "                   vmin=4.9e+18, vmax=2.3e+25)\n",
    "    plt.title('log(lambda_jeans) vs log(n_H)')\n",
    "    plt.savefig('log(lambda_jeans)vslog(n_H)_sideon.png')\n",
    "    plt.show()\n",
    "    "
   ]
  },
  {
   "cell_type": "code",
   "execution_count": null,
   "metadata": {
    "scrolled": true
   },
   "outputs": [],
   "source": [
    "histX_H2_M_mass, yedges, xedges = np.histogram2d(region.gas[\"X_H2\"],\n",
    "                               np.log10(region.gas[\"n_H\"].in_units(\"cm**-3\")),\n",
    "                               weights=region.gas[\"mach\"] * region.gas[\"mass\"], bins=50 , range=[[0,0.6],[-5,2.5]])\n",
    "\n",
    "histX_H2_mass, yedges, xedges = np.histogram2d(region.gas[\"X_H2\"],\n",
    "                               np.log10(region.gas[\"n_H\"].in_units(\"cm**-3\")),\n",
    "                               weights=region.gas[\"mass\"], bins=50 , range=[[0,0.6],[-5,2.5]])\n",
    "\n",
    "yX_H2_M, xX_H2_M = yedges, xedges"
   ]
  },
  {
   "cell_type": "code",
   "execution_count": null,
   "metadata": {
    "scrolled": true
   },
   "outputs": [],
   "source": [
    "#Mach number - mass weighted - X_H2 vs n_H\n",
    "plt.pcolormesh(xedges, yedges, histX_H2_M_mass/histX_H2_mass, norm=LogNorm(), vmin=3.6e-6, vmax=3.1e-3)\n",
    "\n",
    "plt.xlabel(r\"$\\log(n_H)$\")\n",
    "plt.ylabel(r\"$X_{H2}$\")\n",
    "plt.colorbar(label=r\"$\\mathcal{M}$\")\n",
    "plt.title(\"X_H2 vs n_H : varying M on colourmap\")\n",
    "#plt.savefig('001_log(n_H)vsX_H2--M.png')\n",
    "plt.show()"
   ]
  },
  {
   "cell_type": "code",
   "execution_count": null,
   "metadata": {
    "scrolled": true
   },
   "outputs": [],
   "source": [
    "histX_H2_mass_Z, yedges, xedges = np.histogram2d(region.gas[\"X_H2\"],\n",
    "                               np.log10(region.gas[\"n_H\"].in_units(\"cm**-3\")),\n",
    "                               weights=region.gas[\"metal\"] * region.gas[\"mass\"], bins=50 , range=[[0,0.6],[-5,2.5]])\n",
    "\n",
    "histX_H2_mass, yedges, xedges = np.histogram2d(region.gas[\"X_H2\"],\n",
    "                               np.log10(region.gas[\"n_H\"].in_units(\"cm**-3\")),\n",
    "                               weights=region.gas[\"mass\"], bins=50 , range=[[0,0.6],[-5,2.5]])\n",
    "\n",
    "yX_H2_Z, xX_H2_Z = yedges, xedges"
   ]
  },
  {
   "cell_type": "code",
   "execution_count": null,
   "metadata": {
    "scrolled": true
   },
   "outputs": [],
   "source": [
    "#Z - mass weighted - X_H2 vs n_H\n",
    "plt.pcolormesh(xedges, yedges, histX_H2_M_mass/histX_H2_mass, norm=LogNorm(), vmin=3.03e-6, vmax=1.2e-3)\n",
    "\n",
    "plt.xlabel(r\"$\\log(n_H)$\")\n",
    "plt.ylabel(r\"$X_{H2}$\")\n",
    "plt.colorbar(label=r\"$\\mathcal{Z}$\")\n",
    "plt.title(\"X_H2 vs n_H : varying Z on colourmap\")\n",
    "#plt.savefig('002_log(n_H)vsX_H2--Z.png')\n",
    "plt.show()"
   ]
  },
  {
   "cell_type": "code",
   "execution_count": null,
   "metadata": {},
   "outputs": [],
   "source": [
    "histX_CO_M_mass, yedges, xedges = np.histogram2d(region.gas[\"X_CO\"],\n",
    "                               np.log10(region.gas[\"n_H\"].in_units(\"cm**-3\")),\n",
    "                               weights=region.gas[\"mach\"] * region.gas[\"mass\"], bins=50 , range=[[0,0.1],[-5,2.5]])\n",
    "\n",
    "histX_CO_mass, yedges, xedges = np.histogram2d(region.gas[\"X_CO\"],\n",
    "                               np.log10(region.gas[\"n_H\"].in_units(\"cm**-3\")),\n",
    "                               weights=region.gas[\"mass\"], bins=50 , range=[[0,0.1],[-5,2.5]])\n",
    "\n",
    "yX_CO_M, xX_CO_M = yedges, xedges"
   ]
  },
  {
   "cell_type": "code",
   "execution_count": null,
   "metadata": {
    "scrolled": true
   },
   "outputs": [],
   "source": [
    "#M - mass weighted - X_CO vs n_H\n",
    "plt.pcolormesh(xedges, yedges, histX_CO_M_mass/histX_CO_mass, norm=LogNorm(), vmin=3.6e-7, vmax=1e-3)\n",
    "\n",
    "plt.xlabel(r\"$\\log(n_H)$\")\n",
    "plt.ylabel(r\"$X_{CO}$\")\n",
    "plt.colorbar(label=r\"$\\mathcal{M}$\")\n",
    "plt.title(\"X_CO vs n_H : varying M on colourmap\")\n",
    "#plt.savefig('003_log(n_H)vsX_CO--M.png')\n",
    "\n",
    "plt.show()"
   ]
  },
  {
   "cell_type": "code",
   "execution_count": null,
   "metadata": {
    "scrolled": true
   },
   "outputs": [],
   "source": [
    "histX_CO_mass_Z, yedges, xedges = np.histogram2d(region.gas[\"X_CO\"],\n",
    "                               np.log10(region.gas[\"n_H\"].in_units(\"cm**-3\")),\n",
    "                               weights=region.gas[\"metal\"] * region.gas[\"mass\"], bins=50 , range=[[0,0.6],[-5,2.5]])\n",
    "\n",
    "histX_CO_mass, yedges, xedges = np.histogram2d(region.gas[\"X_CO\"],\n",
    "                               np.log10(region.gas[\"n_H\"].in_units(\"cm**-3\")),\n",
    "                               weights=region.gas[\"mass\"], bins=50 , range=[[0,0.6],[-5,2.5]])\n",
    "\n",
    "yX_CO_Z, xX_CO_Z = yedges, xedges"
   ]
  },
  {
   "cell_type": "code",
   "execution_count": null,
   "metadata": {
    "scrolled": true
   },
   "outputs": [],
   "source": [
    "#Z - mass weighted - X_CO vs n_H\n",
    "plt.pcolormesh(xedges, yedges, histX_CO_mass_Z/histX_CO_mass, norm=LogNorm(), vmin=3.03e-4, vmax=1.2e-1)\n",
    "\n",
    "plt.xlabel(r\"$\\log(n_H)$\")\n",
    "plt.ylabel(r\"$X_{CO}$\")\n",
    "plt.colorbar(label=r\"$\\mathcal{Z}$\")\n",
    "plt.title(\"X_CO vs n_H : varying Z on colourmap\")\n",
    "#plt.savefig('004_log(n_H)vsX_CO--Z.png')\n",
    "\n",
    "plt.show()"
   ]
  },
  {
   "cell_type": "code",
   "execution_count": null,
   "metadata": {
    "scrolled": true
   },
   "outputs": [],
   "source": []
  },
  {
   "cell_type": "code",
   "execution_count": null,
   "metadata": {
    "scrolled": true
   },
   "outputs": [],
   "source": []
  },
  {
   "cell_type": "code",
   "execution_count": null,
   "metadata": {
    "scrolled": true
   },
   "outputs": [],
   "source": [
    "np.min(Z)"
   ]
  },
  {
   "cell_type": "code",
   "execution_count": null,
   "metadata": {
    "scrolled": true
   },
   "outputs": [],
   "source": [
    "np.max(Z)"
   ]
  },
  {
   "cell_type": "code",
   "execution_count": null,
   "metadata": {
    "scrolled": true
   },
   "outputs": [],
   "source": []
  },
  {
   "cell_type": "code",
   "execution_count": null,
   "metadata": {
    "scrolled": true
   },
   "outputs": [],
   "source": []
  },
  {
   "cell_type": "code",
   "execution_count": null,
   "metadata": {
    "scrolled": true
   },
   "outputs": [],
   "source": []
  },
  {
   "cell_type": "code",
   "execution_count": null,
   "metadata": {
    "scrolled": true
   },
   "outputs": [],
   "source": [
    "region.properties"
   ]
  },
  {
   "cell_type": "code",
   "execution_count": null,
   "metadata": {},
   "outputs": [],
   "source": [
    "region.gas.all_keys()"
   ]
  },
  {
   "cell_type": "code",
   "execution_count": null,
   "metadata": {
    "scrolled": true
   },
   "outputs": [],
   "source": [
    "np.shape(M)"
   ]
  },
  {
   "cell_type": "code",
   "execution_count": null,
   "metadata": {
    "scrolled": true
   },
   "outputs": [],
   "source": [
    "np.shape(Z)"
   ]
  },
  {
   "cell_type": "code",
   "execution_count": null,
   "metadata": {
    "scrolled": true
   },
   "outputs": [],
   "source": [
    "np.shape(n_H)"
   ]
  },
  {
   "cell_type": "code",
   "execution_count": null,
   "metadata": {
    "scrolled": true
   },
   "outputs": [],
   "source": [
    "np.shape(rho)"
   ]
  },
  {
   "cell_type": "code",
   "execution_count": null,
   "metadata": {
    "scrolled": true
   },
   "outputs": [],
   "source": [
    "np.shape(X_H2)"
   ]
  },
  {
   "cell_type": "code",
   "execution_count": null,
   "metadata": {
    "scrolled": true
   },
   "outputs": [],
   "source": [
    "len(n_H)"
   ]
  },
  {
   "cell_type": "code",
   "execution_count": null,
   "metadata": {
    "scrolled": true
   },
   "outputs": [],
   "source": [
    "region.gas.loadable_keys()"
   ]
  },
  {
   "cell_type": "code",
   "execution_count": null,
   "metadata": {
    "scrolled": true
   },
   "outputs": [],
   "source": [
    "c_s"
   ]
  },
  {
   "cell_type": "code",
   "execution_count": null,
   "metadata": {
    "scrolled": true
   },
   "outputs": [],
   "source": []
  },
  {
   "cell_type": "code",
   "execution_count": null,
   "metadata": {},
   "outputs": [],
   "source": []
  },
  {
   "cell_type": "code",
   "execution_count": null,
   "metadata": {},
   "outputs": [],
   "source": []
  },
  {
   "cell_type": "code",
   "execution_count": null,
   "metadata": {},
   "outputs": [],
   "source": []
  }
 ],
 "metadata": {
  "kernelspec": {
   "display_name": "Python 2",
   "language": "python",
   "name": "python2"
  },
  "language_info": {
   "codemirror_mode": {
    "name": "ipython",
    "version": 2
   },
   "file_extension": ".py",
   "mimetype": "text/x-python",
   "name": "python",
   "nbconvert_exporter": "python",
   "pygments_lexer": "ipython2",
   "version": "2.7.15"
  }
 },
 "nbformat": 4,
 "nbformat_minor": 2
}
