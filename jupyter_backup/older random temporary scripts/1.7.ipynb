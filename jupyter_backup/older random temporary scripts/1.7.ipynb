{
 "cells": [
  {
   "cell_type": "code",
   "execution_count": 28,
   "metadata": {},
   "outputs": [],
   "source": [
    "# Here, Z is converted into solar units:\n",
    "#     Z_sim is in mass fraction units\n",
    "#     Z_arr = Z_sim/0.02\n",
    "#     kappa = 1000*m_p*Z_arr  --> in n_LW & n_LW_ss\n",
    "#     denominator = CC * Z_arr * n_H  --> in X_H2\n",
    "#     n_CO = 1e-4*n_H*X_CO*Z_arr\n",
    "#     15kpc\n",
    "SMALL_SIZE = 18\n",
    "MEDIUM_SIZE = 20\n",
    "BIGGER_SIZE = 22"
   ]
  },
  {
   "cell_type": "code",
   "execution_count": 3,
   "metadata": {},
   "outputs": [],
   "source": [
    "%matplotlib inline\n",
    "\n",
    "#import sys\n",
    "import numpy as np\n",
    "#np.set_printoptions(threshold=sys.maxsize)\n",
    "import matplotlib.pyplot as plt\n",
    "import matplotlib.colors as cm\n",
    "import pynbody\n",
    "from michaels_functions import center_and_r_vir, remove_bulk_velocity\n",
    "from matplotlib.colors import LogNorm\n",
    "from matplotlib.pyplot import figure"
   ]
  },
  {
   "cell_type": "code",
   "execution_count": 4,
   "metadata": {},
   "outputs": [
    {
     "name": "stdout",
     "output_type": "stream",
     "text": [
      "('shifting on Stars:', SimArray([ 0.00308878, -0.03302971, -0.04676732], 'kpc'))\n",
      "('virial radius:', SimArray(152.40432611, 'kpc'))\n",
      "omega_b     =  0.450000017881393E-01\n",
      "unit_l      =  0.682025380323961E+26\n",
      "unit_d      =  0.123367583719985E-28\n",
      "unit_t      =  0.163687521954501E+18\n"
     ]
    }
   ],
   "source": [
    "path = \"bulk1/data_2/hydro_59/output/\"\n",
    "data = pynbody.load(path + \"output_00050\")\n",
    "aexp = data.properties['a']\n",
    "data.physical_units()\n",
    "r_vir = center_and_r_vir(data, aexp, path)\n",
    "remove_bulk_velocity(data)\n",
    "r_e = 0.1 * r_vir\n",
    "sph_5 = pynbody.filt.Sphere(radius = '%f kpc' %(r_e*1.4))\n",
    "region = data[sph_5]\n",
    "rho = region.gas[\"rho\"].in_units(\"m_p cm**-3\")\n",
    "f = open(data.filename + \"/info_\"+data.filename[-5:]+\".txt\",\"r\")\n",
    "lines = f.readlines()\n",
    "f.close()\n",
    "for line in lines:\n",
    "    if line[0:13]==\"unit_l      =\":\n",
    "        print line[:-1]\n",
    "        unit_l = float(line[14:-1])\n",
    "    if line[0:13]==\"unit_d      =\":\n",
    "        print line[:-1]\n",
    "        unit_d = float(line[14:-1])\n",
    "    if line[0:13]==\"unit_t      =\":\n",
    "        print line[:-1]\n",
    "        unit_t = float(line[14:-1])\n",
    "    if line[0:13]==\"omega_b     =\":\n",
    "        print line[:-1]\n",
    "        omega_b = float(line[14:-1])"
   ]
  },
  {
   "cell_type": "code",
   "execution_count": 5,
   "metadata": {},
   "outputs": [],
   "source": [
    "m_p = pynbody.array.SimArray(1.672621777e-24, \"g\")\n",
    "K_b = pynbody.array.SimArray(1.38064852e-16, \"cm**2 g s**-2 K**-1\")\n",
    "G = pynbody.array.SimArray(6.67259e-8, \"cm**3 g**-1 s**-2\")\n",
    "T_mean = pynbody.array.SimArray(10., \"K\")\n",
    "K_b_ev = pynbody.array.SimArray(8.617e-5, \"eV K**-1\")\n",
    "c_si = pynbody.array.SimArray(2.99792458e5, \"km s**-1\")\n",
    "c_cgs = pynbody.array.SimArray(2.99792458e10, \"cm s**-1\")\n",
    "h_ev = pynbody.array.SimArray(4.13566770e-15, \"eV s\")\n",
    "mH_cgs = pynbody.array.SimArray(1.6737236e-24, 'g')  # hydrogen mass\n",
    "T_bg = pynbody.array.SimArray(2.73, \"K\")\n",
    "eV = pynbody.array.SimArray(6.241509e18, \"J\")\n",
    "L_sun = pynbody.array.SimArray(2.43418864387146974e+45, \"eV s**-1\")"
   ]
  },
  {
   "cell_type": "code",
   "execution_count": 6,
   "metadata": {},
   "outputs": [],
   "source": [
    "def get_filename(species):\n",
    "    # filename is already given\n",
    "    if (species[-4:] == '.dat') or (species[-4:] == '.txt'):\n",
    "        return species\n",
    "    # molecule is chosen\n",
    "    THIS_FOLDER = os.path.dirname(os.path.abspath(__file__))\n",
    "    database = os.path.join(THIS_FOLDER, 'LAMDA')\n",
    "    if species == 'HCO+':\n",
    "        filename = os.path.join(database, 'HCO+.dat')\n",
    "    elif species == 'H13CO+':\n",
    "        filename = os.path.join(database, 'H13CO+.dat')\n",
    "    elif species == 'N2H+':\n",
    "        filename = os.path.join(database, 'N2H+.dat')\n",
    "    elif species == 'SiO':\n",
    "        filename = os.path.join(database, 'SiO.dat')\n",
    "    elif species == 'HNC':\n",
    "        filename = os.path.join(database, 'HNC.dat')\n",
    "    elif species == 'HCN':\n",
    "        filename = os.path.join(database, 'HCN.dat')\n",
    "    elif species == 'CO':\n",
    "        filename = os.path.join(database, 'CO.dat')\n",
    "    else:\n",
    "        print('Unknow species. Chose from HCO+, H13CO+, N2H+, SiO, HNC, HCN, CO')\n",
    "        print('or provide a LAMDA datafile.')\n",
    "        exit()\n",
    "\n",
    "    return filename\n",
    "\n",
    "def read_file(species, c_cgs, h_ev, K_b_ev):\n",
    "    filename = get_filename(species)\n",
    "    f = open(filename, 'r')\n",
    "\n",
    "    f.readline()\n",
    "    species = f.readline()\n",
    "\n",
    "    f.readline()\n",
    "    mu = float(f.readline())  # molecular weight\n",
    "\n",
    "    f.readline()\n",
    "    num_lvls = int(f.readline())  # number of energy levels\n",
    "\n",
    "    # read energy levels: energy E, statistical weight g\n",
    "    f.readline()\n",
    "    E = []\n",
    "    g = []\n",
    "    for l in range(num_lvls):\n",
    "        words = f.readline().split()\n",
    "        E.append(float(words[1]) *c_cgs*h_ev) # cm^-1 -> eV\n",
    "        g.append(float(words[2]))\n",
    "\n",
    "    f.readline()\n",
    "    num_trans = int(f.readline())  # number of radiative transistions\n",
    "\n",
    "    # read transistions: upper lvl, lower lvl, A-coefficient, frequency\n",
    "    f.readline()\n",
    "    A = np.zeros((num_lvls, num_lvls))\n",
    "    freq = np.zeros((num_lvls, num_lvls))\n",
    "    for t in range(num_trans):\n",
    "        words = f.readline().split()\n",
    "        up = int(words[1]) - 1\n",
    "        low = int(words[2]) - 1\n",
    "        if up-low==1:\n",
    "            A[up][low] = float(words[3])  # s^-1\n",
    "            freq[up][low] = float(words[4]) * 1e9  # GHz -> Hz\n",
    "            #freq[low][up] = freq[up][low] #un-comment this only if low->up transitions are also allowed\n",
    "\n",
    "    # compute B-coefficient via Einstein relations\n",
    "    # Bij = coeff for stimulated emission, Bji = coeff for extinction (j<i)\n",
    "    B = np.zeros((num_lvls, num_lvls))\n",
    "    for i in range(0, num_lvls):\n",
    "        for j in range(0, i):\n",
    "            if A[i][j] != 0:\n",
    "                B[i][j] = A[i][j] * (c_cgs**2) / (2*h_ev * (freq[i][j])**3) # cm2/(eV*s)\n",
    "                B[j][i] = B[i][j] * g[i]/g[j]\n",
    "\n",
    "    # number of collision partners in the data file\n",
    "    f.readline()\n",
    "    num_partners = int(f.readline())\n",
    "\n",
    "    C_all = []\n",
    "    temps_all = []\n",
    "    for partner in range(num_partners):\n",
    "        # reference\n",
    "        f.readline()\n",
    "        line = f.readline()\n",
    "\n",
    "        # number of collisional transitions\n",
    "        f.readline()\n",
    "        num_coll = int(f.readline())\n",
    "\n",
    "        # number of temperatures in the table\n",
    "        f.readline()\n",
    "        num_temps = int(f.readline())\n",
    "\n",
    "        # read the temperature values\n",
    "        f.readline()\n",
    "        words = f.readline().split()\n",
    "        temps = np.zeros(num_temps)\n",
    "        for t in range(num_temps):\n",
    "            temps[t] = float(words[t])\n",
    "            temps_all.append(temps)  # K\n",
    "\n",
    "        # read collision coeff data: upper lvl, lower lvl, C-coefficient for each temp\n",
    "        C = np.zeros((num_temps, num_lvls, num_lvls))\n",
    "        f.readline()\n",
    "        for col in range(num_coll):\n",
    "            words = f.readline().split()\n",
    "            i = int(words[1]) - 1\n",
    "            j = int(words[2]) - 1\n",
    "            for t in range(num_temps):\n",
    "                C[t][i][j] = float(words[3+t]) #* 1.e-6 # cm3/s -> m3/s\n",
    "\n",
    "        # calculate the inverse coefficient via LTE relation\n",
    "        for i in range(num_lvls):\n",
    "            for j in range(i):\n",
    "                for t in range(num_temps):\n",
    "                    if C[t][i][j] != 0:\n",
    "                        C[t][j][i] = C[t][i][j] * np.exp(-(E[i]-E[j])/(K_b_ev*temps[t]))*g[i]/g[j]\n",
    "\n",
    "        # add collision partner data to global array\n",
    "        C_all.append(C)\n",
    "\n",
    "    f.close()\n",
    "    C_all = np.array(C_all) #cm3/s\n",
    "    temps_all = np.array(temps_all) #K\n",
    "    E = np.array(E) #eV\n",
    "    g = np.array(g) \n",
    "    freq = np.array(freq) #Hz\n",
    "    A = np.array(A) #s-1\n",
    "    B = np.array(B) #cm2/(eV*s)\n",
    "    return mu, num_lvls, E, g, freq, A, B, C_all, num_partners, temps_all, num_temps, num_coll\n",
    "\n",
    "def partion_function(T, num_lvls, g, E):\n",
    "    Z=0.0\n",
    "    for i in range(0,num_lvls):\n",
    "        Z = Z + g[i]*np.exp(-E[i]/(K_b_ev*T))\n",
    "    return np.array(Z)\n",
    "\n",
    "def calc_lvlpops_partion(T, num_lvls, g, E):\n",
    "    ni = np.zeros(num_lvls)\n",
    "    Z = partion_function(T, num_lvls, g, E)\n",
    "    for i in range(0, num_lvls):\n",
    "        ni[i] = g[i]*np.exp(-E[i]/(K_b_ev*T)) / Z\n",
    "    return np.array(ni), Z"
   ]
  },
  {
   "cell_type": "code",
   "execution_count": 7,
   "metadata": {},
   "outputs": [],
   "source": [
    "mu, num_lvls, E, g, freq, A, B, C_all, num_partners, temps_all, num_temps, n_coll = read_file('CO.txt',c_cgs, h_ev, K_b_ev)\n",
    "\n",
    "\n",
    "\n"
   ]
  },
  {
   "cell_type": "code",
   "execution_count": 8,
   "metadata": {},
   "outputs": [],
   "source": [
    "ni, Z = calc_lvlpops_partion(T_mean, num_lvls, g, E)\n",
    "c_s_CO = np.sqrt(K_b * T_mean/(mH_cgs*mu))"
   ]
  },
  {
   "cell_type": "code",
   "execution_count": 9,
   "metadata": {},
   "outputs": [],
   "source": [
    "u = 1 #upper level\n",
    "l = 0 #lower level\n",
    "nu = pynbody.array.SimArray(freq[u][l], \"Hz\")\n",
    "n_i = ni[u]\n",
    "n_j = ni[l]\n",
    "A_ij = A[u][l]\n",
    "B_ij = B[u][l]\n",
    "B_ji = B[l][u]"
   ]
  },
  {
   "cell_type": "code",
   "execution_count": null,
   "metadata": {},
   "outputs": [],
   "source": []
  },
  {
   "cell_type": "code",
   "execution_count": 10,
   "metadata": {},
   "outputs": [],
   "source": [
    "X_H2_bar = pynbody.array.SimArray(np.load('radiative_transfer/outputs_RT/1.4/X_H2_bar_1.4.npy'),\n",
    "                                  units = \"1\")\n",
    "X_CO_bar = pynbody.array.SimArray(np.load('radiative_transfer/outputs_RT/1.4/X_CO_bar_1.4.npy'),\n",
    "                                  units = \"1\")\n",
    "mach_no_arr = np.load('radiative_transfer/outputs_RT/1.4/mach_no_arr_1.4.npy')\n",
    "n_H_mean_arr = pynbody.array.SimArray(np.load('radiative_transfer/outputs_RT/1.4/n_H_mean_arr_1.4.npy'),\n",
    "                                      units = \"cm**-3\")\n",
    "metal_arr = np.load('radiative_transfer/outputs_RT/1.4/metal_arr_1.4.npy')\n",
    "temperature = pynbody.array.SimArray(np.load('radiative_transfer/outputs_RT/1.4/T_1.4.npy'),\n",
    "                                     units = \"K\")\n",
    "j_10_bar = pynbody.array.SimArray(4*np.pi*np.load('radiative_transfer/outputs_RT/1.4/j_nu_bar_1.4.npy'), \n",
    "                                  units = \"eV cm**-3 s**-1\")\n",
    "dx = pynbody.array.SimArray(region.gas[\"smooth\"]*3.086e+21, \"cm\")"
   ]
  },
  {
   "cell_type": "code",
   "execution_count": 11,
   "metadata": {},
   "outputs": [],
   "source": [
    "region.gas[\"X_H2_bar\"] = X_H2_bar\n",
    "region.gas[\"X_CO_bar\"] = X_CO_bar\n",
    "region.gas[\"n_H_mean_arr\"] = n_H_mean_arr\n",
    "region.gas[\"mach_no_arr\"] = mach_no_arr\n",
    "region.gas[\"metal_arr\"] = metal_arr\n",
    "region.gas[\"j_10_bar\"] = j_10_bar\n"
   ]
  },
  {
   "cell_type": "code",
   "execution_count": 12,
   "metadata": {},
   "outputs": [],
   "source": [
    "l_CO = j_10_bar * (dx**3)"
   ]
  },
  {
   "cell_type": "code",
   "execution_count": 13,
   "metadata": {},
   "outputs": [
    {
     "data": {
      "text/plain": [
       "SimArray(0., 'eV s**-1')"
      ]
     },
     "execution_count": 13,
     "metadata": {},
     "output_type": "execute_result"
    }
   ],
   "source": [
    "np.min(l_CO)"
   ]
  },
  {
   "cell_type": "code",
   "execution_count": 14,
   "metadata": {},
   "outputs": [
    {
     "data": {
      "text/plain": [
       "SimArray(8.95064176e+45, 'eV s**-1')"
      ]
     },
     "execution_count": 14,
     "metadata": {},
     "output_type": "execute_result"
    }
   ],
   "source": [
    "np.max(l_CO)"
   ]
  },
  {
   "cell_type": "code",
   "execution_count": null,
   "metadata": {},
   "outputs": [],
   "source": []
  },
  {
   "cell_type": "code",
   "execution_count": 15,
   "metadata": {},
   "outputs": [],
   "source": [
    "L_CO = l_CO/L_sun"
   ]
  },
  {
   "cell_type": "code",
   "execution_count": 16,
   "metadata": {},
   "outputs": [
    {
     "data": {
      "text/plain": [
       "SimArray(0., '1.00e+00')"
      ]
     },
     "execution_count": 16,
     "metadata": {},
     "output_type": "execute_result"
    }
   ],
   "source": [
    "np.min(L_CO)"
   ]
  },
  {
   "cell_type": "code",
   "execution_count": 17,
   "metadata": {},
   "outputs": [
    {
     "data": {
      "text/plain": [
       "SimArray(3.67705345, '1.00e+00')"
      ]
     },
     "execution_count": 17,
     "metadata": {},
     "output_type": "execute_result"
    }
   ],
   "source": [
    "np.max(L_CO)"
   ]
  },
  {
   "cell_type": "code",
   "execution_count": null,
   "metadata": {},
   "outputs": [],
   "source": []
  },
  {
   "cell_type": "code",
   "execution_count": 18,
   "metadata": {},
   "outputs": [
    {
     "data": {
      "text/plain": [
       "SimArray(8.15171181e+47, 'eV s**-1')"
      ]
     },
     "execution_count": 18,
     "metadata": {},
     "output_type": "execute_result"
    }
   ],
   "source": [
    "L_CO_galaxy = np.sum(l_CO)\n",
    "L_CO_galaxy"
   ]
  },
  {
   "cell_type": "code",
   "execution_count": 19,
   "metadata": {},
   "outputs": [
    {
     "data": {
      "text/plain": [
       "SimArray(2.52489459, '1.00e+00')"
      ]
     },
     "execution_count": 19,
     "metadata": {},
     "output_type": "execute_result"
    }
   ],
   "source": [
    "ratio = L_CO_galaxy/L_sun\n",
    "np.log10(ratio)"
   ]
  },
  {
   "cell_type": "code",
   "execution_count": 20,
   "metadata": {},
   "outputs": [
    {
     "data": {
      "text/plain": [
       "SimArray(2.43418864e+45, 'eV s**-1')"
      ]
     },
     "execution_count": 20,
     "metadata": {},
     "output_type": "execute_result"
    }
   ],
   "source": [
    "L_sun"
   ]
  },
  {
   "cell_type": "code",
   "execution_count": 21,
   "metadata": {},
   "outputs": [
    {
     "data": {
      "text/plain": [
       "SimArray(2.60198995e+20, 'cm')"
      ]
     },
     "execution_count": 21,
     "metadata": {},
     "output_type": "execute_result"
    }
   ],
   "source": [
    "np.min(dx)"
   ]
  },
  {
   "cell_type": "code",
   "execution_count": 22,
   "metadata": {},
   "outputs": [
    {
     "data": {
      "text/plain": [
       "SimArray(2.08159196e+21, 'cm')"
      ]
     },
     "execution_count": 22,
     "metadata": {},
     "output_type": "execute_result"
    }
   ],
   "source": [
    "np.max(dx)"
   ]
  },
  {
   "cell_type": "code",
   "execution_count": null,
   "metadata": {},
   "outputs": [],
   "source": []
  },
  {
   "cell_type": "code",
   "execution_count": 23,
   "metadata": {},
   "outputs": [],
   "source": [
    "np.save('radiative_transfer/outputs_RT/1.7/l_CO_1.7.npy', l_CO)\n",
    "np.save('radiative_transfer/outputs_RT/1.7/dx_1.7.npy', dx)\n",
    "np.save('radiative_transfer/outputs_RT/1.7/L_CO_1.7.npy', L_CO)"
   ]
  },
  {
   "cell_type": "code",
   "execution_count": null,
   "metadata": {},
   "outputs": [],
   "source": []
  },
  {
   "cell_type": "code",
   "execution_count": 33,
   "metadata": {},
   "outputs": [
    {
     "data": {
      "image/png": "[encoded data removed]",
      "text/plain": [
       "<Figure size 648x360 with 1 Axes>"
      ]
     },
     "metadata": {
      "needs_background": "light"
     },
     "output_type": "display_data"
    }
   ],
   "source": [
    "plt.figure(figsize=(9,5))\n",
    "ax = plt.gca()\n",
    "plt.rc('font', size=SMALL_SIZE)          # controls default text sizes\n",
    "plt.rc('axes', titlesize=SMALL_SIZE)     # fontsize of the axes title\n",
    "plt.rc('axes', labelsize=MEDIUM_SIZE)    # fontsize of the x and y labels\n",
    "plt.rc('xtick', labelsize=10)    # fontsize of the tick labels\n",
    "plt.rc('ytick', labelsize=10)    # fontsize of the tick labels\n",
    "plt.rc('legend', fontsize=SMALL_SIZE)    # legend fontsize\n",
    "plt.rc('figure', titlesize=BIGGER_SIZE)  # fontsize of the figure title\n",
    "plt.scatter(np.log10(n_H_mean_arr), L_CO, c=\"b\")\n",
    "plt.xlabel('$log(n_{H,mean}) (cm^{-3})$')\n",
    "plt.ylabel('$L_{CO}(L_{sun})$')\n",
    "plt.title(\"$log(n_{H, mean}) (cm^{-3})$ vs $L_{CO}(L_{sun})$\")\n",
    "plt.grid(b=True, which='both', axis='both')\n",
    "plt.savefig('radiative_transfer/outputs_RT/1.7/log(n_H_mean)vsL_CO.png',\n",
    "            dpi=300, bbox_inches='tight')\n",
    "plt.show()"
   ]
  },
  {
   "cell_type": "code",
   "execution_count": 30,
   "metadata": {},
   "outputs": [
    {
     "name": "stderr",
     "output_type": "stream",
     "text": [
      "/net/cephfs/home/mkrets/anaconda2/lib/python2.7/site-packages/ipykernel_launcher.py:3: RuntimeWarning: divide by zero encountered in log10\n",
      "  This is separate from the ipykernel package so we can avoid doing imports until\n"
     ]
    },
    {
     "data": {
      "image/png": "[encoded data removed]",
      "text/plain": [
       "<Figure size 648x360 with 1 Axes>"
      ]
     },
     "metadata": {
      "needs_background": "light"
     },
     "output_type": "display_data"
    }
   ],
   "source": [
    "plt.figure(figsize=(9,5))\n",
    "#ax = plt.gca()\n",
    "plt.scatter(np.log10(n_H_mean_arr), np.log10(L_CO), c=\"b\")\n",
    "# ax.set_ylim([-6,1])\n",
    "# ax.set_xlim([-1, 3])\n",
    "plt.rc('font', size=SMALL_SIZE)          # controls default text sizes\n",
    "plt.rc('axes', titlesize=SMALL_SIZE)     # fontsize of the axes title\n",
    "plt.rc('axes', labelsize=MEDIUM_SIZE)    # fontsize of the x and y labels\n",
    "plt.rc('xtick', labelsize=10)    # fontsize of the tick labels\n",
    "plt.rc('ytick', labelsize=10)    # fontsize of the tick labels\n",
    "plt.rc('legend', fontsize=SMALL_SIZE)    # legend fontsize\n",
    "plt.rc('figure', titlesize=BIGGER_SIZE)  # fontsize of the figure title\n",
    "plt.xlabel('$log(n_{H,mean}) (cm^{-3})$')\n",
    "plt.ylabel('$log(L_{CO})(L_{sun})$')\n",
    "plt.title(\"$log(n_{H, mean}) (cm^{-3})$ vs $log(L_{CO})(L_{sun})$\")\n",
    "plt.grid(b=True, which='both', axis='both')\n",
    "plt.savefig('radiative_transfer/outputs_RT/1.7/log(n_H_mean)vslog(L_CO).png',\n",
    "            dpi=300, bbox_inches='tight')\n",
    "plt.show()"
   ]
  },
  {
   "cell_type": "code",
   "execution_count": null,
   "metadata": {},
   "outputs": [],
   "source": []
  },
  {
   "cell_type": "code",
   "execution_count": null,
   "metadata": {},
   "outputs": [],
   "source": []
  },
  {
   "cell_type": "code",
   "execution_count": null,
   "metadata": {},
   "outputs": [],
   "source": []
  },
  {
   "cell_type": "code",
   "execution_count": 31,
   "metadata": {},
   "outputs": [
    {
     "name": "stderr",
     "output_type": "stream",
     "text": [
      "/net/cephfs/home/mkrets/anaconda2/lib/python2.7/site-packages/ipykernel_launcher.py:3: RuntimeWarning: divide by zero encountered in log10\n",
      "  This is separate from the ipykernel package so we can avoid doing imports until\n"
     ]
    },
    {
     "data": {
      "image/png": "[encoded data removed]",
      "text/plain": [
       "<Figure size 648x360 with 1 Axes>"
      ]
     },
     "metadata": {
      "needs_background": "light"
     },
     "output_type": "display_data"
    }
   ],
   "source": [
    "plt.figure(figsize=(9,5))\n",
    "ax = plt.gca()\n",
    "plt.scatter(np.log10(n_H_mean_arr), np.log10(j_10_bar), c=\"b\")\n",
    "plt.rc('font', size=SMALL_SIZE)          # controls default text sizes\n",
    "plt.rc('axes', titlesize=SMALL_SIZE)     # fontsize of the axes title\n",
    "plt.rc('axes', labelsize=MEDIUM_SIZE)    # fontsize of the x and y labels\n",
    "plt.rc('xtick', labelsize=10)    # fontsize of the tick labels\n",
    "plt.rc('ytick', labelsize=10)    # fontsize of the tick labels\n",
    "plt.rc('legend', fontsize=SMALL_SIZE)    # legend fontsize\n",
    "plt.rc('figure', titlesize=BIGGER_SIZE)  # fontsize of the figure title\n",
    "plt.xlabel('$log(n_{H, mean}) (cm^{-3})$')\n",
    "plt.ylabel('$log(j_{10})(eV cm^{-3} s^{-1})$')\n",
    "plt.title(\"$log(n_{H, mean}) (cm^{-3})$ vs $log(j_{10})(eV cm^{-3} s^{-1})$\")\n",
    "plt.grid(b=True, which='both', axis='both')\n",
    "plt.savefig('radiative_transfer/outputs_RT/1.7/log(n_H_mean)vslog(j_10_bar).png', \n",
    "            dpi=300, bbox_inches='tight')\n",
    "plt.show()"
   ]
  },
  {
   "cell_type": "code",
   "execution_count": null,
   "metadata": {},
   "outputs": [],
   "source": []
  },
  {
   "cell_type": "code",
   "execution_count": null,
   "metadata": {},
   "outputs": [],
   "source": []
  },
  {
   "cell_type": "code",
   "execution_count": null,
   "metadata": {},
   "outputs": [],
   "source": []
  },
  {
   "cell_type": "code",
   "execution_count": null,
   "metadata": {},
   "outputs": [],
   "source": []
  },
  {
   "cell_type": "code",
   "execution_count": null,
   "metadata": {},
   "outputs": [],
   "source": []
  },
  {
   "cell_type": "code",
   "execution_count": null,
   "metadata": {},
   "outputs": [],
   "source": []
  },
  {
   "cell_type": "code",
   "execution_count": null,
   "metadata": {},
   "outputs": [],
   "source": []
  },
  {
   "cell_type": "code",
   "execution_count": null,
   "metadata": {},
   "outputs": [],
   "source": []
  },
  {
   "cell_type": "code",
   "execution_count": null,
   "metadata": {},
   "outputs": [],
   "source": []
  },
  {
   "cell_type": "code",
   "execution_count": null,
   "metadata": {},
   "outputs": [],
   "source": []
  },
  {
   "cell_type": "code",
   "execution_count": null,
   "metadata": {},
   "outputs": [],
   "source": []
  },
  {
   "cell_type": "code",
   "execution_count": null,
   "metadata": {},
   "outputs": [],
   "source": []
  },
  {
   "cell_type": "code",
   "execution_count": null,
   "metadata": {},
   "outputs": [],
   "source": []
  },
  {
   "cell_type": "code",
   "execution_count": null,
   "metadata": {},
   "outputs": [],
   "source": []
  },
  {
   "cell_type": "code",
   "execution_count": null,
   "metadata": {},
   "outputs": [],
   "source": []
  },
  {
   "cell_type": "code",
   "execution_count": null,
   "metadata": {},
   "outputs": [],
   "source": []
  },
  {
   "cell_type": "code",
   "execution_count": null,
   "metadata": {},
   "outputs": [],
   "source": []
  },
  {
   "cell_type": "code",
   "execution_count": null,
   "metadata": {},
   "outputs": [],
   "source": []
  },
  {
   "cell_type": "code",
   "execution_count": null,
   "metadata": {},
   "outputs": [],
   "source": []
  },
  {
   "cell_type": "code",
   "execution_count": null,
   "metadata": {},
   "outputs": [],
   "source": []
  },
  {
   "cell_type": "code",
   "execution_count": null,
   "metadata": {},
   "outputs": [],
   "source": []
  },
  {
   "cell_type": "code",
   "execution_count": null,
   "metadata": {},
   "outputs": [],
   "source": []
  },
  {
   "cell_type": "code",
   "execution_count": null,
   "metadata": {},
   "outputs": [],
   "source": []
  },
  {
   "cell_type": "code",
   "execution_count": null,
   "metadata": {},
   "outputs": [],
   "source": []
  },
  {
   "cell_type": "code",
   "execution_count": null,
   "metadata": {},
   "outputs": [],
   "source": []
  },
  {
   "cell_type": "code",
   "execution_count": null,
   "metadata": {},
   "outputs": [],
   "source": []
  }
 ],
 "metadata": {
  "kernelspec": {
   "display_name": "Python 2",
   "language": "python",
   "name": "python2"
  },
  "language_info": {
   "codemirror_mode": {
    "name": "ipython",
    "version": 2
   },
   "file_extension": ".py",
   "mimetype": "text/x-python",
   "name": "python",
   "nbconvert_exporter": "python",
   "pygments_lexer": "ipython2",
   "version": "2.7.16"
  }
 },
 "nbformat": 4,
 "nbformat_minor": 2
}
