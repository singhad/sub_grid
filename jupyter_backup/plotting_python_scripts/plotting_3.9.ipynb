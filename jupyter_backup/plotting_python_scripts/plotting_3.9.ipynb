{
 "cells": [
  {
   "cell_type": "code",
   "execution_count": 5,
   "metadata": {},
   "outputs": [],
   "source": [
    "# Here, Z is converted into solar units:\n",
    "#     Z_sim is in mass fraction units\n",
    "#     Z_arr = Z_sim/0.02\n",
    "#     kappa = 1000*m_p*Z_arr  --> in n_LW & n_LW_ss\n",
    "#     denominator = CC * Z_arr * n_H  --> in X_H2\n",
    "#     n_CO = 1e-4*n_H*X_CO*Z_arr"
   ]
  },
  {
   "cell_type": "code",
   "execution_count": 6,
   "metadata": {},
   "outputs": [
    {
     "name": "stdout",
     "output_type": "stream",
     "text": [
      "CPU times: user 33 µs, sys: 58 µs, total: 91 µs\n",
      "Wall time: 114 µs\n"
     ]
    }
   ],
   "source": [
    "%%time\n",
    "import timing\n",
    "import numpy as np\n",
    "import matplotlib.pyplot as plt\n",
    "import matplotlib.colors as cm\n",
    "import pynbody\n",
    "from michaels_functions import center_and_r_vir, remove_bulk_velocity\n",
    "from matplotlib.colors import LogNorm\n",
    "from matplotlib.pyplot import figure"
   ]
  },
  {
   "cell_type": "code",
   "execution_count": 7,
   "metadata": {},
   "outputs": [
    {
     "name": "stdout",
     "output_type": "stream",
     "text": [
      "('shifting on Stars:', SimArray([ 0.00308878, -0.03302971, -0.04676732], 'kpc'))\n",
      "('virial radius:', SimArray(152.40432611, 'kpc'))\n",
      "omega_b     =  0.450000017881393E-01\n",
      "unit_l      =  0.682025380323961E+26\n",
      "unit_d      =  0.123367583719985E-28\n",
      "unit_t      =  0.163687521954501E+18\n"
     ]
    }
   ],
   "source": [
    "path = \"bulk1/data_2/hydro_59/output/\"\n",
    "data = pynbody.load(path + \"output_00050\")\n",
    "\n",
    "aexp = data.properties['a']\n",
    "data.physical_units()\n",
    "r_vir = center_and_r_vir(data, aexp, path)\n",
    "remove_bulk_velocity(data)\n",
    "r_e = 0.1 * r_vir\n",
    "sph_5 = pynbody.filt.Sphere(radius = '5.0 kpc') # %(r_e*1.4))\n",
    "region = data[sph_5]\n",
    "f = open(data.filename + \"/info_\"+data.filename[-5:]+\".txt\",\"r\")\n",
    "lines = f.readlines()\n",
    "f.close()\n",
    "\n",
    "for line in lines:\n",
    "    if line[0:13]==\"unit_l      =\":\n",
    "        print line[:-1]\n",
    "        unit_l = float(line[14:-1])\n",
    "    if line[0:13]==\"unit_d      =\":\n",
    "        print line[:-1]\n",
    "        unit_d = float(line[14:-1])\n",
    "    if line[0:13]==\"unit_t      =\":\n",
    "        print line[:-1]\n",
    "        unit_t = float(line[14:-1])\n",
    "    if line[0:13]==\"omega_b     =\":\n",
    "        print line[:-1]\n",
    "        omega_b = float(line[14:-1])"
   ]
  },
  {
   "cell_type": "code",
   "execution_count": 8,
   "metadata": {},
   "outputs": [
    {
     "name": "stdout",
     "output_type": "stream",
     "text": [
      "CPU times: user 8 ms, sys: 7.84 ms, total: 15.8 ms\n",
      "Wall time: 16 ms\n"
     ]
    }
   ],
   "source": [
    "%%time\n",
    "X_H2_bar = np.load('outputs/3.9/X_H2_bar_3.9.npy')\n",
    "X_CO_bar = np.load('outputs/3.9/X_CO_bar_3.9.npy')\n",
    "n_H_mean_arr = np.load('outputs/3.9/n_H_mean_arr_3.9.npy')\n",
    "mach_no_arr = np.load('outputs/3.9/mach_no_arr_3.9.npy')\n",
    "Z_arr = np.load('outputs/3.9/Z_arr_3.9.npy')\n",
    "temperature = np.load('outputs/3.9/T_3.9.npy')"
   ]
  },
  {
   "cell_type": "code",
   "execution_count": 9,
   "metadata": {},
   "outputs": [
    {
     "name": "stdout",
     "output_type": "stream",
     "text": [
      "CPU times: user 1.58 ms, sys: 609 µs, total: 2.18 ms\n",
      "Wall time: 1.52 ms\n"
     ]
    }
   ],
   "source": [
    "%%time\n",
    "min_H = np.min(X_H2_bar)\n",
    "max_H = np.max(X_H2_bar)\n",
    "min_C = np.min(X_CO_bar)\n",
    "max_C = np.max(X_CO_bar)\n",
    "min_n = np.log10(np.min(n_H_mean_arr))\n",
    "max_n = np.log10(np.max(n_H_mean_arr))\n",
    "# min_M = np.min(mach_no_arr)\n",
    "# max_M = np.max(mach_no_arr)\n",
    "min_Z = np.min(Z_arr)\n",
    "max_Z = np.max(Z_arr)\n",
    "# min_T = np.min(temperature)\n",
    "# max_T = np.max(temperature)"
   ]
  },
  {
   "cell_type": "code",
   "execution_count": 10,
   "metadata": {},
   "outputs": [
    {
     "name": "stdout",
     "output_type": "stream",
     "text": [
      "CPU times: user 4.97 ms, sys: 615 ms, total: 620 ms\n",
      "Wall time: 617 ms\n"
     ]
    }
   ],
   "source": [
    "%%time\n",
    "region.gas[\"X_H2_bar\"] = X_H2_bar\n",
    "region.gas[\"X_CO_bar\"] = X_CO_bar\n",
    "region.gas[\"n_H_mean_arr\"] = n_H_mean_arr\n",
    "region.gas[\"mach_no_arr\"] = mach_no_arr\n",
    "region.gas[\"Z_arr\"] = Z_arr"
   ]
  },
  {
   "cell_type": "code",
   "execution_count": 11,
   "metadata": {},
   "outputs": [],
   "source": [
    "# %%time\n",
    "# plt.figure(figsize=(9,5))\n",
    "# histX_H2_M_mass, yedges, xedges = np.histogram2d(X_H2_bar, np.log10(n_H_mean_arr),\n",
    "#                                weights=mach_no_arr * region.gas[\"mass\"], bins=50 , range=[[min_H,max_H],[min_n,max_n]])\n",
    "# histX_H2_mass, yedges, xedges = np.histogram2d(X_H2_bar, np.log10(n_H_mean_arr),\n",
    "#                                weights=region.gas[\"mass\"], bins=50 , range=[[min_H,max_H],[min_n,max_n]])\n",
    "\n",
    "# yX_H2_M, xX_H2_M = yedges, xedges\n",
    "# plt.pcolormesh(xedges, yedges, histX_H2_M_mass/histX_H2_mass, norm=LogNorm(), vmin=1e0, vmax=1e2, cmap='viridis')\n",
    "# plt.colorbar(label=r\"$\\mathcal{M}$\")\n",
    "# plt.xlabel('log(n_H_mean)')\n",
    "# plt.ylabel('X_H2_bar')\n",
    "# plt.grid(b=True, which='both', axis='both')\n",
    "# plt.title('log(n_H_mean) vs X_H2_bar - M=10, Z=varied, G_o=1')\n",
    "# plt.savefig('outputs/3.9/Hist-X_H2_bar-n_H_mean-3.9.png', dpi=300, bbox_inches='tight')\n",
    "# plt.show()\n"
   ]
  },
  {
   "cell_type": "code",
   "execution_count": 12,
   "metadata": {},
   "outputs": [
    {
     "name": "stderr",
     "output_type": "stream",
     "text": [
      "/home/cluster/mkrets/anaconda2/lib/python2.7/site-packages/pynbody-0.47-py2.7-linux-x86_64.egg/pynbody/snapshot/__init__.py:1443: RuntimeWarning: Conjoining derived and non-derived arrays. Assuming result is non-derived, so no further updates will be made.\n",
      "  \"Conjoining derived and non-derived arrays. Assuming result is non-derived, so no further updates will be made.\", RuntimeWarning)\n",
      "/net/cephfs/home/mkrets/anaconda2/lib/python2.7/site-packages/ipykernel_launcher.py:8: RuntimeWarning: invalid value encountered in divide\n",
      "  \n",
      "/home/cluster/mkrets/anaconda2/lib/python2.7/site-packages/matplotlib/colors.py:1031: RuntimeWarning: invalid value encountered in less_equal\n",
      "  mask |= resdat <= 0\n"
     ]
    },
    {
     "data": {
      "image/png": "[encoded data removed]",
      "text/plain": [
       "<Figure size 648x360 with 2 Axes>"
      ]
     },
     "metadata": {
      "needs_background": "light"
     },
     "output_type": "display_data"
    },
    {
     "name": "stdout",
     "output_type": "stream",
     "text": [
      "CPU times: user 3.72 s, sys: 750 ms, total: 4.47 s\n",
      "Wall time: 4.43 s\n"
     ]
    }
   ],
   "source": [
    "%%time\n",
    "plt.figure(figsize=(9,5))\n",
    "histX_H2_M_mass, yedges, xedges = np.histogram2d(X_H2_bar, np.log10(n_H_mean_arr),\n",
    "                               weights=Z_arr * region.gas[\"mass\"], bins=50 , range=[[min_H,max_H],[min_n,max_n]])\n",
    "histX_H2_mass, yedges, xedges = np.histogram2d(X_H2_bar, np.log10(n_H_mean_arr),\n",
    "                               weights=region.gas[\"mass\"], bins=50 , range=[[min_H,max_H],[min_n,max_n]])\n",
    "\n",
    "yX_H2_Z, xX_H2_Z = yedges, xedges\n",
    "plt.pcolormesh(xedges, yedges, histX_H2_M_mass/histX_H2_mass, norm=LogNorm(), vmin=min_Z, vmax=max_Z, cmap=\"viridis\")\n",
    "plt.colorbar(label=\"$Z$\")\n",
    "plt.xlabel('log(n_H_mean)')\n",
    "plt.ylabel('X_H2_bar')\n",
    "plt.grid(b=True, which='both', axis='both')\n",
    "plt.title('log(n_H_mean) vs X_H2_bar - M=10, Z=varied, G_o=1')\n",
    "plt.savefig('outputs/3.9/Hist-X_H2_bar-n_H_mean_Z-3.9.png', dpi=300, bbox_inches='tight')\n",
    "plt.show()\n"
   ]
  },
  {
   "cell_type": "code",
   "execution_count": 13,
   "metadata": {},
   "outputs": [
    {
     "data": {
      "image/png": "[encoded data removed]",
      "text/plain": [
       "<Figure size 648x360 with 2 Axes>"
      ]
     },
     "metadata": {
      "needs_background": "light"
     },
     "output_type": "display_data"
    },
    {
     "name": "stdout",
     "output_type": "stream",
     "text": [
      "CPU times: user 19.3 s, sys: 2.88 s, total: 22.2 s\n",
      "Wall time: 8.33 s\n"
     ]
    }
   ],
   "source": [
    "%%time\n",
    "plt.figure(figsize=(9,5))\n",
    "pynbody.plot.image(region.g, qty=\"X_H2_bar\", width='7.0 kpc',\n",
    "                   log=False, resolution=500, cmap=\"viridis\", av_z=\"n_H_mean_arr\",\n",
    "                   vmin=min_H, vmax=max_H)\n",
    "plt.title(\"X_H2_bar-n_H_mean(cm^-3)\")\n",
    "plt.savefig('outputs/3.9/X_H2_bar-n_H_mean-3.9.png', dpi=300, bbox_inches='tight')\n",
    "plt.show()\n"
   ]
  },
  {
   "cell_type": "code",
   "execution_count": null,
   "metadata": {},
   "outputs": [],
   "source": []
  },
  {
   "cell_type": "code",
   "execution_count": null,
   "metadata": {},
   "outputs": [],
   "source": []
  },
  {
   "cell_type": "code",
   "execution_count": null,
   "metadata": {},
   "outputs": [],
   "source": [
    "# %%time\n",
    "# plt.figure(figsize=(9,5))\n",
    "# histX_CO_M_mass, yedges, xedges = np.histogram2d(X_CO_bar, np.log10(n_H_mean_arr),\n",
    "#                                weights=mach_no_arr * region.gas[\"mass\"], bins=50 , range=[[min_C,max_C],[min_n,max_n]])\n",
    "# histX_CO_mass, yedges, xedges = np.histogram2d(X_CO_bar, np.log10(n_H_mean_arr),\n",
    "#                                weights=region.gas[\"mass\"], bins=50 , range=[[min_C,max_C],[min_n,max_n]])\n",
    "\n",
    "# yX_CO_M, xX_CO_M = yedges, xedges\n",
    "# plt.pcolormesh(xedges, yedges, histX_CO_M_mass/histX_CO_mass, norm=LogNorm(), vmin=min_M, vmax=max_M, cmap=\"magma\")\n",
    "# plt.colorbar(label=r\"$\\mathcal{M}$\")\n",
    "# plt.xlabel('log(n_H_mean)')\n",
    "# plt.ylabel('X_CO_bar')\n",
    "# plt.grid(b=True, which='both', axis='both')\n",
    "# plt.title('log(n_H_mean) vs X_CO_bar - M=10, Z=varied, G_o=1')\n",
    "# plt.savefig('outputs/3.9/Hist-X_CO_bar-n_H_mean-3.9.png', dpi=300, bbox_inches='tight')\n",
    "# plt.show()\n"
   ]
  },
  {
   "cell_type": "code",
   "execution_count": 14,
   "metadata": {},
   "outputs": [
    {
     "name": "stderr",
     "output_type": "stream",
     "text": [
      "/net/cephfs/home/mkrets/anaconda2/lib/python2.7/site-packages/ipykernel_launcher.py:8: RuntimeWarning: invalid value encountered in divide\n",
      "  \n"
     ]
    },
    {
     "data": {
      "image/png": "[encoded data removed]",
      "text/plain": [
       "<Figure size 648x360 with 2 Axes>"
      ]
     },
     "metadata": {
      "needs_background": "light"
     },
     "output_type": "display_data"
    },
    {
     "name": "stdout",
     "output_type": "stream",
     "text": [
      "CPU times: user 970 ms, sys: 0 ns, total: 970 ms\n",
      "Wall time: 954 ms\n"
     ]
    }
   ],
   "source": [
    "%%time\n",
    "plt.figure(figsize=(9,5))\n",
    "histX_CO_M_mass, yedges, xedges = np.histogram2d(X_CO_bar, np.log10(n_H_mean_arr),\n",
    "                               weights=Z_arr * region.gas[\"mass\"], bins=50 , range=[[min_C,max_C],[min_n,max_n]])\n",
    "histX_CO_mass, yedges, xedges = np.histogram2d(X_CO_bar, np.log10(n_H_mean_arr),\n",
    "                               weights=region.gas[\"mass\"], bins=50 , range=[[min_C,max_C],[min_n,max_n]])\n",
    "\n",
    "yX_CO_Z, xX_CO_Z = yedges, xedges\n",
    "plt.pcolormesh(xedges, yedges, histX_CO_M_mass/histX_CO_mass, norm=LogNorm(), vmin=min_Z, vmax=max_Z, cmap=\"magma\")\n",
    "plt.colorbar(label=\"$Z$\")\n",
    "plt.xlabel('log(n_H_mean)')\n",
    "plt.ylabel('X_CO_bar')\n",
    "plt.grid(b=True, which='both', axis='both')\n",
    "plt.title('log(n_H_mean) vs X_CO_bar - M=10, Z=varied, G_o=1')\n",
    "plt.savefig('outputs/3.9/Hist-X_CO_bar-n_H_mean_Z-3.9.png', dpi=300, bbox_inches='tight')\n",
    "plt.show()\n"
   ]
  },
  {
   "cell_type": "code",
   "execution_count": 15,
   "metadata": {},
   "outputs": [
    {
     "data": {
      "image/png": "[encoded data removed]",
      "text/plain": [
       "<Figure size 648x360 with 2 Axes>"
      ]
     },
     "metadata": {
      "needs_background": "light"
     },
     "output_type": "display_data"
    },
    {
     "name": "stdout",
     "output_type": "stream",
     "text": [
      "CPU times: user 19.6 s, sys: 2.17 s, total: 21.8 s\n",
      "Wall time: 7.94 s\n"
     ]
    }
   ],
   "source": [
    "%%time\n",
    "plt.figure(figsize=(9,5))\n",
    "pynbody.plot.image(region.g, qty=\"X_CO_bar\", width='5.0 kpc',\n",
    "                   log=True, resolution=500, cmap=\"magma\", av_z=\"n_H_mean_arr\",\n",
    "                   vmin=1e-3, vmax=1.0)\n",
    "plt.title(\"X_CO_bar-n_H_mean(cm^-3)\")\n",
    "plt.savefig('outputs/3.9/X_CO_bar-n_H_mean-3.9.png', dpi=300, bbox_inches='tight')\n",
    "plt.show()\n"
   ]
  },
  {
   "cell_type": "code",
   "execution_count": null,
   "metadata": {},
   "outputs": [],
   "source": [
    "# %%time\n",
    "# plt.figure(figsize=(9,5))\n",
    "# histX_H2_T_mass, yedges, xedges = np.histogram2d(X_H2_bar, np.log10(n_H_mean_arr),\n",
    "#                                weights=temperature * region.gas[\"mass\"], bins=50 , range=[[min_H,max_H],[min_n,max_n]])\n",
    "# histX_H2_mass, yedges, xedges = np.histogram2d(X_H2_bar, np.log10(n_H_mean_arr),\n",
    "#                                weights=region.gas[\"mass\"], bins=50 , range=[[min_H,max_H],[min_n,max_n]])\n",
    "\n",
    "# yX_H2_M, xX_H2_M = yedges, xedges\n",
    "# plt.pcolormesh(xedges, yedges, histX_H2_T_mass/histX_H2_mass, norm=LogNorm(), vmin=10, vmax=1e4, cmap='viridis')\n",
    "# plt.colorbar(label=\"$T$\")\n",
    "# plt.xlabel('log(n_H_mean)')\n",
    "# plt.ylabel('X_H2_bar')\n",
    "# plt.grid(b=True, which='both', axis='both')\n",
    "# plt.title('log(n_H_mean) vs X_H2_bar - M=10, Z=varied(solar), G_o=1, T=varied')\n",
    "# plt.savefig('outputs/3.9/Hist-X_H2_bar-n_H_mean-T-3.9.png', dpi=300, bbox_inches='tight')\n",
    "# plt.show()\n"
   ]
  },
  {
   "cell_type": "code",
   "execution_count": null,
   "metadata": {},
   "outputs": [],
   "source": [
    "# %%time\n",
    "# plt.figure(figsize=(9,5))\n",
    "# histX_CO_T_mass, yedges, xedges = np.histogram2d(X_CO_bar, np.log10(n_H_mean_arr),\n",
    "#                                weights=temperature * region.gas[\"mass\"], bins=50 , \n",
    "#                                                  range=[[min_C,max_C],[min_n,max_n]])\n",
    "# histX_CO_mass, yedges, xedges = np.histogram2d(X_CO_bar, np.log10(n_H_mean_arr),\n",
    "#                                weights=region.gas[\"mass\"], bins=50 , range=[[min_C,max_C],[min_n,max_n]])\n",
    "\n",
    "# yX_CO_Z, xX_CO_Z = yedges, xedges\n",
    "# plt.pcolormesh(xedges, yedges, histX_CO_T_mass/histX_CO_mass, norm=LogNorm(), vmin=10, vmax=1e4, cmap=\"magma\")\n",
    "# plt.colorbar(label=\"$T$\")\n",
    "# plt.xlabel('log(n_H_mean)')\n",
    "# plt.ylabel('X_CO_bar')\n",
    "# plt.grid(b=True, which='both', axis='both')\n",
    "# plt.title('log(n_H_mean) vs X_CO_bar - M=varied, Z=varied(solar), G_o=1, T=varied')\n",
    "# plt.savefig('outputs/3.9/Hist-X_CO_bar-n_H_mean-T-3.9.png', dpi=300, bbox_inches='tight')\n",
    "# plt.show()\n",
    "\n"
   ]
  },
  {
   "cell_type": "code",
   "execution_count": null,
   "metadata": {},
   "outputs": [],
   "source": []
  },
  {
   "cell_type": "code",
   "execution_count": null,
   "metadata": {},
   "outputs": [],
   "source": []
  },
  {
   "cell_type": "code",
   "execution_count": null,
   "metadata": {},
   "outputs": [],
   "source": []
  },
  {
   "cell_type": "code",
   "execution_count": null,
   "metadata": {},
   "outputs": [],
   "source": []
  },
  {
   "cell_type": "code",
   "execution_count": null,
   "metadata": {},
   "outputs": [],
   "source": []
  },
  {
   "cell_type": "code",
   "execution_count": null,
   "metadata": {},
   "outputs": [],
   "source": []
  },
  {
   "cell_type": "code",
   "execution_count": null,
   "metadata": {},
   "outputs": [],
   "source": []
  },
  {
   "cell_type": "code",
   "execution_count": 14,
   "metadata": {},
   "outputs": [
    {
     "data": {
      "text/plain": [
       "244522"
      ]
     },
     "execution_count": 14,
     "metadata": {},
     "output_type": "execute_result"
    }
   ],
   "source": [
    "len(n_H_mean_arr)"
   ]
  },
  {
   "cell_type": "code",
   "execution_count": 16,
   "metadata": {},
   "outputs": [
    {
     "data": {
      "text/plain": [
       "array([1.00000000e+00, 1.00004238e+00, 1.00008475e+00, ...,\n",
       "       3.16200967e+04, 3.16214366e+04, 3.16227766e+04])"
      ]
     },
     "execution_count": 16,
     "metadata": {},
     "output_type": "execute_result"
    }
   ],
   "source": [
    "g_o = np.logspace(0, 4.5, len(n_H_mean_arr))\n",
    "g_o"
   ]
  },
  {
   "cell_type": "code",
   "execution_count": 17,
   "metadata": {},
   "outputs": [
    {
     "data": {
      "text/plain": [
       "31622.776601683792"
      ]
     },
     "execution_count": 17,
     "metadata": {},
     "output_type": "execute_result"
    }
   ],
   "source": [
    "max(g_o)"
   ]
  },
  {
   "cell_type": "code",
   "execution_count": 18,
   "metadata": {},
   "outputs": [
    {
     "data": {
      "text/plain": [
       "1.0"
      ]
     },
     "execution_count": 18,
     "metadata": {},
     "output_type": "execute_result"
    }
   ],
   "source": [
    "min(g_o)"
   ]
  },
  {
   "cell_type": "code",
   "execution_count": 20,
   "metadata": {},
   "outputs": [
    {
     "data": {
      "text/plain": [
       "244522"
      ]
     },
     "execution_count": 20,
     "metadata": {},
     "output_type": "execute_result"
    }
   ],
   "source": [
    "np.size(g_o)"
   ]
  },
  {
   "cell_type": "code",
   "execution_count": null,
   "metadata": {},
   "outputs": [],
   "source": []
  },
  {
   "cell_type": "code",
   "execution_count": null,
   "metadata": {},
   "outputs": [],
   "source": []
  },
  {
   "cell_type": "code",
   "execution_count": null,
   "metadata": {},
   "outputs": [],
   "source": []
  },
  {
   "cell_type": "code",
   "execution_count": null,
   "metadata": {},
   "outputs": [],
   "source": []
  },
  {
   "cell_type": "code",
   "execution_count": null,
   "metadata": {},
   "outputs": [],
   "source": []
  },
  {
   "cell_type": "code",
   "execution_count": 13,
   "metadata": {},
   "outputs": [],
   "source": [
    "T = region.gas[\"temp\"]"
   ]
  },
  {
   "cell_type": "code",
   "execution_count": 14,
   "metadata": {},
   "outputs": [
    {
     "data": {
      "text/plain": [
       "SimArray(12.30890401, 'K')"
      ]
     },
     "execution_count": 14,
     "metadata": {},
     "output_type": "execute_result"
    }
   ],
   "source": [
    "np.min(T)"
   ]
  },
  {
   "cell_type": "code",
   "execution_count": 15,
   "metadata": {},
   "outputs": [
    {
     "data": {
      "text/plain": [
       "SimArray(3.7084053e+08, 'K')"
      ]
     },
     "execution_count": 15,
     "metadata": {},
     "output_type": "execute_result"
    }
   ],
   "source": [
    "np.max(T)"
   ]
  },
  {
   "cell_type": "code",
   "execution_count": 16,
   "metadata": {},
   "outputs": [
    {
     "data": {
      "text/plain": [
       "0.02126032056381756"
      ]
     },
     "execution_count": 16,
     "metadata": {},
     "output_type": "execute_result"
    }
   ],
   "source": [
    "np.min(Z_arr)"
   ]
  },
  {
   "cell_type": "code",
   "execution_count": 17,
   "metadata": {},
   "outputs": [
    {
     "data": {
      "text/plain": [
       "5.697329413104828"
      ]
     },
     "execution_count": 17,
     "metadata": {},
     "output_type": "execute_result"
    }
   ],
   "source": [
    "np.max(Z_arr)"
   ]
  },
  {
   "cell_type": "code",
   "execution_count": 18,
   "metadata": {},
   "outputs": [
    {
     "data": {
      "text/plain": [
       "0.032081150756892815"
      ]
     },
     "execution_count": 18,
     "metadata": {},
     "output_type": "execute_result"
    }
   ],
   "source": [
    "np.min(mach_no_arr)"
   ]
  },
  {
   "cell_type": "code",
   "execution_count": 19,
   "metadata": {},
   "outputs": [
    {
     "data": {
      "text/plain": [
       "277.59727041447553"
      ]
     },
     "execution_count": 19,
     "metadata": {},
     "output_type": "execute_result"
    }
   ],
   "source": [
    "np.max(mach_no_arr)"
   ]
  },
  {
   "cell_type": "code",
   "execution_count": 20,
   "metadata": {},
   "outputs": [],
   "source": [
    "mask = np.logical_and(X_H2_bar > 0.6, np.log10(n_H_mean_arr) < -2.0)"
   ]
  },
  {
   "cell_type": "code",
   "execution_count": 21,
   "metadata": {},
   "outputs": [
    {
     "data": {
      "text/plain": [
       "SimArray([], dtype=float64, 'K')"
      ]
     },
     "execution_count": 21,
     "metadata": {},
     "output_type": "execute_result"
    }
   ],
   "source": [
    "T[mask]"
   ]
  },
  {
   "cell_type": "code",
   "execution_count": 22,
   "metadata": {},
   "outputs": [
    {
     "data": {
      "text/plain": [
       "array([], dtype=float64)"
      ]
     },
     "execution_count": 22,
     "metadata": {},
     "output_type": "execute_result"
    }
   ],
   "source": [
    "mach_no_arr[mask]"
   ]
  },
  {
   "cell_type": "code",
   "execution_count": 13,
   "metadata": {},
   "outputs": [
    {
     "data": {
      "text/plain": [
       "array([0., 0., 0., ..., 0., 0., 0.])"
      ]
     },
     "execution_count": 13,
     "metadata": {},
     "output_type": "execute_result"
    }
   ],
   "source": [
    "X_H2_bar"
   ]
  },
  {
   "cell_type": "code",
   "execution_count": 14,
   "metadata": {},
   "outputs": [
    {
     "data": {
      "text/plain": [
       "0.0"
      ]
     },
     "execution_count": 14,
     "metadata": {},
     "output_type": "execute_result"
    }
   ],
   "source": [
    "min(X_H2_bar)"
   ]
  },
  {
   "cell_type": "code",
   "execution_count": 15,
   "metadata": {},
   "outputs": [
    {
     "data": {
      "text/plain": [
       "0.9965042930692912"
      ]
     },
     "execution_count": 15,
     "metadata": {},
     "output_type": "execute_result"
    }
   ],
   "source": [
    "max(X_H2_bar)"
   ]
  },
  {
   "cell_type": "code",
   "execution_count": null,
   "metadata": {},
   "outputs": [],
   "source": []
  }
 ],
 "metadata": {
  "kernelspec": {
   "display_name": "Python 2",
   "language": "python",
   "name": "python2"
  },
  "language_info": {
   "codemirror_mode": {
    "name": "ipython",
    "version": 2
   },
   "file_extension": ".py",
   "mimetype": "text/x-python",
   "name": "python",
   "nbconvert_exporter": "python",
   "pygments_lexer": "ipython2",
   "version": "2.7.16"
  }
 },
 "nbformat": 4,
 "nbformat_minor": 2
}
