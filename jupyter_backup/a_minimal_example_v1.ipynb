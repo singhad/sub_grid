{
 "cells": [
  {
   "cell_type": "code",
   "execution_count": 7,
   "metadata": {},
   "outputs": [],
   "source": [
    "import numpy as np\n",
    "import matplotlib.pyplot as plt\n",
    "from matplotlib.colors import LogNorm\n",
    "import pynbody\n",
    "import os\n",
    "from michaels_functions import center_and_r_vir, config_check, halo_abundance"
   ]
  },
  {
   "cell_type": "code",
   "execution_count": 8,
   "metadata": {},
   "outputs": [
    {
     "name": "stdout",
     "output_type": "stream",
     "text": [
      "bulk1/data_2/hydro_59/output/\n",
      "a = 0.600005205268\n",
      "z = 0.666652207716\n"
     ]
    }
   ],
   "source": [
    "path = \"bulk1/data_2/hydro_59/output/\"\n",
    "data = pynbody.load(path + \"output_00050\")\n",
    "\n",
    "aexp = data.properties['a']\n",
    "data.physical_units()\n",
    "\n",
    "print path\n",
    "print \"a =\", aexp\n",
    "print \"z =\", 1./aexp -1"
   ]
  },
  {
   "cell_type": "code",
   "execution_count": 9,
   "metadata": {},
   "outputs": [
    {
     "name": "stdout",
     "output_type": "stream",
     "text": [
      "('shifting on Stars:', SimArray([ 0.00308878, -0.03302971, -0.04676732], 'kpc'))\n",
      "('virial radius:', SimArray(152.40432611, 'kpc'))\n"
     ]
    }
   ],
   "source": [
    "r_vir = center_and_r_vir(data, aexp, path)"
   ]
  },
  {
   "cell_type": "code",
   "execution_count": 10,
   "metadata": {},
   "outputs": [
    {
     "name": "stdout",
     "output_type": "stream",
     "text": [
      "15.240432611151682\n"
     ]
    }
   ],
   "source": [
    "r_e = 0.1 * r_vir\n",
    "print r_e"
   ]
  },
  {
   "cell_type": "code",
   "execution_count": 11,
   "metadata": {},
   "outputs": [],
   "source": [
    "sph_5 = pynbody.filt.Sphere(radius = '%f kpc' %(r_e))\n",
    "h1 = data[sph_5]"
   ]
  },
  {
   "cell_type": "code",
   "execution_count": null,
   "metadata": {},
   "outputs": [],
   "source": []
  },
  {
   "cell_type": "code",
   "execution_count": null,
   "metadata": {},
   "outputs": [],
   "source": []
  }
 ],
 "metadata": {
  "kernelspec": {
   "display_name": "Python 2",
   "language": "python",
   "name": "python2"
  },
  "language_info": {
   "codemirror_mode": {
    "name": "ipython",
    "version": 2
   },
   "file_extension": ".py",
   "mimetype": "text/x-python",
   "name": "python",
   "nbconvert_exporter": "python",
   "pygments_lexer": "ipython2",
   "version": "2.7.15"
  }
 },
 "nbformat": 4,
 "nbformat_minor": 2
}
