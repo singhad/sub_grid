{
 "cells": [
  {
   "cell_type": "code",
   "execution_count": 1,
   "metadata": {},
   "outputs": [],
   "source": [
    "import numpy as np\n",
    "import matplotlib.pyplot as plt\n",
    "import matplotlib.colors as cm\n",
    "import pynbody\n",
    "from michaels_functions import center_and_r_vir, remove_bulk_velocity\n",
    "from matplotlib.colors import LogNorm\n",
    "from matplotlib.pyplot import figure"
   ]
  },
  {
   "cell_type": "code",
   "execution_count": 30,
   "metadata": {},
   "outputs": [
    {
     "name": "stdout",
     "output_type": "stream",
     "text": [
      "('shifting on Stars:', SimArray([ 0.00308878, -0.03302971, -0.04676732], 'kpc'))\n",
      "('virial radius:', SimArray(152.40432611, 'kpc'))\n",
      "omega_b     =  0.450000017881393E-01\n",
      "unit_l      =  0.682025380323961E+26\n",
      "unit_d      =  0.123367583719985E-28\n",
      "unit_t      =  0.163687521954501E+18\n"
     ]
    }
   ],
   "source": [
    "path = \"bulk1/data_2/hydro_59/output/\"\n",
    "data = pynbody.load(path + \"output_00050\")\n",
    "aexp = data.properties['a']\n",
    "data.physical_units()\n",
    "r_vir = center_and_r_vir(data, aexp, path)\n",
    "remove_bulk_velocity(data)\n",
    "r_e = 0.1 * r_vir\n",
    "sph_5 = pynbody.filt.Sphere(radius = '5.0 kpc') # %(r_e*1.4))\n",
    "region = data[sph_5]\n",
    "rho = region.gas[\"rho\"].in_units(\"m_p cm**-3\")\n",
    "f = open(data.filename + \"/info_\"+data.filename[-5:]+\".txt\",\"r\")\n",
    "lines = f.readlines()\n",
    "f.close()\n",
    "for line in lines:\n",
    "    if line[0:13]==\"unit_l      =\":\n",
    "        print line[:-1]\n",
    "        unit_l = float(line[14:-1])\n",
    "    if line[0:13]==\"unit_d      =\":\n",
    "        print line[:-1]\n",
    "        unit_d = float(line[14:-1])\n",
    "    if line[0:13]==\"unit_t      =\":\n",
    "        print line[:-1]\n",
    "        unit_t = float(line[14:-1])\n",
    "    if line[0:13]==\"omega_b     =\":\n",
    "        print line[:-1]\n",
    "        omega_b = float(line[14:-1])"
   ]
  },
  {
   "cell_type": "code",
   "execution_count": 45,
   "metadata": {},
   "outputs": [],
   "source": [
    "m_p = pynbody.array.SimArray(1.672621777e-24, \"g\")\n",
    "K_b = pynbody.array.SimArray(1.38064852e-16, \"cm**2 g s**-2 K**-1\")\n",
    "G = pynbody.array.SimArray(6.67259e-8, \"cm**3 g**-1 s**-2\")\n",
    "T_mean = pynbody.array.SimArray(10., \"K\")\n",
    "dummy_length = pynbody.array.SimArray(1., \"cm\")\n",
    "dummy_mass = pynbody.array.SimArray(1., \"g\")\n",
    "turb = np.sqrt( region.g[\"turb\"] * 2./3. ) * unit_l / unit_t / 1e5\n",
    "turb = pynbody.array.SimArray(turb*1e5, units = \"cm s**-1\")\n",
    "T = region.g[\"temp\"]\n",
    "c_s = np.sqrt(K_b * T_mean / m_p)\n",
    "mach_no_sim = turb / c_s\n",
    "region.g[\"mach\"] = mach_no_sim.in_units(\"1\")\n",
    "m_p_1 = pynbody.array.SimArray(1.0, pynbody.units.m_p)\n",
    "n_H_mean_sim = rho / m_p_1"
   ]
  },
  {
   "cell_type": "code",
   "execution_count": 11,
   "metadata": {},
   "outputs": [],
   "source": [
    "# c_s = np.sqrt(region.gas[\"p\"] / region.gas[\"rho\"])\n",
    "# c_s = c_s.in_units('cm s**-1')"
   ]
  },
  {
   "cell_type": "code",
   "execution_count": 33,
   "metadata": {},
   "outputs": [],
   "source": [
    "def make_pdf(s, s_bar, sigma_s):\n",
    "    pdf = (1/np.sqrt(2*np.pi*(sigma_s**2))) * (np.exp(-0.5*(((s - s_bar)/sigma_s)**2)))\n",
    "    return pdf"
   ]
  },
  {
   "cell_type": "code",
   "execution_count": 34,
   "metadata": {},
   "outputs": [],
   "source": [
    "def calc_integral(s, pdf, X_H2, ds):\n",
    "    integ = 0.0\n",
    "    for i in range(0, 100):\n",
    "        integ += (np.exp(s[i])*pdf[i]*X_H2[i]*ds)\n",
    "    return integ"
   ]
  },
  {
   "cell_type": "code",
   "execution_count": 35,
   "metadata": {},
   "outputs": [],
   "source": [
    "def calc_integral2(s, pdf, X_CO, ds):\n",
    "    integ = 0.0\n",
    "    for i in range(0, 100):\n",
    "        integ += (np.exp(s[i])*pdf[i]*X_CO[i]*ds)\n",
    "    return integ"
   ]
  },
  {
   "cell_type": "code",
   "execution_count": 36,
   "metadata": {},
   "outputs": [],
   "source": [
    "def calc_lambda_jeans(n_H, c_s):\n",
    "    lambda_jeans = (c_s / np.sqrt(4* np.pi * G * n_H * m_p))\n",
    "    return lambda_jeans"
   ]
  },
  {
   "cell_type": "code",
   "execution_count": 37,
   "metadata": {},
   "outputs": [],
   "source": [
    "def calc_n_LW(n_H, G_o, lambda_jeans, Z):\n",
    "    kappa = 1000 * m_p * (Z/0.02)\n",
    "    rad_field_outside = G_o #in solar units\n",
    "    exp_tau = np.exp(-kappa * n_H * lambda_jeans)\n",
    "    n_LW = rad_field_outside * exp_tau\n",
    "    return n_LW"
   ]
  },
  {
   "cell_type": "code",
   "execution_count": 38,
   "metadata": {},
   "outputs": [],
   "source": [
    "def calc_n_LW_ss(n_H, n_H2, G_o, lambda_jeans):\n",
    "    kappa = 1000 * m_p * (Z/0.02)\n",
    "    rad_field_outside = G_o #in solar units\n",
    "    exp_tau = np.exp(-kappa * n_H * lambda_jeans)\n",
    "    N_H2 = n_H2*lambda_jeans\n",
    "    #N_H2 = N_H2.in_units('1')\n",
    "    term1 = pynbody.array.SimArray((0.965/((1+(N_H2/5e14))**2)), \"1\")\n",
    "    term2 = ( (0.035/np.sqrt(1+(N_H2/5e14))) * np.exp(-1*np.sqrt(1+(N_H2/5e14))/1180) )\n",
    "    #term1 = term1.in_units('1')\n",
    "    #term2 = term2.in_units('1')\n",
    "    S_H2 = term1 + term2\n",
    "    n_LW_ss = rad_field_outside * exp_tau * S_H2\n",
    "    return n_LW_ss"
   ]
  },
  {
   "cell_type": "code",
   "execution_count": 39,
   "metadata": {},
   "outputs": [],
   "source": [
    "def calc_X_H2(n_H, Z, n_LW):\n",
    "    DC = 1.7e-11\n",
    "    CC = 2.5e-17            #cm3 s-1\n",
    "    numerator = DC * n_LW\n",
    "    denominator = CC * Z * n_H\n",
    "    X_H2 = 1 / (2 + (numerator/denominator) )\n",
    "    return X_H2"
   ]
  },
  {
   "cell_type": "code",
   "execution_count": 48,
   "metadata": {},
   "outputs": [],
   "source": [
    "def self_shielding_iterations(n_H, G_o, lambda_jeans, Z):\n",
    "    X_H2 = np.zeros(100)\n",
    "    n_LW = np.zeros(100)\n",
    "    n_H2 = np.zeros(100)\n",
    "    n_LW_ss = np.zeros(100)\n",
    "    S_H2_ss = np.zeros(100)\n",
    "    N_H2_ss = np.zeros(100)\n",
    "    X_H2_ss = np.zeros(100)\n",
    "    n_H2_ss = np.zeros(100)\n",
    "    ctr = 15\n",
    "    i = 0\n",
    "    n_LW = calc_n_LW(n_H, G_o, lambda_jeans, Z)\n",
    "    X_H2 = calc_X_H2(n_H, Z, n_LW)\n",
    "    n_H2 = n_H * X_H2\n",
    "    n_H2_ss = n_H2\n",
    "    while i<ctr:\n",
    "        #for j in range(100):\n",
    "        n_LW_ss = calc_n_LW_ss(n_H, n_H2_ss, G_o, lambda_jeans)\n",
    "        X_H2_ss = calc_X_H2(n_H, Z, n_LW_ss)\n",
    "        n_H2_ss = n_H * X_H2_ss\n",
    "        i += 1\n",
    "    return n_LW, n_LW_ss, X_H2_ss, n_H2_ss, n_H2"
   ]
  },
  {
   "cell_type": "code",
   "execution_count": 41,
   "metadata": {},
   "outputs": [],
   "source": [
    "def calc_X_CO(n_H, n_H2, n_LW):\n",
    "    rate_CHX = 5.0e-10 * n_LW\n",
    "    rate_CO = 1.0e-10 * n_LW\n",
    "    x0 = 2.0e-4\n",
    "    k0 = 5.0e-16 #cm3 s-1\n",
    "    k1 = 5.0e-10 #cm3 s-1\n",
    "    factor_beta = rate_CHX/(n_H*k1*x0)\n",
    "    beta = 1./(1.+factor_beta)\n",
    "    factor_CO = rate_CO/(n_H2*k0*beta)\n",
    "    X_CO = 1./(1.+factor_CO)\n",
    "    return X_CO"
   ]
  },
  {
   "cell_type": "code",
   "execution_count": 42,
   "metadata": {},
   "outputs": [],
   "source": [
    "def calc_n_CO(n_H, X_CO, Z):\n",
    "    abundance_Ctot = 1e-4 # n_C/n_H as defined by nucleosynthesis\n",
    "    return n_H * abundance_Ctot * (Z/0.02) * X_CO # CO/cc"
   ]
  },
  {
   "cell_type": "code",
   "execution_count": 43,
   "metadata": {},
   "outputs": [],
   "source": [
    "def inside_loop(M, n_H_mean, Z, G_o, c_s):\n",
    "    s = np.zeros(100)\n",
    "    n_H = np.zeros(100)\n",
    "    pdf = np.zeros(100)\n",
    "    lambda_jeans = np.zeros(100)\n",
    "    X_CO = np.zeros(100)\n",
    "    n_CO = np.zeros(100)\n",
    "    integral1 = 0\n",
    "    integral2 = 0\n",
    "    sigma_s = np.sqrt(np.log(1 + ((0.3 * M)**2)))\n",
    "    s_bar = -0.5*(sigma_s**2)\n",
    "    smin = -7*sigma_s + s_bar\n",
    "    smax = 7*sigma_s + s_bar\n",
    "    ds = (smax - smin)/100\n",
    "    for i in range(100):\n",
    "        s[i] = smin + i*ds\n",
    "    pdf = make_pdf(s, s_bar, sigma_s)\n",
    "    n_H = n_H_mean * np.exp(s)\n",
    "    lambda_jeans = calc_lambda_jeans(n_H, c_s)\n",
    "    n_LW, n_LW_ss, X_H2_ss, n_H2_ss, n_H2 = self_shielding_iterations(n_H, G_o, lambda_jeans, Z)\n",
    "    integral1 = calc_integral(s, pdf, X_H2_ss, ds)\n",
    "    X_H2_bar = 2*integral1\n",
    "    X_CO = calc_X_CO(n_H, n_H2, n_LW)\n",
    "    n_CO = calc_n_CO(n_H, X_CO, Z)\n",
    "    integral2 = calc_integral2(s, pdf, X_CO, ds)\n",
    "    X_CO_bar = integral2\n",
    "    return X_H2_bar, X_CO_bar"
   ]
  },
  {
   "cell_type": "code",
   "execution_count": 51,
   "metadata": {},
   "outputs": [
    {
     "name": "stdout",
     "output_type": "stream",
     "text": [
      "CPU times: user 2.84 s, sys: 726 ms, total: 3.56 s\n",
      "Wall time: 2.87 s\n"
     ]
    }
   ],
   "source": [
    "%%time\n",
    "Z = 1\n",
    "G_o = 1\n",
    "#mach_no_arr = mach_no_sim\n",
    "#n_H_mean_arr = n_H_mean_sim\n",
    "mach_no_arr = pynbody.array.SimArray(np.logspace(-2, 2, 100), '1')\n",
    "n_H_mean_arr = pynbody.array.SimArray(np.logspace(-2, 3.5, 100), \"cm**-3\")\n",
    "X_H2_bar = np.zeros(len(n_H_mean_arr))\n",
    "X_CO_bar = np.zeros(len(n_H_mean_arr))\n",
    "for m in range(len(mach_no_arr)):\n",
    "    mach_no = mach_no_arr[m]\n",
    "    n_H_mean = n_H_mean_arr[m]\n",
    "    X_H2_bar[m], X_CO_bar[m] = inside_loop(mach_no, n_H_mean, Z, G_o, c_s)"
   ]
  },
  {
   "cell_type": "code",
   "execution_count": 52,
   "metadata": {},
   "outputs": [
    {
     "name": "stdout",
     "output_type": "stream",
     "text": [
      "CPU times: user 617 µs, sys: 0 ns, total: 617 µs\n",
      "Wall time: 497 µs\n"
     ]
    }
   ],
   "source": [
    "%%time\n",
    "min_n_H = np.log10(np.min(n_H_mean_arr))\n",
    "max_n_H = np.log10(np.max(n_H_mean_arr))\n",
    "min_M = np.min(mach_no_arr)\n",
    "max_M = np.max(mach_no_arr)\n",
    "min_X = np.min(X_H2_bar)\n",
    "max_X = np.max(X_H2_bar)\n",
    "min_C = np.min(X_CO_bar)\n",
    "max_C = np.max(X_CO_bar)"
   ]
  },
  {
   "cell_type": "code",
   "execution_count": 54,
   "metadata": {},
   "outputs": [
    {
     "name": "stderr",
     "output_type": "stream",
     "text": [
      "/net/cephfs/home/mkrets/anaconda2/lib/python2.7/site-packages/ipykernel_launcher.py:8: RuntimeWarning: invalid value encountered in divide\n",
      "  \n",
      "/home/cluster/mkrets/anaconda2/lib/python2.7/site-packages/matplotlib/colors.py:1031: RuntimeWarning: invalid value encountered in less_equal\n",
      "  mask |= resdat <= 0\n"
     ]
    },
    {
     "data": {
      "image/png": "[encoded data removed]",
      "text/plain": [
       "<Figure size 648x360 with 2 Axes>"
      ]
     },
     "metadata": {
      "needs_background": "light"
     },
     "output_type": "display_data"
    },
    {
     "name": "stdout",
     "output_type": "stream",
     "text": [
      "CPU times: user 567 ms, sys: 79.3 ms, total: 646 ms\n",
      "Wall time: 577 ms\n"
     ]
    }
   ],
   "source": [
    "%%time\n",
    "plt.figure(figsize=(9,5))\n",
    "histX_H2_M_mass, yedges, xedges = np.histogram2d(X_H2_bar, np.log10(n_H_mean_arr),\n",
    "                               weights=mach_no_arr, bins=50 , range=[[min_X,max_X],[min_n_H,max_n_H]])\n",
    "histX_H2_mass, yedges, xedges = np.histogram2d(X_H2_bar, np.log10(n_H_mean_arr),\n",
    "                               weights=None, bins=50 , range=[[min_X,max_X],[min_n_H,max_n_H]])\n",
    "\n",
    "yX_H2_M, xX_H2_M = yedges, xedges\n",
    "plt.pcolormesh(xedges, yedges, histX_H2_M_mass/histX_H2_mass, norm=LogNorm(), vmin=min_M, vmax=max_M)\n",
    "plt.colorbar(label=r\"$\\mathcal{M}$\")\n",
    "plt.xlabel('log(n_H_mean)')\n",
    "plt.ylabel('X_H2_bar')\n",
    "plt.grid(b=True, which='both', axis='both')\n",
    "plt.title('log(n_H_mean) vs X_H2_bar - M=varied, Z=1, G_o=1')\n",
    "plt.show()"
   ]
  },
  {
   "cell_type": "code",
   "execution_count": 62,
   "metadata": {},
   "outputs": [
    {
     "data": {
      "image/png": "[encoded data removed]",
      "text/plain": [
       "<Figure size 648x360 with 2 Axes>"
      ]
     },
     "metadata": {
      "needs_background": "light"
     },
     "output_type": "display_data"
    },
    {
     "name": "stdout",
     "output_type": "stream",
     "text": [
      "CPU times: user 270 ms, sys: 502 ms, total: 772 ms\n",
      "Wall time: 768 ms\n"
     ]
    }
   ],
   "source": [
    "%%time\n",
    "plt.figure(figsize=(9,5))\n",
    "plt.scatter(np.log10(n_H_mean_arr), X_H2_bar, \n",
    "            c=np.log(mach_no_arr), vmin=np.log(min_M), vmax=np.log(max_M), cmap='viridis')\n",
    "plt.colorbar(label=r\"$\\mathcal{M}$\")\n",
    "plt.xlabel('log(n_H_mean)')\n",
    "plt.ylabel('X_H2_bar')\n",
    "plt.grid(b=True, which='both', axis='both')\n",
    "plt.title('log(n_H_mean) vs X_H2_bar - M=varied, Z=1, G_o=1')\n",
    "plt.show()"
   ]
  },
  {
   "cell_type": "code",
   "execution_count": 58,
   "metadata": {},
   "outputs": [
    {
     "name": "stderr",
     "output_type": "stream",
     "text": [
      "/net/cephfs/home/mkrets/anaconda2/lib/python2.7/site-packages/ipykernel_launcher.py:8: RuntimeWarning: invalid value encountered in divide\n",
      "  \n"
     ]
    },
    {
     "data": {
      "image/png": "[encoded data removed]",
      "text/plain": [
       "<Figure size 648x360 with 2 Axes>"
      ]
     },
     "metadata": {
      "needs_background": "light"
     },
     "output_type": "display_data"
    },
    {
     "name": "stdout",
     "output_type": "stream",
     "text": [
      "CPU times: user 376 ms, sys: 19.2 ms, total: 395 ms\n",
      "Wall time: 382 ms\n"
     ]
    }
   ],
   "source": [
    "%%time\n",
    "plt.figure(figsize=(9,5))\n",
    "histX_CO_M_mass, y1edges, x1edges = np.histogram2d(X_CO_bar, np.log10(n_H_mean_arr),\n",
    "                               weights=mach_no_arr, bins=50 , range=[[min_C,max_C],[min_n_H,max_n_H]])\n",
    "histX_CO_mass, y1edges, x1edges = np.histogram2d(X_CO_bar, np.log10(n_H_mean_arr),\n",
    "                               weights=None, bins=50 , range=[[min_C,max_C],[min_n_H,max_n_H]])\n",
    "\n",
    "yX_CO_M, xX_CO_M = y1edges, x1edges\n",
    "plt.pcolormesh(x1edges, y1edges, histX_CO_M_mass/histX_CO_mass, norm=LogNorm(), vmin=min_M, vmax=max_M)\n",
    "plt.colorbar(label=r\"$\\mathcal{M}$\")\n",
    "plt.xlabel('log(n_H_mean)')\n",
    "plt.ylabel('X_CO_bar')\n",
    "plt.grid(b=True, which='both', axis='both')\n",
    "plt.title('log(n_H_mean) vs X_CO_bar - M=varied, Z=1, G_o=1')\n",
    "plt.show()"
   ]
  },
  {
   "cell_type": "code",
   "execution_count": 61,
   "metadata": {},
   "outputs": [
    {
     "data": {
      "image/png": "[encoded data removed]",
      "text/plain": [
       "<Figure size 648x360 with 2 Axes>"
      ]
     },
     "metadata": {
      "needs_background": "light"
     },
     "output_type": "display_data"
    },
    {
     "name": "stdout",
     "output_type": "stream",
     "text": [
      "CPU times: user 199 ms, sys: 10.5 ms, total: 209 ms\n",
      "Wall time: 206 ms\n"
     ]
    }
   ],
   "source": [
    "%%time\n",
    "plt.figure(figsize=(9,5))\n",
    "plt.scatter(np.log10(n_H_mean_arr), X_CO_bar, \n",
    "            c=np.log(mach_no_arr), vmin=np.log(min_M), vmax=np.log(max_M), cmap='viridis')\n",
    "plt.colorbar(label=r\"$\\mathcal{M}$\")\n",
    "plt.xlabel('log(n_H_mean)')\n",
    "plt.ylabel('X_CO_bar')\n",
    "plt.grid(b=True, which='both', axis='both')\n",
    "plt.title('log(n_H_mean) vs X_CO_bar - M=varied, Z=1, G_o=1')\n",
    "plt.show()"
   ]
  },
  {
   "cell_type": "code",
   "execution_count": 63,
   "metadata": {},
   "outputs": [],
   "source": [
    "# region.gas[\"X_H2_bar\"] = X_H2_bar\n",
    "# region.gas[\"n_H_mean_arr\"] = n_H_mean_arr\n",
    "# region.gas[\"X_CO_bar\"] = X_CO_bar\n",
    "\n",
    "# plt.figure(figsize=(9,5))\n",
    "# pynbody.plot.image(region.g, qty=\"X_H2_bar\", width='15.0 kpc',\n",
    "#                    log=False, resolution=1000, cmap=\"viridis\", av_z=\"n_H_mean_arr\",\n",
    "#                    vmin=5e-2, vmax=1)\n",
    "# plt.title(\"X_H2_bar-n_H_mean(cm^-3)\")\n",
    "# plt.savefig('outputs/1.5/X_H2_bar-n_H_mean-1.5.png', dpi=300, bbox_inches='tight')\n",
    "# plt.show()\n",
    "\n",
    "# plt.figure(figsize=(9,5))\n",
    "# pynbody.plot.image(region.g, qty=\"X_CO_bar\", width='15.0 kpc',\n",
    "#                    log=False, resolution=1000, cmap=\"viridis\", av_z=\"n_H_mean_arr\",\n",
    "#                    vmin=5e-10, vmax=1.0)\n",
    "# plt.title(\"X_CO_bar-n_H_mean(cm^-3)\")\n",
    "# plt.savefig('outputs/1.5/X_CO_bar-n_H_mean-1.5.png', dpi=300, bbox_inches='tight')\n",
    "# plt.show()"
   ]
  },
  {
   "cell_type": "code",
   "execution_count": 64,
   "metadata": {},
   "outputs": [],
   "source": [
    "# #Insert 3D plot\n",
    "\n",
    "# %%time\n",
    "# fig = plt.figure(figsize=(9,5))\n",
    "# ax = fig.add_subplot(1, 2, 1, projection='3d')\n",
    "# ax.plot_trisurf(X_H2_bar, np.log10(n_H_mean_sim), np.log(mach_no_sim), \n",
    "#                    norm=np.log(Z_arr), vmin=np.log(min_Z), vmax=np.log(max_Z), cmap='viridis')\n",
    "# plt.colorbar(label=\"$Z$\")\n",
    "# plt.xlabel('log(n_H_mean)')\n",
    "# plt.ylabel('X_H2_bar')\n",
    "# plt.zlabel('Mach no.')\n",
    "# plt.grid(b=True, which='both', axis='both')\n",
    "# plt.title('log(n_H_mean) vs X_H2_bar - M=varied, Z=varied, G_o=1')"
   ]
  },
  {
   "cell_type": "code",
   "execution_count": null,
   "metadata": {},
   "outputs": [],
   "source": []
  },
  {
   "cell_type": "code",
   "execution_count": null,
   "metadata": {},
   "outputs": [],
   "source": []
  },
  {
   "cell_type": "code",
   "execution_count": null,
   "metadata": {},
   "outputs": [],
   "source": []
  }
 ],
 "metadata": {
  "kernelspec": {
   "display_name": "Python 2",
   "language": "python",
   "name": "python2"
  },
  "language_info": {
   "codemirror_mode": {
    "name": "ipython",
    "version": 2
   },
   "file_extension": ".py",
   "mimetype": "text/x-python",
   "name": "python",
   "nbconvert_exporter": "python",
   "pygments_lexer": "ipython2",
   "version": "2.7.16"
  }
 },
 "nbformat": 4,
 "nbformat_minor": 2
}
