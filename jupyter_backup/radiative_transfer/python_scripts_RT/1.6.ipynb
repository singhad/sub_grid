{
 "cells": [
  {
   "cell_type": "code",
   "execution_count": 2,
   "metadata": {},
   "outputs": [],
   "source": [
    "# MODEL ONLY\n",
    "# Here, Z is converted into solar units:\n",
    "#     Z_sim is in mass fraction units\n",
    "#     Z_arr = Z_sim/0.02\n",
    "#     kappa = 1000*m_p*Z_arr  --> in n_LW & n_LW_ss\n",
    "#     denominator = CC * Z_arr * n_H  --> in X_H2\n",
    "#     n_CO = 1e-4*n_H*X_CO*Z_arr\n",
    "#     5kpc\n",
    "# Just taking the 2 --> 1 transition\n",
    "# Or up_level = 2; low_level = 1\n",
    "# i.e., i = 1; j = 0\n",
    "SMALL_SIZE = 18\n",
    "MEDIUM_SIZE = 20\n",
    "BIGGER_SIZE = 22"
   ]
  },
  {
   "cell_type": "code",
   "execution_count": 3,
   "metadata": {},
   "outputs": [],
   "source": [
    "%matplotlib inline\n",
    "\n",
    "#import sys\n",
    "import numpy as np\n",
    "#np.set_printoptions(threshold=sys.maxsize)\n",
    "import matplotlib.pyplot as plt\n",
    "import matplotlib.colors as cm\n",
    "import pynbody\n",
    "from michaels_functions import center_and_r_vir, remove_bulk_velocity\n",
    "from matplotlib.colors import LogNorm\n",
    "from matplotlib.pyplot import figure"
   ]
  },
  {
   "cell_type": "code",
   "execution_count": 4,
   "metadata": {},
   "outputs": [
    {
     "name": "stdout",
     "output_type": "stream",
     "text": [
      "('shifting on Stars:', SimArray([ 0.00308878, -0.03302971, -0.04676732], 'kpc'))\n",
      "('virial radius:', SimArray(152.40432611, 'kpc'))\n",
      "omega_b     =  0.450000017881393E-01\n",
      "unit_l      =  0.682025380323961E+26\n",
      "unit_d      =  0.123367583719985E-28\n",
      "unit_t      =  0.163687521954501E+18\n"
     ]
    }
   ],
   "source": [
    "path = \"bulk1/data_2/hydro_59/output/\"\n",
    "data = pynbody.load(path + \"output_00050\")\n",
    "aexp = data.properties['a']\n",
    "data.physical_units()\n",
    "r_vir = center_and_r_vir(data, aexp, path)\n",
    "remove_bulk_velocity(data)\n",
    "r_e = 0.1 * r_vir\n",
    "sph_5 = pynbody.filt.Sphere(radius = '5.0 kpc') # %(r_e*1.4))\n",
    "region = data[sph_5]\n",
    "rho = region.gas[\"rho\"].in_units(\"m_p cm**-3\")\n",
    "f = open(data.filename + \"/info_\"+data.filename[-5:]+\".txt\",\"r\")\n",
    "lines = f.readlines()\n",
    "f.close()\n",
    "for line in lines:\n",
    "    if line[0:13]==\"unit_l      =\":\n",
    "        print line[:-1]\n",
    "        unit_l = float(line[14:-1])\n",
    "    if line[0:13]==\"unit_d      =\":\n",
    "        print line[:-1]\n",
    "        unit_d = float(line[14:-1])\n",
    "    if line[0:13]==\"unit_t      =\":\n",
    "        print line[:-1]\n",
    "        unit_t = float(line[14:-1])\n",
    "    if line[0:13]==\"omega_b     =\":\n",
    "        print line[:-1]\n",
    "        omega_b = float(line[14:-1])"
   ]
  },
  {
   "cell_type": "code",
   "execution_count": 5,
   "metadata": {},
   "outputs": [],
   "source": [
    "m_p = pynbody.array.SimArray(1.672621777e-24, \"g\")\n",
    "K_b = pynbody.array.SimArray(1.38064852e-16, \"cm**2 g s**-2 K**-1\")\n",
    "G = pynbody.array.SimArray(6.67259e-8, \"cm**3 g**-1 s**-2\")\n",
    "T_mean = pynbody.array.SimArray(10., \"K\")\n",
    "K_b_ev = pynbody.array.SimArray(8.617e-5, \"eV K**-1\")\n",
    "K_b_erg = pynbody.array.SimArray(1.38064852e-16, \"erg K**-1\")\n",
    "c_si = pynbody.array.SimArray(2.99792458e5, \"km s**-1\")\n",
    "c_cgs = pynbody.array.SimArray(2.99792458e10, \"cm s**-1\")\n",
    "h_ev = pynbody.array.SimArray(4.13566770e-15, \"eV s\")\n",
    "h_erg = pynbody.array.SimArray(6.626196e-27, \"erg s\")\n",
    "mH_cgs = pynbody.array.SimArray(1.6737236e-24, 'g')  # hydrogen mass\n",
    "T_bg = pynbody.array.SimArray(2.73, \"K\")\n",
    "eV = pynbody.array.SimArray(6.241509e18, \"J\")\n",
    "L_sun = pynbody.array.SimArray(2.43418864387146974e+45, \"eV s**-1\")\n",
    "cell_width = pynbody.array.SimArray(region.gas[\"smooth\"]*3.086e+21, \"cm\")\n",
    "M_sun = pynbody.array.SimArray(2e33, \"g\")"
   ]
  },
  {
   "cell_type": "code",
   "execution_count": 6,
   "metadata": {},
   "outputs": [],
   "source": [
    "n_H_arr = pynbody.array.SimArray(np.load('outputs/sub_grid/n_H.npy'), \"cm**-3\")\n",
    "n_H2_arr = pynbody.array.SimArray(np.load('outputs/sub_grid/n_H2.npy'), \"cm**-3\")\n",
    "X_H2_arr = pynbody.array.SimArray(np.load('outputs/sub_grid/X_H2.npy'), \"1\")\n",
    "n_LW_arr = np.load('outputs/sub_grid/n_LW.npy')\n",
    "n_LW_ss_arr = np.load('outputs/sub_grid/n_LW_ss.npy')\n",
    "X_H2_ss_arr = pynbody.array.SimArray(np.load('outputs/sub_grid/X_H2_ss.npy'), \"1\")\n",
    "n_H2_ss_arr = pynbody.array.SimArray(np.load('outputs/sub_grid/n_H2_ss.npy'), \"cm**-3\")\n",
    "X_CO_arr = pynbody.array.SimArray(np.load('outputs/sub_grid/X_CO.npy'), \"1\")\n",
    "n_CO_arr = pynbody.array.SimArray(np.load('outputs/sub_grid/n_CO.npy'), \"cm**-3\")\n",
    "pdf_arr = np.load('outputs/sub_grid/pdf.npy')\n",
    "lambda_jeans_arr = pynbody.array.SimArray(np.load('outputs/sub_grid/lambda_jeans.npy'), \"cm\")"
   ]
  },
  {
   "cell_type": "code",
   "execution_count": 7,
   "metadata": {},
   "outputs": [],
   "source": [
    "def get_filename(species):\n",
    "    # filename is already given\n",
    "    if (species[-4:] == '.dat') or (species[-4:] == '.txt'):\n",
    "        return species\n",
    "    # molecule is chosen\n",
    "    THIS_FOLDER = os.path.dirname(os.path.abspath(__file__))\n",
    "    database = os.path.join(THIS_FOLDER, 'LAMDA')\n",
    "    if species == 'HCO+':\n",
    "        filename = os.path.join(database, 'HCO+.dat')\n",
    "    elif species == 'H13CO+':\n",
    "        filename = os.path.join(database, 'H13CO+.dat')\n",
    "    elif species == 'N2H+':\n",
    "        filename = os.path.join(database, 'N2H+.dat')\n",
    "    elif species == 'SiO':\n",
    "        filename = os.path.join(database, 'SiO.dat')\n",
    "    elif species == 'HNC':\n",
    "        filename = os.path.join(database, 'HNC.dat')\n",
    "    elif species == 'HCN':\n",
    "        filename = os.path.join(database, 'HCN.dat')\n",
    "    elif species == 'CO':\n",
    "        filename = os.path.join(database, 'CO.dat')\n",
    "    else:\n",
    "        print('Unknow species. Chose from HCO+, H13CO+, N2H+, SiO, HNC, HCN, CO')\n",
    "        print('or provide a LAMDA datafile.')\n",
    "        exit()\n",
    "\n",
    "    return filename\n",
    "\n",
    "def read_file(species, c_cgs, h_ev, K_b_ev):\n",
    "    filename = get_filename(species)\n",
    "    f = open(filename, 'r')\n",
    "\n",
    "    f.readline()\n",
    "    species = f.readline()\n",
    "\n",
    "    f.readline()\n",
    "    mu = float(f.readline())  # molecular weight\n",
    "\n",
    "    f.readline()\n",
    "    num_lvls = int(f.readline())  # number of energy levels\n",
    "\n",
    "    # read energy levels: energy E, statistical weight g\n",
    "    f.readline()\n",
    "    E = []\n",
    "    g = []\n",
    "    for l in range(num_lvls):\n",
    "        words = f.readline().split()\n",
    "        E.append(float(words[1]) *c_cgs*h_ev) # cm^-1 -> eV\n",
    "        g.append(float(words[2]))\n",
    "\n",
    "    f.readline()\n",
    "    num_trans = int(f.readline())  # number of radiative transistions\n",
    "\n",
    "    # read transistions: upper lvl, lower lvl, A-coefficient, frequency\n",
    "    f.readline()\n",
    "    A = np.zeros((num_lvls, num_lvls))\n",
    "    freq = np.zeros((num_lvls, num_lvls))\n",
    "    for t in range(num_trans):\n",
    "        words = f.readline().split()\n",
    "        up = int(words[1]) - 1\n",
    "        low = int(words[2]) - 1\n",
    "        if up-low==1:\n",
    "            A[up][low] = float(words[3])  # s^-1\n",
    "            freq[up][low] = float(words[4]) * 1e9  # GHz -> Hz\n",
    "            #freq[low][up] = freq[up][low] #un-comment this only if low->up transitions are also allowed\n",
    "\n",
    "    # compute B-coefficient via Einstein relations\n",
    "    # Bij = coeff for stimulated emission, Bji = coeff for extinction (j<i)\n",
    "    B = np.zeros((num_lvls, num_lvls))\n",
    "    for i in range(0, num_lvls):\n",
    "        for j in range(0, i):\n",
    "            if A[i][j] != 0:\n",
    "                B[i][j] = A[i][j] * (c_cgs**2) / (2*h_ev * (freq[i][j])**3) # cm2/(eV*s)\n",
    "                B[j][i] = B[i][j] * g[i]/g[j]\n",
    "\n",
    "    # number of collision partners in the data file\n",
    "    f.readline()\n",
    "    num_partners = int(f.readline())\n",
    "\n",
    "    C_all = []\n",
    "    temps_all = []\n",
    "    for partner in range(num_partners):\n",
    "        # reference\n",
    "        f.readline()\n",
    "        line = f.readline()\n",
    "\n",
    "        # number of collisional transitions\n",
    "        f.readline()\n",
    "        num_coll = int(f.readline())\n",
    "\n",
    "        # number of temperatures in the table\n",
    "        f.readline()\n",
    "        num_temps = int(f.readline())\n",
    "\n",
    "        # read the temperature values\n",
    "        f.readline()\n",
    "        words = f.readline().split()\n",
    "        temps = np.zeros(num_temps)\n",
    "        for t in range(num_temps):\n",
    "            temps[t] = float(words[t])\n",
    "            temps_all.append(temps)  # K\n",
    "\n",
    "        # read collision coeff data: upper lvl, lower lvl, C-coefficient for each temp\n",
    "        C = np.zeros((num_temps, num_lvls, num_lvls))\n",
    "        f.readline()\n",
    "        for col in range(num_coll):\n",
    "            words = f.readline().split()\n",
    "            i = int(words[1]) - 1\n",
    "            j = int(words[2]) - 1\n",
    "            for t in range(num_temps):\n",
    "                C[t][i][j] = float(words[3+t]) #* 1.e-6 # cm3/s -> m3/s\n",
    "\n",
    "        # calculate the inverse coefficient via LTE relation\n",
    "        for i in range(num_lvls):\n",
    "            for j in range(i):\n",
    "                for t in range(num_temps):\n",
    "                    if C[t][i][j] != 0:\n",
    "                        C[t][j][i] = C[t][i][j] * np.exp(-(E[i]-E[j])/(K_b_ev*temps[t]))*g[i]/g[j]\n",
    "\n",
    "        # add collision partner data to global array\n",
    "        C_all.append(C)\n",
    "\n",
    "    f.close()\n",
    "    C_all = np.array(C_all) #cm3/s\n",
    "    temps_all = np.array(temps_all) #K\n",
    "    E = np.array(E) #eV\n",
    "    g = np.array(g) \n",
    "    freq = np.array(freq) #Hz\n",
    "    A = np.array(A) #s-1\n",
    "    B = np.array(B) #cm2/(eV*s)\n",
    "    return mu, num_lvls, E, g, freq, A, B, C_all, num_partners, temps_all, num_temps, num_coll\n",
    "\n",
    "def partion_function(T, num_lvls, g, E):\n",
    "    Z=0.0\n",
    "    for i in range(0,num_lvls):\n",
    "        Z = Z + g[i]*np.exp(-E[i]/(K_b_ev*T))\n",
    "    return np.array(Z)\n",
    "\n",
    "def calc_lvlpops_partion(T, num_lvls, g, E):\n",
    "    ni = np.zeros(num_lvls)\n",
    "    Z = partion_function(T, num_lvls, g, E)\n",
    "    for i in range(0, num_lvls):\n",
    "        ni[i] = g[i]*np.exp(-E[i]/(K_b_ev*T)) / Z\n",
    "    return np.array(ni), Z"
   ]
  },
  {
   "cell_type": "code",
   "execution_count": 8,
   "metadata": {},
   "outputs": [],
   "source": [
    "mu, num_lvls, E, g, freq, A, B, C_all, num_partners, temps_all, num_temps, n_coll = read_file('CO.txt',c_cgs, h_ev, K_b_ev)\n",
    "\n",
    "\n",
    "\n"
   ]
  },
  {
   "cell_type": "code",
   "execution_count": 9,
   "metadata": {},
   "outputs": [],
   "source": [
    "# pynbody.array.SimArray(, \"\")\n",
    "u = 1 #upper level\n",
    "l = 0 #lower level\n",
    "nu = pynbody.array.SimArray(freq[u][l], \"Hz\")\n",
    "A_ij = pynbody.array.SimArray(A[u][l], \"s**-1\")\n",
    "B_ij = pynbody.array.SimArray(B[u][l], \"cm**2 eV**-1 s**-1\")\n",
    "B_ji = pynbody.array.SimArray(B[l][u], \"cm**2 eV**-1 s**-1\")\n",
    "temps_all = pynbody.array.SimArray(temps_all, \"K\")"
   ]
  },
  {
   "cell_type": "code",
   "execution_count": 10,
   "metadata": {},
   "outputs": [
    {
     "data": {
      "text/plain": [
       "SimArray(5.10995088e-06, 'cm**2 eV**-1 s**-1')"
      ]
     },
     "execution_count": 10,
     "metadata": {},
     "output_type": "execute_result"
    }
   ],
   "source": [
    "B_ij"
   ]
  },
  {
   "cell_type": "code",
   "execution_count": 11,
   "metadata": {},
   "outputs": [
    {
     "data": {
      "text/plain": [
       "SimArray(1.53298527e-05, 'cm**2 eV**-1 s**-1')"
      ]
     },
     "execution_count": 11,
     "metadata": {},
     "output_type": "execute_result"
    }
   ],
   "source": [
    "B_ji"
   ]
  },
  {
   "cell_type": "code",
   "execution_count": null,
   "metadata": {},
   "outputs": [],
   "source": []
  },
  {
   "cell_type": "code",
   "execution_count": 12,
   "metadata": {},
   "outputs": [],
   "source": [
    "ni, Z = calc_lvlpops_partion(T_mean, num_lvls, g, E)\n",
    "c_s_CO = np.sqrt(K_b * T_mean/(mH_cgs*mu))\n",
    "n_i = ni[u]\n",
    "n_j = ni[l]"
   ]
  },
  {
   "cell_type": "code",
   "execution_count": 13,
   "metadata": {},
   "outputs": [],
   "source": [
    "def tau_LVG(N, nu, lambda_jeans, n_i, n_j, B_ij, B_ji, c_s_CO):\n",
    "    # units: eV*s * Hz * cm * 1/cm3 * cm2/(eV*s) * 1/(Hz) = none\n",
    "    delta_nu = c_s_CO*nu/c_cgs #\"Hz\"\n",
    "    tau_lvg = h_ev*nu*lambda_jeans*N*((n_j*B_ji)-(n_i*B_ij)) / (4*np.pi*delta_nu)\n",
    "    return tau_lvg\n",
    "\n",
    "def calc_line_profile(nu):\n",
    "    delta_nu = c_s_CO*nu/c_cgs #\"Hz\"\n",
    "    line_profile = 1/delta_nu #Hz-1\n",
    "    return line_profile\n",
    "    \n",
    "def beta_LVG(tau):\n",
    "    beta_lvg = np.zeros(len(tau))\n",
    "    for i in range(0, len(tau)):\n",
    "        if tau[i] < 0.01:\n",
    "            beta_lvg[i] = 1. - tau[i]/2.\n",
    "        elif tau[i] > 100.:\n",
    "            beta_lvg[i] = 1./tau[i]\n",
    "        else:\n",
    "            beta_lvg[i] = (1.0 - np.exp(-tau[i])) / tau[i]\n",
    "    return beta_lvg\n",
    "\n",
    "def B_nu_ev(nu, T):\n",
    "    if nu==0.:\n",
    "        return 0.\n",
    "    if nu>0:\n",
    "        x = h_ev*nu/(K_b_ev*T) #units: none\n",
    "        #units: eV*s * Hz3 / (cm2/s2) = eV * s3 * Hz3 * cm-2 = eV/s/Hz/cm2\n",
    "        B_nu_ev = 2.0*h_ev*(nu**3) / ((c_cgs**2) * (np.exp(x)-1.0))\n",
    "        return B_nu_ev\n",
    "\n",
    "def calc_emissivity(N, nu, n_i, A_ij, phi_nu):\n",
    "    #units: eV*s * Hz * cm-3 * s-1 * Hz-1 = eV/cm3/s/Hz/sr\n",
    "    j_nu = h_ev * nu * N * n_i * A_ij * phi_nu / (4*np.pi)\n",
    "    return j_nu\n",
    "\n",
    "def calc_integrated_emissivity(N, nu, n_i, A_ij):\n",
    "    #units: eV*s * Hz * cm-3 * s-1 = eV/cm3/s\n",
    "    j_10 = h_ev * nu * 1e-4 * n_i * A_ij *n_H_arr\n",
    "    return j_10\n",
    "\n",
    "def calc_j_10_beta(j_10, beta):\n",
    "    return j_10*beta"
   ]
  },
  {
   "cell_type": "code",
   "execution_count": 14,
   "metadata": {},
   "outputs": [],
   "source": [
    "dx = np.mean(cell_width)\n",
    "mach_no = 10\n",
    "sigma_s = np.sqrt(np.log(1 + ((0.3 * mach_no)**2)))\n",
    "s_bar = -0.5*(sigma_s**2)\n",
    "smin = -7*sigma_s + s_bar\n",
    "smax = 7*sigma_s + s_bar\n",
    "ds = (smax - smin)/100\n",
    "# phi_nu = pynbody.array.SimArray(calc_line_profile(nu), \"Hz**-1\")\n",
    "N = pynbody.array.SimArray(n_CO_arr, \"cm**-3\")\n",
    "tau_nu = pynbody.array.SimArray(tau_LVG(N, nu, lambda_jeans_arr, n_i, n_j, B_ij, B_ji, c_s_CO), \"1\")\n",
    "beta_nu = pynbody.array.SimArray(beta_LVG(tau_nu), \"1\")\n",
    "# j_nu = pynbody.array.SimArray(calc_emissivity(N, nu, n_i, A_ij, phi_nu), \"eV cm**-3 s**-1 Hz**-1\")\n",
    "j_10 = pynbody.array.SimArray(calc_integrated_emissivity(n_CO_arr, nu, n_i, A_ij), \"eV cm**-3 s**-1\")\n",
    "# j_10_beta = pynbody.array.SimArray(calc_j_10_beta(j_10, beta_nu), \"eV cm**-3 s**-1\") #what comes out of the cell\n",
    "# j_10_bar = pynbody.array.SimArray(j_10_beta*pdf_arr, \"eV cm**-3 s**-1\")\n",
    "#l_CO = (((h_ev * nu * A_ij/m_p) * 1e-4) * 0.5* ((c_cgs/nu)**3) / K_b_ev)*1e-5*((3.24078e-19)**2)*M_sun * n_H_arr\n",
    "#l_CO = j_10 * (dx**3)\n",
    "l_CO = 1.60218e-12*j_10/m_p\n",
    "l_CO_prime = h_ev * nu * n_CO_arr * n_i * A_ij * 1.60218e-12*beta_nu/m_p\n",
    "alpha_CO_SI = ((c_cgs/nu)**3)*1e-5*((3.24078e-19)**2)*M_sun/ (2*K_b_erg)\n",
    "l_CO_SI = l_CO * alpha_CO_SI\n",
    "l_CO_prime_SI = l_CO_prime * alpha_CO_SI\n",
    "\n",
    "l_CO_bar = l_CO_prime * pdf_arr * ds\n",
    "l_CO_bar_SI = l_CO_prime_SI * pdf_arr * ds\n",
    "#L_CO = l_CO/L_sun"
   ]
  },
  {
   "cell_type": "code",
   "execution_count": null,
   "metadata": {},
   "outputs": [],
   "source": []
  },
  {
   "cell_type": "code",
   "execution_count": 18,
   "metadata": {},
   "outputs": [
    {
     "data": {
      "image/png": "[encoded data removed]",
      "text/plain": [
       "<Figure size 648x360 with 1 Axes>"
      ]
     },
     "metadata": {
      "needs_background": "light"
     },
     "output_type": "display_data"
    }
   ],
   "source": [
    "plt.figure(figsize=(9,5))\n",
    "ax = plt.gca()\n",
    "plt.plot(np.log10(n_H_arr), np.log10(l_CO/n_H_arr), c=\"b\", lw=4, label=\"l_CO\")\n",
    "plt.plot(np.log10(n_H_arr), np.log10(l_CO_prime/n_H_arr), c=\"r\", lw=4, label=\"l_CO_prime\")\n",
    "plt.plot(np.log10(n_H_arr), np.log10(l_CO_bar/n_H_arr), c=\"k\", lw=4, label=\"l_CO_bar\")\n",
    "# ax.set_ylim([-6,1])\n",
    "# ax.set_xlim([-1, 3])\n",
    "plt.rc('figure', titlesize=18)\n",
    "plt.rc('axes', titlesize=18)     # fontsize of the axes title\n",
    "plt.rc('axes', labelsize=18)    # fontsize of the x and y labels\n",
    "plt.xlabel('$log(n_{H}) \\ (cm^{-3})$')\n",
    "plt.ylabel('$log(l_{CO}/n_{H}) \\ (erg s^{-1} g^{-1})$')\n",
    "plt.legend()\n",
    "plt.grid(b=True, which='both', axis='both')\n",
    "plt.title(\"$log(n_{H}) \\ (cm^{-3})$ vs $log(l_{CO}/n_{H}) \\ (erg s^{-1} g^{-1})$\")\n",
    "plt.savefig('outputs/test_plots/log(n_H)vslog(l_CO)_yesterday.png', \n",
    "            dpi=300, bbox_inches='tight')\n",
    "plt.show()"
   ]
  },
  {
   "cell_type": "code",
   "execution_count": null,
   "metadata": {},
   "outputs": [],
   "source": []
  },
  {
   "cell_type": "code",
   "execution_count": null,
   "metadata": {},
   "outputs": [],
   "source": []
  },
  {
   "cell_type": "code",
   "execution_count": 19,
   "metadata": {},
   "outputs": [
    {
     "data": {
      "image/png": "[encoded data removed]",
      "text/plain": [
       "<Figure size 648x360 with 1 Axes>"
      ]
     },
     "metadata": {
      "needs_background": "light"
     },
     "output_type": "display_data"
    }
   ],
   "source": [
    "plt.figure(figsize=(9,5))\n",
    "ax = plt.gca()\n",
    "plt.plot(np.log10(n_H_arr), np.log10(l_CO_SI/n_H_arr), c=\"b\", lw=4, label=\"l_CO_SI\")\n",
    "plt.plot(np.log10(n_H_arr), np.log10(l_CO_prime_SI/n_H_arr), c=\"r\", lw=4, label=\"l_CO_prime_SI\")\n",
    "plt.plot(np.log10(n_H_arr), np.log10(l_CO_bar_SI/n_H_arr), c=\"k\", lw=4, label=\"l_CO_bar_SI\")\n",
    "# ax.set_ylim([-6,1])\n",
    "# ax.set_xlim([-1, 3])\n",
    "plt.rc('figure', titlesize=18)\n",
    "plt.rc('axes', titlesize=18)     # fontsize of the axes title\n",
    "plt.rc('axes', labelsize=18)    # fontsize of the x and y labels\n",
    "plt.xlabel('$log(n_{H}) \\ (cm^{-3})$')\n",
    "plt.ylabel('$log(l_{CO}/n_{H}) \\ (K km s^{-1} pc^{2} Msol^{-1})$')\n",
    "plt.legend()\n",
    "plt.grid(b=True, which='both', axis='both')\n",
    "plt.title(\"$log(n_{H}) \\ (cm^{-3})$ vs $log(l_{CO}/n_{H}) \\ (K km s^{-1} pc^{2} Msol^{-1})$\")\n",
    "plt.savefig('outputs/test_plots/log(n_H)vslog(l_CO_SI)_yesterday.png', \n",
    "            dpi=300, bbox_inches='tight')\n",
    "plt.show()"
   ]
  },
  {
   "cell_type": "code",
   "execution_count": null,
   "metadata": {},
   "outputs": [],
   "source": []
  },
  {
   "cell_type": "code",
   "execution_count": null,
   "metadata": {},
   "outputs": [],
   "source": []
  },
  {
   "cell_type": "code",
   "execution_count": null,
   "metadata": {},
   "outputs": [],
   "source": []
  },
  {
   "cell_type": "code",
   "execution_count": null,
   "metadata": {},
   "outputs": [],
   "source": []
  },
  {
   "cell_type": "code",
   "execution_count": null,
   "metadata": {},
   "outputs": [],
   "source": []
  },
  {
   "cell_type": "code",
   "execution_count": null,
   "metadata": {},
   "outputs": [],
   "source": []
  },
  {
   "cell_type": "code",
   "execution_count": null,
   "metadata": {},
   "outputs": [],
   "source": []
  },
  {
   "cell_type": "code",
   "execution_count": null,
   "metadata": {},
   "outputs": [],
   "source": []
  },
  {
   "cell_type": "code",
   "execution_count": null,
   "metadata": {},
   "outputs": [],
   "source": []
  },
  {
   "cell_type": "code",
   "execution_count": null,
   "metadata": {},
   "outputs": [],
   "source": []
  },
  {
   "cell_type": "code",
   "execution_count": null,
   "metadata": {},
   "outputs": [],
   "source": []
  },
  {
   "cell_type": "code",
   "execution_count": null,
   "metadata": {},
   "outputs": [],
   "source": []
  },
  {
   "cell_type": "code",
   "execution_count": null,
   "metadata": {},
   "outputs": [],
   "source": []
  },
  {
   "cell_type": "code",
   "execution_count": null,
   "metadata": {},
   "outputs": [],
   "source": []
  },
  {
   "cell_type": "code",
   "execution_count": null,
   "metadata": {},
   "outputs": [],
   "source": []
  },
  {
   "cell_type": "code",
   "execution_count": null,
   "metadata": {},
   "outputs": [],
   "source": []
  },
  {
   "cell_type": "code",
   "execution_count": null,
   "metadata": {},
   "outputs": [],
   "source": []
  },
  {
   "cell_type": "code",
   "execution_count": null,
   "metadata": {},
   "outputs": [],
   "source": []
  },
  {
   "cell_type": "code",
   "execution_count": null,
   "metadata": {},
   "outputs": [],
   "source": []
  },
  {
   "cell_type": "code",
   "execution_count": null,
   "metadata": {},
   "outputs": [],
   "source": []
  },
  {
   "cell_type": "code",
   "execution_count": null,
   "metadata": {},
   "outputs": [],
   "source": []
  },
  {
   "cell_type": "code",
   "execution_count": null,
   "metadata": {},
   "outputs": [],
   "source": []
  },
  {
   "cell_type": "code",
   "execution_count": null,
   "metadata": {},
   "outputs": [],
   "source": []
  },
  {
   "cell_type": "code",
   "execution_count": null,
   "metadata": {},
   "outputs": [],
   "source": []
  },
  {
   "cell_type": "code",
   "execution_count": null,
   "metadata": {},
   "outputs": [],
   "source": []
  },
  {
   "cell_type": "code",
   "execution_count": null,
   "metadata": {},
   "outputs": [],
   "source": [
    "np.min(L_CO)"
   ]
  },
  {
   "cell_type": "code",
   "execution_count": null,
   "metadata": {},
   "outputs": [],
   "source": [
    "np.max(L_CO)"
   ]
  },
  {
   "cell_type": "code",
   "execution_count": null,
   "metadata": {},
   "outputs": [],
   "source": [
    "dx"
   ]
  },
  {
   "cell_type": "code",
   "execution_count": null,
   "metadata": {},
   "outputs": [],
   "source": [
    "np.mean(cell_width)"
   ]
  },
  {
   "cell_type": "code",
   "execution_count": null,
   "metadata": {},
   "outputs": [],
   "source": [
    "np.isnan(L_CO)"
   ]
  },
  {
   "cell_type": "code",
   "execution_count": null,
   "metadata": {},
   "outputs": [],
   "source": []
  },
  {
   "cell_type": "code",
   "execution_count": null,
   "metadata": {},
   "outputs": [],
   "source": [
    "plt.figure(figsize=(9,5))\n",
    "ax = plt.gca()\n",
    "plt.scatter(np.log10(n_H_arr/100), beta_nu, c=\"b\")\n",
    "plt.rc('font', size=SMALL_SIZE)          # controls default text sizes\n",
    "plt.rc('axes', titlesize=SMALL_SIZE)     # fontsize of the axes title\n",
    "plt.rc('axes', labelsize=20)    # fontsize of the x and y labels\n",
    "plt.rc('xtick', labelsize=10)    # fontsize of the tick labels\n",
    "plt.rc('ytick', labelsize=10)    # fontsize of the tick labels\n",
    "plt.rc('legend', fontsize=SMALL_SIZE)    # legend fontsize\n",
    "plt.rc('figure', titlesize=BIGGER_SIZE)  # fontsize of the figure title\n",
    "ax.set_ylim([-0.2,1.2])\n",
    "# ax.set_xlim([-1, 3])\n",
    "plt.xlabel('$log(n_{H}/n_{H, mean}) (cm^{-3})$')\n",
    "plt.ylabel('$beta$')\n",
    "plt.grid(b=True, which='both', axis='both')\n",
    "plt.title(\"$log(n_{H}/n_{H, mean}) (cm^{-3})$ vs $beta$\")\n",
    "plt.savefig('radiative_transfer/outputs_RT/1.6/log(n_H)vsbeta.png', \n",
    "            dpi=300, bbox_inches='tight')\n",
    "plt.show()"
   ]
  },
  {
   "cell_type": "code",
   "execution_count": null,
   "metadata": {},
   "outputs": [],
   "source": [
    "plt.figure(figsize=(9,5))\n",
    "ax = plt.gca()\n",
    "plt.scatter(np.log10(n_H_arr/100), np.log10(tau_nu), c=\"b\")\n",
    "plt.rc('font', size=SMALL_SIZE)          # controls default text sizes\n",
    "plt.rc('axes', titlesize=SMALL_SIZE)     # fontsize of the axes title\n",
    "plt.rc('axes', labelsize=MEDIUM_SIZE)    # fontsize of the x and y labels\n",
    "plt.rc('xtick', labelsize=10)    # fontsize of the tick labels\n",
    "plt.rc('ytick', labelsize=10)    # fontsize of the tick labels\n",
    "plt.rc('legend', fontsize=SMALL_SIZE)    # legend fontsize\n",
    "plt.rc('figure', titlesize=BIGGER_SIZE)  # fontsize of the figure title\n",
    "# ax.set_ylim([-6,1])\n",
    "# ax.set_xlim([-1, 3])\n",
    "plt.xlabel('$log(n_{H}/n_{H, mean}) (cm^{-3})$')\n",
    "plt.ylabel('$log(tau)$')\n",
    "plt.grid(b=True, which='both', axis='both')\n",
    "plt.title(\"$log(n_{H}/n_{H, mean}) (cm^{-3})$ vs $log(tau)$\")\n",
    "plt.savefig('radiative_transfer/outputs_RT/1.6/log(n_H)vslog(tau).png', \n",
    "            dpi=300, bbox_inches='tight')\n",
    "plt.show()"
   ]
  },
  {
   "cell_type": "code",
   "execution_count": null,
   "metadata": {},
   "outputs": [],
   "source": [
    "plt.figure(figsize=(9,5))\n",
    "ax = plt.gca()\n",
    "plt.scatter(np.log10(n_H_arr/100), np.log10(L_CO), c=\"b\")\n",
    "plt.rc('font', size=SMALL_SIZE)          # controls default text sizes\n",
    "plt.rc('axes', titlesize=SMALL_SIZE)     # fontsize of the axes title\n",
    "plt.rc('axes', labelsize=MEDIUM_SIZE)    # fontsize of the x and y labels\n",
    "plt.rc('xtick', labelsize=10)    # fontsize of the tick labels\n",
    "plt.rc('ytick', labelsize=10)    # fontsize of the tick labels\n",
    "plt.rc('legend', fontsize=SMALL_SIZE)    # legend fontsize\n",
    "plt.rc('figure', titlesize=BIGGER_SIZE)  # fontsize of the figure title\n",
    "# ax.set_ylim([-6,1])\n",
    "# ax.set_xlim([-1, 3])\n",
    "plt.xlabel('$log(n_{H}/n_{H, mean}) (cm^{-3})$')\n",
    "plt.ylabel('$log(L_{CO})(L_{sun})$')\n",
    "plt.grid(b=True, which='both', axis='both')\n",
    "plt.title(\"$log(n_{H}/n_{H, mean}) (cm^{-3})$ vs $log(L_{CO})(L_{sun})$\")\n",
    "plt.savefig('radiative_transfer/outputs_RT/1.6/log(n_H)vslog(L_CO).png', \n",
    "            dpi=300, bbox_inches='tight')\n",
    "plt.show()"
   ]
  },
  {
   "cell_type": "code",
   "execution_count": null,
   "metadata": {},
   "outputs": [],
   "source": [
    "L_CO"
   ]
  },
  {
   "cell_type": "code",
   "execution_count": null,
   "metadata": {},
   "outputs": [],
   "source": []
  },
  {
   "cell_type": "code",
   "execution_count": null,
   "metadata": {},
   "outputs": [],
   "source": []
  },
  {
   "cell_type": "code",
   "execution_count": null,
   "metadata": {},
   "outputs": [],
   "source": [
    "plt.figure(figsize=(9,5))\n",
    "ax = plt.gca()\n",
    "plt.scatter(np.log10(n_H_arr/100), np.log10(L_CO), c=\"b\")\n",
    "plt.rc('font', size=SMALL_SIZE)          # controls default text sizes\n",
    "plt.rc('axes', titlesize=SMALL_SIZE)     # fontsize of the axes title\n",
    "plt.rc('axes', labelsize=MEDIUM_SIZE)    # fontsize of the x and y labels\n",
    "plt.rc('xtick', labelsize=10)    # fontsize of the tick labels\n",
    "plt.rc('ytick', labelsize=10)    # fontsize of the tick labels\n",
    "plt.rc('legend', fontsize=SMALL_SIZE)    # legend fontsize\n",
    "plt.rc('figure', titlesize=BIGGER_SIZE)  # fontsize of the figure title\n",
    "ax.set_xlim([-2,4])\n",
    "ax.set_ylim([-3,1])\n",
    "plt.xlabel('$log(n_{H}/n_{H, mean}) (cm^{-3})$')\n",
    "plt.ylabel('$log(L_{CO})(L_{sun})$')\n",
    "plt.grid(b=True, which='both', axis='both')\n",
    "plt.title(\"$log(n_{H}/n_{H, mean}) (cm^{-3})$ vs $log(L_{CO})(L_{sun})$\")\n",
    "plt.savefig('radiative_transfer/outputs_RT/1.6/log(n_H)vslog(L_CO)_comparison.png', \n",
    "            dpi=300, bbox_inches='tight')\n",
    "plt.show()"
   ]
  },
  {
   "cell_type": "code",
   "execution_count": null,
   "metadata": {},
   "outputs": [],
   "source": [
    "plt.figure(figsize=(9,5))\n",
    "ax = plt.gca()\n",
    "plt.scatter(np.log10(n_H_arr/100), L_CO, c=\"b\")\n",
    "plt.rc('font', size=SMALL_SIZE)          # controls default text sizes\n",
    "plt.rc('axes', titlesize=SMALL_SIZE)     # fontsize of the axes title\n",
    "plt.rc('axes', labelsize=MEDIUM_SIZE)    # fontsize of the x and y labels\n",
    "plt.rc('xtick', labelsize=10)    # fontsize of the tick labels\n",
    "plt.rc('ytick', labelsize=10)    # fontsize of the tick labels\n",
    "plt.rc('legend', fontsize=SMALL_SIZE)    # legend fontsize\n",
    "plt.rc('figure', titlesize=BIGGER_SIZE)  # fontsize of the figure title\n",
    "# ax.set_ylim([-6,1])\n",
    "# ax.set_xlim([-1, 3])\n",
    "plt.xlabel('$log(n_{H}/n_{H, mean}) (cm^{-3})$')\n",
    "plt.ylabel('$L_{CO}(L_{sun})$')\n",
    "plt.grid(b=True, which='both', axis='both')\n",
    "plt.title(\"$log(n_{H}/n_{H, mean}) (cm^{-3})$ vs $L_{CO}(L_{sun})$\")\n",
    "plt.savefig('radiative_transfer/outputs_RT/1.6/log(n_H)vsL_CO.png', \n",
    "            dpi=300, bbox_inches='tight')\n",
    "plt.show()"
   ]
  },
  {
   "cell_type": "code",
   "execution_count": null,
   "metadata": {},
   "outputs": [],
   "source": [
    "plt.figure(figsize=(9,5))\n",
    "ax = plt.gca()\n",
    "plt.scatter(np.log10(n_H_arr/100), np.log10(j_10_bar), c=\"b\")\n",
    "plt.rc('font', size=SMALL_SIZE)          # controls default text sizes\n",
    "plt.rc('axes', titlesize=SMALL_SIZE)     # fontsize of the axes title\n",
    "plt.rc('axes', labelsize=MEDIUM_SIZE)    # fontsize of the x and y labels\n",
    "plt.rc('xtick', labelsize=10)    # fontsize of the tick labels\n",
    "plt.rc('ytick', labelsize=10)    # fontsize of the tick labels\n",
    "plt.rc('legend', fontsize=SMALL_SIZE)    # legend fontsize\n",
    "plt.rc('figure', titlesize=BIGGER_SIZE)  # fontsize of the figure title\n",
    "plt.xlabel('$log(n_{H}/n_{H, mean}) (cm^{-3})$')\n",
    "plt.ylabel('$log(j_{10}*beta*pdf)$ $(eV cm^{-3} s^{-1})$')\n",
    "plt.title(\"$log(n_{H}/n_{H, mean}) (cm^{-3})$ vs $log(j_{10}*beta*pdf)(eV cm^{-3} s^{-1})$\")\n",
    "plt.grid(b=True, which='both', axis='both')\n",
    "plt.savefig('radiative_transfer/outputs_RT/1.6/log(n_H)vslog(j_10_bar).png', \n",
    "            dpi=300, bbox_inches='tight')\n",
    "plt.show()"
   ]
  },
  {
   "cell_type": "code",
   "execution_count": null,
   "metadata": {},
   "outputs": [],
   "source": [
    "plt.figure(figsize=(9,5))\n",
    "ax = plt.gca()\n",
    "plt.scatter(np.log10(n_H_arr/100), np.log10(X_CO_arr*beta_nu), c=\"b\")\n",
    "plt.rc('font', size=SMALL_SIZE)          # controls default text sizes\n",
    "plt.rc('axes', titlesize=SMALL_SIZE)     # fontsize of the axes title\n",
    "plt.rc('axes', labelsize=MEDIUM_SIZE)    # fontsize of the x and y labels\n",
    "plt.rc('xtick', labelsize=10)    # fontsize of the tick labels\n",
    "plt.rc('ytick', labelsize=10)    # fontsize of the tick labels\n",
    "plt.rc('legend', fontsize=SMALL_SIZE)    # legend fontsize\n",
    "plt.rc('figure', titlesize=BIGGER_SIZE)  # fontsize of the figure title\n",
    "plt.xlabel('$log(n_{H}/n_{H, mean}) (cm^{-3})$')\n",
    "plt.ylabel('$log(X_{CO}*beta)$')\n",
    "plt.title(\"$log(n_{H}/n_{H, mean}) (cm^{-3})$ vs $log(X_{CO}*beta)$\")\n",
    "plt.grid(b=True, which='both', axis='both')\n",
    "plt.savefig('radiative_transfer/outputs_RT/1.6/log(n_H)vslog(X_CO*beta).png', \n",
    "            dpi=300, bbox_inches='tight')\n",
    "plt.show()"
   ]
  },
  {
   "cell_type": "code",
   "execution_count": null,
   "metadata": {},
   "outputs": [],
   "source": [
    "plt.figure(figsize=(9,5))\n",
    "ax = plt.gca()\n",
    "plt.scatter(np.log10(n_H_arr/100), X_CO_arr*beta_nu, c=\"b\")\n",
    "plt.rc('font', size=SMALL_SIZE)          # controls default text sizes\n",
    "plt.rc('axes', titlesize=SMALL_SIZE)     # fontsize of the axes title\n",
    "plt.rc('axes', labelsize=MEDIUM_SIZE)    # fontsize of the x and y labels\n",
    "plt.rc('xtick', labelsize=10)    # fontsize of the tick labels\n",
    "plt.rc('ytick', labelsize=10)    # fontsize of the tick labels\n",
    "plt.rc('legend', fontsize=SMALL_SIZE)    # legend fontsize\n",
    "plt.rc('figure', titlesize=BIGGER_SIZE)  # fontsize of the figure title\n",
    "plt.xlabel('$log(n_{H}/n_{H, mean}) (cm^{-3})$')\n",
    "plt.ylabel('$X_{CO}*beta$')\n",
    "plt.title(\"$log(n_{H}/n_{H, mean}) (cm^{-3})$ vs $X_{CO}*beta$\")\n",
    "plt.grid(b=True, which='both', axis='both')\n",
    "plt.savefig('radiative_transfer/outputs_RT/1.6/log(n_H)vsX_CO*beta.png', \n",
    "            dpi=300, bbox_inches='tight')\n",
    "plt.show()"
   ]
  },
  {
   "cell_type": "code",
   "execution_count": null,
   "metadata": {},
   "outputs": [],
   "source": []
  },
  {
   "cell_type": "code",
   "execution_count": null,
   "metadata": {},
   "outputs": [],
   "source": [
    "plt.figure(figsize=(9,5))\n",
    "ax = plt.gca()\n",
    "plt.plot(np.log10(n_H_arr/100), np.log(pdf_arr), color=\"b\")\n",
    "plt.rc('font', size=SMALL_SIZE)          # controls default text sizes\n",
    "plt.rc('axes', titlesize=SMALL_SIZE)     # fontsize of the axes title\n",
    "plt.rc('axes', labelsize=MEDIUM_SIZE)    # fontsize of the x and y labels\n",
    "plt.rc('xtick', labelsize=10)    # fontsize of the tick labels\n",
    "plt.rc('ytick', labelsize=10)    # fontsize of the tick labels\n",
    "plt.rc('legend', fontsize=SMALL_SIZE)    # legend fontsize\n",
    "plt.rc('figure', titlesize=BIGGER_SIZE)  # fontsize of the figure title\n",
    "ax.set_xlim([-1.65,3.65])\n",
    "ax.set_ylim([-5.4,-0.3])\n",
    "plt.xlabel('$log(n_{H}/n_{H, mean}) (cm^{-3})$')\n",
    "plt.ylabel('$log(pdf)$')\n",
    "plt.grid(b=True, which='both', axis='both')\n",
    "plt.title(\"$log(n_{H}/n_{H, mean}) (cm^{-3})$ vs $log(pdf)$\")\n",
    "plt.savefig('radiative_transfer/outputs_RT/1.6/log(n_H)vslog(pdf).png', \n",
    "            dpi=300, bbox_inches='tight')\n",
    "plt.show()"
   ]
  },
  {
   "cell_type": "code",
   "execution_count": null,
   "metadata": {},
   "outputs": [],
   "source": []
  },
  {
   "cell_type": "code",
   "execution_count": null,
   "metadata": {},
   "outputs": [],
   "source": []
  },
  {
   "cell_type": "code",
   "execution_count": null,
   "metadata": {},
   "outputs": [],
   "source": []
  },
  {
   "cell_type": "code",
   "execution_count": null,
   "metadata": {},
   "outputs": [],
   "source": []
  },
  {
   "cell_type": "code",
   "execution_count": null,
   "metadata": {},
   "outputs": [],
   "source": []
  },
  {
   "cell_type": "code",
   "execution_count": null,
   "metadata": {},
   "outputs": [],
   "source": []
  },
  {
   "cell_type": "code",
   "execution_count": null,
   "metadata": {},
   "outputs": [],
   "source": []
  },
  {
   "cell_type": "code",
   "execution_count": null,
   "metadata": {},
   "outputs": [],
   "source": []
  },
  {
   "cell_type": "code",
   "execution_count": null,
   "metadata": {},
   "outputs": [],
   "source": []
  },
  {
   "cell_type": "code",
   "execution_count": null,
   "metadata": {},
   "outputs": [],
   "source": []
  },
  {
   "cell_type": "code",
   "execution_count": null,
   "metadata": {},
   "outputs": [],
   "source": []
  },
  {
   "cell_type": "code",
   "execution_count": null,
   "metadata": {},
   "outputs": [],
   "source": []
  },
  {
   "cell_type": "code",
   "execution_count": null,
   "metadata": {},
   "outputs": [],
   "source": []
  },
  {
   "cell_type": "code",
   "execution_count": null,
   "metadata": {},
   "outputs": [],
   "source": []
  },
  {
   "cell_type": "code",
   "execution_count": null,
   "metadata": {},
   "outputs": [],
   "source": []
  },
  {
   "cell_type": "code",
   "execution_count": null,
   "metadata": {},
   "outputs": [],
   "source": []
  },
  {
   "cell_type": "code",
   "execution_count": null,
   "metadata": {},
   "outputs": [],
   "source": []
  },
  {
   "cell_type": "code",
   "execution_count": null,
   "metadata": {},
   "outputs": [],
   "source": []
  },
  {
   "cell_type": "code",
   "execution_count": null,
   "metadata": {},
   "outputs": [],
   "source": []
  },
  {
   "cell_type": "code",
   "execution_count": null,
   "metadata": {},
   "outputs": [],
   "source": []
  },
  {
   "cell_type": "code",
   "execution_count": null,
   "metadata": {},
   "outputs": [],
   "source": []
  }
 ],
 "metadata": {
  "kernelspec": {
   "display_name": "Python 2",
   "language": "python",
   "name": "python2"
  },
  "language_info": {
   "codemirror_mode": {
    "name": "ipython",
    "version": 2
   },
   "file_extension": ".py",
   "mimetype": "text/x-python",
   "name": "python",
   "nbconvert_exporter": "python",
   "pygments_lexer": "ipython2",
   "version": "2.7.16"
  }
 },
 "nbformat": 4,
 "nbformat_minor": 2
}
