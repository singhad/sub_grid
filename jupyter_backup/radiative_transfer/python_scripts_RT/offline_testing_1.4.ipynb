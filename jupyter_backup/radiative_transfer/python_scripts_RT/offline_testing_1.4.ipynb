{
 "cells": [
  {
   "cell_type": "code",
   "execution_count": 1,
   "metadata": {},
   "outputs": [],
   "source": [
    "import numpy as np\n",
    "import matplotlib as plt"
   ]
  },
  {
   "cell_type": "code",
   "execution_count": 18,
   "metadata": {},
   "outputs": [],
   "source": [
    "m_p = 1.672621777e-24   #, \"g\")\n",
    "K_b = 1.38064852e-16   #, \"cm**2 g s**-2 K**-1\")\n",
    "G = 6.67259e-8   #, \"cm**3 g**-1 s**-2\")\n",
    "T_mean = 10.   #, \"K\")\n",
    "K_b_ev = 8.617e-5   #, \"eV K**-1\")\n",
    "c_si = 2.99792458e5   #, \"km s**-1\")\n",
    "c_cgs = 2.99792458e10   #, \"cm s**-1\")\n",
    "h_ev = 4.13566770e-15   #, \"eV s\")\n",
    "mH_cgs = 1.6737236e-24   #, 'g')  # hydrogen mass\n",
    "T_bg = 2.73   #, \"K\")\n",
    "eV = 6.241509e18   #, \"J\")\n",
    "L_sun = 2.3892497766e+47   #, \"eV s**-1\")\n",
    "M_sol = 2e30 #kg"
   ]
  },
  {
   "cell_type": "code",
   "execution_count": 11,
   "metadata": {},
   "outputs": [],
   "source": [
    "j_10_bar_sim = 4*np.pi*np.load('radiative_transfer/outputs_RT/1.4/j_nu_bar_1.4.npy')\n",
    "                                  #units = \"eV cm**-3 s**-1\")\n",
    "L_CO_sim = np.load('radiative_transfer/outputs_RT/1.4/L_CO_1.4.npy')\n",
    "r_e_pc_sim = np.load('radiative_transfer/outputs_RT/1.4/r_e_pc_1.4.npy')\n",
    "I_nu_sim = np.load('radiative_transfer/outputs_RT/1.4/I_nu_1.4.npy')\n",
    "I_10_sim = np.load('radiative_transfer/outputs_RT/1.4/I_10_1.4.npy')\n",
    "T_nu_sim = np.load('radiative_transfer/outputs_RT/1.4/T_nu_1.4.npy')\n",
    "T_nu_prime_sim = np.load('radiative_transfer/outputs_RT/1.4/T_nu_prime_1.4.npy')"
   ]
  },
  {
   "cell_type": "code",
   "execution_count": 37,
   "metadata": {},
   "outputs": [
    {
     "data": {
      "text/plain": [
       "10490998000000.0"
      ]
     },
     "execution_count": 37,
     "metadata": {},
     "output_type": "execute_result"
    }
   ],
   "source": [
    "L_CO_galaxy = np.sum(L_CO_sim*(r_e_pc_sim**2))\n",
    "L_CO_galaxy #/1e13"
   ]
  },
  {
   "cell_type": "code",
   "execution_count": 22,
   "metadata": {},
   "outputs": [
    {
     "data": {
      "text/plain": [
       "7.625585551267142e+17"
      ]
     },
     "execution_count": 22,
     "metadata": {},
     "output_type": "execute_result"
    }
   ],
   "source": [
    "M_H2 = 4*M_sol/L_CO_galaxy\n",
    "M_H2"
   ]
  },
  {
   "cell_type": "code",
   "execution_count": 33,
   "metadata": {},
   "outputs": [
    {
     "data": {
      "text/plain": [
       "102055000717.73293"
      ]
     },
     "execution_count": 33,
     "metadata": {},
     "output_type": "execute_result"
    }
   ],
   "source": [
    "aman = 2* (1.15e11**3) * K_b_ev * L_CO_galaxy / (c_cgs**3)\n",
    "aman #/1e14"
   ]
  },
  {
   "cell_type": "code",
   "execution_count": 34,
   "metadata": {},
   "outputs": [],
   "source": [
    "deep = 100 * 4e33"
   ]
  },
  {
   "cell_type": "code",
   "execution_count": 35,
   "metadata": {},
   "outputs": [
    {
     "data": {
      "text/plain": [
       "2.5513750179433234e-25"
      ]
     },
     "execution_count": 35,
     "metadata": {},
     "output_type": "execute_result"
    }
   ],
   "source": [
    "aman/deep"
   ]
  },
  {
   "cell_type": "code",
   "execution_count": 39,
   "metadata": {},
   "outputs": [],
   "source": [
    "foo = T_nu_sim * 100"
   ]
  },
  {
   "cell_type": "code",
   "execution_count": null,
   "metadata": {},
   "outputs": [],
   "source": []
  },
  {
   "cell_type": "code",
   "execution_count": null,
   "metadata": {},
   "outputs": [],
   "source": []
  },
  {
   "cell_type": "code",
   "execution_count": null,
   "metadata": {},
   "outputs": [],
   "source": []
  },
  {
   "cell_type": "code",
   "execution_count": null,
   "metadata": {},
   "outputs": [],
   "source": []
  }
 ],
 "metadata": {
  "kernelspec": {
   "display_name": "Python 2",
   "language": "python",
   "name": "python2"
  },
  "language_info": {
   "codemirror_mode": {
    "name": "ipython",
    "version": 2
   },
   "file_extension": ".py",
   "mimetype": "text/x-python",
   "name": "python",
   "nbconvert_exporter": "python",
   "pygments_lexer": "ipython2",
   "version": "2.7.16"
  }
 },
 "nbformat": 4,
 "nbformat_minor": 2
}
