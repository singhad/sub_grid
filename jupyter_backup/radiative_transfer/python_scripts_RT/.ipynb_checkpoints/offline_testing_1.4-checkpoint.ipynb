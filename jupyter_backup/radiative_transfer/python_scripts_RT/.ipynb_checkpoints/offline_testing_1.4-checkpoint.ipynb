{
 "cells": [
  {
   "cell_type": "code",
   "execution_count": 1,
   "metadata": {},
   "outputs": [],
   "source": [
    "import numpy as np\n",
    "import matplotlib as plt"
   ]
  },
  {
   "cell_type": "code",
   "execution_count": 3,
   "metadata": {},
   "outputs": [],
   "source": [
    "m_p = 1.672621777e-24   #, \"g\")\n",
    "K_b = 1.38064852e-16   #, \"cm**2 g s**-2 K**-1\")\n",
    "G = 6.67259e-8   #, \"cm**3 g**-1 s**-2\")\n",
    "T_mean = 10.   #, \"K\")\n",
    "K_b_ev = 8.617e-5   #, \"eV K**-1\")\n",
    "c_si = 2.99792458e5   #, \"km s**-1\")\n",
    "c_cgs = 2.99792458e10   #, \"cm s**-1\")\n",
    "h_ev = 4.13566770e-15   #, \"eV s\")\n",
    "mH_cgs = 1.6737236e-24   #, 'g')  # hydrogen mass\n",
    "T_bg = 2.73   #, \"K\")\n",
    "eV = 6.241509e18   #, \"J\")\n",
    "L_sun = 2.3892497766e+47   #, \"eV s**-1\")"
   ]
  },
  {
   "cell_type": "code",
   "execution_count": 12,
   "metadata": {},
   "outputs": [],
   "source": [
    "j_10_bar_sim = 4*np.pi*np.load('radiative_transfer/outputs_RT/1.4/j_nu_bar_1.4.npy')\n",
    "                                  #units = \"eV cm**-3 s**-1\")\n",
    "L_CO_sim = np.load('radiative_transfer/outputs_RT/1.4/L_CO_1.4.npy')\n",
    "r_e_pc_sim = np.load('radiative_transfer/outputs_RT/1.4/r_e_pc_1.4.npy')\n",
    "I_nu_sim = np.load('radiative_transfer/outputs_RT/1.4/I_nu_1.4.npy')\n",
    "I_10_sim = np.load('radiative_transfer/outputs_RT/1.4/I_10_1.4.npy')\n",
    "T_nu_sim = np.load('radiative_transfer/outputs_RT/1.4/T_nu_1.4.npy')\n",
    "T_nu_prime_sim = np.load('radiative_transfer/outputs_RT/1.4/T_nu_prime_1.4.npy')"
   ]
  },
  {
   "cell_type": "code",
   "execution_count": 18,
   "metadata": {},
   "outputs": [
    {
     "data": {
      "text/plain": [
       "1.049099763712"
      ]
     },
     "execution_count": 18,
     "metadata": {},
     "output_type": "execute_result"
    }
   ],
   "source": [
    "L_CO_galaxy = np.sum(L_CO_sim*(r_e_pc_sim**2))\n",
    "L_CO_galaxy/1e13"
   ]
  },
  {
   "cell_type": "code",
   "execution_count": null,
   "metadata": {},
   "outputs": [],
   "source": []
  }
 ],
 "metadata": {
  "kernelspec": {
   "display_name": "Python 2",
   "language": "python",
   "name": "python2"
  },
  "language_info": {
   "codemirror_mode": {
    "name": "ipython",
    "version": 2
   },
   "file_extension": ".py",
   "mimetype": "text/x-python",
   "name": "python",
   "nbconvert_exporter": "python",
   "pygments_lexer": "ipython2",
   "version": "2.7.16"
  }
 },
 "nbformat": 4,
 "nbformat_minor": 2
}
