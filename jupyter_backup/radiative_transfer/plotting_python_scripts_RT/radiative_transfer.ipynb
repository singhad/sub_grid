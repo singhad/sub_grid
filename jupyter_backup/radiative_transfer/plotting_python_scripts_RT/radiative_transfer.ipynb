{
 "cells": [
  {
   "cell_type": "code",
   "execution_count": null,
   "metadata": {},
   "outputs": [],
   "source": [
    "# Initial file for testing RT \n",
    "# Has all the code basically copy-pasted from Tine"
   ]
  },
  {
   "cell_type": "code",
   "execution_count": 1,
   "metadata": {},
   "outputs": [
    {
     "name": "stdout",
     "output_type": "stream",
     "text": [
      "CPU times: user 653 ms, sys: 300 ms, total: 952 ms\n",
      "Wall time: 4.86 s\n"
     ]
    }
   ],
   "source": [
    "%%time\n",
    "import sys\n",
    "import numpy as np\n",
    "np.set_printoptions(threshold=sys.maxsize)\n",
    "import matplotlib.pyplot as plt\n",
    "import matplotlib.colors as cm\n",
    "import pynbody\n",
    "from michaels_functions import center_and_r_vir, remove_bulk_velocity\n",
    "from matplotlib.colors import LogNorm\n",
    "from matplotlib.pyplot import figure"
   ]
  },
  {
   "cell_type": "code",
   "execution_count": 2,
   "metadata": {},
   "outputs": [],
   "source": [
    "n_H_arr = np.load('outputs/sub_grid/n_H.npy')\n",
    "n_H2_arr = np.load('outputs/sub_grid/n_H2.npy')\n",
    "X_H2_arr = np.load('outputs/sub_grid/X_H2.npy')\n",
    "n_LW_arr = np.load('outputs/sub_grid/n_LW.npy')\n",
    "n_LW_ss_arr = np.load('outputs/sub_grid/n_LW_ss.npy')\n",
    "X_H2_ss_arr = np.load('outputs/sub_grid/X_H2_ss.npy')\n",
    "n_H2_ss_arr = np.load('outputs/sub_grid/n_H2_ss.npy')\n",
    "X_CO_arr = np.load('outputs/sub_grid/X_CO.npy')\n",
    "n_CO_arr = np.load('outputs/sub_grid/n_CO.npy')\n",
    "pdf_arr = np.load('outputs/sub_grid/pdf.npy')\n",
    "lambda_jeans_arr = np.load('outputs/sub_grid/lambda_jeans.npy')"
   ]
  },
  {
   "cell_type": "code",
   "execution_count": 3,
   "metadata": {},
   "outputs": [
    {
     "name": "stdout",
     "output_type": "stream",
     "text": [
      "CPU times: user 1.43 ms, sys: 0 ns, total: 1.43 ms\n",
      "Wall time: 1.22 ms\n"
     ]
    }
   ],
   "source": [
    "%%time\n",
    "\n",
    "#Defining all the constants used in this whole program\n",
    "\n",
    "m_p = pynbody.array.SimArray(1.672621777e-24, \"g\")\n",
    "K_b = pynbody.array.SimArray(1.38064852e-16, \"cm**2 g s**-2 K**-1\")\n",
    "K_b_ev = pynbody.array.SimArray(8.617e-5, \"eV K**-1\")\n",
    "G = pynbody.array.SimArray(6.67259e-8, \"cm**3 g**-1 s**-2\")\n",
    "T_mean = pynbody.array.SimArray(10., \"K\")\n",
    "mach_no = pynbody.array.SimArray(10., \"1\")\n",
    "Z = 0.02/0.02\n",
    "G_o = 1\n",
    "n_H_mean = pynbody.array.SimArray(100., \"cm**-3\")\n",
    "c = pynbody.array.SimArray(299792458, \"m s**-1\")\n",
    "c_cgs = pynbody.array.SimArray(29979245800, \"cm s**-1\")\n",
    "h_ev = pynbody.array.SimArray(4.13566770e-15, \"eV s\")\n",
    "h_si = pynbody.array.SimArray(6.626e-34, \"J s\")\n",
    "grad_v = (np.sqrt(K_b * T_mean/m_p))/(lambda_jeans_arr[0])\n",
    "T_bg = pynbody.array.SimArray(2.73, \"K\")\n",
    "eV = pynbody.array.SimArray(6.241509e18, \"J\")\n",
    "#pynbody.array.SimArray(, \"\")\n"
   ]
  },
  {
   "cell_type": "code",
   "execution_count": 4,
   "metadata": {},
   "outputs": [
    {
     "name": "stdout",
     "output_type": "stream",
     "text": [
      "CPU times: user 6 µs, sys: 3 µs, total: 9 µs\n",
      "Wall time: 13.1 µs\n"
     ]
    }
   ],
   "source": [
    "%%time\n",
    "def get_filename(species):\n",
    "    # filename is already given\n",
    "    if (species[-4:] == '.dat') or (species[-4:] == '.txt'):\n",
    "        return species\n",
    "    # molecule is chosen\n",
    "    THIS_FOLDER = os.path.dirname(os.path.abspath(__file__))\n",
    "    database = os.path.join(THIS_FOLDER, 'LAMDA')\n",
    "    if species == 'HCO+':\n",
    "        filename = os.path.join(database, 'HCO+.dat')\n",
    "    elif species == 'H13CO+':\n",
    "        filename = os.path.join(database, 'H13CO+.dat')\n",
    "    elif species == 'N2H+':\n",
    "        filename = os.path.join(database, 'N2H+.dat')\n",
    "    elif species == 'SiO':\n",
    "        filename = os.path.join(database, 'SiO.dat')\n",
    "    elif species == 'HNC':\n",
    "        filename = os.path.join(database, 'HNC.dat')\n",
    "    elif species == 'HCN':\n",
    "        filename = os.path.join(database, 'HCN.dat')\n",
    "    elif species == 'CO':\n",
    "        filename = os.path.join(database, 'CO.dat')\n",
    "    else:\n",
    "        print('Unknow species. Chose from HCO+, H13CO+, N2H+, SiO, HNC, HCN, CO')\n",
    "        print('or provide a LAMDA datafile.')\n",
    "        exit()\n",
    "\n",
    "    return filename\n"
   ]
  },
  {
   "cell_type": "code",
   "execution_count": 5,
   "metadata": {},
   "outputs": [],
   "source": [
    "def read_file(species):\n",
    "    filename = get_filename(species)\n",
    "    f = open(filename, 'r')\n",
    "    \n",
    "    f.readline()\n",
    "    species = f.readline()\n",
    "    \n",
    "    f.readline()\n",
    "    mu = float(f.readline())  # molecular weight\n",
    "    \n",
    "    f.readline()\n",
    "    num_lvls = int(f.readline())  # number of energy levels\n",
    "    \n",
    "    # read energy levels: energy E, statistical weight g\n",
    "    f.readline()\n",
    "    E = []\n",
    "    g = []\n",
    "    for l in range(num_lvls):\n",
    "        words = f.readline().split()\n",
    "        E.append(float(words[1]) * c_cgs*h_ev)  # cm^-1 -> eV\n",
    "        g.append(float(words[2]))\n",
    "    \n",
    "    f.readline()\n",
    "    num_trans = int(f.readline())  # number of radiative transistions\n",
    "    \n",
    "    # read transistions: upper lvl, lower lvl, A-coefficient, frequency\n",
    "    f.readline()\n",
    "    A = np.zeros((num_lvls, num_lvls))\n",
    "    freq = np.zeros((num_lvls, num_lvls))\n",
    "    for t in range(num_trans):\n",
    "        words = f.readline().split()\n",
    "        i = int(words[1]) - 1\n",
    "        j = int(words[2]) - 1\n",
    "        A[i][j] = float(words[3])  # s^-1\n",
    "        freq[i][j] = float(words[4]) * 1e9  # GHz -> Hz\n",
    "        freq[j][i] = freq[i][j]\n",
    "    \n",
    "    # compute B-coefficient via Einstein relations\n",
    "    # Bij = coeff for stimulated emission, Bji = coeff for extinction (j<i)\n",
    "    B = np.zeros((num_lvls, num_lvls))\n",
    "    for i in range(0, num_lvls):\n",
    "        for j in range(0, i):\n",
    "            if A[i][j] != 0:\n",
    "                B[i][j] = A[i][j] * (c**2) / \\\n",
    "                    (2*h_ev * (freq[i][j]**3))  # m2/(eV*s)\n",
    "                B[j][i] = B[i][j] * g[i]/g[j]\n",
    "    \n",
    "    # number of collision partners in the data file\n",
    "    f.readline()\n",
    "    num_partners = int(f.readline())\n",
    "    \n",
    "    C_all = []\n",
    "    temps_all = []\n",
    "    for partner in range(num_partners):\n",
    "        # reference\n",
    "        f.readline()\n",
    "        line = f.readline()\n",
    "        \n",
    "        # number of collisional transitions\n",
    "        f.readline()\n",
    "        num_coll = int(f.readline())\n",
    "        \n",
    "        # number of temperatures in the table\n",
    "        f.readline()\n",
    "        num_temps = int(f.readline())\n",
    "        \n",
    "        # read the temperature values\n",
    "        f.readline()\n",
    "        words = f.readline().split()\n",
    "        temps = np.zeros(num_temps)\n",
    "        for t in range(num_temps):\n",
    "            temps[t] = float(words[t])\n",
    "            temps_all.append(temps)  # K\n",
    "        \n",
    "        # read collision coeff data: upper lvl, lower lvl, C-coefficient for each temp\n",
    "        C = np.zeros((num_temps, num_lvls, num_lvls))\n",
    "        f.readline()\n",
    "        for col in range(num_coll):\n",
    "            words = f.readline().split()\n",
    "            i = int(words[1]) - 1\n",
    "            j = int(words[2]) - 1\n",
    "            for t in range(num_temps):\n",
    "                C[t][i][j] = float(words[3+t]) * 1.e-6 # cm3/s -> m3/s\n",
    "        \n",
    "        # calculate the inverse coefficient via LTE relation\n",
    "        for i in range(num_lvls):\n",
    "            for j in range(i):\n",
    "                for t in range(num_temps):\n",
    "                    if C[t][i][j] != 0:\n",
    "                        C[t][j][i] = C[t][i][j] * np.exp(-(E[i]-E[j])/(K_b_ev * temps[t]))*g[i]/g[j]\n",
    "        \n",
    "        # add collision partner data to global array\n",
    "        C_all.append(C)\n",
    "\n",
    "    f.close()\n",
    "    C_all = pynbody.array.SimArray(np.array(C_all), \"m**3 s**-1\")\n",
    "    temps_all = pynbody.array.SimArray(np.array(temps_all), \"K\")\n",
    "    E = pynbody.array.SimArray(np.array(E), \"eV\")\n",
    "    g = pynbody.array.SimArray(np.array(g), \"1\")\n",
    "    freq = pynbody.array.SimArray(np.array(freq), \"s**-1\")\n",
    "    A = pynbody.array.SimArray(np.array(A), \"s**-1\")\n",
    "    B = pynbody.array.SimArray(np.array(B), \"m**2 eV**-1 s**-1\")\n",
    "    return mu, num_lvls, E, g, freq, A, B, C_all, num_partners, temps_all, num_temps, num_coll\n",
    "\n",
    "#pynbody.array.SimArray(, \"\")\n",
    "\n",
    "\n",
    "''' Load preset abundances and fraction for collision coefficients\n",
    "    PARAMS:\n",
    "      species = string with the particle name\n",
    "    RETURNS:\n",
    "      comp_fracs = list with the fraction of total collision partner density for each partner\n",
    "      abundance = overall abundance of the molecule (assume n_mol = abundance*rho everywhere)'''\n",
    "def load_species_info(species):\n",
    "\n",
    "    if species == 'HCO+':\n",
    "        comp_fracs = [1.0] # only 1 collision partner in HCO data\n",
    "        abundance = 1.e-09 # = N_species/N_h2\n",
    "    elif species == 'H13CO+':\n",
    "        comp_fracs = [1.0] # only 1 collision partner in HCO data\n",
    "        abundance = 2.e-11\n",
    "    elif species == 'N2H+':\n",
    "        comp_fracs = [1.0] # only 1 collision partner in HCO data\n",
    "        abundance = 1.e-10\n",
    "    elif species == 'SiO': # is seems to be unusually slow\n",
    "        comp_fracs = [1.0] # only 1 collision partner in HCO data\n",
    "        abundance = 7.7e-12\n",
    "    elif species == 'HNC':\n",
    "        comp_fracs = [1.0] # only 1 collision partner in HCO data\n",
    "        abundance = 3.1e-10\n",
    "    elif species == 'HCN':\n",
    "        comp_fracs = [1.0, 0.0] # H2 and e\n",
    "        abundance = 3.1e-11\n",
    "    elif species == 'CO':\n",
    "        comp_fracs = [0.66, 0.33] # para H2 and orhto H2\n",
    "        #abundance = 1.e-4\n",
    "        abundance = 1.0 # dummy for filenames\n",
    "    else:\n",
    "        print 'ERROR: Unsupported species'\n",
    "        exit()\n",
    "\n",
    "    return comp_fracs, abundance"
   ]
  },
  {
   "cell_type": "code",
   "execution_count": 6,
   "metadata": {},
   "outputs": [],
   "source": [
    "mu, num_lvls, E, g, freq, A, B, C_all, num_partners, temps_all, num_temps, n_coll = read_file('CO.txt')"
   ]
  },
  {
   "cell_type": "code",
   "execution_count": 7,
   "metadata": {},
   "outputs": [
    {
     "name": "stdout",
     "output_type": "stream",
     "text": [
      "CPU times: user 4 µs, sys: 1e+03 ns, total: 5 µs\n",
      "Wall time: 10 µs\n"
     ]
    }
   ],
   "source": [
    "%%time\n",
    "comp_fractions, abundance = load_species_info('CO')"
   ]
  },
  {
   "cell_type": "code",
   "execution_count": 11,
   "metadata": {},
   "outputs": [],
   "source": [
    "C_ij = np.zeros((num_temps, num_lvls, num_lvls))\n",
    "C_ji = np.zeros((num_temps, num_lvls, num_lvls))\n",
    "for i in range(num_lvls):\n",
    "    for j in range(i):\n",
    "        for t in range(num_temps):\n",
    "            C_ij[t][i][j] = C_all[0][t][i][j]\n",
    "            C_ji[t][i][j] = C_all[1][t][i][j]"
   ]
  },
  {
   "cell_type": "code",
   "execution_count": 12,
   "metadata": {},
   "outputs": [
    {
     "data": {
      "text/plain": [
       "(14, 41, 41)"
      ]
     },
     "execution_count": 12,
     "metadata": {},
     "output_type": "execute_result"
    }
   ],
   "source": [
    "np.shape(C_ji)"
   ]
  },
  {
   "cell_type": "code",
   "execution_count": null,
   "metadata": {},
   "outputs": [],
   "source": []
  },
  {
   "cell_type": "code",
   "execution_count": null,
   "metadata": {},
   "outputs": [],
   "source": []
  },
  {
   "cell_type": "code",
   "execution_count": 13,
   "metadata": {},
   "outputs": [
    {
     "name": "stdout",
     "output_type": "stream",
     "text": [
      "CPU times: user 12 µs, sys: 1 µs, total: 13 µs\n",
      "Wall time: 21.9 µs\n"
     ]
    }
   ],
   "source": [
    "%%time\n",
    "def partion_function(T, num_lvls, g, E):\n",
    "    partition_func = 0.0\n",
    "    for i in range(0, num_lvls):\n",
    "        partition_func = partition_func + g[i]*np.exp(-E[i]/(K_b_ev*T))\n",
    "    return partition_func\n",
    "\n",
    "def calc_lvl_pops(T, num_lvls, g, E):\n",
    "    ni = []\n",
    "    partition_func = partion_function(T, num_lvls, g, E)\n",
    "    for i in range(0, num_lvls):\n",
    "        ni.append(g[i]*np.exp(-E[i]/(K_b_ev*T)) / partition_func)\n",
    "    return np.array(ni), partition_func"
   ]
  },
  {
   "cell_type": "code",
   "execution_count": 14,
   "metadata": {},
   "outputs": [
    {
     "name": "stdout",
     "output_type": "stream",
     "text": [
      "CPU times: user 12.9 ms, sys: 516 µs, total: 13.5 ms\n",
      "Wall time: 10.3 ms\n"
     ]
    }
   ],
   "source": [
    "%%time\n",
    "ni, partition_func = calc_lvl_pops(T_mean, num_lvls, g, E)\n",
    "ni = pynbody.array.SimArray(ni, \"1\")"
   ]
  },
  {
   "cell_type": "code",
   "execution_count": 15,
   "metadata": {},
   "outputs": [
    {
     "data": {
      "text/plain": [
       "SimArray(1., '1.00e+00')"
      ]
     },
     "execution_count": 15,
     "metadata": {},
     "output_type": "execute_result"
    }
   ],
   "source": [
    "np.sum(ni)"
   ]
  },
  {
   "cell_type": "code",
   "execution_count": 16,
   "metadata": {},
   "outputs": [
    {
     "data": {
      "text/plain": [
       "SimArray([2.52017487e-001, 4.34795086e-001, 2.39667991e-001,\n",
       "          6.38216272e-002, 8.97709269e-003, 6.90457567e-004,\n",
       "          2.95393325e-005, 7.09896716e-007, 9.64241750e-009,\n",
       "          7.43330273e-011, 3.26207207e-013, 8.16734404e-016,\n",
       "          1.16871166e-018, 9.57186337e-022, 4.49229935e-025,\n",
       "          1.20936783e-028, 1.86926692e-032, 1.66025033e-036,\n",
       "          8.47975516e-041, 2.49245900e-045, 4.21896986e-050,\n",
       "          4.11533610e-055, 2.31481079e-060, 7.51303337e-066,\n",
       "          1.40798479e-071, 1.52452830e-077, 9.54371962e-084,\n",
       "          3.45643258e-090, 7.24698794e-097, 8.80259880e-104,\n",
       "          6.19844692e-111, 2.53207907e-118, 6.00492045e-126,\n",
       "          8.27362646e-134, 6.62771460e-142, 3.08921640e-150,\n",
       "          8.38477294e-159, 1.32625363e-167, 1.22355605e-176,\n",
       "          6.58930346e-186, 2.07319680e-195], '1.00e+00')"
      ]
     },
     "execution_count": 16,
     "metadata": {},
     "output_type": "execute_result"
    }
   ],
   "source": [
    "ni"
   ]
  },
  {
   "cell_type": "code",
   "execution_count": 17,
   "metadata": {},
   "outputs": [
    {
     "name": "stdout",
     "output_type": "stream",
     "text": [
      "CPU times: user 147 µs, sys: 17 µs, total: 164 µs\n",
      "Wall time: 144 µs\n"
     ]
    }
   ],
   "source": [
    "%%time\n",
    "N = n_CO_arr[0]\n",
    "Ni = ni*N\n",
    "Ni"
   ]
  },
  {
   "cell_type": "code",
   "execution_count": 18,
   "metadata": {},
   "outputs": [
    {
     "name": "stdout",
     "output_type": "stream",
     "text": [
      "CPU times: user 5 µs, sys: 1 µs, total: 6 µs\n",
      "Wall time: 19.1 µs\n"
     ]
    }
   ],
   "source": [
    "%%time\n",
    "def B_nu_ev(nu, T):\n",
    "    if nu==0.:\n",
    "        return 0.\n",
    "    else:\n",
    "        x = h_ev*nu/(K_b_ev*T)\n",
    "        # units eV*s * Hz3 / (m2/s2) = eV * s3 * Hz3 * m-2 = eV/s/Hz/m2\n",
    "        return 2.0*h_ev*(nu**3)/(c**2) / (np.exp(x)-1.0)"
   ]
  },
  {
   "cell_type": "code",
   "execution_count": 19,
   "metadata": {},
   "outputs": [
    {
     "name": "stdout",
     "output_type": "stream",
     "text": [
      "CPU times: user 19 µs, sys: 2 µs, total: 21 µs\n",
      "Wall time: 20 µs\n"
     ]
    }
   ],
   "source": [
    "%%time\n",
    "def for_TE(num_lvls, freq, T_mean):\n",
    "    intensity_rad_field_TE = np.zeros((num_lvls, num_lvls)) #I_{nu}\n",
    "    for i in range(num_lvls):\n",
    "        for j in range(num_lvls):\n",
    "            if freq[i][j] != 0.0:\n",
    "                intensity_rad_field_TE[i][j] = B_nu_ev(freq[i][j], T_mean) # eV/m2\n",
    "                \n",
    "    return intensity_rad_field_TE"
   ]
  },
  {
   "cell_type": "code",
   "execution_count": 20,
   "metadata": {},
   "outputs": [
    {
     "name": "stdout",
     "output_type": "stream",
     "text": [
      "CPU times: user 74.3 ms, sys: 32.7 ms, total: 107 ms\n",
      "Wall time: 83.4 ms\n"
     ]
    }
   ],
   "source": [
    "%%time\n",
    "intensity_rad_field_TE = pynbody.array.SimArray(for_TE(num_lvls, freq, T_mean), \"eV m**-2\")\n",
    "source_func_TE = pynbody.array.SimArray(intensity_rad_field_TE, \"eV m**-2\")"
   ]
  },
  {
   "cell_type": "code",
   "execution_count": 21,
   "metadata": {},
   "outputs": [
    {
     "data": {
      "image/png": "[encoded data removed]",
      "text/plain": [
       "<Figure size 648x360 with 1 Axes>"
      ]
     },
     "metadata": {
      "needs_background": "light"
     },
     "output_type": "display_data"
    },
    {
     "name": "stdout",
     "output_type": "stream",
     "text": [
      "CPU times: user 1.1 s, sys: 70.7 ms, total: 1.17 s\n",
      "Wall time: 1.33 s\n"
     ]
    }
   ],
   "source": [
    "%%time\n",
    "plt.figure(figsize=(9,5))\n",
    "for i in range(num_lvls):\n",
    "        for j in range(num_lvls):\n",
    "            if freq[i][j] != 0.0:\n",
    "                plt.scatter(freq[i][j], intensity_rad_field_TE[i][j], color='g')\n",
    "plt.xlabel('freq (Hz)')\n",
    "plt.ylabel('$I_{nu, TE}$ (eV m^-2)')\n",
    "plt.grid(b=True, which='both', axis='both')\n",
    "plt.title('TE : freq (Hz) vs $I_{nu, TE}$ (eV m^-2)')\n",
    "plt.savefig('radiative_transfer/outputs_RT/radiative_transfer/TE_freq_vs_Intensity.png', \n",
    "            dpi=300, bbox_inches='tight')\n",
    "plt.show()"
   ]
  },
  {
   "cell_type": "code",
   "execution_count": null,
   "metadata": {},
   "outputs": [],
   "source": []
  },
  {
   "cell_type": "code",
   "execution_count": null,
   "metadata": {},
   "outputs": [],
   "source": []
  },
  {
   "cell_type": "code",
   "execution_count": null,
   "metadata": {},
   "outputs": [],
   "source": []
  },
  {
   "cell_type": "code",
   "execution_count": null,
   "metadata": {},
   "outputs": [],
   "source": []
  },
  {
   "cell_type": "code",
   "execution_count": 22,
   "metadata": {},
   "outputs": [],
   "source": [
    "def calc_emissivity(nu, N_i, A_ij):\n",
    "    emissivity = h_ev * nu * N_i * A_ij / (4*np.pi)\n",
    "    return emissivity\n",
    "\n",
    "def calc_extinction(nu, N_j, B_ji, N_i, B_ij):\n",
    "    extinction = h_ev * nu * ((N_j*B_ji)-(N_i*B_ij)) / (4*np.pi)\n",
    "    return extinction"
   ]
  },
  {
   "cell_type": "code",
   "execution_count": 23,
   "metadata": {},
   "outputs": [],
   "source": [
    "def LTE_solver(num_lvls, rad_field_ini, freq, B_nu, tau):\n",
    "    I_nu = np.zeros((num_lvls, num_lvls))\n",
    "    rad_field = rad_field_ini\n",
    "    I_nu = (B_nu*tau) + (rad_field*np.exp(-tau))\n",
    "                \n",
    "    return I_nu\n",
    "\n",
    "# Optical depth in LVG approximation for line ij\n",
    "def tau_LVG(Ni, grad_v, n_i, n_j, B_ij, B_ji):\n",
    "    # units: m/s * eV*s * 1/m3 * m2/(eV*s) / (1/s) = none\n",
    "    return (c*h_ev/(4.*np.pi)) * Ni * (n_j*B_ji - n_i*B_ij)  / (1.064*grad_v)\n",
    "\n",
    "# Escape probability in LVG approximation for line ij\n",
    "def beta_LVG(tau):\n",
    "    if tau < 0.01:\n",
    "        return 1. - tau/2.\n",
    "    elif tau > 100.:\n",
    "        return 1./tau\n",
    "    else:\n",
    "        return (1.0 - np.exp(-tau)) / tau\n",
    "\n",
    "\n",
    "def for_LTE(num_lvls, T_mean, A, B, C):\n",
    "    source_func_LTE = np.zeros((num_lvls, num_lvls))\n",
    "    emissivity = np.zeros((num_lvls, num_lvls))\n",
    "    extinction = np.zeros((num_lvls, num_lvls))\n",
    "    intensity_rad_field_bg = np.zeros((num_lvls, num_lvls))\n",
    "    intensity_rad_field_LTE = np.zeros((num_lvls, num_lvls))\n",
    "    tau = np.zeros((num_lvls, num_lvls))\n",
    "    beta = np.zeros((num_lvls, num_lvls))\n",
    "    \n",
    "    density = 1.0 #arbitrary\n",
    "    loop_times = num_lvls\n",
    "    for i in range(loop_times):\n",
    "        for j in range(loop_times):\n",
    "            if freq[i][j] != 0.0:\n",
    "                source_func_LTE[i][j] = B_nu_ev(freq[i][j], T_mean) # eV/m2\n",
    "                emissivity[i][j] = calc_emissivity(freq[i][j], Ni[i], A[i][j])\n",
    "                extinction[i][j] = calc_extinction(freq[i][j], Ni[j], B[j][i], Ni[i], B[i][j])\n",
    "                tau[i][j] = tau_LVG(Ni[i], grad_v, ni[i], ni[j], B[i][j], B[j][i])\n",
    "                beta[i][j] = beta_LVG(tau[i][j])\n",
    "                intensity_rad_field_bg[i][j] = B_nu_ev(freq[i][j], T_bg)\n",
    "                #intensity_rad_field_LTE or I_{nu, LTE} will be calculated by solving the RTE\n",
    "                intensity_rad_field_LTE[i][j] = LTE_solver(num_lvls, intensity_rad_field_bg[i][j], freq[i][j], source_func_LTE[i][j], tau[i][j])\n",
    "\n",
    "    \n",
    "    return intensity_rad_field_LTE, intensity_rad_field_bg, source_func_LTE, emissivity, extinction, tau, beta\n",
    "\n",
    "\n"
   ]
  },
  {
   "cell_type": "code",
   "execution_count": 25,
   "metadata": {},
   "outputs": [],
   "source": [
    "intensity_rad_field_LTE, intensity_rad_field_bg, source_func_LTE, emissivity, extinction, tau, beta = for_LTE(num_lvls, T_mean, A, B, C_all)\n",
    "source_func_LTE = pynbody.array.SimArray(source_func_LTE, \"eV m**-2\")\n",
    "\n"
   ]
  },
  {
   "cell_type": "code",
   "execution_count": null,
   "metadata": {},
   "outputs": [],
   "source": []
  },
  {
   "cell_type": "code",
   "execution_count": 26,
   "metadata": {},
   "outputs": [
    {
     "name": "stderr",
     "output_type": "stream",
     "text": [
      "/net/cephfs/home/mkrets/anaconda2/lib/python2.7/site-packages/ipykernel_launcher.py:5: RuntimeWarning: divide by zero encountered in log10\n",
      "  \"\"\"\n",
      "/net/cephfs/home/mkrets/anaconda2/lib/python2.7/site-packages/ipykernel_launcher.py:7: RuntimeWarning: divide by zero encountered in log10\n",
      "  import sys\n",
      "/net/cephfs/home/mkrets/anaconda2/lib/python2.7/site-packages/ipykernel_launcher.py:9: RuntimeWarning: divide by zero encountered in log10\n",
      "  if __name__ == '__main__':\n"
     ]
    },
    {
     "data": {
      "image/png": "[encoded data removed]",
      "text/plain": [
       "<Figure size 648x360 with 1 Axes>"
      ]
     },
     "metadata": {
      "needs_background": "light"
     },
     "output_type": "display_data"
    },
    {
     "name": "stdout",
     "output_type": "stream",
     "text": [
      "CPU times: user 915 ms, sys: 27.6 ms, total: 943 ms\n",
      "Wall time: 939 ms\n"
     ]
    }
   ],
   "source": [
    "%%time\n",
    "plt.figure(figsize=(9,5))\n",
    "# for i in range(num_lvls):\n",
    "#         for j in range(num_lvls):\n",
    "#             if freq[i][j] != 0.0:\n",
    "plt.scatter(np.log10(freq), np.log10(intensity_rad_field_bg), c='y', marker='*', s=200, \n",
    "            label='Background')\n",
    "plt.scatter(np.log10(freq), np.log10(source_func_LTE), c='r',\n",
    "           label='B_nu (black-body)')\n",
    "plt.scatter(np.log10(freq), np.log10(intensity_rad_field_LTE), c='k',\n",
    "           label='$I_{nu, LTE}$')\n",
    "#plt.scatter(freq[i][j], foo[i][j], c='y')\n",
    "    \n",
    "plt.xlabel('$log(freq)$ (Hz)')\n",
    "plt.ylabel('$log(Intensity)$')\n",
    "plt.grid(b=True, which='both', axis='both')\n",
    "plt.legend()\n",
    "plt.title('LTE : $log(freq)$ (Hz) vs $log(Intensity)$')\n",
    "plt.savefig('radiative_transfer/outputs_RT/radiative_transfer/LTE_log(freq)_vs_log(Intensity)-compare.png', \n",
    "            dpi=300, bbox_inches='tight')\n",
    "plt.show()"
   ]
  },
  {
   "cell_type": "code",
   "execution_count": 27,
   "metadata": {},
   "outputs": [
    {
     "data": {
      "image/png": "[encoded data removed]",
      "text/plain": [
       "<Figure size 648x360 with 1 Axes>"
      ]
     },
     "metadata": {
      "needs_background": "light"
     },
     "output_type": "display_data"
    },
    {
     "name": "stdout",
     "output_type": "stream",
     "text": [
      "CPU times: user 985 ms, sys: 14.8 ms, total: 999 ms\n",
      "Wall time: 996 ms\n"
     ]
    }
   ],
   "source": [
    "%%time\n",
    "plt.figure(figsize=(9,5))\n",
    "# for i in range(num_lvls):\n",
    "#         for j in range(num_lvls):\n",
    "#             if freq[i][j] != 0.0:\n",
    "plt.scatter(freq, intensity_rad_field_bg, c='y', marker='*', s=200, \n",
    "            label='Background')\n",
    "plt.scatter(freq, source_func_LTE, c='r',\n",
    "           label='B_nu (black-body)')\n",
    "plt.scatter(freq, intensity_rad_field_LTE, c='k',\n",
    "           label='$I_{nu, LTE}$')\n",
    "#plt.scatter(freq[i][j], foo[i][j], c='y')\n",
    "    \n",
    "plt.xlabel('freq (Hz)')\n",
    "plt.ylabel('$Intensity$')\n",
    "plt.grid(b=True, which='both', axis='both')\n",
    "plt.legend()\n",
    "plt.title('LTE : freq (Hz) vs $Intensity$')\n",
    "plt.savefig('radiative_transfer/outputs_RT/radiative_transfer/LTE_freq_vs_Intensity-compare.png', \n",
    "            dpi=300, bbox_inches='tight')\n",
    "plt.show()"
   ]
  },
  {
   "cell_type": "code",
   "execution_count": null,
   "metadata": {},
   "outputs": [],
   "source": []
  },
  {
   "cell_type": "code",
   "execution_count": null,
   "metadata": {},
   "outputs": [],
   "source": []
  },
  {
   "cell_type": "code",
   "execution_count": 28,
   "metadata": {},
   "outputs": [],
   "source": [
    "''' Calculate net collision coeff for a gas consisting of different components at temp T\n",
    "    Interpolates table betweem T values\n",
    "    PARAMS:\n",
    "      T = temperature (K)\n",
    "      comp_fractions = fraction of the total density in each component \n",
    "    RETRUN:\n",
    "      C = netto collision coeff C[i][j] (m3/s) '''\n",
    "def calc_total_C(T, comp_fractions):\n",
    "    C = np.zeros((num_lvls,num_lvls))\n",
    "    for p in range(num_partners):\n",
    "        max_index = len(temps_all[p])\n",
    "        if T <= temps_all[p][0]: # T is lower than lowest value in table\n",
    "            for i in range(num_lvls):\n",
    "                for j in range(num_lvls):\n",
    "                    C[i][j] = C[i][j] + comp_fractions[p] * C_all[p][0][i][j]\n",
    "        elif T >= temps_all[p][max_index-1]: # T is higher than highest value in table\n",
    "            for i in range(num_lvls):\n",
    "                for j in range(num_lvls):\n",
    "                    C[i][j] = C[i][j] + comp_fractions[p] * C_all[p][max_index-1][i][j]\n",
    "        else: # determine temperature entries needed to interpolate\n",
    "            t = 1 # T index of upper limit\n",
    "            while temps_all[p][t] < T:\n",
    "                t = t+1\n",
    "            t_frac = (temps_all[p][t] - T)/(temps_all[p][t] - temps_all[p][t-1])\n",
    "            for i in range(num_lvls):\n",
    "                for j in range(num_lvls):\n",
    "                    interpol = (1-t_frac) * C_all[p][t][i][j] + \\\n",
    "                                   t_frac * C_all[p][t-1][i][j]\n",
    "                    C[i][j] = C[i][j] + comp_fractions[p] * interpol\n",
    "                    \n",
    "    return C\n",
    "    \n",
    "    \n",
    "''' Full non-LTE, with radiation field:\n",
    "    Calculate non-LTE occupation numbers by solving the system of coupled balance equations\n",
    "    PARAMS:\n",
    "      num_lvls = number of energy levels\n",
    "      A = Einstein A coeff matrix (1/s)\n",
    "      B = Einstein B coeff matrix (m2/(eV*s))\n",
    "      C = netto collision coeff matrix (m3/s)\n",
    "      n_coll = total number density of collision partners (1/m3)\n",
    "      rad_field = incomming radiation field for each transition I[i][j] (eV/s/m2/Hz = eV/m2)\n",
    "    RETURN:\n",
    "      sol = level populations '''\n",
    "def calc_lvlpops_nonLTE(num_lvls, A, B, C, n_coll, rad_field):\n",
    "    # solve  M*n = 0\n",
    "    # n = [n1,n2,...ni,...,nn]\n",
    "\n",
    "    # fill matrix M\n",
    "    M = np.zeros((num_lvls,num_lvls))\n",
    "    for a in range(0, num_lvls):\n",
    "        for b in range(0,num_lvls):\n",
    "            M_ab = 0\n",
    "            # upper triangle\n",
    "            if b>a:\n",
    "                M_ab = A[b][a] + B[b][a]*rad_field[b][a] + C[b][a]*n_coll #1/s\n",
    "            # diagonal\n",
    "            elif a==b:\n",
    "                for j in range(0, a):\n",
    "                    M_ab = M_ab - A[a][j] - (B[a][j]*rad_field[a][j]) - C[a][j]*n_coll\n",
    "                for j in range(a+1, num_lvls):\n",
    "                    M_ab = M_ab - B[a][j]*rad_field[j][a] - C[a][j]*n_coll\n",
    "            # lower triangle\n",
    "            else:\n",
    "                M_ab = B[b][a]*rad_field[a][b] + C[b][a]*n_coll\n",
    "            M[a][b] = M_ab\n",
    "\n",
    "    # solve M*n=0 with svd: M = U*S*V.T\n",
    "    U, S, Vt = np.linalg.svd(M)\n",
    "    # In S the smallest singular value is given last. Check if it sufficiently small\n",
    "    if S[num_lvls-1] > 1.0e-4*S[num_lvls-2]:\n",
    "        print 'WARNING: unreliable solution:', S \n",
    "    sol = Vt[num_lvls-1]\n",
    "\n",
    "    # sol can be multiplied by a constant factor: normalise to sum(sol_i) = 1\n",
    "    # (assumes all values are either positive or neg)\n",
    "    norm=np.sum(sol)\n",
    "    sol=sol/norm\n",
    "    return sol\n",
    "\n",
    "''' total emissivity of transition i-j in W/m3/sr\n",
    "    J = integral j dv = integral cst phi(v) dv = cst integral phi dv = cst * 1\n",
    "    Remark that v_ij is constant! '''\n",
    "def integrated_emissivity(nu_ij, x_i, n_molec, A_ij):\n",
    "    # units: J*s * Hz * sr-1 * m-3 * s-1 = J/s/m3/sr\n",
    "    return h_si*nu_ij/(4*np.pi) * x_i * n_molec * A_ij \n",
    "\n",
    "\n",
    "''' total extinction of transition i-j in 1/m/sr/s\n",
    "    B in m2/(eV*s) '''\n",
    "def integrated_extinction(nu_ij, x_i, x_j, n_molec, B_ij, B_ji):\n",
    "    # units: eV*s * Hz * sr-1 * m2/(eV*s) * m-3 = 1/m/sr/s\n",
    "    return h_ev*nu_ij/(4*np.pi) * (x_j*B_ji - x_i*B_ij) * n_molec\n",
    "\n",
    "\n",
    "''' Source function of transision i-j for optically thick media S=j/a in eV/s/Hz/m2 '''\n",
    "def source_function_thick(nu_ij, x_i, x_j, n_molec, A_ij, B_ij, B_ji):\n",
    "    j = integrated_emissivity(nu_ij, x_i, n_molec, A_ij) / eV\n",
    "    a = integrated_extinction(nu_ij, x_i, x_j, n_molec, B_ij, B_ji)\n",
    "    # units: (eV/s/m3/sr) / (1/m/sr/s) = eV/m2 = eV/s/Hz/m2\n",
    "    return j/a\n",
    "\n",
    "\n",
    "''' Self-consistently solve for the level populations with the general method\n",
    "    in the optical thick limit!\n",
    "    PARAMS:\n",
    "      line_data = lineData object with info about the transitions\n",
    "      n_coll = total number density of collision partners (1/m3)\n",
    "      comp_fractions = fractions of n_coll for each collision partner (from species file)\n",
    "      n_molec = number density of the molecule (1/m3)\n",
    "      T = temperature (K)\n",
    "      rad_field_bg =  background radiation field (CMB)\n",
    "      num_iter = number of iterations for determining the lvl pops'''\n",
    "def solve_lvlpops_nonLTE(n_coll, comp_fractions, n_molec, T, rad_field_bg, num_iter=10):\n",
    "\n",
    "    # calc netto collision coeffs\n",
    "    C = calc_total_C(T, comp_fractions)\n",
    "\n",
    "    # set initial radiation field\n",
    "    source = np.zeros((num_lvls,num_lvls))\n",
    "    #J = emis * 4.*np.pi #* dx # eV/m2\n",
    "    J = rad_field_bg\n",
    "\n",
    "    for it in range(num_iter):\n",
    "        lvl_pops = calc_lvlpops_nonLTE(num_lvls, A, B, C, n_coll, J)\n",
    "        # calculate the emissivity\n",
    "        for i in range(num_lvls):\n",
    "            for j in range(i):\n",
    "                if freq[i][j] != 0.:\n",
    "                    source[i][j] = source_function_thick(freq[i][j],\n",
    "                                             lvl_pops[i], lvl_pops[j],\n",
    "                                             n_molec, A[i][j],\n",
    "                                             B[i][j], B[j][i])\n",
    "        J = source\n",
    "        #J = J + rad_field_bg\n",
    "\n",
    "    return lvl_pops"
   ]
  },
  {
   "cell_type": "code",
   "execution_count": 29,
   "metadata": {},
   "outputs": [],
   "source": [
    "lvl_pops_non_LTE = solve_lvlpops_nonLTE(n_coll, comp_fractions, n_CO_arr[0], T_mean, intensity_rad_field_bg, 10)"
   ]
  },
  {
   "cell_type": "code",
   "execution_count": 30,
   "metadata": {},
   "outputs": [
    {
     "data": {
      "text/plain": [
       "array([ 9.99998848e-01,  1.10682573e-06,  4.51112824e-08,  5.28822560e-10,\n",
       "        1.97895939e-11,  2.18752323e-13,  2.17651594e-15,  5.97660964e-18,\n",
       "        2.20844543e-20, -1.38292105e-20, -9.87197574e-21, -6.65602799e-21,\n",
       "       -4.88459848e-21, -4.79741770e-21, -4.74106365e-21, -3.73821808e-21,\n",
       "       -3.25993266e-21, -2.19362393e-21, -1.88043931e-21, -2.20618939e-21,\n",
       "       -1.33745209e-21, -1.49212592e-21, -1.34655216e-21, -1.06983468e-21,\n",
       "       -9.21882655e-22, -5.65289247e-22, -5.78032336e-22, -5.80513498e-22,\n",
       "       -3.25578471e-22, -3.02370632e-22, -4.05623971e-22, -2.66212264e-22,\n",
       "       -3.28319634e-22, -1.59945521e-22, -1.87915366e-22, -7.79586573e-23,\n",
       "       -5.77601244e-23, -1.27285478e-22, -9.15592851e-23, -1.27679683e-22,\n",
       "        5.21425146e-24])"
      ]
     },
     "execution_count": 30,
     "metadata": {},
     "output_type": "execute_result"
    }
   ],
   "source": [
    "lvl_pops_non_LTE"
   ]
  },
  {
   "cell_type": "code",
   "execution_count": 31,
   "metadata": {},
   "outputs": [
    {
     "data": {
      "text/plain": [
       "(41,)"
      ]
     },
     "execution_count": 31,
     "metadata": {},
     "output_type": "execute_result"
    }
   ],
   "source": [
    "np.shape(lvl_pops_non_LTE)"
   ]
  },
  {
   "cell_type": "code",
   "execution_count": null,
   "metadata": {},
   "outputs": [],
   "source": []
  },
  {
   "cell_type": "code",
   "execution_count": null,
   "metadata": {},
   "outputs": [],
   "source": []
  },
  {
   "cell_type": "code",
   "execution_count": 32,
   "metadata": {},
   "outputs": [],
   "source": [
    "#-------LVG solver----------------------------------------------------------------------------------\n",
    "\"\"\" LVG + EscProb method \n",
    "    Calculate non-LTE occupation numbers by solving the system of coupled balance equations with\n",
    "    the LVG approximation\n",
    "    PARAMS:\n",
    "      num_lvls = number of energy levels\n",
    "      A = Einstein A coeff matrix (1/s)\n",
    "      B = Einstein B coeff matrix (m2/(eV*s))\n",
    "      C = netto collision coeff matrix (m3/s)\n",
    "      n_coll = total number density of collision partners (1/m3)\n",
    "      rad_field_bg = background radiation field for each transition I[i][j] (eV/s/m2/Hz = eV/m2)\n",
    "      beta =  escape probability for each transition (/)\n",
    "    RETURN:\n",
    "      sol = level populations\"\"\"\n",
    "def calc_lvlpops_LVG(num_lvls, A, B, C, n_coll, rad_field_bg, beta):\n",
    "    # solve  M*n = 0\n",
    "    # n = [n1,n2,...ni,...,nn]\n",
    "\n",
    "    # fill matrix M\n",
    "    M = np.zeros((num_lvls,num_lvls))\n",
    "    for a in range(0, num_lvls):\n",
    "        for b in range(0,num_lvls):\n",
    "            M_ab = 0\n",
    "            # upper triangle\n",
    "            if b>a:\n",
    "                M_ab = A[b][a]*beta[b][a] + B[b][a]*rad_field_bg[b][a]*beta[b][a] + C[b][a]*n_coll\n",
    "            # diagonal\n",
    "            elif a==b:\n",
    "                for j in range(0, a):\n",
    "                    M_ab = M_ab - A[a][j]*beta[a][j] - B[a][j]*rad_field_bg[a][j]*beta[a][j]\\\n",
    "                           - C[a][j]*n_coll\n",
    "                for j in range(a+1, num_lvls):\n",
    "                    M_ab = M_ab - B[a][j]*rad_field_bg[j][a]*beta[j][a] - C[a][j]*n_coll\n",
    "            # lower triangle\n",
    "            else:\n",
    "                M_ab = B[b][a]*rad_field_bg[a][b]*beta[a][b] + C[b][a]*n_coll\n",
    "            M[a][b] = M_ab\n",
    "\n",
    "    # solve M*n=0 with svd: M = U*S*V.T\n",
    "    U, S, Vt = np.linalg.svd(M)\n",
    "    # In S the smallest singular value is given last. Check if it sufficiently small\n",
    "    if S[num_lvls-1] > 1.0e-4*S[num_lvls-2]:\n",
    "        print 'WARNING: unreliable solution', S\n",
    "    sol = Vt[num_lvls-1]\n",
    "\n",
    "    # sol can be multiplied by a constant factor: normalise to sum(sol_i) = 1\n",
    "    # (assumes all values are either positive or neg)\n",
    "    norm=np.sum(sol)\n",
    "    sol=sol/norm\n",
    "    return sol\n",
    "\n",
    "#---------------------------------------------------------------------------------------------------\n",
    "''' calculate the partition function\n",
    "    PARAMS:\n",
    "      T = temperature (K)\n",
    "      num_lvls = number of energy levels\n",
    "      g = statistical weight of each level\n",
    "      E = energy of each level (eV)'''\n",
    "def partion_function(T, num_lvls, g, E):\n",
    "    Z=0.0\n",
    "    for i in range(0,num_lvls):\n",
    "        Z = Z + g[i]*np.exp(-E[i]/(K_b_ev*T))\n",
    "    return Z\n",
    "\n",
    "''' calculate LTE occupation numbers with partition function method\n",
    "    PARAMS:\n",
    "      T = temperature (K)\n",
    "      num_lvls = number of energy levels\n",
    "      g = statistical weight of each level\n",
    "      E = energy of each level (eV)\n",
    "    RETURN:\n",
    "      ni = level populations '''\n",
    "def calc_lvlpops_partion(T, num_lvls, g, E):\n",
    "    ni = []\n",
    "    Z = partion_function(T, num_lvls, g, E)\n",
    "    for i in range(0, num_lvls):\n",
    "        ni.append(g[i]*np.exp(-E[i]/(K_b_ev*T)) / Z)\n",
    "    return ni\n",
    "\n",
    "''' Self-consistently solve for the level populations with LVG approximation \n",
    "    PARAMS:\n",
    "      line_data = lineData object with info about the transitions\n",
    "      n_coll = total number density of collision partners (1/m3)\n",
    "      comp_fracs = fractions of n_coll for each collision partner\n",
    "      n_molec = number density of the molecule (1/m3)\n",
    "      T = temperature (K)\n",
    "      grad_v = velocity gradient (s-1)\n",
    "      rad_field_bg =  background radiation field (CMB)\n",
    "      num_iter = maximum number of iterations for determining the lvl pops'''\n",
    "def solve_lvlpops_LVG(n_coll, comp_fracs, n_molec, T, grad_v, rad_field_bg, num_iter):\n",
    "    # calc netto collision coeffs\n",
    "    C = calc_total_C(T, comp_fracs)\n",
    "\n",
    "    # initialize x_i to LTE\n",
    "    lvl_pops = calc_lvlpops_partion(T, num_lvls, g, E)\n",
    "\n",
    "    # calculate tau and beta for LVG\n",
    "    tau, beta = LVG_coeffs_all_lines(n_molec, lvl_pops, B, grad_v)\n",
    "    T_ex_prev = 0.0\n",
    "    T_ex_curr = calc_T_ex(1, 0, lvl_pops, g, E)\n",
    "    it=0\n",
    "    convergence = abs(T_ex_curr-T_ex_prev)/(T_ex_curr+T_ex_prev)/2.\n",
    "\n",
    "    # update level pops with LVG and iterate\n",
    "    while (convergence>0.01) and (it<num_iter):\n",
    "        it=it+1\n",
    "        lvl_pops = calc_lvlpops_LVG(num_lvls, A, B, C, n_coll, rad_field_bg, beta)\n",
    "        tau, beta = LVG_coeffs_all_lines(n_molec, lvl_pops, B, grad_v)\n",
    "        T_ex_prev = T_ex_curr\n",
    "        T_ex_curr = calc_T_ex(1, 0, lvl_pops, g, E)\n",
    "        convergence = abs(T_ex_curr-T_ex_prev)/(T_ex_curr+T_ex_prev)/2.\n",
    "        #print 'iteration {} -> convergence {:1.3}%'.format(it, convergence)\n",
    "\n",
    "    return lvl_pops, beta\n",
    "\n",
    "''' Calculate tau and beta in LVG approx for all lines\n",
    "    PARAMS:\n",
    "      n_molec = number density of the molecule (1/m3)\n",
    "      lvl_pops = level populations\n",
    "      B = Einstein B coeff matrix (m2/(eV*s))\n",
    "      grad_v = velocity gradient (1/s) '''\n",
    "def LVG_coeffs_all_lines(n_molec, lvl_pops, B, grad_v):\n",
    "    ni, nj = B.shape\n",
    "    tau = np.ones((ni,nj))\n",
    "    beta = np.ones((ni,nj))\n",
    "    for i in range(ni):\n",
    "        for j in range(i):\n",
    "            if B[i][j]==0:\n",
    "                tau[i][j] = 1.0 # arbitrary\n",
    "                beta[i][j] = 1.0 #0.0\n",
    "            else:\n",
    "                tau[i][j] = tau_LVG(n_molec, grad_v, lvl_pops[i], lvl_pops[j], B[i][j], B[j][i])\n",
    "                beta[i][j] = beta_LVG(tau[i][j])\n",
    "                #print 'i {} j {} tau={} beta={}'.format(i,j,tau[i][j],beta[i][j]) \n",
    "    return tau, beta\n",
    "\n",
    "''' Optical depth in LVG approximation for line ij '''\n",
    "def tau_LVG(n_molec, grad_v, x_i, x_j, B_ij, B_ji):\n",
    "    # units: m/s * eV*s * 1/m3 * m2/(eV*s) / (1/s) = none\n",
    "    return c*h_ev/(4.*np.pi) * n_molec * (x_j*B_ji - x_i*B_ij)  / (1.064*grad_v)\n",
    "\n",
    "''' Escape probability in LVG approximation for line ij\n",
    "    PARAMS:\n",
    "      tau = optical depth'''\n",
    "def beta_LVG(tau):\n",
    "    if tau < 0.01:\n",
    "        return 1. - tau/2.\n",
    "    elif tau > 100.:\n",
    "        return 1./tau\n",
    "    else:\n",
    "        return (1.0 - np.exp(-tau)) / tau\n",
    "\n",
    "''' Determine the density for which tau LVG is 1 using B coeffs '''\n",
    "def critical_density_B(grad_v, x_i, x_j, B_ij, B_ji, abundance):\n",
    "    n_molec_crit = (4.*np.pi*1.064*grad_v)/((x_j*B_ji - x_i*B_ij)*c*h)\n",
    "    print 'n_crit', n_molec_crit/ 1e6 / abundance, 'H2/cc'\n",
    "    return n_molec_crit / abundance * (2*MH) # kg/m3\n",
    "\n",
    "''' Determine the density for which tau LVG is 1 using A coeff '''\n",
    "def critical_density_A(grad_v, x_i, x_j, A_ij, freq, g_i, g_j, abundance):\n",
    "    n_molec_crit = (8.*np.pi*(freq**3)*1.064*grad_v)/((x_j*(g_i/g_j) - x_i)*A_ij*(c**3))\n",
    "    print 'n_crit', n_molec_crit/ 1e6 / abundance, 'H2/cc'\n",
    "    print 'args rho_crit:', grad_v, x_i, x_j, A_ij, freq, g_i, g_j, abundance\n",
    "    return n_molec_crit / abundance * (2*MH) # kg/m3\n",
    "\n",
    "''' TODO Estimate the critical density in function of grad_v in the simulation '''\n",
    "\n",
    "#---------------------------------------------------------------------------------------------------\n",
    "''' Calculate the excitation temperature. This is the LTE temperature corresponding to the given x_i\n",
    "    PARAMS:\n",
    "      u = number of the upper energy level (0=ground state)\n",
    "      d = number of the lower energy level\n",
    "      x = array of occupation numbers\n",
    "      g = weights of all levels\n",
    "      E = energy of all levels (eV) '''\n",
    "def calc_T_ex(u, d, x, g, E):\n",
    "    if x[u]==0.:\n",
    "        return 0.0\n",
    "    elif x[d]==0.:\n",
    "        return 0.0 #should be inf but this is annoying to plot\n",
    "    else:\n",
    "        return -(E[u]-E[d])/(K_b_ev * np.log(x[u]*g[d]/(x[d]*g[u])))\n",
    "\n",
    "    \n",
    "def lvlpops_core_func(n_H2_arr, comp_fracs, n_CO_arr, T_mean, \n",
    "                                            grad_v, intensity_rad_field_bg, num_iter):\n",
    "    lvl_pops = np.zeros((num_lvls))\n",
    "    lvl_pops, beta_cell = solve_lvlpops_LVG(n_H2_arr[0], comp_fracs, n_CO_arr[0], T_mean, \n",
    "                                            grad_v, intensity_rad_field_bg, num_iter)\n",
    "    return lvl_pops, beta_cell"
   ]
  },
  {
   "cell_type": "code",
   "execution_count": 34,
   "metadata": {},
   "outputs": [],
   "source": [
    "lvl_pops_LVG, beta_cell = lvlpops_core_func(n_H2_arr, comp_fractions, n_CO_arr, T_mean, \n",
    "                                            grad_v, intensity_rad_field_bg, 10)"
   ]
  },
  {
   "cell_type": "code",
   "execution_count": 35,
   "metadata": {},
   "outputs": [
    {
     "data": {
      "text/plain": [
       "array([ 7.10797736e-01,  2.81039443e-01,  8.13672460e-03,  2.60862771e-05,\n",
       "        1.01272766e-08,  4.91898691e-13, -8.98041365e-16, -7.64898807e-16,\n",
       "       -7.42500442e-16, -6.71642040e-16, -1.15191770e-15, -3.20710642e-16,\n",
       "       -2.25677242e-16, -5.43253945e-18, -4.03741804e-17,  1.13833546e-16,\n",
       "        8.13315995e-17,  2.54294945e-16,  2.07066076e-16,  1.98321687e-16,\n",
       "        1.80830950e-16,  1.61956968e-16,  1.23897602e-16,  1.54226883e-16,\n",
       "        1.01523273e-16,  1.42313126e-16,  5.65136399e-17,  7.03726573e-17,\n",
       "        7.62263555e-17,  1.21935654e-16,  1.03351074e-16,  9.63317056e-17,\n",
       "        1.08984860e-16,  7.25416281e-17,  6.78551950e-17,  8.14454379e-17,\n",
       "        7.85414231e-17,  7.39820508e-17,  4.86438799e-17,  1.95920585e-17,\n",
       "        3.07566135e-18])"
      ]
     },
     "execution_count": 35,
     "metadata": {},
     "output_type": "execute_result"
    }
   ],
   "source": [
    "lvl_pops_LVG"
   ]
  },
  {
   "cell_type": "code",
   "execution_count": null,
   "metadata": {},
   "outputs": [],
   "source": []
  },
  {
   "cell_type": "code",
   "execution_count": null,
   "metadata": {},
   "outputs": [],
   "source": []
  },
  {
   "cell_type": "code",
   "execution_count": null,
   "metadata": {},
   "outputs": [],
   "source": []
  },
  {
   "cell_type": "code",
   "execution_count": null,
   "metadata": {},
   "outputs": [],
   "source": []
  },
  {
   "cell_type": "code",
   "execution_count": null,
   "metadata": {},
   "outputs": [],
   "source": []
  }
 ],
 "metadata": {
  "kernelspec": {
   "display_name": "Python 2",
   "language": "python",
   "name": "python2"
  },
  "language_info": {
   "codemirror_mode": {
    "name": "ipython",
    "version": 2
   },
   "file_extension": ".py",
   "mimetype": "text/x-python",
   "name": "python",
   "nbconvert_exporter": "python",
   "pygments_lexer": "ipython2",
   "version": "2.7.16"
  }
 },
 "nbformat": 4,
 "nbformat_minor": 2
}
