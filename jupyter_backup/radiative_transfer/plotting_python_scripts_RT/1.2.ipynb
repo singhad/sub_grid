{
 "cells": [
  {
   "cell_type": "code",
   "execution_count": 1,
   "metadata": {},
   "outputs": [],
   "source": [
    "# Just taking the 2 --> 1 transition\n",
    "# Or up_level = 2; low_level = 1\n",
    "# i.e., i = 1; j = 0"
   ]
  },
  {
   "cell_type": "code",
   "execution_count": 2,
   "metadata": {},
   "outputs": [],
   "source": [
    "import numpy as np\n",
    "import pandas as pd\n",
    "import matplotlib.pyplot as plt\n",
    "import matplotlib.colors as cm\n",
    "import pynbody\n",
    "from michaels_functions import center_and_r_vir, remove_bulk_velocity\n",
    "from matplotlib.colors import LogNorm\n",
    "from matplotlib.pyplot import figure"
   ]
  },
  {
   "cell_type": "code",
   "execution_count": 311,
   "metadata": {},
   "outputs": [
    {
     "name": "stdout",
     "output_type": "stream",
     "text": [
      "('shifting on Stars:', SimArray([ 0.00308878, -0.03302971, -0.04676732], 'kpc'))\n",
      "('virial radius:', SimArray(152.40432611, 'kpc'))\n",
      "omega_b     =  0.450000017881393E-01\n",
      "unit_l      =  0.682025380323961E+26\n",
      "unit_d      =  0.123367583719985E-28\n",
      "unit_t      =  0.163687521954501E+18\n"
     ]
    }
   ],
   "source": [
    "path = \"bulk1/data_2/hydro_59/output/\"\n",
    "data = pynbody.load(path + \"output_00050\")\n",
    "aexp = data.properties['a']\n",
    "data.physical_units()\n",
    "r_vir = center_and_r_vir(data, aexp, path)\n",
    "remove_bulk_velocity(data)\n",
    "r_e = 0.1 * r_vir\n",
    "sph_5 = pynbody.filt.Sphere(radius = '%f kpc' %(r_e*1.4))\n",
    "region = data[sph_5]\n",
    "f = open(data.filename + \"/info_\"+data.filename[-5:]+\".txt\",\"r\")\n",
    "lines = f.readlines()\n",
    "f.close()\n",
    "for line in lines:\n",
    "    if line[0:13]==\"unit_l      =\":\n",
    "        print line[:-1]\n",
    "        unit_l = float(line[14:-1])\n",
    "    if line[0:13]==\"unit_d      =\":\n",
    "        print line[:-1]\n",
    "        unit_d = float(line[14:-1])\n",
    "    if line[0:13]==\"unit_t      =\":\n",
    "        print line[:-1]\n",
    "        unit_t = float(line[14:-1])\n",
    "    if line[0:13]==\"omega_b     =\":\n",
    "        print line[:-1]\n",
    "        omega_b = float(line[14:-1])\n",
    "turb = np.sqrt( region.g[\"turb\"] * 2./3. ) * unit_l / unit_t / 1e5\n",
    "# turb = pynbody.array.SimArray(turb*1e5, \"cm s**-1\")"
   ]
  },
  {
   "cell_type": "code",
   "execution_count": 314,
   "metadata": {},
   "outputs": [
    {
     "data": {
      "text/plain": [
       "SimArray([29.15456777, 44.73850117, 68.11498304, ..., 29.26368001,\n",
       "          16.37539853, 25.15026196], 'km s**-1')"
      ]
     },
     "execution_count": 314,
     "metadata": {},
     "output_type": "execute_result"
    }
   ],
   "source": [
    "turb = pynbody.array.SimArray(turb, \"km s**-1\")\n",
    "turb"
   ]
  },
  {
   "cell_type": "code",
   "execution_count": 3,
   "metadata": {},
   "outputs": [],
   "source": [
    "n_H_arr = pynbody.array.SimArray(np.load('outputs/sub_grid/n_H.npy'), \"cm**-3\")\n",
    "n_H2_arr = pynbody.array.SimArray(np.load('outputs/sub_grid/n_H2.npy'), \"cm**-3\")\n",
    "X_H2_arr = pynbody.array.SimArray(np.load('outputs/sub_grid/X_H2.npy'), \"1\")\n",
    "n_LW_arr = np.load('outputs/sub_grid/n_LW.npy')\n",
    "n_LW_ss_arr = np.load('outputs/sub_grid/n_LW_ss.npy')\n",
    "X_H2_ss_arr = pynbody.array.SimArray(np.load('outputs/sub_grid/X_H2_ss.npy'), \"1\")\n",
    "n_H2_ss_arr = pynbody.array.SimArray(np.load('outputs/sub_grid/n_H2_ss.npy'), \"cm**-3\")\n",
    "X_CO_arr = pynbody.array.SimArray(np.load('outputs/sub_grid/X_CO.npy'), \"1\")\n",
    "n_CO_arr = pynbody.array.SimArray(np.load('outputs/sub_grid/n_CO.npy'), \"cm**-3\")\n",
    "pdf_arr = np.load('outputs/sub_grid/pdf.npy')\n",
    "lambda_jeans_arr = pynbody.array.SimArray(np.load('outputs/sub_grid/lambda_jeans.npy'), \"cm\")"
   ]
  },
  {
   "cell_type": "code",
   "execution_count": 4,
   "metadata": {},
   "outputs": [],
   "source": [
    "#Defining all the constants used in this whole program\n",
    "\n",
    "m_p = pynbody.array.SimArray(1.672621777e-24, \"g\")\n",
    "K_b = pynbody.array.SimArray(1.38064852e-16, \"cm**2 g s**-2 K**-1\")\n",
    "K_b_ev = pynbody.array.SimArray(8.617e-5, \"eV K**-1\")\n",
    "G = pynbody.array.SimArray(6.67259e-8, \"cm**3 g**-1 s**-2\")\n",
    "T_mean = pynbody.array.SimArray(10., \"K\")\n",
    "mach_no = pynbody.array.SimArray(10., \"1\")\n",
    "metallicity = 0.02/0.02\n",
    "G_o = 1\n",
    "n_H_mean = pynbody.array.SimArray(100., \"cm**-3\")\n",
    "# c_si = pynbody.array.SimArray(299792458, \"m s**-1\")\n",
    "c_cgs = pynbody.array.SimArray(2.99792458e10, \"cm s**-1\")\n",
    "h_ev = pynbody.array.SimArray(4.13566770e-15, \"eV s\")\n",
    "# h_si = pynbody.array.SimArray(6.626e-34, \"J s\")\n",
    "mH_cgs = pynbody.array.SimArray(1.6737236e-24, 'g')  # hydrogen mass\n",
    "T_bg = pynbody.array.SimArray(2.73, \"K\")\n",
    "eV = pynbody.array.SimArray(6.241509e18, \"J\")\n",
    "\n",
    "#pynbody.array.SimArray(, \"\")"
   ]
  },
  {
   "cell_type": "code",
   "execution_count": 5,
   "metadata": {},
   "outputs": [],
   "source": [
    "def get_filename(species):\n",
    "    # filename is already given\n",
    "    if (species[-4:] == '.dat') or (species[-4:] == '.txt'):\n",
    "        return species\n",
    "    # molecule is chosen\n",
    "    THIS_FOLDER = os.path.dirname(os.path.abspath(__file__))\n",
    "    database = os.path.join(THIS_FOLDER, 'LAMDA')\n",
    "    if species == 'HCO+':\n",
    "        filename = os.path.join(database, 'HCO+.dat')\n",
    "    elif species == 'H13CO+':\n",
    "        filename = os.path.join(database, 'H13CO+.dat')\n",
    "    elif species == 'N2H+':\n",
    "        filename = os.path.join(database, 'N2H+.dat')\n",
    "    elif species == 'SiO':\n",
    "        filename = os.path.join(database, 'SiO.dat')\n",
    "    elif species == 'HNC':\n",
    "        filename = os.path.join(database, 'HNC.dat')\n",
    "    elif species == 'HCN':\n",
    "        filename = os.path.join(database, 'HCN.dat')\n",
    "    elif species == 'CO':\n",
    "        filename = os.path.join(database, 'CO.dat')\n",
    "    else:\n",
    "        print('Unknow species. Chose from HCO+, H13CO+, N2H+, SiO, HNC, HCN, CO')\n",
    "        print('or provide a LAMDA datafile.')\n",
    "        exit()\n",
    "\n",
    "    return filename\n",
    "\n",
    "def read_file(species):\n",
    "    filename = get_filename(species)\n",
    "    f = open(filename, 'r')\n",
    "\n",
    "    f.readline()\n",
    "    species = f.readline()\n",
    "\n",
    "    f.readline()\n",
    "    mu = float(f.readline())  # molecular weight\n",
    "\n",
    "    f.readline()\n",
    "    num_lvls = int(f.readline())  # number of energy levels\n",
    "\n",
    "    # read energy levels: energy E, statistical weight g\n",
    "    f.readline()\n",
    "    E = []\n",
    "    g = []\n",
    "    for l in range(num_lvls):\n",
    "        words = f.readline().split()\n",
    "        E.append(float(words[1]) *c_cgs*h_ev) # cm^-1 -> eV\n",
    "        g.append(float(words[2]))\n",
    "\n",
    "    f.readline()\n",
    "    num_trans = int(f.readline())  # number of radiative transistions\n",
    "\n",
    "    # read transistions: upper lvl, lower lvl, A-coefficient, frequency\n",
    "    f.readline()\n",
    "    A = np.zeros((num_lvls, num_lvls))\n",
    "    freq = np.zeros((num_lvls, num_lvls))\n",
    "    for t in range(num_trans):\n",
    "        words = f.readline().split()\n",
    "        up = int(words[1]) - 1\n",
    "        low = int(words[2]) - 1\n",
    "        if up-low==1:\n",
    "            A[up][low] = float(words[3])  # s^-1\n",
    "            freq[up][low] = float(words[4]) * 1e9  # GHz -> Hz\n",
    "            #freq[low][up] = freq[up][low] #un-comment this only if low->up transitions are also allowed\n",
    "\n",
    "    # compute B-coefficient via Einstein relations\n",
    "    # Bij = coeff for stimulated emission, Bji = coeff for extinction (j<i)\n",
    "    B = np.zeros((num_lvls, num_lvls))\n",
    "    for i in range(0, num_lvls):\n",
    "        for j in range(0, i):\n",
    "            if A[i][j] != 0:\n",
    "                B[i][j] = A[i][j] * (c_cgs**2) / (2*h_ev * (freq[i][j])**3) # cm2/(eV*s)\n",
    "                B[j][i] = B[i][j] * g[i]/g[j]\n",
    "\n",
    "    # number of collision partners in the data file\n",
    "    f.readline()\n",
    "    num_partners = int(f.readline())\n",
    "\n",
    "    C_all = []\n",
    "    temps_all = []\n",
    "    for partner in range(num_partners):\n",
    "        # reference\n",
    "        f.readline()\n",
    "        line = f.readline()\n",
    "\n",
    "        # number of collisional transitions\n",
    "        f.readline()\n",
    "        num_coll = int(f.readline())\n",
    "\n",
    "        # number of temperatures in the table\n",
    "        f.readline()\n",
    "        num_temps = int(f.readline())\n",
    "\n",
    "        # read the temperature values\n",
    "        f.readline()\n",
    "        words = f.readline().split()\n",
    "        temps = np.zeros(num_temps)\n",
    "        for t in range(num_temps):\n",
    "            temps[t] = float(words[t])\n",
    "            temps_all.append(temps)  # K\n",
    "\n",
    "        # read collision coeff data: upper lvl, lower lvl, C-coefficient for each temp\n",
    "        C = np.zeros((num_temps, num_lvls, num_lvls))\n",
    "        f.readline()\n",
    "        for col in range(num_coll):\n",
    "            words = f.readline().split()\n",
    "            i = int(words[1]) - 1\n",
    "            j = int(words[2]) - 1\n",
    "            for t in range(num_temps):\n",
    "                C[t][i][j] = float(words[3+t]) #* 1.e-6 # cm3/s -> m3/s\n",
    "\n",
    "        # calculate the inverse coefficient via LTE relation\n",
    "        for i in range(num_lvls):\n",
    "            for j in range(i):\n",
    "                for t in range(num_temps):\n",
    "                    if C[t][i][j] != 0:\n",
    "                        C[t][j][i] = C[t][i][j] * np.exp(-(E[i]-E[j])/(K_b_ev*temps[t]))*g[i]/g[j]\n",
    "\n",
    "        # add collision partner data to global array\n",
    "        C_all.append(C)\n",
    "\n",
    "    f.close()\n",
    "    C_all = np.array(C_all) #cm3/s\n",
    "    temps_all = np.array(temps_all) #K\n",
    "    E = np.array(E) #eV\n",
    "    g = np.array(g) \n",
    "    freq = np.array(freq) #Hz\n",
    "    A = np.array(A) #s-1\n",
    "    B = np.array(B) #cm2/(eV*s)\n",
    "    return mu, num_lvls, E, g, freq, A, B, C_all, num_partners, temps_all, num_temps, num_coll\n",
    "\n",
    "''' Load preset abundances and fraction for collision coefficients\n",
    "    PARAMS:\n",
    "      species = string with the particle name\n",
    "    RETURNS:\n",
    "      comp_fracs = list with the fraction of total collision partner density for each partner\n",
    "      abundance = overall abundance of the molecule (assume n_mol = abundance*rho everywhere)'''\n",
    "def load_species_info(species):\n",
    "\n",
    "    if species == 'HCO+':\n",
    "        comp_fracs = [1.0] # only 1 collision partner in HCO data\n",
    "        abundance = 1.e-09 # = N_species/N_h2\n",
    "    elif species == 'H13CO+':\n",
    "        comp_fracs = [1.0] # only 1 collision partner in HCO data\n",
    "        abundance = 2.e-11\n",
    "    elif species == 'N2H+':\n",
    "        comp_fracs = [1.0] # only 1 collision partner in HCO data\n",
    "        abundance = 1.e-10\n",
    "    elif species == 'SiO': # is seems to be unusually slow\n",
    "        comp_fracs = [1.0] # only 1 collision partner in HCO data\n",
    "        abundance = 7.7e-12\n",
    "    elif species == 'HNC':\n",
    "        comp_fracs = [1.0] # only 1 collision partner in HCO data\n",
    "        abundance = 3.1e-10\n",
    "    elif species == 'HCN':\n",
    "        comp_fracs = [1.0, 0.0] # H2 and e\n",
    "        abundance = 3.1e-11\n",
    "    elif species == 'CO':\n",
    "        comp_fracs = [0.66, 0.33] # para H2 and orhto H2\n",
    "        #abundance = 1.e-4\n",
    "        abundance = 1.0 # dummy for filenames\n",
    "    else:\n",
    "        print 'ERROR: Unsupported species'\n",
    "        exit()\n",
    "\n",
    "    return comp_fracs, abundance\n",
    "\n",
    "''' Calculate net collision coeff for a gas consisting of different components at temp T\n",
    "    Interpolates table betweem T values\n",
    "    PARAMS:\n",
    "      T = temperature (K)\n",
    "      comp_fractions = fraction of the total density in each component\n",
    "    RETRUN:\n",
    "      C = netto collision coeff C[i][j] (m3/s) '''\n",
    "def calc_total_C(T, comp_fractions):\n",
    "    C = np.zeros((num_lvls,num_lvls))\n",
    "    for p in range(num_partners):\n",
    "        max_index = len(temps_all[p])\n",
    "        if T <= temps_all[p][0]: # T is lower than lowest value in table\n",
    "            for i in range(num_lvls):\n",
    "                for j in range(num_lvls):\n",
    "                    C[i][j] = C[i][j] + comp_fractions[p] * C_all[p][0][i][j]\n",
    "        elif T >= temps_all[p][max_index-1]: # T is higher than highest value in table\n",
    "            for i in range(num_lvls):\n",
    "                for j in range(num_lvls):\n",
    "                    C[i][j] = C[i][j] + comp_fractions[p] * C_all[p][max_index-1][i][j]\n",
    "        else: # determine temperature entries needed to interpolate\n",
    "            t = 1 # T index of upper limit\n",
    "            while temps_all[p][t] < T:\n",
    "                t = t+1\n",
    "            t_frac = (temps_all[p][t] - T)/(temps_all[p][t] - temps_all[p][t-1])\n",
    "            for i in range(num_lvls):\n",
    "                for j in range(num_lvls):\n",
    "                    interpol = (1-t_frac) * C_all[p][t][i][j] + t_frac * C_all[p][t-1][i][j]\n",
    "                    C[i][j] = C[i][j] + comp_fractions[p] * interpol\n",
    "\n",
    "    return C"
   ]
  },
  {
   "cell_type": "code",
   "execution_count": 6,
   "metadata": {},
   "outputs": [],
   "source": [
    "mu, num_lvls, E, g, freq, A, B, C_all, num_partners, temps_all, num_temps, n_coll = read_file('CO.txt')"
   ]
  },
  {
   "cell_type": "code",
   "execution_count": 50,
   "metadata": {},
   "outputs": [],
   "source": [
    "# pynbody.array.SimArray(, \"\")\n",
    "freq = pynbody.array.SimArray(freq, \"Hz\")\n",
    "E = pynbody.array.SimArray(E, \"eV\")\n",
    "A = pynbody.array.SimArray(A, \"s**-1\")\n",
    "B = pynbody.array.SimArray(B, \"cm**2 eV**-1 s**-1\")\n",
    "C = pynbody.array.SimArray(C, \"cm**3 s**-1\")\n",
    "temps_all = pynbody.array.SimArray(temps_all, \"K\")"
   ]
  },
  {
   "cell_type": "code",
   "execution_count": null,
   "metadata": {},
   "outputs": [],
   "source": []
  },
  {
   "cell_type": "code",
   "execution_count": null,
   "metadata": {},
   "outputs": [],
   "source": []
  },
  {
   "cell_type": "code",
   "execution_count": null,
   "metadata": {},
   "outputs": [],
   "source": []
  },
  {
   "cell_type": "code",
   "execution_count": 53,
   "metadata": {},
   "outputs": [],
   "source": [
    "comp_fractions, abundance = load_species_info('CO')"
   ]
  },
  {
   "cell_type": "code",
   "execution_count": 54,
   "metadata": {},
   "outputs": [],
   "source": [
    "# calc netto collision coeffs\n",
    "C = calc_total_C(T_mean, comp_fractions)"
   ]
  },
  {
   "cell_type": "code",
   "execution_count": 55,
   "metadata": {},
   "outputs": [],
   "source": [
    "def partion_function(T, num_lvls, g, E):\n",
    "    Z=0.0\n",
    "    for i in range(0,num_lvls):\n",
    "        Z = Z + g[i]*np.exp(-E[i]/(K_b_ev*T))\n",
    "    return np.array(Z)\n",
    "\n",
    "def calc_lvlpops_partion(T, num_lvls, g, E):\n",
    "    ni = np.zeros(num_lvls)\n",
    "    Z = partion_function(T, num_lvls, g, E)\n",
    "    for i in range(0, num_lvls):\n",
    "        ni[i] = g[i]*np.exp(-E[i]/(K_b_ev*T)) / Z\n",
    "    return np.array(ni), Z"
   ]
  },
  {
   "cell_type": "code",
   "execution_count": 56,
   "metadata": {},
   "outputs": [],
   "source": [
    "ni, Z = calc_lvlpops_partion(T_mean, num_lvls, g, E)\n",
    "ni = pynbody.array.SimArray(ni, \"1\")"
   ]
  },
  {
   "cell_type": "code",
   "execution_count": 62,
   "metadata": {},
   "outputs": [
    {
     "data": {
      "text/plain": [
       "SimArray(5427.76055106, 'cm s**-1')"
      ]
     },
     "execution_count": 62,
     "metadata": {},
     "output_type": "execute_result"
    }
   ],
   "source": [
    "c_s = np.sqrt(K_b * T_mean/(mH_cgs*mu))\n",
    "c_s"
   ]
  },
  {
   "cell_type": "code",
   "execution_count": 352,
   "metadata": {},
   "outputs": [],
   "source": [
    "def tau_LVG(N, nu_ij, lambda_jeans, n_i, n_j, B_ij, B_ji, c_s):\n",
    "    # units: eV*s * Hz * cm * 1/cm3 * cm2/(eV*s) * 1/(Hz) = none\n",
    "    delta_nu = c_s*nu_ij/c_cgs #\"Hz\"\n",
    "    tau_lvg = h_ev*nu_ij*lambda_jeans*N*((n_j*B_ji)-(n_i*B_ij)) / (4*np.pi*delta_nu)\n",
    "    return tau_lvg\n",
    "\n",
    "def calc_line_profile(nu_ij):\n",
    "    delta_nu = c_s*nu_ij/c_cgs #\"Hz\"\n",
    "    line_profile = 1/delta_nu #Hz-1\n",
    "    return line_profile\n",
    "    \n",
    "def beta_LVG(tau):\n",
    "    if tau < 0.01:\n",
    "        return 1. - tau/2.\n",
    "    elif tau > 100.:\n",
    "        return 1./tau\n",
    "    else:\n",
    "        return (1.0 - np.exp(-tau)) / tau\n",
    "\n",
    "def B_nu_ev(nu, T):\n",
    "    if nu==0.:\n",
    "        return 0.\n",
    "    if nu>0:\n",
    "        x = h_ev*nu/(K_b_ev*T) #units: none\n",
    "        #units: eV*s * Hz3 / (cm2/s2) = eV * s3 * Hz3 * cm-2 = eV/s/Hz/cm2\n",
    "        B_nu_ev = 2.0*h_ev*(nu**3) / ((c_cgs**2) * (np.exp(x)-1.0))\n",
    "        return B_nu_ev\n",
    "\n",
    "def calc_emissivity(N, nu_ij, n_i, A_ij, phi_ij):\n",
    "    #units: eV*s * Hz * cm-3 * s-1 * Hz-1 = eV/cm3\n",
    "    j_nu = h_ev * nu_ij * N * n_i * A_ij * phi_ij / (4*np.pi)\n",
    "    return j_nu\n",
    "\n",
    "def calc_j_nu_bar(ds, beta_j_nu):\n",
    "    j_nu_bar = 0.0\n",
    "    for i in range(0, 100):\n",
    "        j_nu_bar += beta_j_nu[i] * ds * pdf_arr[i]\n",
    "    return j_nu_bar\n",
    "\n",
    "def calc_temp_for_rad_field(nu, I_nu):\n",
    "    foo = pynbody.array.SimArray(((2*h_ev*(nu**3))/((c_cgs**2)*I_nu)) + 1, \"Hz**3 s**3\") \n",
    "                                 #units: eV*s * Hz3 * cm-2*s2 * eV-1*cm2 = Hz3 * s3\n",
    "    temp_for_rad_field = h_ev * nu / (np.log(foo) * K_b_ev) #units: eV*s * Hz * eV-1*K = Hz * s * K\n",
    "    return temp_for_rad_field"
   ]
  },
  {
   "cell_type": "code",
   "execution_count": null,
   "metadata": {},
   "outputs": [],
   "source": []
  },
  {
   "cell_type": "code",
   "execution_count": null,
   "metadata": {},
   "outputs": [],
   "source": []
  },
  {
   "cell_type": "code",
   "execution_count": null,
   "metadata": {},
   "outputs": [],
   "source": []
  },
  {
   "cell_type": "code",
   "execution_count": null,
   "metadata": {},
   "outputs": [],
   "source": []
  },
  {
   "cell_type": "code",
   "execution_count": null,
   "metadata": {},
   "outputs": [],
   "source": []
  },
  {
   "cell_type": "code",
   "execution_count": 353,
   "metadata": {},
   "outputs": [],
   "source": [
    "tau_nu = np.zeros((len(n_CO_arr)))\n",
    "beta_nu = np.zeros((len(n_CO_arr)))\n",
    "B_nu = np.zeros((len(n_CO_arr)))\n",
    "phi_nu = 0\n",
    "j_nu = np.zeros((len(n_CO_arr)))\n",
    "beta_j_nu = np.zeros((len(n_CO_arr)))\n",
    "I_nu = np.zeros((len(n_CO_arr)))\n",
    "j_nu_bar = 0.0\n",
    "temp_nu = 0.0\n",
    "\n",
    "sigma_s = np.sqrt(np.log(1 + ((0.3 * mach_no)**2)))\n",
    "s_bar = -0.5*(sigma_s**2)\n",
    "smin = -7*sigma_s + s_bar\n",
    "smax = 7*sigma_s + s_bar\n",
    "ds = ((smax - smin)/100)\n",
    "u = 1 #upper level\n",
    "l = 0 #lower level\n",
    "nu = freq[u][l]\n",
    "n_i = ni[u]\n",
    "n_j = ni[l]\n",
    "A_ij = pynbody.array.SimArray(A[u][l], \"s**-1\")\n",
    "B_ij = pynbody.array.SimArray(B[u][l], \"cm**2 eV**-1 s**-1\")\n",
    "B_ji = pynbody.array.SimArray(B[l][u], \"cm**2 eV**-1 s**-1\")\n",
    "B_nu = pynbody.array.SimArray(B_nu_ev(nu, T_mean), \"eV cm**-2 s**-1 Hz**-1\")\n",
    "phi_nu = pynbody.array.SimArray(calc_line_profile(nu), \"Hz**-1\")\n",
    "for ctr in range(0, 100):\n",
    "    n_H = n_H_arr[ctr]\n",
    "    n_CO = n_CO_arr[ctr]\n",
    "    lambda_jeans = pynbody.array.SimArray(lambda_jeans_arr[ctr], \"cm\")\n",
    "    N = pynbody.array.SimArray(n_CO, \"cm**-3\")\n",
    "    Ni = pynbody.array.SimArray(ni*N, \"cm**-3\")\n",
    "    tau_nu[ctr] = tau_LVG(N, nu, lambda_jeans, n_i, n_j, B_ij, B_ji, c_s)\n",
    "    beta_nu[ctr] = beta_LVG(tau_nu[ctr])\n",
    "    j_nu[ctr] = calc_emissivity(N, nu, n_i, A_ij, phi_nu)\n",
    "beta_j_nu = pynbody.array.SimArray(beta_nu*j_nu, \"eV cm**-3\") #what comes out of the cell\n",
    "j_nu_bar = pynbody.array.SimArray(calc_j_nu_bar(ds, beta_j_nu),  \"eV cm**-3 s**-1 Hz**-1\")\n",
    "\n",
    "\n",
    "# temp_nu = pynbody.array.SimArray(calc_temp_for_rad_field(nu, I_nu), \"K\")"
   ]
  },
  {
   "cell_type": "code",
   "execution_count": 354,
   "metadata": {},
   "outputs": [],
   "source": [
    "tau_nu = pynbody.array.SimArray(tau_nu, \"1\")\n",
    "beta_nu = pynbody.array.SimArray(beta_nu, \"1\")\n",
    "j_nu = pynbody.array.SimArray(j_nu, \"eV cm**-3\")"
   ]
  },
  {
   "cell_type": "code",
   "execution_count": 355,
   "metadata": {},
   "outputs": [
    {
     "data": {
      "text/plain": [
       "SimArray(1.18570433e-22, 'eV cm**-3 s**-1 Hz**-1')"
      ]
     },
     "execution_count": 355,
     "metadata": {},
     "output_type": "execute_result"
    }
   ],
   "source": [
    "j_nu_bar"
   ]
  },
  {
   "cell_type": "code",
   "execution_count": 356,
   "metadata": {},
   "outputs": [
    {
     "data": {
      "text/plain": [
       "SimArray(1.18570433e-22, 'eV cm**-3')"
      ]
     },
     "execution_count": 356,
     "metadata": {},
     "output_type": "execute_result"
    }
   ],
   "source": [
    "np.sum(beta_j_nu*ds*pdf_arr)"
   ]
  },
  {
   "cell_type": "code",
   "execution_count": null,
   "metadata": {},
   "outputs": [],
   "source": []
  },
  {
   "cell_type": "code",
   "execution_count": null,
   "metadata": {},
   "outputs": [],
   "source": []
  },
  {
   "cell_type": "code",
   "execution_count": null,
   "metadata": {},
   "outputs": [],
   "source": []
  },
  {
   "cell_type": "code",
   "execution_count": null,
   "metadata": {},
   "outputs": [],
   "source": []
  },
  {
   "cell_type": "code",
   "execution_count": null,
   "metadata": {},
   "outputs": [],
   "source": []
  },
  {
   "cell_type": "code",
   "execution_count": null,
   "metadata": {},
   "outputs": [],
   "source": []
  },
  {
   "cell_type": "code",
   "execution_count": null,
   "metadata": {},
   "outputs": [],
   "source": []
  },
  {
   "cell_type": "code",
   "execution_count": 345,
   "metadata": {},
   "outputs": [
    {
     "data": {
      "text/plain": [
       "SimArray(0.11968412, 'K')"
      ]
     },
     "execution_count": 345,
     "metadata": {},
     "output_type": "execute_result"
    }
   ],
   "source": [
    "temp_nu"
   ]
  },
  {
   "cell_type": "code",
   "execution_count": 315,
   "metadata": {},
   "outputs": [
    {
     "data": {
      "text/plain": [
       "SimArray([29.15456777, 44.73850117, 68.11498304, ..., 29.26368001,\n",
       "          16.37539853, 25.15026196], 'km s**-1')"
      ]
     },
     "execution_count": 315,
     "metadata": {},
     "output_type": "execute_result"
    }
   ],
   "source": [
    "turb"
   ]
  },
  {
   "cell_type": "code",
   "execution_count": 316,
   "metadata": {},
   "outputs": [
    {
     "data": {
      "text/plain": [
       "(1291634,)"
      ]
     },
     "execution_count": 316,
     "metadata": {},
     "output_type": "execute_result"
    }
   ],
   "source": [
    "np.shape(turb)"
   ]
  },
  {
   "cell_type": "code",
   "execution_count": 317,
   "metadata": {},
   "outputs": [
    {
     "data": {
      "text/plain": [
       "SimArray(15.24043261, 'kpc')"
      ]
     },
     "execution_count": 317,
     "metadata": {},
     "output_type": "execute_result"
    }
   ],
   "source": [
    "r_e"
   ]
  },
  {
   "cell_type": "code",
   "execution_count": 321,
   "metadata": {},
   "outputs": [],
   "source": [
    "width_of_cell = pynbody.array.SimArray(r_e*1e3/np.shape(turb), \"pc\")"
   ]
  },
  {
   "cell_type": "code",
   "execution_count": 323,
   "metadata": {},
   "outputs": [
    {
     "data": {
      "text/plain": [
       "SimArray([0.00083535], 'pc**2')"
      ]
     },
     "execution_count": 323,
     "metadata": {},
     "output_type": "execute_result"
    }
   ],
   "source": [
    "surface_area = 6*(width_of_cell**2)\n",
    "surface_area"
   ]
  },
  {
   "cell_type": "code",
   "execution_count": 329,
   "metadata": {},
   "outputs": [
    {
     "data": {
      "text/plain": [
       "SimArray([2.42817576e+12, 1.63667538e+11, 3.89477443e+11, ...,\n",
       "          3.22726555e+11, 2.36468977e+11, 2.92905853e+11], 'm_p km**-3')"
      ]
     },
     "execution_count": 329,
     "metadata": {},
     "output_type": "execute_result"
    }
   ],
   "source": [
    "rho = region.gas[\"rho\"].in_units(\"m_p km**-3\")\n",
    "rho"
   ]
  },
  {
   "cell_type": "code",
   "execution_count": 336,
   "metadata": {},
   "outputs": [],
   "source": [
    "sigma_turb = turb[0]"
   ]
  },
  {
   "cell_type": "code",
   "execution_count": 339,
   "metadata": {},
   "outputs": [
    {
     "data": {
      "text/plain": [
       "SimArray([2.88768567e-24], 'pc**2 eV s**-1 Hz**-1 cm**-2')"
      ]
     },
     "execution_count": 339,
     "metadata": {},
     "output_type": "execute_result"
    }
   ],
   "source": [
    "luminosity = I_nu * surface_area * sigma_turb\n",
    "luminosity"
   ]
  },
  {
   "cell_type": "code",
   "execution_count": null,
   "metadata": {},
   "outputs": [],
   "source": []
  },
  {
   "cell_type": "code",
   "execution_count": null,
   "metadata": {},
   "outputs": [],
   "source": []
  },
  {
   "cell_type": "code",
   "execution_count": null,
   "metadata": {},
   "outputs": [],
   "source": []
  },
  {
   "cell_type": "code",
   "execution_count": null,
   "metadata": {},
   "outputs": [],
   "source": []
  },
  {
   "cell_type": "code",
   "execution_count": null,
   "metadata": {},
   "outputs": [],
   "source": []
  },
  {
   "cell_type": "code",
   "execution_count": null,
   "metadata": {},
   "outputs": [],
   "source": []
  },
  {
   "cell_type": "code",
   "execution_count": null,
   "metadata": {},
   "outputs": [],
   "source": []
  },
  {
   "cell_type": "code",
   "execution_count": 335,
   "metadata": {},
   "outputs": [
    {
     "data": {
      "image/png": "[encoded data removed]",
      "text/plain": [
       "<Figure size 648x360 with 1 Axes>"
      ]
     },
     "metadata": {
      "needs_background": "light"
     },
     "output_type": "display_data"
    }
   ],
   "source": [
    "fig = plt.figure(figsize=(9,5))\n",
    "ax = plt.gca()\n",
    "plt.scatter(np.log10(rho), turb)\n",
    "# ax.set_ylim([1e-43,2e-6])\n",
    "# ax.set_ylim([0,1.25e-22])\n",
    "plt.xlabel('$log(rho)  (m_p km^{-3})$')\n",
    "plt.ylabel('$turb  (km s^{-1})$')\n",
    "plt.grid(b=True, which='both', axis='both')\n",
    "plt.title('$log(rho) (m_p km^{-3})$ vs $turb (km s^{-1})$')\n",
    "# plt.legend()\n",
    "plt.show()"
   ]
  },
  {
   "cell_type": "code",
   "execution_count": 332,
   "metadata": {},
   "outputs": [
    {
     "data": {
      "image/png": "[encoded data removed]",
      "text/plain": [
       "<Figure size 648x360 with 1 Axes>"
      ]
     },
     "metadata": {
      "needs_background": "light"
     },
     "output_type": "display_data"
    }
   ],
   "source": [
    "fig = plt.figure(figsize=(9,5))\n",
    "ax = plt.gca()\n",
    "plt.scatter(np.log10(n_H_arr), beta_nu*n_CO_arr*pdf_arr, c='r',\n",
    "            label='$beta_{nu} * n_{CO} * pdf$')\n",
    "#plt.scatter(np.log10(n_H_arr), X_CO_arr)\n",
    "#ax.set_xlim([xmin,xmax])\n",
    "ax.set_ylim([1e-43,2e-6])\n",
    "#ax.set_ylim([0,1.25e-22])\n",
    "plt.xlabel('$log(n_{H}) (cm^{-3})$')\n",
    "plt.ylabel('$beta_{nu} * n_{CO} * pdf$')\n",
    "plt.grid(b=True, which='both', axis='both')\n",
    "plt.title('LTE : $log(n_{H}) (cm^{-3})$ vs $beta_{nu} * n_{CO} * pdf$ - for 1-0 transition')\n",
    "plt.legend()\n",
    "plt.savefig('radiative_transfer/outputs_RT/1.2/LTE_log(n_H)vsbeta_n_CO_pdf.png', \n",
    "            dpi=300, bbox_inches='tight')\n",
    "plt.show()"
   ]
  },
  {
   "cell_type": "code",
   "execution_count": 285,
   "metadata": {},
   "outputs": [
    {
     "data": {
      "image/png": "[encoded data removed]",
      "text/plain": [
       "<Figure size 648x360 with 1 Axes>"
      ]
     },
     "metadata": {
      "needs_background": "light"
     },
     "output_type": "display_data"
    }
   ],
   "source": [
    "fig = plt.figure(figsize=(9,5))\n",
    "ax = plt.gca()\n",
    "plt.scatter(np.log10(n_H_arr), beta_j_nu*pdf_arr, c='k',\n",
    "            label='$beta_{nu}* j_{nu} * pdf$')\n",
    "#plt.scatter(np.log10(n_H_arr), X_CO_arr)\n",
    "#ax.set_xlim([xmin,xmax])\n",
    "ax.set_ylim([0,1.25e-22])\n",
    "plt.xlabel('$log(n_{H}) (cm^{-3})$')\n",
    "plt.ylabel('$beta_{nu} * j_{nu} * pdf$')\n",
    "plt.grid(b=True, which='both', axis='both')\n",
    "plt.title('LTE : $log(n_{H}) (cm^{-3})$ vs $beta_{nu} * j_{nu} * pdf$ - for 1-0 transition')\n",
    "plt.legend()\n",
    "plt.savefig('radiative_transfer/outputs_RT/1.2/LTE_log(n_H)vsbeta_j_nu_pdf.png', \n",
    "            dpi=300, bbox_inches='tight')\n",
    "plt.show()"
   ]
  },
  {
   "cell_type": "code",
   "execution_count": 261,
   "metadata": {},
   "outputs": [
    {
     "data": {
      "text/plain": [
       "SimArray(1.00304884e-22, 'eV cm**-3')"
      ]
     },
     "execution_count": 261,
     "metadata": {},
     "output_type": "execute_result"
    }
   ],
   "source": [
    "np.max(beta_j_nu*pdf_arr)"
   ]
  },
  {
   "cell_type": "code",
   "execution_count": null,
   "metadata": {},
   "outputs": [],
   "source": []
  },
  {
   "cell_type": "code",
   "execution_count": 298,
   "metadata": {},
   "outputs": [
    {
     "data": {
      "image/png": "[encoded data removed]",
      "text/plain": [
       "<Figure size 648x360 with 1 Axes>"
      ]
     },
     "metadata": {
      "needs_background": "light"
     },
     "output_type": "display_data"
    }
   ],
   "source": [
    "fig = plt.figure(figsize=(9,5))\n",
    "ax = plt.gca()\n",
    "plt.scatter(np.log10(n_H_arr), np.log10(tau_nu), c='b')\n",
    "ax.set_xlim([2,6])\n",
    "ax.set_ylim([-5,5])\n",
    "plt.xlabel('$log(n_{H}) (cm^{-3})$')\n",
    "plt.ylabel('$log(tau_{nu})$')\n",
    "plt.grid(b=True, which='both', axis='both')\n",
    "plt.title('LTE : $log(n_{H}) (cm^{-3})$ vs $log(tau_{nu})$ - for 1-0 transition')\n",
    "plt.legend()\n",
    "plt.savefig('radiative_transfer/outputs_RT/1.2/LTE_log(n_H)vslog(tau).png', \n",
    "            dpi=300, bbox_inches='tight')\n",
    "plt.show()"
   ]
  },
  {
   "cell_type": "code",
   "execution_count": 299,
   "metadata": {},
   "outputs": [
    {
     "data": {
      "image/png": "[encoded data removed]",
      "text/plain": [
       "<Figure size 648x360 with 1 Axes>"
      ]
     },
     "metadata": {
      "needs_background": "light"
     },
     "output_type": "display_data"
    }
   ],
   "source": [
    "plt.figure(figsize=(9,5))\n",
    "plt.scatter(np.log10(n_H_arr), beta_nu, c='r',\n",
    "            label='$beta_{nu}$')\n",
    "for i in range(0, 100):\n",
    "    if (tau_nu[i]<2):\n",
    "        plt.scatter(np.log10(n_H_arr[i]), tau_nu[i], c='b')\n",
    "plt.xlabel('$log(n_{H}) (cm^{-3})$')\n",
    "plt.ylabel('$tau_{nu}$,   $beta_{nu}$')\n",
    "plt.grid(b=True, which='both', axis='both')\n",
    "plt.title('LTE : $log(n_{H}) (cm^{-3})$ vs $tau_{nu}$, $beta_{nu}$ - for 1-0 transition')\n",
    "plt.legend()\n",
    "# plt.savefig('radiative_transfer/outputs_RT/1.2/LTE_log(n_CO)_vs_tau_vs_beta.png', \n",
    "#             dpi=300, bbox_inches='tight')\n",
    "plt.show()"
   ]
  },
  {
   "cell_type": "code",
   "execution_count": 310,
   "metadata": {},
   "outputs": [
    {
     "name": "stdout",
     "output_type": "stream",
     "text": [
      "i  n_H                    tau                     beta     j_nu                   lambda_jeans\n",
      "0  5.208016862739764e-32  1.3580178434911794e-25   1.0    2.96487384042777e-48   8.738310414741158e+20\n",
      "1  1.2186600714096998e-31  2.8574915879019086e-25   1.0    6.937714414764179e-48   7.857723673534708e+20\n",
      "2  2.8517484359043585e-31  6.012884678455654e-25   1.0    1.623472918758122e-47   7.065876399340143e+20\n",
      "3  6.673602523267372e-31  1.2653226528765783e-24   1.0    3.799217641595583e-47   6.353826039837457e+20\n",
      "4  1.5618245754872415e-30  2.662824123315979e-24   1.0    8.891316885566532e-47   5.713531211540386e+20\n",
      "5  3.6553545863376686e-30  5.60414064876799e-24   1.0    2.080958160496219e-46   5.137760886207909e+20\n",
      "6  8.555688321794962e-30  1.1795157749206414e-23   1.0    4.8706709599244215e-46   4.6200127288236605e+20\n",
      "7  2.002680822804955e-29  2.482731883538331e-23   1.0    1.1401069041733383e-45   4.154439664911436e+20\n",
      "8  4.6881702523835325e-29  5.226256746740676e-23   1.0    2.6689301719064242e-45   3.73578384789082e+20\n",
      "9  1.097573887662686e-28  1.1002475661582537e-22   1.0    6.248382432763086e-45   3.3593172807480096e+20\n",
      "10  2.5698469209457244e-28  2.3165047156610184e-22   1.0    1.462989101346263e-44   3.020788421445631e+20\n",
      "11  6.017674132550594e-28  4.877798822517367e-22   1.0    3.4258039261478577e-44   2.7163741690716743e+20\n",
      "12  1.4092997321158922e-27  1.02723041925479e-21   1.0    8.02300764224899e-44   2.4426366884936194e+20\n",
      "13  3.300937730739679e-27  2.163570832722041e-21   1.0    1.8791920580692094e-43   2.196484585926589e+20\n",
      "14  7.732807331887242e-27  4.55764253677103e-21   1.0    4.402212737713665e-43   1.975137996960328e+20\n",
      "15  1.8118002742435832e-26  9.602463725154774e-21   1.0    1.0314404462889463e-42   1.7760971927744024e+20\n",
      "16  4.245852767171775e-26  2.0235156530618765e-20   1.0    2.4171230876301566e-42   1.5971143500027914e+20\n",
      "17  9.951994747511452e-26  4.265019884028254e-20   1.0    5.665574759957466e-42   1.4361681654371248e+20\n",
      "18  2.333222126875758e-25  8.991585792928697e-20   1.0    1.3282808850664903e-41   1.2914410288852704e+20\n",
      "19  5.471596332042899e-25  1.8961100485161904e-19   1.0    3.1149270937115137e-41   1.16129849639204e+20\n",
      "20  1.2835020397730685e-24  3.9995887416103587e-19   1.0    7.306853495587473e-41   1.0442708320073212e+20\n",
      "21  3.0117405894225533e-24  8.43928434835376e-19   1.0    1.7145549108372065e-40   9.390364096477078e+19\n",
      "22  7.069562489138551e-24  1.781352549172732e-18   1.0    4.024633836590494e-40   8.444067876041908e+19\n",
      "23  1.6601170533576426e-23  3.761536988689127e-18   1.0    9.45088649532288e-40   7.59313287138173e+19\n",
      "24  3.900095339632077e-23  7.946413011693882e-18   1.0    2.2202867141959186e-39   6.827949235941412e+19\n",
      "25  9.166918134610103e-23  1.679533020684184e-17   1.0    5.218638205474357e-39   6.139875537316818e+19\n",
      "26  2.1557914557327335e-22  3.5517404725911105e-17   1.0    1.2272713128577028e-38   5.521141167146336e+19\n",
      "27  5.072846082609061e-22  7.515457915642758e-17   1.0    2.8879224171582026e-38   4.964758585461384e+19\n",
      "28  1.1945033614134796e-21  1.5913306293946065e-16   0.9999999999999999    6.800192591340366e-38   4.464444408446913e+19\n",
      "29  2.8147917659475794e-21  3.3720080417730223e-16   0.9999999999999998    1.6024338424893606e-37   4.014548448433905e+19\n",
      "30  6.638415478150235e-21  7.151152569987269e-16   0.9999999999999997    3.779185995704393e-37   3.609989904752717e+19\n",
      "31  1.567046588614636e-20  1.5179686628855255e-15   0.9999999999999992    8.921045303357479e-37   3.2461999848327623e+19\n",
      "32  3.7029103875527e-20  3.2254727984666542e-15   0.9999999999999983    2.1080312201077915e-36   2.919070307552581e+19\n",
      "33  8.759871354760523e-20  6.86147039629054e-15   0.9999999999999966    4.986910394061031e-36   2.6249065061449392e+19\n",
      "34  2.074915239988895e-19  1.461467325559121e-14   0.9999999999999927    1.1812292621709552e-35   2.3603865066816033e+19\n",
      "35  4.92166464664828e-19  3.1172386470792725e-14   0.9999999999999845    2.801856281726639e-35   2.1225230109650797e+19\n",
      "36  1.1692309886924807e-18  6.659285502249169e-14   0.9999999999999667    6.656319407476266e-35   1.9086297601361306e+19\n",
      "37  2.7825327416479693e-18  1.4250722551465352e-13   0.9999999999999287    1.5840690906491906e-34   1.7162911980025813e+19\n",
      "38  6.634606024096758e-18  3.0554911081772606e-13   0.9999999999998472    3.7770173102014187e-34   1.5433351914889155e+19\n",
      "39  1.5853208088728376e-17  6.565266043885592e-13   0.9999999999996717    9.025078679257983e-34   1.3878085001310726e+19\n",
      "40  3.7970701247997206e-17  1.4140119223642125e-12   0.999999999999293    2.1616354516498496e-33   1.2479547175866319e+19\n",
      "41  9.118487248412941e-17  3.0534902143052913e-12   0.9999999999984732    5.191066968410589e-33   1.1221944360476533e+19\n",
      "42  2.1961656433352515e-16  6.613146057008965e-12   0.9999999999966934    1.250255949007336e-32   1.009107409547407e+19\n",
      "43  5.30657391722043e-16  1.4368999293092473e-11   0.9999999999928155    3.020981422319435e-32   9.074165147261837e+18\n",
      "44  1.2868367246332777e-15  3.133322057050994e-11   0.9999999999843334    7.325837535325976e-32   8.159733279206811e+18\n",
      "45  3.1330113025562053e-15  6.859821814226489e-11   0.9999999999657009    1.7835931598398863e-31   7.3374515569497e+18\n",
      "46  7.661542906678738e-15  1.5084690201052273e-10   0.9999999999245766    4.361642586805462e-31   6.598033723452431e+18\n",
      "47  1.882744775730144e-14  3.333349813371878e-10   0.9999999998333325    1.0718284677035005e-30   5.933129326704998e+18\n",
      "48  4.651712449382101e-14  7.405793287196425e-10   0.9999999996297103    2.6481750957906475e-30   5.335229415739849e+18\n",
      "49  1.156184386766285e-13  1.6552176531804762e-09   0.9999999991723911    6.582046359256712e-30   4.797581739952359e+18\n",
      "50  2.892699180694556e-13  3.7239219135816244e-09   0.9999999981380391    1.646785783361755e-29   4.3141144940498396e+18\n",
      "51  7.290103443987318e-13  8.439180347588733e-09   0.9999999957804099    4.150185678108551e-29   3.8793677474593065e+18\n",
      "52  1.8519704630786885e-12  1.9278352499920353e-08   0.9999999903608238    1.0543089479050477e-28   3.4884317838073687e+18\n",
      "53  4.746164091595699e-12  4.442709272800612e-08   0.9999999777864537    2.701945506018778e-28   3.1368916541225897e+18\n",
      "54  1.2280577810737343e-11  1.0336969389670888e-07   0.999999948315153    6.991214670767907e-28   2.8207773175843005e+18\n",
      "55  3.210982320422595e-11  2.4304216621879465e-07   0.9999998784789169    1.827981309355588e-27   2.536518806743309e+18\n",
      "56  8.49152509212946e-11  5.779612134955768e-07   0.9999997110193932    4.834143451245708e-27   2.2809059108829222e+18\n",
      "57  2.2732488711495423e-10  1.391327166436091e-06   0.9999993043364168    1.294138688196874e-26   2.0510519222131415e+18\n",
      "58  6.165805452379058e-10  3.3934494360117083e-06   0.9999983032752819    3.510133659841617e-26   1.8443610354737516e+18\n",
      "59  1.695674282276733e-09  8.391957626680507e-06   0.9999958040211867    9.653310374966109e-26   1.658499032780854e+18\n",
      "60  4.731094435114187e-09  2.105483051104141e-05   0.9999894725847445    2.693366495722955e-25   1.4913669226526966e+18\n",
      "61  1.3396504642684507e-08  5.361063061086802e-05   0.9999731946846946    7.626501068464218e-25   1.3410772355129042e+18\n",
      "62  3.84958550406221e-08  0.00013852962899263855   0.9999307351855037    2.1915319512770776e-24   1.2059327079696527e+18\n",
      "63  1.1220092326544952e-07  0.0003630733859641057   0.999818463307018    6.3874904983808515e-24   1.0844071151463713e+18\n",
      "64  3.3132221715589194e-07  0.0009640905538789164   0.9995179547230605    1.8861854719135124e-23   9.751280345981535e+17\n",
      "65  9.89524874371372e-07  0.002589186110236803   0.9987054069448816    5.63326980652838e-23   8.768613471619558e+17\n",
      "66  2.982481646051232e-06  0.0070175193113879335   0.996491240344306    1.6978980761750863e-22   7.884972997043762e+17\n",
      "67  9.051526452562639e-06  0.019151242064205747   0.9904852157598284    5.152946832246831e-22   7.090379723697189e+17\n",
      "68  2.7612041585761913e-05  0.05253429680853697   0.9741868487866064    1.5719269337265958e-21   6.375860087924808e+17\n",
      "69  8.461422423209986e-05  0.14476283034529422   0.9309884671278428    4.8170062917551276e-21   5.733344820014142e+17\n",
      "70  0.00026068879149019003  0.401056289365051   0.8237936689660292    1.4840761824557385e-20   5.1555778156797325e+17\n",
      "71  0.000808954721256103  1.1191195191229406   0.6017523456960366    4.605301315942773e-20   4.6360341908518694e+17\n",
      "72  0.0025310779679682547  3.148669403468081   0.303966753459726    1.44091830980831e-19   4.168846594339267e+17\n",
      "73  0.007958564555203697  8.90277849071181   0.1123092066758774    4.530734150631374e-19   3.748738946194158e+17\n",
      "74  0.024797518939184308  24.944128728085868   0.04008959426429527    1.411698870184198e-18   3.370966853468538e+17\n",
      "75  0.07395501988912889  66.89552256372447   0.014948683584127818    4.210188054618635e-18   3.03126403046019e+17\n",
      "76  0.19825294319038503  161.2569048828414   0.006201284842509744    1.1286349114157171e-17   2.7257941183572406e+17\n",
      "77  0.4438610907351091  324.6497228287576   0.0030802428885099284    2.5268584403391552e-17   2.4511073601671507e+17\n",
      "78  0.805483450829164  529.7779352001802   0.0018875833317258544    4.585539707727727e-17   2.2041016416479747e+17\n",
      "79  1.2322601353303855  728.8009452361729   0.0013721167714401677    7.01513826881325e-17   1.981987458266213e+17\n",
      "80  1.6958379219523638  901.9036716236182   0.00110876585988367    9.654241959878985e-17   1.7822564125434112e+17\n",
      "81  2.205958805949798  1054.975792547362   0.0009478890483215576    1.255831102163743e-16   1.6026528860231856e+17\n",
      "82  2.7906763694954355  1200.1177391431168   0.0008332515780609987    1.5887051795497228e-16   1.4411485659423254e+17\n",
      "83  3.4844340059704004  1347.460080481079   0.0007421370135454947    1.9836547202659854e-16   1.2959195389285155e+17\n",
      "84  4.3254236856484365  1504.1169391655865   0.0006648419241623282    2.4624220451542984e-16   1.1653256930374698e+17\n",
      "85  5.356491387707364  1674.9530698184712   0.0005970316530172266    3.049398957501757e-16   1.0478921955108854e+17\n",
      "86  6.627282146897525  1863.4896138695863   0.000536627621939611    3.772847897449732e-16   9.422928370783965e+16\n",
      "87  8.19698055422812  2072.5962350220507   0.0004824866431301613    4.666462082640238e-16   8.473350547060448e+16\n",
      "88  10.137484928157122  2304.9436135824562   0.0004338500925173397    5.771172533303241e-16   7.6194646364903e+16\n",
      "89  12.537041185023423  2563.2703891405995   0.0003901266149043586    7.137216799695082e-16   6.851627467114161e+16\n",
      "90  15.504478152100864  2850.53124287619   0.00035081180130865666    8.826550085028927e-16   6.161167639428424e+16\n",
      "91  19.17426374938078  3169.9808084688857   0.000315459323074894    1.09157236810664e-15   5.540287597849857e+16\n",
      "92  23.712652913321975  3525.229245897475   0.0002836694950161784    1.349938492189646e-15   4.981975570743683e+16\n",
      "93  29.32524021623582  3920.288984162259   0.000255083235965497    1.6694576817410455e-15   4.47992638452908e+16\n",
      "94  36.26628002060985  4359.621627690196   0.0002293777041678311    2.0646043927394115e-15   4.028470257593801e+16\n",
      "95  44.850206047432415  4848.188693992415   0.00020626259890402782    2.553279034082734e-15   3.622508769867605e+16\n",
      "96  55.4658757751119  5391.507708535155   0.00018547687475563212    3.157618887499806e-15   3.2574572849411572e+16\n",
      "97  68.5941859942083  5995.714524720535   0.00016678579273195313    3.9050009441151726e-15   2.929193174487201e+16\n",
      "98  84.8298577540729  6667.632618800446   0.00014997826922562315    4.829282100479773e-15   2.6340092602679772e+16\n",
      "99  104.90837761649071  7414.850149384608   0.00013486449218167874    5.972332898193109e-15   2.3685719479365068e+16\n"
     ]
    }
   ],
   "source": [
    "print \"i  n_H                    tau                     beta     j_nu                   lambda_jeans\"\n",
    "for k in range(0,100):\n",
    "    print k,\"\",n_CO_arr[k],\"\",tau_nu[k],\" \",beta_nu[k],\"  \",j_nu[k],\" \",lambda_jeans_arr[k]"
   ]
  },
  {
   "cell_type": "code",
   "execution_count": null,
   "metadata": {},
   "outputs": [],
   "source": []
  },
  {
   "cell_type": "code",
   "execution_count": null,
   "metadata": {},
   "outputs": [],
   "source": []
  },
  {
   "cell_type": "code",
   "execution_count": null,
   "metadata": {},
   "outputs": [],
   "source": []
  },
  {
   "cell_type": "code",
   "execution_count": null,
   "metadata": {},
   "outputs": [],
   "source": []
  },
  {
   "cell_type": "code",
   "execution_count": null,
   "metadata": {},
   "outputs": [],
   "source": []
  },
  {
   "cell_type": "code",
   "execution_count": null,
   "metadata": {},
   "outputs": [],
   "source": []
  },
  {
   "cell_type": "code",
   "execution_count": null,
   "metadata": {},
   "outputs": [],
   "source": []
  },
  {
   "cell_type": "code",
   "execution_count": null,
   "metadata": {},
   "outputs": [],
   "source": []
  }
 ],
 "metadata": {
  "kernelspec": {
   "display_name": "Python 2",
   "language": "python",
   "name": "python2"
  },
  "language_info": {
   "codemirror_mode": {
    "name": "ipython",
    "version": 2
   },
   "file_extension": ".py",
   "mimetype": "text/x-python",
   "name": "python",
   "nbconvert_exporter": "python",
   "pygments_lexer": "ipython2",
   "version": "2.7.16"
  }
 },
 "nbformat": 4,
 "nbformat_minor": 2
}
