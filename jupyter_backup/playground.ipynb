{
 "cells": [
  {
   "cell_type": "code",
   "execution_count": 44,
   "metadata": {},
   "outputs": [],
   "source": [
    "import numpy as np\n",
    "import timing\n",
    "import matplotlib.pyplot as plt\n",
    "import matplotlib.colors as cm\n",
    "import pynbody\n",
    "from michaels_functions import center_and_r_vir, remove_bulk_velocity\n",
    "from matplotlib.colors import LogNorm\n",
    "from matplotlib.pyplot import figure"
   ]
  },
  {
   "cell_type": "code",
   "execution_count": 45,
   "metadata": {},
   "outputs": [
    {
     "name": "stdout",
     "output_type": "stream",
     "text": [
      "('shifting on Stars:', SimArray([ 0.00308878, -0.03302971, -0.04676732], 'kpc'))\n",
      "('virial radius:', SimArray(152.40432611, 'kpc'))\n",
      "omega_b     =  0.450000017881393E-01\n",
      "unit_l      =  0.682025380323961E+26\n",
      "unit_d      =  0.123367583719985E-28\n",
      "unit_t      =  0.163687521954501E+18\n"
     ]
    }
   ],
   "source": [
    "path = \"bulk1/data_2/hydro_59/output/\"\n",
    "data = pynbody.load(path + \"output_00050\")\n",
    "aexp = data.properties['a']\n",
    "data.physical_units()\n",
    "r_vir = center_and_r_vir(data, aexp, path)\n",
    "remove_bulk_velocity(data)\n",
    "r_e = 0.1 * r_vir\n",
    "sph_5 = pynbody.filt.Sphere(radius = '5.0 kpc') # %(r_e*1.4))\n",
    "region = data[sph_5]\n",
    "rho = region.gas[\"rho\"].in_units(\"m_p cm**-3\")\n",
    "f = open(data.filename + \"/info_\"+data.filename[-5:]+\".txt\",\"r\")\n",
    "lines = f.readlines()\n",
    "f.close()\n",
    "for line in lines:\n",
    "    if line[0:13]==\"unit_l      =\":\n",
    "        print line[:-1]\n",
    "        unit_l = float(line[14:-1])\n",
    "    if line[0:13]==\"unit_d      =\":\n",
    "        print line[:-1]\n",
    "        unit_d = float(line[14:-1])\n",
    "    if line[0:13]==\"unit_t      =\":\n",
    "        print line[:-1]\n",
    "        unit_t = float(line[14:-1])\n",
    "    if line[0:13]==\"omega_b     =\":\n",
    "        print line[:-1]\n",
    "        omega_b = float(line[14:-1])"
   ]
  },
  {
   "cell_type": "code",
   "execution_count": 79,
   "metadata": {},
   "outputs": [],
   "source": [
    "def make_pdf(s, s_bar, sigma_s):\n",
    "    pdf = (1./np.sqrt(2*np.pi*(sigma_s**2))) * (np.exp(-0.5*(((s - s_bar)/sigma_s)**2)))\n",
    "    return pdf\n",
    "\n",
    "def calc_lambda_jeans(n_H, c_s, m_p):\n",
    "    lambda_jeans = (c_s / np.sqrt(4* np.pi * G * n_H * m_p))\n",
    "    return lambda_jeans\n",
    "\n",
    "def calc_n_LW(n_H, G_o, lambda_jeans, Z, m_p):\n",
    "    kappa = 1000 * m_p * Z\n",
    "    rad_field_outside = G_o #in solar units\n",
    "    exp_tau = np.exp(-kappa * n_H * lambda_jeans)\n",
    "    n_LW = rad_field_outside * exp_tau\n",
    "    return n_LW\n",
    "\n",
    "def calc_X_H2(n_H, Z, n_LW):\n",
    "    DC = 1.7e-11\n",
    "    CC = 2.5e-17            #cm3 s-1\n",
    "    numerator = DC * n_LW\n",
    "    denominator = CC * Z * n_H\n",
    "    X_H2 = 1. / (2 + (numerator/denominator) )\n",
    "    return X_H2\n",
    "\n",
    "def calc_n_LW_ss(n_H, n_H2, G_o, lambda_jeans, m_p):\n",
    "    kappa = 1000 * m_p * Z\n",
    "    rad_field_outside = G_o #in solar units\n",
    "    exp_tau = np.exp(-kappa * n_H * lambda_jeans)\n",
    "    N_H2 = n_H2 * lambda_jeans\n",
    "    term1 = pynbody.array.SimArray((0.965/((1+(N_H2/5e14))**2)), \"1\")\n",
    "    term2 = ( (0.035/np.sqrt(1+(N_H2/5e14))) * np.exp(-1*np.sqrt(1+(N_H2/5e14))/1180) )\n",
    "    S_H2 = term1 + term2\n",
    "    n_LW_ss = rad_field_outside * exp_tau * S_H2\n",
    "    return n_LW_ss\n",
    "\n",
    "def self_shielding_iterations(n_H, G_o, lambda_jeans, Z, m_p):\n",
    "    n_LW = np.zeros(100)\n",
    "    X_H2 = np.zeros(100)\n",
    "    n_H2 = np.zeros(100)\n",
    "    n_LW_ss = np.zeros(100)\n",
    "    S_H2_ss = np.zeros(100)\n",
    "    N_H2_ss = np.zeros(100)\n",
    "    X_H2_ss = np.zeros(100)\n",
    "    n_H2_ss = np.zeros(100)\n",
    "    ctr = 16\n",
    "    i = 0\n",
    "    n_LW = calc_n_LW(n_H, G_o, lambda_jeans, Z, m_p)\n",
    "    X_H2 = calc_X_H2(n_H, Z, n_LW)\n",
    "    n_H2 = n_H * X_H2\n",
    "    n_H2_ss = n_H2\n",
    "    while i<ctr:\n",
    "        n_LW_ss = calc_n_LW_ss(n_H, n_H2_ss, G_o, lambda_jeans, m_p)\n",
    "        X_H2_ss = calc_X_H2(n_H, Z, n_LW_ss)\n",
    "        n_H2_ss = n_H * X_H2_ss\n",
    "        i += 1\n",
    "    return n_LW, n_H2, n_LW_ss, X_H2_ss, n_H2_ss\n",
    "\n",
    "# def calc_integral1(s, pdf, X_H2_ss, ds):\n",
    "#     integ1 = 0.0\n",
    "#     for i in range(0, 100):\n",
    "#         integ1 += np.exp(s[i]) * pdf[i] * X_H2_ss[i] * ds\n",
    "#     return integ1\n",
    "\n",
    "def calc_X_CO(n_H, n_H2, n_LW):\n",
    "    rate_CHX = 5.0e-10 * n_LW\n",
    "    rate_CO = 1.0e-10 * n_LW\n",
    "    x0 = 2.0e-4\n",
    "    k0 = 5.0e-16 #cm3 s-1\n",
    "    k1 = 5.0e-10 #cm3 s-1\n",
    "    factor_beta = rate_CHX/(n_H*k1*x0)\n",
    "    beta = 1./(1.+factor_beta)\n",
    "    factor_CO = rate_CO/(n_H2*k0*beta)\n",
    "    X_CO = 1./(1.+factor_CO)\n",
    "    return X_CO\n",
    "\n",
    "def calc_n_CO(n_H, X_CO, Z):\n",
    "    abundance_Ctot = 1e-4 # n_C/n_H as defined by nucleosynthesis\n",
    "    return n_H * abundance_Ctot * Z * X_CO # CO/cc\n",
    "\n",
    "# def calc_integral2(s, pdf, X_CO, ds):\n",
    "#     integ2 = 0.0\n",
    "#     for i in range(0, 100):\n",
    "#         integ2 += np.exp(s[i]) * pdf[i] * X_CO[i] * ds\n",
    "#     return integ2\n",
    "\n",
    "# def inside_loop(mach_no, n_H_mean, Z, G_o, c_s, m_p):\n",
    "#     s = np.zeros(100)\n",
    "#     n_H = np.zeros(100)\n",
    "#     pdf = np.zeros(100)\n",
    "#     lambda_jeans = np.zeros(100)\n",
    "#     X_CO = np.zeros(100)\n",
    "#     n_CO = np.zeros(100)\n",
    "#     integral1 = 0.0\n",
    "#     integral2 = 0.0\n",
    "#     sigma_s = np.sqrt(np.log(1 + ((0.3 * mach_no)**2)))\n",
    "#     s_bar = -0.5*(sigma_s**2)\n",
    "#     smin = -7*sigma_s + s_bar\n",
    "#     smax = 7*sigma_s + s_bar\n",
    "#     ds = (smax - smin)/100\n",
    "\n",
    "#     for i in range(0, 100):\n",
    "#         s[i] = smin + i*ds\n",
    "\n",
    "#     n_H = n_H_mean * np.exp(s)\n",
    "#     pdf = make_pdf(s, s_bar, sigma_s)\n",
    "#     lambda_jeans = calc_lambda_jeans(n_H, c_s, m_p)\n",
    "#     n_LW, n_H2, n_LW_ss, X_H2_ss, n_H2_ss = self_shielding_iterations(n_H,\n",
    "#                                                     G_o, lambda_jeans, Z, m_p)\n",
    "\n",
    "# #     integral1 = calc_integral1(s, pdf, X_H2_ss, ds)\n",
    "# #     X_H2_bar = 2 * integral1\n",
    "\n",
    "#     X_CO = calc_X_CO(n_H, n_H2, n_LW)\n",
    "#     n_CO = calc_n_CO(n_H, X_CO, Z)\n",
    "\n",
    "# #     integral2 = calc_integral2(s, pdf, X_CO, ds)\n",
    "# #     X_CO_bar = integral2\n",
    "\n",
    "#     return s, n_H, pdf, lambda_jeans, n_LW, n_H2, n_LW_ss, X_H2_ss, n_H2_ss, X_CO, n_CO"
   ]
  },
  {
   "cell_type": "code",
   "execution_count": 103,
   "metadata": {},
   "outputs": [],
   "source": [
    "m_p = pynbody.array.SimArray(1.672621777e-24, \"g\")\n",
    "K_b = pynbody.array.SimArray(1.38064852e-16, \"cm**2 g s**-2 K**-1\")\n",
    "G = pynbody.array.SimArray(6.67259e-8, \"cm**3 g**-1 s**-2\")\n",
    "T_mean = pynbody.array.SimArray(10., \"K\")\n",
    "\n",
    "turb = np.sqrt( region.g[\"turb\"] * 2./3. ) * unit_l / unit_t / 1e5\n",
    "turb = pynbody.array.SimArray(turb*1e5, units = \"cm s**-1\")\n",
    "\n",
    "temperature = region.g[\"temp\"]\n",
    "c_s_arr = np.sqrt(K_b * temperature / m_p)\n",
    "\n",
    "mach_no_sim = turb / c_s_arr\n",
    "region.g[\"mach\"] = mach_no_sim.in_units(\"1\")\n",
    "\n",
    "m_p_1 = pynbody.array.SimArray(1.0, pynbody.units.m_p)\n",
    "n_H_mean_sim = rho / m_p_1\n",
    "\n",
    "Z_arr = pynbody.array.SimArray(np.logspace(-4, -1, 10), '1')/0.02\n",
    "G_o = 1\n",
    "\n",
    "mach_no_arr = pynbody.array.SimArray(np.logspace(-2, 3, 10), '1')\n",
    "n_H_mean_arr = pynbody.array.SimArray(np.logspace(-5, 4, 10), \"cm**-3\")\n",
    "\n",
    "s = np.zeros((len(mach_no_arr), 100))\n",
    "n_H = np.zeros((len(mach_no_arr), 100))\n",
    "pdf = np.zeros((len(mach_no_arr), 100))\n",
    "lambda_jeans = np.zeros((len(mach_no_arr), 100))\n",
    "n_LW = np.zeros((len(mach_no_arr), 100))\n",
    "n_H2 = np.zeros((len(mach_no_arr), 100))\n",
    "n_LW_ss = np.zeros((len(mach_no_arr), 100))\n",
    "X_H2_ss = np.zeros((len(mach_no_arr), 100))\n",
    "n_H2_ss = np.zeros((len(mach_no_arr), 100))\n",
    "X_CO = np.zeros((len(mach_no_arr), 100))\n",
    "n_CO = np.zeros((len(mach_no_arr), 100))"
   ]
  },
  {
   "cell_type": "code",
   "execution_count": 97,
   "metadata": {},
   "outputs": [],
   "source": [
    "for m in range(0, len(mach_no_arr)):\n",
    "    mach_no = mach_no_arr[m]\n",
    "    n_H_mean = n_H_mean_arr[m]\n",
    "    Z = Z_arr[m]\n",
    "    c_s = c_s_arr[m]    \n",
    "    sigma_s = np.sqrt(np.log(1 + ((0.3 * mach_no)**2)))\n",
    "    s_bar = -0.5*(sigma_s**2)\n",
    "    smin = -4*sigma_s + s_bar\n",
    "    smax = 4*sigma_s + s_bar\n",
    "    ds = (smax - smin)/100\n",
    "    for i in range(0, 100):\n",
    "        s[m][i] = smin + i*ds\n",
    "    n_H = n_H_mean * np.exp(s)\n",
    "    pdf = make_pdf(s, s_bar, sigma_s)\n",
    "    lambda_jeans = calc_lambda_jeans(n_H, c_s, m_p)\n",
    "    n_LW, n_H2, n_LW_ss, X_H2_ss, n_H2_ss = self_shielding_iterations(n_H,\n",
    "                                                    G_o, lambda_jeans, Z, m_p)\n",
    "    X_CO = calc_X_CO(n_H, n_H2, n_LW)\n",
    "    n_CO = calc_n_CO(n_H, X_CO, Z)"
   ]
  },
  {
   "cell_type": "code",
   "execution_count": 98,
   "metadata": {},
   "outputs": [
    {
     "data": {
      "text/plain": [
       "(10, 100)"
      ]
     },
     "execution_count": 98,
     "metadata": {},
     "output_type": "execute_result"
    }
   ],
   "source": [
    "np.shape(n_H)"
   ]
  },
  {
   "cell_type": "code",
   "execution_count": 99,
   "metadata": {},
   "outputs": [],
   "source": [
    "min_M = np.min(mach_no_arr)\n",
    "max_M = np.max(mach_no_arr)\n",
    "min_Z = np.min(Z_arr)\n",
    "max_Z = np.max(Z_arr)"
   ]
  },
  {
   "cell_type": "code",
   "execution_count": 101,
   "metadata": {},
   "outputs": [
    {
     "data": {
      "text/plain": [
       "<matplotlib.collections.PathCollection at 0x7fd1ebc4dd10>"
      ]
     },
     "execution_count": 101,
     "metadata": {},
     "output_type": "execute_result"
    },
    {
     "data": {
      "image/png": "[encoded data removed]",
      "text/plain": [
       "<Figure size 432x288 with 1 Axes>"
      ]
     },
     "metadata": {
      "needs_background": "light"
     },
     "output_type": "display_data"
    }
   ],
   "source": [
    "plt.scatter(np.log10(n_H[:][:]), X_H2_ss[:][:])"
   ]
  },
  {
   "cell_type": "code",
   "execution_count": 85,
   "metadata": {},
   "outputs": [
    {
     "data": {
      "text/plain": [
       "SimArray([0.5, 0.5, 0.5, 0.5, 0.5, 0.5, 0.5, 0.5, 0.5, 0.5, 0.5, 0.5, 0.5,\n",
       "          0.5, 0.5, 0.5, 0.5, 0.5, 0.5, 0.5, 0.5, 0.5, 0.5, 0.5, 0.5, 0.5,\n",
       "          0.5, 0.5, 0.5, 0.5, 0.5, 0.5, 0.5, 0.5, 0.5, 0.5, 0.5, 0.5, 0.5,\n",
       "          0.5, 0.5, 0.5, 0.5, 0.5, 0.5, 0.5, 0.5, 0.5, 0.5, 0.5, 0.5, 0.5,\n",
       "          0.5, 0.5, 0.5, 0.5, 0.5, 0.5, 0.5, 0.5, 0.5, 0.5, 0.5, 0.5, 0.5,\n",
       "          0.5, 0.5, 0.5, 0.5, 0.5, 0.5, 0.5, 0.5, 0.5, 0.5, 0.5, 0.5, 0.5,\n",
       "          0.5, 0.5, 0.5, 0.5, 0.5, 0.5, 0.5, 0.5, 0.5, 0.5, 0.5, 0.5, 0.5,\n",
       "          0.5, 0.5, 0.5, 0.5, 0.5, 0.5, 0.5, 0.5, 0.5], 'cm**3/2 g**-1 s**-1')"
      ]
     },
     "execution_count": 85,
     "metadata": {},
     "output_type": "execute_result"
    }
   ],
   "source": [
    "X_H2_ss[3][:]"
   ]
  },
  {
   "cell_type": "code",
   "execution_count": null,
   "metadata": {},
   "outputs": [],
   "source": []
  },
  {
   "cell_type": "code",
   "execution_count": 102,
   "metadata": {},
   "outputs": [
    {
     "data": {
      "text/plain": [
       "<matplotlib.collections.PathCollection at 0x7fd1ebbbd850>"
      ]
     },
     "execution_count": 102,
     "metadata": {},
     "output_type": "execute_result"
    },
    {
     "data": {
      "image/png": "[encoded data removed]",
      "text/plain": [
       "<Figure size 432x288 with 1 Axes>"
      ]
     },
     "metadata": {
      "needs_background": "light"
     },
     "output_type": "display_data"
    }
   ],
   "source": [
    "plt.scatter(np.log10(n_H), X_CO)"
   ]
  },
  {
   "cell_type": "code",
   "execution_count": null,
   "metadata": {},
   "outputs": [],
   "source": []
  },
  {
   "cell_type": "code",
   "execution_count": null,
   "metadata": {},
   "outputs": [],
   "source": []
  },
  {
   "cell_type": "code",
   "execution_count": null,
   "metadata": {},
   "outputs": [],
   "source": []
  },
  {
   "cell_type": "code",
   "execution_count": null,
   "metadata": {},
   "outputs": [],
   "source": []
  },
  {
   "cell_type": "code",
   "execution_count": null,
   "metadata": {},
   "outputs": [],
   "source": []
  },
  {
   "cell_type": "code",
   "execution_count": null,
   "metadata": {},
   "outputs": [],
   "source": []
  },
  {
   "cell_type": "code",
   "execution_count": 124,
   "metadata": {},
   "outputs": [
    {
     "name": "stdout",
     "output_type": "stream",
     "text": [
      "193003\n"
     ]
    }
   ],
   "source": [
    "count = 0\n",
    "for abc in range(0, len(temperature)):\n",
    "    n = np.log10(n_H_mean_sim[abc])\n",
    "    T = temperature[abc]\n",
    "    if (T>=1e4) | (n<=-2):\n",
    "        count+=1\n",
    "print count"
   ]
  },
  {
   "cell_type": "code",
   "execution_count": 125,
   "metadata": {},
   "outputs": [
    {
     "data": {
      "text/plain": [
       "244522"
      ]
     },
     "execution_count": 125,
     "metadata": {},
     "output_type": "execute_result"
    }
   ],
   "source": [
    "len(temperature)"
   ]
  },
  {
   "cell_type": "code",
   "execution_count": 126,
   "metadata": {},
   "outputs": [
    {
     "data": {
      "text/plain": [
       "51519"
      ]
     },
     "execution_count": 126,
     "metadata": {},
     "output_type": "execute_result"
    }
   ],
   "source": [
    "len(temperature) - count"
   ]
  },
  {
   "cell_type": "code",
   "execution_count": null,
   "metadata": {},
   "outputs": [],
   "source": []
  }
 ],
 "metadata": {
  "kernelspec": {
   "display_name": "Python 2",
   "language": "python",
   "name": "python2"
  },
  "language_info": {
   "codemirror_mode": {
    "name": "ipython",
    "version": 2
   },
   "file_extension": ".py",
   "mimetype": "text/x-python",
   "name": "python",
   "nbconvert_exporter": "python",
   "pygments_lexer": "ipython2",
   "version": "2.7.16"
  }
 },
 "nbformat": 4,
 "nbformat_minor": 2
}
