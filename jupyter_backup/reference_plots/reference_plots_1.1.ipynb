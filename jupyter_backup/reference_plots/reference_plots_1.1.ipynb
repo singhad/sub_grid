{
 "cells": [
  {
   "cell_type": "code",
   "execution_count": null,
   "metadata": {},
   "outputs": [],
   "source": [
    "#Z == Mass Fraction units"
   ]
  },
  {
   "cell_type": "code",
   "execution_count": 1,
   "metadata": {},
   "outputs": [],
   "source": [
    "import numpy as np\n",
    "import matplotlib.pyplot as plt\n",
    "import matplotlib.colors as cm\n",
    "import pynbody\n",
    "from michaels_functions import center_and_r_vir, remove_bulk_velocity\n",
    "from matplotlib.colors import LogNorm\n",
    "from matplotlib.pyplot import figure"
   ]
  },
  {
   "cell_type": "code",
   "execution_count": 2,
   "metadata": {},
   "outputs": [
    {
     "name": "stdout",
     "output_type": "stream",
     "text": [
      "('shifting on Stars:', SimArray([ 0.00308878, -0.03302971, -0.04676732], 'kpc'))\n",
      "('virial radius:', SimArray(152.40432611, 'kpc'))\n",
      "omega_b     =  0.450000017881393E-01\n",
      "unit_l      =  0.682025380323961E+26\n",
      "unit_d      =  0.123367583719985E-28\n",
      "unit_t      =  0.163687521954501E+18\n"
     ]
    }
   ],
   "source": [
    "path = \"bulk1/data_2/hydro_59/output/\"\n",
    "data = pynbody.load(path + \"output_00050\")\n",
    "aexp = data.properties['a']\n",
    "data.physical_units()\n",
    "r_vir = center_and_r_vir(data, aexp, path)\n",
    "remove_bulk_velocity(data)\n",
    "r_e = 0.1 * r_vir\n",
    "sph_5 = pynbody.filt.Sphere(radius = '5.0 kpc') # %(r_e*1.4))\n",
    "region = data[sph_5]\n",
    "rho = region.gas[\"rho\"].in_units(\"m_p cm**-3\")\n",
    "f = open(data.filename + \"/info_\"+data.filename[-5:]+\".txt\",\"r\")\n",
    "lines = f.readlines()\n",
    "f.close()\n",
    "for line in lines:\n",
    "    if line[0:13]==\"unit_l      =\":\n",
    "        print line[:-1]\n",
    "        unit_l = float(line[14:-1])\n",
    "    if line[0:13]==\"unit_d      =\":\n",
    "        print line[:-1]\n",
    "        unit_d = float(line[14:-1])\n",
    "    if line[0:13]==\"unit_t      =\":\n",
    "        print line[:-1]\n",
    "        unit_t = float(line[14:-1])\n",
    "    if line[0:13]==\"omega_b     =\":\n",
    "        print line[:-1]\n",
    "        omega_b = float(line[14:-1])"
   ]
  },
  {
   "cell_type": "code",
   "execution_count": 3,
   "metadata": {},
   "outputs": [
    {
     "name": "stdout",
     "output_type": "stream",
     "text": [
      "CPU times: user 280 ms, sys: 652 ms, total: 932 ms\n",
      "Wall time: 925 ms\n"
     ]
    }
   ],
   "source": [
    "%%time\n",
    "m_p = pynbody.array.SimArray(1.672621777e-24, \"g\")\n",
    "K_b = pynbody.array.SimArray(1.38064852e-16, \"cm**2 g s**-2 K**-1\")\n",
    "G = pynbody.array.SimArray(6.67259e-8, \"cm**3 g**-1 s**-2\")\n",
    "T_mean = pynbody.array.SimArray(10., \"K\")\n",
    "dummy_length = pynbody.array.SimArray(1., \"cm\")\n",
    "dummy_mass = pynbody.array.SimArray(1., \"g\")\n",
    "turb = np.sqrt( region.g[\"turb\"] * 2./3. ) * unit_l / unit_t / 1e5\n",
    "turb = pynbody.array.SimArray(turb*1e5, units = \"cm s**-1\")\n",
    "T = region.g[\"temp\"]\n",
    "c_s = np.sqrt(K_b * T_mean / m_p)"
   ]
  },
  {
   "cell_type": "code",
   "execution_count": 5,
   "metadata": {},
   "outputs": [],
   "source": [
    "def make_pdf(s, s_bar, sigma_s):\n",
    "    pdf = (1/np.sqrt(2*np.pi*(sigma_s**2))) * (np.exp(-0.5*(((s - s_bar)/sigma_s)**2)))\n",
    "    return pdf\n",
    "\n",
    "def calc_integral(s, pdf, X_H2, ds):\n",
    "    integ = 0.0\n",
    "    for i in range(0, 100):\n",
    "        integ += (np.exp(s[i])*pdf[i]*X_H2[i]*ds)\n",
    "    return integ\n",
    "\n",
    "def calc_integral2(s, pdf, X_CO, ds):\n",
    "    integ = 0.0\n",
    "    for i in range(0, 100):\n",
    "        integ += (np.exp(s[i])*pdf[i]*X_CO[i]*ds)\n",
    "    return integ\n",
    "\n",
    "def calc_lambda_jeans(n_H, c_s):\n",
    "    lambda_jeans = (c_s / np.sqrt(4* np.pi * G * n_H * m_p))\n",
    "    return lambda_jeans\n",
    "\n",
    "def calc_n_LW(n_H, G_o, lambda_jeans, Z):\n",
    "    kappa = 1000 * m_p * (Z/0.02)\n",
    "    rad_field_outside = G_o #in solar units\n",
    "    exp_tau = np.exp(-kappa * n_H * lambda_jeans)\n",
    "    n_LW = rad_field_outside * exp_tau\n",
    "    return n_LW\n",
    "\n",
    "def calc_n_LW_ss(n_H, n_H2, G_o, lambda_jeans):\n",
    "    kappa = 1000 * m_p * (Z/0.02)\n",
    "    rad_field_outside = G_o #in solar units\n",
    "    exp_tau = np.exp(-kappa * n_H * lambda_jeans)\n",
    "    N_H2 = n_H2*lambda_jeans\n",
    "    #N_H2 = N_H2.in_units('1')\n",
    "    term1 = pynbody.array.SimArray((0.965/((1+(N_H2/5e14))**2)), \"1\")\n",
    "    term2 = ( (0.035/np.sqrt(1+(N_H2/5e14))) * np.exp(-1*np.sqrt(1+(N_H2/5e14))/1180) )\n",
    "    #term1 = term1.in_units('1')\n",
    "    #term2 = term2.in_units('1')\n",
    "    S_H2 = term1 + term2\n",
    "    n_LW_ss = rad_field_outside * exp_tau * S_H2\n",
    "    return n_LW_ss\n",
    "\n",
    "def calc_X_H2(n_H, Z, n_LW):\n",
    "    DC = 1.7e-11\n",
    "    CC = 2.5e-17            #cm3 s-1\n",
    "    numerator = DC * n_LW\n",
    "    denominator = CC * (Z/0.02) * n_H\n",
    "    X_H2 = 1 / (2 + (numerator/denominator) )\n",
    "    return X_H2\n",
    "\n",
    "def self_shielding_iterations(n_H, G_o, lambda_jeans, Z):\n",
    "    X_H2 = np.zeros(100)\n",
    "    n_LW = np.zeros(100)\n",
    "    n_H2 = np.zeros(100)\n",
    "    n_LW_ss = np.zeros(100)\n",
    "    S_H2_ss = np.zeros(100)\n",
    "    N_H2_ss = np.zeros(100)\n",
    "    X_H2_ss = np.zeros(100)\n",
    "    n_H2_ss = np.zeros(100)\n",
    "    ctr = 15\n",
    "    i = 0\n",
    "    n_LW = calc_n_LW(n_H, G_o, lambda_jeans, Z)\n",
    "    X_H2 = calc_X_H2(n_H, Z, n_LW)\n",
    "    n_H2 = n_H * X_H2\n",
    "    n_H2_ss = n_H2\n",
    "    while i<ctr:\n",
    "        #for j in range(100):\n",
    "        n_LW_ss = calc_n_LW_ss(n_H, n_H2_ss, G_o, lambda_jeans)\n",
    "        X_H2_ss = calc_X_H2(n_H, Z, n_LW_ss)\n",
    "        n_H2_ss = n_H * X_H2_ss\n",
    "        i += 1\n",
    "    return n_LW, n_LW_ss, X_H2_ss, n_H2_ss, n_H2\n",
    "\n",
    "\n",
    "def calc_X_CO(n_H, n_H2, n_LW):\n",
    "    rate_CHX = 5.0e-10 * n_LW\n",
    "    rate_CO = 1.0e-10 * n_LW\n",
    "    x0 = 2.0e-4\n",
    "    k0 = 5.0e-16 #cm3 s-1\n",
    "    k1 = 5.0e-10 #cm3 s-1\n",
    "    factor_beta = rate_CHX/(n_H*k1*x0)\n",
    "    beta = 1./(1.+factor_beta)\n",
    "    factor_CO = rate_CO/(n_H2*k0*beta)\n",
    "    X_CO = 1./(1.+factor_CO)\n",
    "    return X_CO\n",
    "\n",
    "def calc_n_CO(n_H, X_CO, Z):\n",
    "    abundance_Ctot = 1e-4 # n_C/n_H as defined by nucleosynthesis\n",
    "    return n_H * abundance_Ctot * (Z/0.02) * X_CO # CO/cc\n",
    "\n",
    "\n",
    "def inside_loop(M, n_H_mean, Z, G_o, c_s, s, pdf, lambda_jeans, \n",
    "                                                  X_CO, n_CO, integral1, integral2, ds):\n",
    "    lambda_jeans = 0 * lambda_jeans\n",
    "    X_CO = 0 * X_CO\n",
    "    n_CO = 0 * n_CO\n",
    "    integral1 = 0.0\n",
    "    integral2 = 0.0\n",
    "    n_H = n_H_mean * np.exp(s)\n",
    "    lambda_jeans = calc_lambda_jeans(n_H, c_s)\n",
    "    n_LW, n_LW_ss, X_H2_ss, n_H2_ss, n_H2 = self_shielding_iterations(n_H, G_o, lambda_jeans, Z)\n",
    "    integral1 = calc_integral(s, pdf, X_H2_ss, ds)\n",
    "    X_H2_bar = 2*integral1\n",
    "    X_CO = calc_X_CO(n_H, n_H2, n_LW)\n",
    "    n_CO = calc_n_CO(n_H, X_CO, Z)\n",
    "    integral2 = calc_integral2(s, pdf, X_CO, ds)\n",
    "    X_CO_bar = integral2\n",
    "    return X_H2_bar, X_CO_bar\n"
   ]
  },
  {
   "cell_type": "code",
   "execution_count": 9,
   "metadata": {},
   "outputs": [
    {
     "data": {
      "image/png": "[encoded data removed]",
      "text/plain": [
       "<Figure size 648x360 with 2 Axes>"
      ]
     },
     "metadata": {
      "needs_background": "light"
     },
     "output_type": "display_data"
    },
    {
     "name": "stdout",
     "output_type": "stream",
     "text": [
      "CPU times: user 25.1 s, sys: 2.31 s, total: 27.5 s\n",
      "Wall time: 25.2 s\n",
      "Parser   : 105 ms\n"
     ]
    }
   ],
   "source": [
    "%%time\n",
    "plt.figure(figsize=(9,5))\n",
    "Z = 0.02\n",
    "G_o = 1\n",
    "#mach_no_arr = mach_no_sim\n",
    "#n_H_mean_arr = n_H_mean_sim\n",
    "mach_no_arr = pynbody.array.SimArray(np.logspace(-2, 3, 8), '1')\n",
    "n_H_mean_arr = pynbody.array.SimArray(np.logspace(-5, 4, 100), \"cm**-3\")\n",
    "X_H2_bar = np.zeros(len(n_H_mean_arr))\n",
    "X_CO_bar = np.zeros(len(n_H_mean_arr))\n",
    "min_n_H = np.log10(np.min(n_H_mean_arr))\n",
    "max_n_H = np.log10(np.max(n_H_mean_arr))\n",
    "min_M = np.min(mach_no_arr)\n",
    "max_M = np.max(mach_no_arr)\n",
    "for m in range(0, len(mach_no_arr)):\n",
    "    mach_no = mach_no_arr[m]\n",
    "    s = np.zeros(100)\n",
    "    n_H = np.zeros(100)\n",
    "    pdf = np.zeros(100)\n",
    "    lambda_jeans = np.zeros(100)\n",
    "    X_CO = np.zeros(100)\n",
    "    n_CO = np.zeros(100)\n",
    "    integral1 = 0\n",
    "    integral2 = 0\n",
    "    sigma_s = np.sqrt(np.log(1 + ((0.3 * mach_no)**2)))\n",
    "    s_bar = -0.5*(sigma_s**2)\n",
    "    smin = -7*sigma_s + s_bar\n",
    "    smax = 7*sigma_s + s_bar\n",
    "    ds = (smax - smin)/100\n",
    "    for i in range(0, 100):\n",
    "        s[i] = smin + i*ds\n",
    "    pdf = make_pdf(s, s_bar, sigma_s)\n",
    "    for y in range(0, len(n_H_mean_arr)):\n",
    "            n_H_mean = n_H_mean_arr[y]\n",
    "            X_H2_bar[y], X_CO_bar[y] = inside_loop(mach_no, n_H_mean, Z, G_o, c_s, s, pdf, lambda_jeans, \n",
    "                                                  X_CO, n_CO, integral1, integral2, ds)\n",
    "#             plt.scatter(np.log10(n_H_mean), X_H2_bar[y], \n",
    "#                       c=np.log10(mach_no), vmin=np.log10(min_M), vmax=np.log10(max_M), cmap='Set1')\n",
    "            plt.scatter(np.log10(n_H_mean), X_CO_bar[y], \n",
    "                      c=np.log10(mach_no), vmin=np.log10(min_M), vmax=np.log10(max_M), cmap='Set2')\n",
    "plt.colorbar(label=r\"$log(\\mathcal{M})$\")\n",
    "plt.xlabel('log(n_H_mean)')\n",
    "plt.ylabel('X_CO_bar')\n",
    "plt.grid(b=True, which='both', axis='both')\n",
    "plt.title('log(n_H_mean) vs X_CO_bar - M=varied, Z=0.02massfrac, G_o=1')\n",
    "plt.savefig('outputs/reference_plots_1.1/X_CO_bar-n_H_mean_M.png', dpi=300, bbox_inches='tight')\n",
    "plt.show()"
   ]
  },
  {
   "cell_type": "code",
   "execution_count": null,
   "metadata": {},
   "outputs": [],
   "source": []
  },
  {
   "cell_type": "code",
   "execution_count": null,
   "metadata": {},
   "outputs": [],
   "source": []
  },
  {
   "cell_type": "code",
   "execution_count": 10,
   "metadata": {},
   "outputs": [
    {
     "data": {
      "image/png": "[encoded data removed]",
      "text/plain": [
       "<Figure size 648x360 with 2 Axes>"
      ]
     },
     "metadata": {
      "needs_background": "light"
     },
     "output_type": "display_data"
    },
    {
     "name": "stdout",
     "output_type": "stream",
     "text": [
      "CPU times: user 16.9 s, sys: 1.57 s, total: 18.5 s\n",
      "Wall time: 16.9 s\n"
     ]
    }
   ],
   "source": [
    "%%time\n",
    "plt.figure(figsize=(9,5))\n",
    "Z_arr = pynbody.array.SimArray(np.logspace(-4, -1, 5), '1')\n",
    "G_o = 1\n",
    "#mach_no_arr = mach_no_sim\n",
    "#n_H_mean_arr = n_H_mean_sim\n",
    "mach_no = 10\n",
    "n_H_mean_arr = pynbody.array.SimArray(np.logspace(-5, 4, 100), \"cm**-3\")\n",
    "X_H2_bar = np.zeros(len(n_H_mean_arr))\n",
    "X_CO_bar = np.zeros(len(n_H_mean_arr))\n",
    "min_n_H = np.log10(np.min(n_H_mean_arr))\n",
    "max_n_H = np.log10(np.max(n_H_mean_arr))\n",
    "min_Z = np.min(Z_arr)\n",
    "max_Z = np.max(Z_arr)\n",
    "\n",
    "\n",
    "s = np.zeros(100)\n",
    "n_H = np.zeros(100)\n",
    "pdf = np.zeros(100)\n",
    "lambda_jeans = np.zeros(100)\n",
    "X_CO = np.zeros(100)\n",
    "n_CO = np.zeros(100)\n",
    "integral1 = 0\n",
    "integral2 = 0\n",
    "sigma_s = np.sqrt(np.log(1 + ((0.3 * mach_no)**2)))\n",
    "s_bar = -0.5*(sigma_s**2)\n",
    "smin = -7*sigma_s + s_bar\n",
    "smax = 7*sigma_s + s_bar\n",
    "ds = (smax - smin)/100\n",
    "for i in range(0, 100):\n",
    "    s[i] = smin + i*ds\n",
    "pdf = make_pdf(s, s_bar, sigma_s)\n",
    "for z in range(0, len(Z_arr)):\n",
    "    Z = Z_arr[z]\n",
    "    for y in range(0, len(n_H_mean_arr)):\n",
    "            n_H_mean = n_H_mean_arr[y]\n",
    "            X_H2_bar[y], X_CO_bar[y] = inside_loop(mach_no, n_H_mean, Z, G_o, c_s, s, pdf, lambda_jeans, \n",
    "                                                  X_CO, n_CO, integral1, integral2, ds)\n",
    "#             plt.scatter(np.log10(n_H_mean), X_H2_bar[y], \n",
    "#                       c=np.log10(Z), vmin=np.log10(min_Z), vmax=np.log10(max_Z), cmap='Set1')\n",
    "            plt.scatter(np.log10(n_H_mean), X_CO_bar[y], \n",
    "                      c=np.log10(Z), vmin=np.log10(min_Z), vmax=np.log10(max_Z), cmap='Set2')\n",
    "plt.colorbar(label=r\"$log(Z_{massfrac})$\")\n",
    "plt.xlabel('log(n_H_mean)')\n",
    "plt.ylabel('X_CO_bar')\n",
    "plt.grid(b=True, which='both', axis='both')\n",
    "plt.title('log(n_H_mean) vs X_CO_bar - M=10, Z=varied(massfrac), G_o=1')\n",
    "plt.savefig('outputs/reference_plots_1.1/X_CO_bar-n_H_mean_Z.png', dpi=300, bbox_inches='tight')\n",
    "plt.show()"
   ]
  },
  {
   "cell_type": "code",
   "execution_count": null,
   "metadata": {},
   "outputs": [],
   "source": []
  },
  {
   "cell_type": "code",
   "execution_count": null,
   "metadata": {},
   "outputs": [],
   "source": []
  },
  {
   "cell_type": "code",
   "execution_count": 11,
   "metadata": {},
   "outputs": [
    {
     "data": {
      "image/png": "[encoded data removed]",
      "text/plain": [
       "<Figure size 648x360 with 2 Axes>"
      ]
     },
     "metadata": {
      "needs_background": "light"
     },
     "output_type": "display_data"
    },
    {
     "name": "stdout",
     "output_type": "stream",
     "text": [
      "CPU times: user 15.7 s, sys: 1.57 s, total: 17.3 s\n",
      "Wall time: 15.9 s\n"
     ]
    }
   ],
   "source": [
    "%%time\n",
    "plt.figure(figsize=(9,5))\n",
    "Z = 0.02\n",
    "G_o_arr = pynbody.array.SimArray(np.logspace(-1, 3, 5), '1')\n",
    "#mach_no_arr = mach_no_sim\n",
    "#n_H_mean_arr = n_H_mean_sim\n",
    "mach_no = 10\n",
    "n_H_mean_arr = pynbody.array.SimArray(np.logspace(-5, 4, 100), \"cm**-3\")\n",
    "X_H2_bar = np.zeros(len(n_H_mean_arr))\n",
    "X_CO_bar = np.zeros(len(n_H_mean_arr))\n",
    "min_n_H = np.log10(np.min(n_H_mean_arr))\n",
    "max_n_H = np.log10(np.max(n_H_mean_arr))\n",
    "min_G = np.min(G_o_arr)\n",
    "max_G = np.max(G_o_arr)\n",
    "\n",
    "\n",
    "s = np.zeros(100)\n",
    "n_H = np.zeros(100)\n",
    "pdf = np.zeros(100)\n",
    "lambda_jeans = np.zeros(100)\n",
    "X_CO = np.zeros(100)\n",
    "n_CO = np.zeros(100)\n",
    "integral1 = 0\n",
    "integral2 = 0\n",
    "sigma_s = np.sqrt(np.log(1 + ((0.3 * mach_no)**2)))\n",
    "s_bar = -0.5*(sigma_s**2)\n",
    "smin = -7*sigma_s + s_bar\n",
    "smax = 7*sigma_s + s_bar\n",
    "ds = (smax - smin)/100\n",
    "for i in range(0, 100):\n",
    "    s[i] = smin + i*ds\n",
    "pdf = make_pdf(s, s_bar, sigma_s)\n",
    "for g in range(0, len(G_o_arr)):\n",
    "    G_o = G_o_arr[g]\n",
    "    for y in range(0, len(n_H_mean_arr)):\n",
    "            n_H_mean = n_H_mean_arr[y]\n",
    "            X_H2_bar[y], X_CO_bar[y] = inside_loop(mach_no, n_H_mean, Z, G_o, c_s, s, pdf, lambda_jeans, \n",
    "                                                  X_CO, n_CO, integral1, integral2, ds)\n",
    "#             plt.scatter(np.log10(n_H_mean), X_H2_bar[y], \n",
    "#                       c=np.log10(G_o), vmin=np.log10(min_G), vmax=np.log10(max_G), cmap='Set1')\n",
    "            plt.scatter(np.log10(n_H_mean), X_CO_bar[y], \n",
    "                      c=np.log10(G_o), vmin=np.log10(min_G), vmax=np.log10(max_G), cmap='Set2')\n",
    "plt.colorbar(label=r\"$log({G_o})$\")\n",
    "plt.xlabel('log(n_H_mean)')\n",
    "plt.ylabel('X_CO_bar')\n",
    "plt.grid(b=True, which='both', axis='both')\n",
    "plt.title('log(n_H_mean) vs X_CO_bar - M=10, Z=0.02massfrac, G_o=varied')\n",
    "plt.savefig('outputs/reference_plots_1.1/X_CO_bar-n_H_mean_G_o.png', dpi=300, bbox_inches='tight')\n",
    "plt.show()"
   ]
  },
  {
   "cell_type": "code",
   "execution_count": 23,
   "metadata": {},
   "outputs": [
    {
     "data": {
      "text/plain": [
       "SimArray(0.00042521)"
      ]
     },
     "execution_count": 23,
     "metadata": {},
     "output_type": "execute_result"
    }
   ],
   "source": [
    "np.min(region.gas[\"metal\"])"
   ]
  },
  {
   "cell_type": "code",
   "execution_count": 24,
   "metadata": {},
   "outputs": [
    {
     "data": {
      "text/plain": [
       "SimArray(0.11394659)"
      ]
     },
     "execution_count": 24,
     "metadata": {},
     "output_type": "execute_result"
    }
   ],
   "source": [
    "np.max(region.gas[\"metal\"])"
   ]
  },
  {
   "cell_type": "code",
   "execution_count": 26,
   "metadata": {},
   "outputs": [
    {
     "data": {
      "text/plain": [
       "0.024321482617149594"
      ]
     },
     "execution_count": 26,
     "metadata": {},
     "output_type": "execute_result"
    }
   ],
   "source": [
    "np.mean(np.logspace(-4, -1, 5))"
   ]
  },
  {
   "cell_type": "code",
   "execution_count": null,
   "metadata": {},
   "outputs": [],
   "source": []
  }
 ],
 "metadata": {
  "kernelspec": {
   "display_name": "Python 2",
   "language": "python",
   "name": "python2"
  },
  "language_info": {
   "codemirror_mode": {
    "name": "ipython",
    "version": 2
   },
   "file_extension": ".py",
   "mimetype": "text/x-python",
   "name": "python",
   "nbconvert_exporter": "python",
   "pygments_lexer": "ipython2",
   "version": "2.7.16"
  }
 },
 "nbformat": 4,
 "nbformat_minor": 2
}
