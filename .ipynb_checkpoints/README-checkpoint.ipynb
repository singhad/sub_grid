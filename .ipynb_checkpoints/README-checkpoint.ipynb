{
 "cells": [
  {
   "cell_type": "markdown",
   "metadata": {},
   "source": [
    "# sub_grid\n",
    "___\n",
    "\n",
    "# A sub-grid model for molecular gas in a cosmological galaxy formation simulation\n",
    "\n",
    "### *Amandeep Singh*\n",
    "\n",
    "### *Supervised by Prof. (Dr.) Romain Teyssier*\n",
    "\n",
    "July 18, 2019\n",
    "\n"
   ]
  },
  {
   "cell_type": "markdown",
   "metadata": {},
   "source": [
    "## Abstract\n",
    "\n",
    "A model is constructed that uses micro-turbulence and a log-normal probability distribution function (PDF) to describe the unresolved density fluctuations inside a macroscopic volume element. Jeans length is used to establish the length scale of the absorber for these density fluctuations. The molecular fractions of $H_2$ and $CO$ are computed, also taking into account the self-shielding effect of $H_2$. Then, a simplified model for radiative transfer is introduced to compute the line emission of $CO$. This sub-grid model is then used to post process a cosmological zoom-in simulation of a $z\\approx 0.6$ galaxy ($M_{\\star}\\approx 2\\times 10^{10} \\rm{M_{\\odot}}$, $\\rm{SFR} \\approx 2 \\rm{M_{\\odot} yr^{-1}}$, $M_{\\rm{gas}}\\approx 10^{10} \\rm{M_{\\odot}}$) to study the molecular fraction of $H_2$ and $CO$, and also the line luminosity of $CO$. The total luminosity of the galaxy computed for the $CO(1-0)$ transition is $L_{CO} = 7.3\\times 10^{7}\\rm{K km s^{-1} pc^{2}}$ if only thermal microscopic motions in the absorber are considered, and is found to be $L_{CO} = 1.9\\times 10^{9}\\rm{K km s^{-1} pc^{2}}$ if a model for micro-turbulence is considered inside the absorber. The total mass of $H_2$ in the galaxy is computed to be $M_{H_2} = 2.9\\times10^{9} \\rm{M_{\\odot}}$. This gives a mass-to-luminosity ratio $\\alpha_{CO} = 39 \\rm{M_{\\odot} (K km s^{-1} pc^{2})^{-1}}$ for the pure thermal model, while for the micro-turbulence model $\\alpha_{CO} = 1.5 \\rm{M_{\\odot} (K km s^{-1} pc^{2})^{-1}}$. Considering the power-law PDF for the density fluctuations, the total luminosity of the galaxy computed for the $CO(1-0)$ transition is $L_{CO} = 6.1\\times 10^{7}\\rm{K km s^{-1} pc^{2}}$ for the pure thermal motions, and $L_{CO} = 1.1\\times 10^{9}\\rm{K km s^{-1} pc^{2}}$ if micro-turbulence is considered. The mass-to-luminosity ratio in this regime is $\\alpha_{CO} = 46 \\rm{M_{\\odot} (K km s^{-1} pc^{2})^{-1}}$ for the pure thermal model, and $\\alpha_{CO} = 2.7 \\rm{M_{\\odot} (K km s^{-1} pc^{2})^{-1}}$ for the micro-turbulence model, which is in better agreement with observed galaxies."
   ]
  },
  {
   "cell_type": "markdown",
   "metadata": {},
   "source": [
    "> ![img](MAP-X_H2_bar_n_H_mean.png)\n",
    "\n",
    "> $\\overline{X_{H_2}}$ vs $\\overline{n_{H}}$: Galaxy map of the molecular fraction of $H_2$ (weighted against mean simulation cell density $\\overline{n_H}$) - Applying sub-grid model on the simulation."
   ]
  },
  {
   "cell_type": "markdown",
   "metadata": {},
   "source": [
    "> ![img](MAP-X_CO_bar_n_H_mean.png)\n",
    "\n",
    "> $\\overline{X_{CO}}$ vs $\\overline{n_{H}}$: Galaxy map of the molecular fraction of $CO$ (weighted against mean simulation cell density $\\overline{n_H}$) - Applying sub-grid model on the simulation."
   ]
  },
  {
   "cell_type": "markdown",
   "metadata": {},
   "source": [
    "> ![img](MAP-Y_n_H_mean.png)\n",
    "\n",
    "> $\\left(\\frac{\\overline{\\ell_{CO}}}{\\overline{n_{H}}\\ m_p}\\right)$ vs $\\overline{n_{H}}$: Galaxy map of the luminosity density $\\overline{\\ell_{CO}}$ for line emission of $CO$ (weighted against mean simulation cell density $\\overline{n_H}$) - Applying sub-grid model on the simulation."
   ]
  },
  {
   "cell_type": "code",
   "execution_count": null,
   "metadata": {},
   "outputs": [],
   "source": []
  }
 ],
 "metadata": {
  "kernelspec": {
   "display_name": "Python 3",
   "language": "python",
   "name": "python3"
  },
  "language_info": {
   "codemirror_mode": {
    "name": "ipython",
    "version": 3
   },
   "file_extension": ".py",
   "mimetype": "text/x-python",
   "name": "python",
   "nbconvert_exporter": "python",
   "pygments_lexer": "ipython3",
   "version": "3.7.4"
  }
 },
 "nbformat": 4,
 "nbformat_minor": 4
}
